{
 "cells": [
  {
   "cell_type": "code",
   "execution_count": 11,
   "metadata": {},
   "outputs": [],
   "source": [
    "# analysis on-hold\n",
    "import pandas as pd\n",
    "import numpy as np\n",
    "import matplotlib.pyplot as plt\n",
    "from matplotlib.patches import Patch\n",
    "import seaborn as sns"
   ]
  },
  {
   "cell_type": "code",
   "execution_count": 2,
   "metadata": {},
   "outputs": [],
   "source": [
    "import sys\n",
    "sys.path.append('/Users/dbao/Downloads/research/rc_scripts/analysis')\n",
    "\n",
    "from final_analysis.process_helper.df_choice_add_features import df_choice_add_features\n",
    "from final_analysis.process_helper.df_do_redo_pair import df_do_redo_pair\n",
    "import final_analysis.plot_helper.format\n",
    "save_mode = \".pdf\"\n",
    "font_size = 18\n"
   ]
  },
  {
   "cell_type": "code",
   "execution_count": 3,
   "metadata": {},
   "outputs": [
    {
     "name": "stderr",
     "output_type": "stream",
     "text": [
      "/Users/dbao/opt/anaconda3/envs/road/lib/python3.8/site-packages/rpy2/robjects/pandas2ri.py:14: FutureWarning: pandas.core.index is deprecated and will be removed in a future version. The public classes are available in the top-level namespace.\n",
      "  from pandas.core.index import Index as PandasIndex\n"
     ]
    }
   ],
   "source": [
    "%load_ext rpy2.ipython\n",
    "\n",
    "from rpy2.robjects.packages import importr\n",
    "# import R's \"base\" package\n",
    "lme4 = importr('lme4')\n",
    "mass = importr('MASS')\n",
    "rcompanion = importr('rcompanion')"
   ]
  },
  {
   "cell_type": "markdown",
   "metadata": {},
   "source": [
    "# load data"
   ]
  },
  {
   "cell_type": "code",
   "execution_count": 4,
   "metadata": {},
   "outputs": [],
   "source": [
    "home_dir = '/Users/dbao/Library/CloudStorage/GoogleDrive-sherrydbao@gmail.com/.shortcut-targets-by-id/1sYZNVBbYCrHcHjo-9xdKcA4wLnob9ZEq/'+'/road_construction/data/2022_online/'\n",
    "data_dir = home_dir + 'R_analysis_data/'\n",
    "out_dir = home_dir + 'figures/figures_final/'\n",
    "out_dir2 = home_dir + 'stat_model/final/'"
   ]
  },
  {
   "cell_type": "code",
   "execution_count": 5,
   "metadata": {},
   "outputs": [],
   "source": [
    "data_choice_level = pd.read_csv(data_dir +  'choice_level/choicelevel_data.csv') # first column is index  \n",
    "data_choice_level = data_choice_level.rename(columns={'Unnamed: 0':'index_copy'})\n",
    "data_choice_level = df_choice_add_features(data_choice_level)\n",
    "sc_data_choice_level = data_choice_level[data_choice_level['condition']==1].reset_index(drop=True) "
   ]
  },
  {
   "cell_type": "markdown",
   "metadata": {},
   "source": [
    "# process data"
   ]
  },
  {
   "cell_type": "code",
   "execution_count": 6,
   "metadata": {},
   "outputs": [],
   "source": [
    "condition = f\"(lastUndo == 1)\"\n",
    "df = df_do_redo_pair(sc_data_choice_level, condition)"
   ]
  },
  {
   "cell_type": "code",
   "execution_count": 53,
   "metadata": {},
   "outputs": [],
   "source": [
    "# combine error_do_seq and error_redo_seq into a new dataframe as 1 column\n",
    "new_df = pd.DataFrame()\n",
    "new_df['error_seq'] = pd.concat([df['error_do_seq'], df['error_redo_seq']], ignore_index=True)\n",
    "new_df['error_move'] = pd.concat([df['error_do_move'], df['error_redo_move']], ignore_index=True)\n",
    "new_df['subject'] = pd.concat([df['subjects'], df['subjects']], ignore_index=True)\n",
    "new_df['puzzleID'] = pd.concat([df['puzzleID'], df['puzzleID']], ignore_index=True)\n",
    "new_df['do_redo'] = pd.concat([pd.Series(['do']*len(df)), pd.Series(['redo']*len(df))], ignore_index=True)\n",
    "\n",
    "# save new_df\n",
    "new_df.to_csv(data_dir + 'do_redo_comparison.csv', index=False)"
   ]
  },
  {
   "cell_type": "markdown",
   "metadata": {},
   "source": [
    "# cumulative error"
   ]
  },
  {
   "cell_type": "markdown",
   "metadata": {},
   "source": [
    "## sequence"
   ]
  },
  {
   "cell_type": "code",
   "execution_count": 15,
   "metadata": {},
   "outputs": [
    {
     "name": "stdout",
     "output_type": "stream",
     "text": [
      "1.3028356732038677 0.7484330369969484 0.05547249572110734 0.03580188080168856\n"
     ]
    }
   ],
   "source": [
    "mean_do = df.groupby(['subjects','puzzleID'])['error_do_seq'].mean().groupby('subjects').mean().mean()\n",
    "mean_redo = df.groupby(['subjects','puzzleID'])['error_redo_seq'].mean().groupby('subjects').mean().mean()\n",
    "sem_do = df.groupby(['subjects','puzzleID'])['error_do_seq'].mean().groupby('subjects').mean().sem()\n",
    "sem_redo = df.groupby(['subjects','puzzleID'])['error_redo_seq'].mean().groupby('subjects').mean().sem()\n",
    "print(mean_do, mean_redo, sem_do, sem_redo)\n"
   ]
  },
  {
   "cell_type": "code",
   "execution_count": 16,
   "metadata": {},
   "outputs": [
    {
     "data": {
      "text/plain": [
       "[Text(0.0, 0, 'Do'), Text(0.5, 0, '\\nSequence'), Text(1.0, 0, 'Redo')]"
      ]
     },
     "execution_count": 16,
     "metadata": {},
     "output_type": "execute_result"
    },
    {
     "data": {
      "image/png": "[encoded data removed]",
      "text/plain": [
       "<Figure size 216x216 with 1 Axes>"
      ]
     },
     "metadata": {
      "needs_background": "light"
     },
     "output_type": "display_data"
    }
   ],
   "source": [
    "%matplotlib inline\n",
    "\n",
    "plt.rcParams.update({'font.size': font_size})\n",
    "fig, ax = plt.subplots(1,1,figsize=(3,3))\n",
    "sns.despine()\n",
    "\n",
    "ax.bar([0,1], [mean_do, mean_redo], yerr=[sem_do, sem_redo], color=[.7,.7,.7], edgecolor='k', capsize=5, width=0.5)\n",
    "\n",
    "# ylabel\n",
    "ax.set_ylabel('$\\Delta$ Cumulative Error Magnitude')\n",
    "# set yticks\n",
    "\n",
    "ax.set_xlim([-0.5, 1.5])\n",
    "ax.set_ylim([0, 1.5])\n",
    "ax.set_yticks([0, 0.4, 0.8, 1.2, 1.6])\n",
    "ax.set_yticklabels(['0' ,'0.4', '0.8', '1.2', '1.6'])\n",
    "\n",
    "# xtickslabel\n",
    "ax.set_xticks([0,0.5, 1])\n",
    "ax.set_xticklabels(['Do', '\\nSequence', 'Redo'])\n",
    "\n",
    "# save figure\n",
    "fig.savefig(out_dir + 'error_rate_do_redo_seq'+save_mode, transparent=True,\n",
    "            bbox_inches='tight', pad_inches=0.1)"
   ]
  },
  {
   "cell_type": "markdown",
   "metadata": {},
   "source": [
    "## move"
   ]
  },
  {
   "cell_type": "code",
   "execution_count": 19,
   "metadata": {},
   "outputs": [],
   "source": [
    "mean_do = df.groupby(['subjects','puzzleID'])['error_do_move'].mean().groupby('subjects').mean().mean()\n",
    "mean_redo = df.groupby(['subjects','puzzleID'])['error_redo_move'].mean().groupby('subjects').mean().mean()\n",
    "sem_do = df.groupby(['subjects','puzzleID'])['error_do_move'].mean().groupby('subjects').mean().sem()\n",
    "sem_redo = df.groupby(['subjects','puzzleID'])['error_redo_move'].mean().groupby('subjects').mean().sem()\n"
   ]
  },
  {
   "cell_type": "code",
   "execution_count": 20,
   "metadata": {},
   "outputs": [
    {
     "data": {
      "text/plain": [
       "[Text(0.0, 0, 'Do'), Text(0.5, 0, '\\nMove'), Text(1.0, 0, 'Redo')]"
      ]
     },
     "execution_count": 20,
     "metadata": {},
     "output_type": "execute_result"
    },
    {
     "data": {
      "image/png": "[encoded data removed]",
      "text/plain": [
       "<Figure size 216x216 with 1 Axes>"
      ]
     },
     "metadata": {
      "needs_background": "light"
     },
     "output_type": "display_data"
    }
   ],
   "source": [
    "%matplotlib inline\n",
    "\n",
    "plt.rcParams.update({'font.size': font_size})\n",
    "fig, ax = plt.subplots(1,1,figsize=(3,3))\n",
    "sns.despine()\n",
    "\n",
    "ax.bar([0,1], [mean_do, mean_redo], yerr=[sem_do, sem_redo], color=[.7,.7,.7], edgecolor='k', capsize=5, width=0.5)\n",
    "\n",
    "# ylabel\n",
    "ax.set_ylabel('$\\Delta$ Cumulative Error Magnitude')\n",
    "# set yticks\n",
    "\n",
    "ax.set_xlim([-0.5, 1.5])\n",
    "ax.set_ylim([0, 1.5])\n",
    "ax.set_yticks([0, 0.4, 0.8, 1.2, 1.6])\n",
    "ax.set_yticklabels(['0' ,'0.4', '0.8', '1.2', '1.6'])\n",
    "\n",
    "# xtickslabel\n",
    "ax.set_xticks([0,0.5, 1])\n",
    "ax.set_xticklabels(['Do', '\\nMove', 'Redo'])\n",
    "\n",
    "# # save figure\n",
    "# fig.savefig(out_dir + 'error_rate_do_redo_move'+save_mode, transparent=True,\n",
    "#             bbox_inches='tight', pad_inches=0.1)"
   ]
  },
  {
   "cell_type": "markdown",
   "metadata": {},
   "source": [
    "# proportion"
   ]
  },
  {
   "cell_type": "code",
   "execution_count": 33,
   "metadata": {},
   "outputs": [
    {
     "name": "stdout",
     "output_type": "stream",
     "text": [
      "category\n",
      "0.0    0.118655\n",
      "1.0    0.324409\n",
      "2.0    0.389201\n",
      "3.0    0.167734\n",
      "dtype: float64 category\n",
      "0.0    0.015293\n",
      "1.0    0.022071\n",
      "2.0    0.023974\n",
      "3.0    0.015152\n",
      "dtype: float64\n"
     ]
    }
   ],
   "source": [
    "df_p = df.groupby(['category','subjects']).size().unstack(fill_value=0).apply(lambda x: x/x.sum())\n",
    "df_p = df_p.T\n",
    "df_p\n",
    "\n",
    "print(df_p.mean(), df_p.sem())"
   ]
  },
  {
   "cell_type": "code",
   "execution_count": 17,
   "metadata": {},
   "outputs": [
    {
     "data": {
      "text/plain": [
       "array([0, 3])"
      ]
     },
     "execution_count": 17,
     "metadata": {},
     "output_type": "execute_result"
    }
   ],
   "source": [
    "np.arange(2)*3"
   ]
  },
  {
   "cell_type": "code",
   "execution_count": 32,
   "metadata": {},
   "outputs": [
    {
     "data": {
      "image/png": "[encoded data removed]",
      "text/plain": [
       "<Figure size 216x216 with 1 Axes>"
      ]
     },
     "metadata": {
      "needs_background": "light"
     },
     "output_type": "display_data"
    }
   ],
   "source": [
    "%matplotlib inline\n",
    "\n",
    "plt.rcParams.update({'font.size': font_size})\n",
    "fig, ax = plt.subplots(1,1,figsize=(3,3))\n",
    "colors = ['0.7','0.7', '0.3','0.1']\n",
    "\n",
    "ax.bar([1,3,4,5], \n",
    "        np.mean(df_p,axis=0), \n",
    "        yerr = np.std(df_p,axis=0)/np.sqrt(df_p.shape[0]), \n",
    "        color = colors,edgecolor = 'k')\n",
    "\n",
    "sns.despine()\n",
    "\n",
    "ax.set_xticks([1,4])\n",
    "ax.set_xticklabels(['Identical','Different'])\n",
    "\n",
    "# set y lim\n",
    "ax.set_ylim([0,0.45])\n",
    "# set y ticks\n",
    "ax.set_yticks(np.arange(0,0.5,0.1))\n",
    "ax.set_yticklabels(['0','0.1','0.2','0.3','0.4'])\n",
    "\n",
    "legend_elements = [Patch(facecolor='0.7', label='Equal'),    \n",
    "                   Patch(facecolor='0.3', label='Better'),    \n",
    "                   Patch(facecolor='0.1', label='Worse')]\n",
    "ax.legend(handles=legend_elements, loc='upper left', frameon=False, fontsize = 16)\n",
    "\n",
    "ax.set_xlabel('Redo Move VS Do Move')\n",
    "ax.set_ylabel('Proportion')\n",
    "\n",
    "# save figure\n",
    "plt.savefig(out_dir + '/figure_worse_better_with_same_diff'+save_mode, dpi=300, bbox_inches='tight')"
   ]
  },
  {
   "cell_type": "code",
   "execution_count": null,
   "metadata": {},
   "outputs": [],
   "source": []
  }
 ],
 "metadata": {
  "kernelspec": {
   "display_name": "road",
   "language": "python",
   "name": "python3"
  },
  "language_info": {
   "codemirror_mode": {
    "name": "ipython",
    "version": 3
   },
   "file_extension": ".py",
   "mimetype": "text/x-python",
   "name": "python",
   "nbconvert_exporter": "python",
   "pygments_lexer": "ipython3",
   "version": "3.8.3"
  }
 },
 "nbformat": 4,
 "nbformat_minor": 2
}
