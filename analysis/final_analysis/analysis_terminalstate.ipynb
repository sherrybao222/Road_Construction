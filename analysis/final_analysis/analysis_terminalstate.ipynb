{
 "cells": [
  {
   "cell_type": "code",
   "execution_count": 1,
   "metadata": {},
   "outputs": [],
   "source": [
    "import pandas as pd\n",
    "import numpy as np\n",
    "from scipy.stats import spearmanr\n",
    "\n",
    "import seaborn as sns\n",
    "\n",
    "from collections import OrderedDict"
   ]
  },
  {
   "cell_type": "code",
   "execution_count": 19,
   "metadata": {},
   "outputs": [],
   "source": [
    "import sys\n",
    "sys.path.append('/Users/dbao/Downloads/research/rc_scripts/analysis/final_analysis/')\n",
    "\n",
    "from process_helper import *\n",
    "from plot_helper import *\n",
    "save_mode = \".pdf\"\n",
    "font_size = 18\n",
    "color_palette = [\"black\", \"grey\"]"
   ]
  },
  {
   "cell_type": "code",
   "execution_count": 3,
   "metadata": {},
   "outputs": [
    {
     "name": "stderr",
     "output_type": "stream",
     "text": [
      "/Users/dbao/opt/anaconda3/envs/road/lib/python3.8/site-packages/rpy2/robjects/pandas2ri.py:14: FutureWarning: pandas.core.index is deprecated and will be removed in a future version. The public classes are available in the top-level namespace.\n",
      "  from pandas.core.index import Index as PandasIndex\n"
     ]
    }
   ],
   "source": [
    "%load_ext rpy2.ipython\n",
    "\n",
    "from rpy2.robjects.packages import importr\n",
    "# import R's \"base\" package\n",
    "lme4 = importr('lme4')"
   ]
  },
  {
   "cell_type": "markdown",
   "metadata": {},
   "source": [
    "# Load data"
   ]
  },
  {
   "cell_type": "code",
   "execution_count": 4,
   "metadata": {},
   "outputs": [],
   "source": [
    "home_dir = '/Users/dbao/Library/CloudStorage/GoogleDrive-sherrydbao@gmail.com/.shortcut-targets-by-id/1sYZNVBbYCrHcHjo-9xdKcA4wLnob9ZEq/'+'/road_construction/data/2022_online/'\n",
    "data_dir = home_dir + 'R_analysis_data/'\n",
    "out_dir = home_dir + 'figures/figures_final/'\n",
    "out_dir2 = home_dir + 'stat_model/final/'"
   ]
  },
  {
   "cell_type": "code",
   "execution_count": 5,
   "metadata": {},
   "outputs": [],
   "source": [
    "data_choice_level = pd.read_csv(data_dir +  'choice_level/choicelevel_data.csv') # first column is index  \n",
    "data_choice_level = data_choice_level.rename(columns={'Unnamed: 0':'index_copy'})\n",
    "data_choice_level = df_choice_add_features(data_choice_level, add_first_move=0)\n",
    "sc_data_choice_level = data_choice_level[data_choice_level['condition']==1].reset_index(drop=True) \n",
    "\n",
    "data_puzzle_level = pd.read_csv(data_dir +  'data.csv') # first column is subject\n",
    "data_puzzle_level = df_map_add_features(data_puzzle_level, data_choice_level)\n",
    "single_condition_data = data_puzzle_level[data_puzzle_level['condition']==1].copy()\n",
    "single_condition_data = single_condition_data.reset_index(drop=True)"
   ]
  },
  {
   "cell_type": "code",
   "execution_count": 6,
   "metadata": {},
   "outputs": [],
   "source": [
    "data_subset_before1undo = df_subset_1undo_submit(sc_data_choice_level)\n",
    "state_undo_1undo = df_subset_1state(data_subset_before1undo, data_puzzle_level, single_condition_data, f\"(firstUndo ==1)\", 1)\n",
    "state_notundo_1undo = df_subset_1state(data_subset_before1undo, data_puzzle_level, single_condition_data, f\"(submit ==1)\", 0)\n",
    "state_df_1undo = pd.concat([state_undo_1undo,state_notundo_1undo])\n",
    "state_df_1undo = state_df_1undo.reset_index(drop=True)\n",
    "\n",
    "# Save state_df_1undo to csv\n",
    "state_df_1undo.to_csv(data_dir + 'state_df_1undo.csv', index=False)\n",
    "\n",
    "# only keep rows with RPE to be non-na\n",
    "# state_df_1undo = state_df_1undo[state_df_1undo['RPE'].notna()]"
   ]
  },
  {
   "cell_type": "markdown",
   "metadata": {},
   "source": [
    "# Task difficulty "
   ]
  },
  {
   "cell_type": "code",
   "execution_count": 23,
   "metadata": {},
   "outputs": [
    {
     "name": "stdout",
     "output_type": "stream",
     "text": [
      "SpearmanrResult(correlation=0.3832870798643231, pvalue=0.008556264654786983)\n"
     ]
    }
   ],
   "source": [
    "print(spearmanr(state_undo_1undo.groupby(['puzzleID'])['RT1'].mean() , state_undo_1undo.groupby(['puzzleID'])['RT1_basic'].mean()))"
   ]
  },
  {
   "cell_type": "markdown",
   "metadata": {},
   "source": [
    "## First-move RT"
   ]
  },
  {
   "cell_type": "code",
   "execution_count": 7,
   "metadata": {},
   "outputs": [
    {
     "name": "stdout",
     "output_type": "stream",
     "text": [
      "0.716\n",
      "131.049\n",
      "-0.3340751120214915\n",
      "4.875571299064987\n",
      "[-0.69314718  0.40546511  1.70474809  2.35137526  4.90527478]\n"
     ]
    }
   ],
   "source": [
    "# state_df_1undo['RT1_log'] = np.log(state_df_1undo['RT1'])\n",
    "print(min(state_df_1undo['RT1']))\n",
    "print(max(state_df_1undo['RT1']))\n",
    "print(min(state_df_1undo['RT1_log']))\n",
    "print(max(state_df_1undo['RT1_log']))\n",
    "cutoff_ori = [0.5,1.5,5.5,10.5,135]\n",
    "temp1, cutoff = pd.cut(state_df_1undo['RT1_log'], bins=np.log(cutoff_ori), labels=np.log([1,3.5,8,72]), retbins=True)\n",
    "# temp1, cutoff = pd.cut(state_df_1undo['RT1_log'], bins=5, labels=range(1,6),retbins=True)\n",
    "state_df_1undo['rt1_bin'] = temp1#.astype(int)\n",
    "print(cutoff)\n",
    "# temp2, cutoff = pd.cut(state_df_1undo['RT1_basic_log'], bins=5, labels=range(1,6),retbins=True)\n",
    "# state_df_1undo['rt1_basic_bin'] = temp2.astype(int)"
   ]
  },
  {
   "cell_type": "code",
   "execution_count": 8,
   "metadata": {},
   "outputs": [
    {
     "name": "stdout",
     "output_type": "stream",
     "text": [
      "  bin mean_log_rt          \n",
      "             mean       sem\n",
      "0   0    0.724294  0.030937\n",
      "1   1    1.152902  0.033580\n",
      "2   2    1.563273  0.040704\n",
      "3   3    1.959869  0.050051\n",
      "4   4    2.497394  0.068733\n"
     ]
    }
   ],
   "source": [
    "# Create 5 bins for each subject individually\n",
    "state_df_1undo['RT1_log'] = np.log(state_df_1undo['RT1'])\n",
    "subject_bins = []\n",
    "new_df = pd.DataFrame()\n",
    "for subject in state_df_1undo['subjects'].unique():\n",
    "    subject_data = state_df_1undo[state_df_1undo['subjects'] == subject].copy()\n",
    "    \n",
    "    # Create 5 equal-width bins for this subject's log RTs\n",
    "    temp1, bin_edges = pd.cut(subject_data['RT1_log'], bins=5, retbins=True, labels=False)\n",
    "    subject_data['rt1_bin'] = temp1\n",
    "    new_df = pd.concat([new_df, subject_data])\n",
    "\n",
    "    bin_means = subject_data.groupby('rt1_bin')['RT1_log'].mean()\n",
    "    for bin_num in range(5):\n",
    "        if bin_num in bin_means.index:  # Check if bin exists for this subject\n",
    "            subject_bins.append({\n",
    "                'subjects': subject,\n",
    "                'bin': bin_num,\n",
    "                'mean_log_rt': bin_means[bin_num]\n",
    "            })\n",
    "\n",
    "state_df_1undo = new_df\n",
    "\n",
    "# Convert to DataFrame\n",
    "binned_results = pd.DataFrame(subject_bins)\n",
    "final_results = binned_results.groupby('bin').agg({\n",
    "    'mean_log_rt': ['mean', 'sem']\n",
    "}).reset_index()\n",
    "print(final_results)\n",
    "\n",
    "# replace bin with mean_log_rt\n",
    "# Create a mapping dictionary from bin number to mean_log_rt\n",
    "bin_to_rt_mapping = final_results.set_index('bin')['mean_log_rt'].to_dict()['mean']\n",
    "# Apply the mapping, with a fallback for any NaN values\n",
    "state_df_1undo['rt1_bin_mean_rt'] = state_df_1undo['rt1_bin'].map(bin_to_rt_mapping)"
   ]
  },
  {
   "cell_type": "raw",
   "metadata": {
    "vscode": {
     "languageId": "raw"
    }
   },
   "source": [
    "firstUndo_sub = state_df_1undo.groupby(['subjects','rt1_bin','error'])['firstUndo'].mean().reset_index()\n",
    "firstUndo_sub.groupby(['rt1_bin','error'])['firstUndo'].count()"
   ]
  },
  {
   "cell_type": "raw",
   "metadata": {
    "vscode": {
     "languageId": "raw"
    }
   },
   "source": [
    "%matplotlib widget\n",
    "fig, axs = plt.subplots(1, 1)\n",
    "fig.set_size_inches(3, 3)\n",
    "plt.rcParams.update({'font.size': font_size})\n",
    "\n",
    "# multiple line plot    \n",
    "sns.lineplot(x='rt1_bin', y='firstUndo', \n",
    "             data = firstUndo_sub[firstUndo_sub.rt1_bin<=3],\n",
    "             hue = \"error\",\n",
    "             palette = color_palette,\n",
    "             err_style = \"bars\",\n",
    "             errorbar = \"se\")\n",
    "\n",
    "# only use 1 decimal place\n",
    "cutoff_round = [round(i,1) for i in cutoff]\n",
    "axs.set_xticks(np.arange(0.5, 4.5, 1))\n",
    "axs.set_xticklabels(cutoff_round[:-2])\n",
    "axs.legend(labels=['Optimal state','Subptimal state'], frameon=False, loc='upper left')\n",
    "\n",
    "# hide legend\n",
    "# axs.get_legend().remove()\n",
    "# axs.set_ylim([0,0.2])\n",
    "# axs.set_yticks(np.arange(0, 0.25, 0.05))\n",
    "axs.set(xlabel='Log(First-move RT)', ylabel='Probability of Undo')\n",
    "axs.set_aspect(1/axs.get_data_ratio())\n",
    "fig.savefig(out_dir+'undo_first_rt'+save_mode, dpi=300, bbox_inches='tight')\n",
    "plt.show()"
   ]
  },
  {
   "cell_type": "code",
   "execution_count": 28,
   "metadata": {},
   "outputs": [
    {
     "data": {
      "text/plain": [
       "rt1_bin_mean_rt  cumulative_error_cat\n",
       "0.724294         0                       97\n",
       "                 1                       90\n",
       "                 2                       45\n",
       "                 >2                      27\n",
       "1.152902         0                       97\n",
       "                 1                       96\n",
       "                 2                       71\n",
       "                 >2                      26\n",
       "1.563273         0                       95\n",
       "                 1                       94\n",
       "                 2                       73\n",
       "                 >2                      30\n",
       "1.959869         0                       84\n",
       "                 1                       85\n",
       "                 2                       42\n",
       "                 >2                      21\n",
       "2.497394         0                       61\n",
       "                 1                       68\n",
       "                 2                       43\n",
       "                 >2                      19\n",
       "Name: firstUndo, dtype: int64"
      ]
     },
     "execution_count": 28,
     "metadata": {},
     "output_type": "execute_result"
    }
   ],
   "source": [
    "state_df_1undo['cumulative_error_cat'] = state_df_1undo['cumulative_error'].apply(lambda x: '>2' if x > 2 else str(x))\n",
    "firstUndo_sub = state_df_1undo.groupby(['subjects','rt1_bin_mean_rt','cumulative_error_cat'])['firstUndo'].mean().reset_index()\n",
    "firstUndo_sub.groupby(['rt1_bin_mean_rt','cumulative_error_cat'])['firstUndo'].count()\n"
   ]
  },
  {
   "cell_type": "code",
   "execution_count": 29,
   "metadata": {},
   "outputs": [
    {
     "data": {
      "application/vnd.jupyter.widget-view+json": {
       "model_id": "dd8cd9026cea4cd88304db4784045037",
       "version_major": 2,
       "version_minor": 0
      },
      "image/png": "[encoded data removed]",
      "text/html": [
       "\n",
       "            <div style=\"display: inline-block;\">\n",
       "                <div class=\"jupyter-widgets widget-label\" style=\"text-align: center;\">\n",
       "                    Figure\n",
       "                </div>\n",
       "                <img src='data:image/png;base64,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' width=300.0/>\n",
       "            </div>\n",
       "        "
      ],
      "text/plain": [
       "Canvas(toolbar=Toolbar(toolitems=[('Home', 'Reset original view', 'home', 'home'), ('Back', 'Back to previous …"
      ]
     },
     "metadata": {},
     "output_type": "display_data"
    }
   ],
   "source": [
    "%matplotlib widget\n",
    "import matplotlib.ticker\n",
    "fig, axs = plt.subplots(1, 1)\n",
    "fig.set_size_inches(3, 3)\n",
    "plt.rcParams.update({'font.size': font_size})\n",
    "\n",
    "plt.rcParams['xtick.minor.size'] = 0\n",
    "plt.rcParams['xtick.minor.width'] = 0\n",
    "\n",
    "# multiple line plot    \n",
    "sns.lineplot(x='rt1_bin_mean_rt', y='firstUndo', \n",
    "             data = firstUndo_sub,\n",
    "             hue = \"cumulative_error_cat\", \n",
    "             palette = OrderedDict({\n",
    "                        '0': '#CCCCCC',  \n",
    "                        '1': '0.7',  # light grey\n",
    "                        '2': '0.4',  # medium grey\n",
    "                        '>2': '0.0'  # dark grey\n",
    "}),\n",
    "             err_style = \"bars\",\n",
    "             errorbar = \"se\"\n",
    "             )\n",
    "\n",
    "\n",
    "# only use 1 decimal place\n",
    "# cutoff_round = [round(i,1) for i in cutoff]\n",
    "# axs.set_xticks(np.arange(0.5, 4.5, 1))\n",
    "\n",
    "# axs.set_xscale('log')\n",
    "\n",
    "axs.set_xticks([0, 1, 2, 3])\n",
    "# axs.get_xaxis().set_major_formatter(matplotlib.ticker.ScalarFormatter())\n",
    "# axs.get_xaxis().set_tick_params(which='minor', size=0)\n",
    "# axs.get_xaxis().set_tick_params(which='minor', width=0) \n",
    "# from matplotlib.ticker import ScalarFormatter, NullFormatter\n",
    "# for axis in [axs.xaxis]:\n",
    "#     axis.set_major_formatter(ScalarFormatter())\n",
    "#     axis.set_minor_formatter(NullFormatter())\n",
    "axs.set_xticklabels([0, 1, 2, 3])\n",
    "# tilt the labels\n",
    "# axs.set_xticklabels([x for x in axs.get_xticklabels()], rotation=45)\n",
    "\n",
    "# plt.xticklabels([round(x,1) for x in np.exp([0.5,1.5,2.5,3.5])])\n",
    "# axs.set_xticklabels(cutoff_round)\n",
    "\n",
    "handles = axs.get_legend_handles_labels()[0]  # get the handles\n",
    "labels = axs.get_legend_handles_labels()[1]   # get the labels\n",
    "order = [0,1,2,3]\n",
    "axs.legend([handles[idx] for idx in order], \n",
    "           [labels[idx] for idx in order],\n",
    "           frameon=False, \n",
    "           bbox_to_anchor=(3, 0),\n",
    "           title='Cumulative \\nerror magnitude')\n",
    "\n",
    "# hide legend\n",
    "# axs.get_legend().remove()\n",
    "# axs.set_ylim([0,0.2])\n",
    "axs.set_yticks(np.arange(0, 1.2, 0.2))\n",
    "axs.set(xlabel='First-move RT (s)', ylabel='Probability of undo')\n",
    "axs.set_aspect(1/axs.get_data_ratio())\n",
    "fig.savefig(out_dir+'undo_first_rt_cumulative_error'+save_mode, dpi=300, bbox_inches='tight')\n",
    "plt.show()"
   ]
  },
  {
   "cell_type": "raw",
   "metadata": {
    "vscode": {
     "languageId": "raw"
    }
   },
   "source": [
    "%%R -i state_df_1undo,out_dir2\n",
    "state_df_1undo$subjects <- as.factor(state_df_1undo[,\"subjects\"])\n",
    "state_df_1undo$puzzleID <- as.factor(state_df_1undo[,\"puzzleID\"])\n",
    "state_df_1undo$error <- as.factor(state_df_1undo[,\"error\"])\n",
    "\n",
    "model_undo = lme4::glmer(firstUndo ~  1 + RT1_log*error + (1 |subjects)+(1|puzzleID),\n",
    "                                  data = state_df_1undo, family = binomial(link=\"logit\"))\n",
    "\n",
    "# save(model_undo, state_df_1undo, file=file.path(out_dir2, file=paste(\"model_undo_rt1.RData\", sep=\"\")))\n",
    "\n",
    "# get the coefficients for the best fitting model\n",
    "summary(model_undo)"
   ]
  },
  {
   "cell_type": "code",
   "execution_count": 37,
   "metadata": {},
   "outputs": [],
   "source": [
    "state_df_1undo_select = state_df_1undo[[\"subjects\",\"puzzleID\",\"RT1_log\",\"action_gap\",\"cumulative_error\",\"firstUndo\"]]\n"
   ]
  },
  {
   "cell_type": "code",
   "execution_count": 35,
   "metadata": {},
   "outputs": [
    {
     "name": "stdout",
     "output_type": "stream",
     "text": [
      "Data: state_df_1undo_select\n",
      "Models:\n",
      "model_undo2: firstUndo ~ 1 + cumulative_error + (1 | subjects) + (1 | puzzleID)\n",
      "model_undo: firstUndo ~ 1 + RT1_log * cumulative_error + (1 | subjects) + \n",
      "model_undo:     (1 | puzzleID)\n",
      "            npar    AIC    BIC  logLik deviance  Chisq Df Pr(>Chisq)    \n",
      "model_undo2    4 3080.8 3106.2 -1536.4   3072.8                         \n",
      "model_undo     6 3067.2 3105.2 -1527.6   3055.2 17.648  2  0.0001472 ***\n",
      "---\n",
      "Signif. codes:  0 ‘***’ 0.001 ‘**’ 0.01 ‘*’ 0.05 ‘.’ 0.1 ‘ ’ 1\n",
      "Generalized linear mixed model fit by maximum likelihood (Laplace\n",
      "  Approximation) [glmerMod]\n",
      " Family: binomial  ( logit )\n",
      "Formula: firstUndo ~ 1 + RT1_log * cumulative_error + (1 | subjects) +  \n",
      "    (1 | puzzleID)\n",
      "   Data: state_df_1undo_select\n",
      "\n",
      "     AIC      BIC   logLik deviance df.resid \n",
      "  3067.2   3105.2  -1527.6   3055.2     4152 \n",
      "\n",
      "Scaled residuals: \n",
      "    Min      1Q  Median      3Q     Max \n",
      "-7.0252 -0.3890 -0.1274  0.0755 10.6626 \n",
      "\n",
      "Random effects:\n",
      " Groups   Name        Variance Std.Dev.\n",
      " subjects (Intercept) 8.500    2.9155  \n",
      " puzzleID (Intercept) 0.591    0.7687  \n",
      "Number of obs: 4158, groups:  subjects, 100; puzzleID, 46\n",
      "\n",
      "Fixed effects:\n",
      "                         Estimate Std. Error z value Pr(>|z|)    \n",
      "(Intercept)              -3.88877    0.42014  -9.256  < 2e-16 ***\n",
      "RT1_log                   0.46886    0.15027   3.120  0.00181 ** \n",
      "cumulative_error          1.38117    0.21450   6.439  1.2e-10 ***\n",
      "RT1_log:cumulative_error  0.03061    0.11922   0.257  0.79738    \n",
      "---\n",
      "Signif. codes:  0 ‘***’ 0.001 ‘**’ 0.01 ‘*’ 0.05 ‘.’ 0.1 ‘ ’ 1\n",
      "\n",
      "Correlation of Fixed Effects:\n",
      "            (Intr) RT1_lg cmltv_\n",
      "RT1_log     -0.597              \n",
      "cumultv_rrr -0.441  0.595       \n",
      "RT1_lg:cml_  0.389 -0.641 -0.932\n"
     ]
    }
   ],
   "source": [
    "\n",
    "%%R -i state_df_1undo_select,out_dir2\n",
    "state_df_1undo_select$subjects <- as.factor(state_df_1undo_select[,\"subjects\"])\n",
    "state_df_1undo_select$puzzleID <- as.factor(state_df_1undo_select[,\"puzzleID\"])\n",
    "\n",
    "model_undo = lme4::glmer(firstUndo ~  1 + RT1_log*cumulative_error + (1 |subjects)+(1|puzzleID),\n",
    "                                  data = state_df_1undo_select, family = binomial(link=\"logit\"))\n",
    "model_undo2 = lme4::glmer(firstUndo ~  1 + cumulative_error + (1 |subjects)+(1|puzzleID),\n",
    "                                  data = state_df_1undo_select, family = binomial(link=\"logit\"))\n",
    "print(anova(model_undo,model_undo2))\n",
    "# save(model_undo, state_df_1undo, file=file.path(out_dir2, file=paste(\"model_undo_rt1.RData\", sep=\"\")))\n",
    "\n",
    "# get the coefficients for the best fitting model\n",
    "summary(model_undo)"
   ]
  },
  {
   "cell_type": "markdown",
   "metadata": {},
   "source": [
    "## Action gap "
   ]
  },
  {
   "cell_type": "code",
   "execution_count": 21,
   "metadata": {},
   "outputs": [],
   "source": [
    "temp1, cutoff = pd.cut(state_df_1undo['action_gap'], bins=[2,3,4,5,6], labels=range(1,5), retbins=True)\n",
    "# temp1, cutoff = pd.cut(state_df_1undo['action_gap'], bins=5, labels=range(1,6),retbins=True)\n",
    "state_df_1undo['action_gap_bin'] = temp1.astype(int)\n"
   ]
  },
  {
   "cell_type": "code",
   "execution_count": 22,
   "metadata": {},
   "outputs": [
    {
     "data": {
      "text/plain": [
       "action_gap_bin  error\n",
       "1               False     286\n",
       "                True      165\n",
       "2               False    1024\n",
       "                True     1324\n",
       "3               False     481\n",
       "                True      700\n",
       "4               False      56\n",
       "                True      122\n",
       "Name: firstUndo, dtype: int64"
      ]
     },
     "execution_count": 22,
     "metadata": {},
     "output_type": "execute_result"
    }
   ],
   "source": [
    "firstUndo_sub = state_df_1undo.groupby(['subjects','puzzleID','action_gap_bin','error'])['firstUndo'].mean().reset_index()\n",
    "firstUndo_sub.groupby(['action_gap_bin','error'])['firstUndo'].count()"
   ]
  },
  {
   "cell_type": "code",
   "execution_count": 23,
   "metadata": {},
   "outputs": [
    {
     "data": {
      "application/vnd.jupyter.widget-view+json": {
       "model_id": "db32bb40d9a245a39021ddfc27c6d7c9",
       "version_major": 2,
       "version_minor": 0
      },
      "image/png": "[encoded data removed]",
      "text/html": [
       "\n",
       "            <div style=\"display: inline-block;\">\n",
       "                <div class=\"jupyter-widgets widget-label\" style=\"text-align: center;\">\n",
       "                    Figure\n",
       "                </div>\n",
       "                <img src='data:image/png;base64,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' width=300.0/>\n",
       "            </div>\n",
       "        "
      ],
      "text/plain": [
       "Canvas(toolbar=Toolbar(toolitems=[('Home', 'Reset original view', 'home', 'home'), ('Back', 'Back to previous …"
      ]
     },
     "metadata": {},
     "output_type": "display_data"
    }
   ],
   "source": [
    "%matplotlib widget\n",
    "\n",
    "fig, axs = plt.subplots(1, 1)\n",
    "fig.set_size_inches(3, 3)\n",
    "plt.rcParams.update({'font.size': font_size})\n",
    "# multiple line plot    \n",
    "sns.lineplot(x='action_gap_bin', y='firstUndo', \n",
    "             data = firstUndo_sub,\n",
    "             hue = \"error\",\n",
    "             palette = color_palette,\n",
    "             err_style = \"bars\",\n",
    "             errorbar = \"se\")\n",
    "\n",
    "# only use 1 decimal place\n",
    "cutoff_round = [round(i,1) for i in cutoff]\n",
    "axs.set_xticks(np.arange(0.5, 5.5, 1))\n",
    "axs.set_xticklabels(cutoff_round)\n",
    "axs.legend(labels=['Optimal state','Subptimal state'], frameon=False, loc='upper right')\n",
    "\n",
    "# hide legend\n",
    "# axs.get_legend().remove()\n",
    "# axs.set_ylim([0,0.2])\n",
    "# axs.set_yticks(np.arange(0, 0.25, 0.05))\n",
    "axs.set(xlabel='Action Gap', ylabel='Probability of Undo')\n",
    "axs.set_aspect(1/axs.get_data_ratio())\n",
    "fig.savefig(out_dir+'undo_action_gap'+save_mode, dpi=300, bbox_inches='tight')\n",
    "plt.show()"
   ]
  },
  {
   "cell_type": "code",
   "execution_count": 25,
   "metadata": {},
   "outputs": [
    {
     "data": {
      "text/plain": [
       "action_gap_bin  cumulative_error_cat\n",
       "1               0                        286\n",
       "                1                        123\n",
       "                2                         36\n",
       "                >2                         6\n",
       "2               0                       1024\n",
       "                1                        950\n",
       "                2                        271\n",
       "                >2                       103\n",
       "3               0                        481\n",
       "                1                        468\n",
       "                2                        174\n",
       "                >2                        58\n",
       "4               0                         56\n",
       "                1                         78\n",
       "                2                         14\n",
       "                >2                        30\n",
       "Name: firstUndo, dtype: int64"
      ]
     },
     "execution_count": 25,
     "metadata": {},
     "output_type": "execute_result"
    }
   ],
   "source": [
    "firstUndo_sub = state_df_1undo.groupby(['subjects','puzzleID','action_gap_bin','cumulative_error_cat'])['firstUndo'].mean().reset_index()\n",
    "firstUndo_sub.groupby(['action_gap_bin','cumulative_error_cat'])['firstUndo'].count()"
   ]
  },
  {
   "cell_type": "code",
   "execution_count": 26,
   "metadata": {},
   "outputs": [
    {
     "data": {
      "application/vnd.jupyter.widget-view+json": {
       "model_id": "776a435faa834a35af9630a9997f15d7",
       "version_major": 2,
       "version_minor": 0
      },
      "image/png": "[encoded data removed]",
      "text/html": [
       "\n",
       "            <div style=\"display: inline-block;\">\n",
       "                <div class=\"jupyter-widgets widget-label\" style=\"text-align: center;\">\n",
       "                    Figure\n",
       "                </div>\n",
       "                <img src='data:image/png;base64,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' width=300.0/>\n",
       "            </div>\n",
       "        "
      ],
      "text/plain": [
       "Canvas(toolbar=Toolbar(toolitems=[('Home', 'Reset original view', 'home', 'home'), ('Back', 'Back to previous …"
      ]
     },
     "metadata": {},
     "output_type": "display_data"
    }
   ],
   "source": [
    "%matplotlib widget\n",
    "\n",
    "fig, axs = plt.subplots(1, 1)\n",
    "fig.set_size_inches(3, 3)\n",
    "plt.rcParams.update({'font.size': font_size})\n",
    "# multiple line plot    \n",
    "sns.lineplot(x='action_gap_bin', y='firstUndo', \n",
    "             data = firstUndo_sub,\n",
    "             hue = \"cumulative_error_cat\",\n",
    "             palette = OrderedDict({\n",
    "    '0': '#CCCCCC',  \n",
    "    '1': '0.7',  # light grey\n",
    "    '2': '0.4',  # medium grey\n",
    "    '>2': '0.0'  # dark grey\n",
    "}),\n",
    "             err_style = \"bars\",\n",
    "             errorbar = \"se\")\n",
    "\n",
    "# only use 1 decimal place\n",
    "cutoff_round = [round(i,1) for i in cutoff]\n",
    "axs.set_xticks(np.arange(0.5, 5.5, 1))\n",
    "axs.set_xticklabels(cutoff_round)\n",
    "\n",
    "# After your plot, before creating the legend:\n",
    "handles = axs.get_legend_handles_labels()[0]  # get the handles\n",
    "labels = axs.get_legend_handles_labels()[1]   # get the labels\n",
    "order = [1,0,3,2]\n",
    "axs.legend([handles[idx] for idx in order], \n",
    "           [labels[idx] for idx in order],\n",
    "           frameon=False, \n",
    "           bbox_to_anchor=(2, 0))\n",
    "\n",
    "# hide legend\n",
    "# axs.get_legend().remove()\n",
    "\n",
    "axs.set_yticks(np.arange(0, 1.2, 0.2))\n",
    "axs.set(xlabel='Action gap', ylabel='Probability of undo')\n",
    "axs.set_aspect(1/axs.get_data_ratio())\n",
    "fig.savefig(out_dir+'undo_action_gap_cumulative_error'+save_mode, dpi=300, bbox_inches='tight')\n",
    "plt.show()"
   ]
  },
  {
   "cell_type": "code",
   "execution_count": 21,
   "metadata": {},
   "outputs": [
    {
     "name": "stdout",
     "output_type": "stream",
     "text": [
      "Generalized linear mixed model fit by maximum likelihood (Laplace\n",
      "  Approximation) [glmerMod]\n",
      " Family: binomial  ( logit )\n",
      "Formula: firstUndo ~ 1 + action_gap * error + (1 | subjects) + (1 | puzzleID)\n",
      "   Data: state_df_1undo\n",
      "\n",
      "     AIC      BIC   logLik deviance df.resid \n",
      "  3038.8   3076.8  -1513.4   3026.8     4152 \n",
      "\n",
      "Scaled residuals: \n",
      "    Min      1Q  Median      3Q     Max \n",
      "-4.4570 -0.3637 -0.1404  0.0684  8.5662 \n",
      "\n",
      "Random effects:\n",
      " Groups   Name        Variance Std.Dev.\n",
      " subjects (Intercept) 7.2065   2.6845  \n",
      " puzzleID (Intercept) 0.2388   0.4886  \n",
      "Number of obs: 4158, groups:  subjects, 100; puzzleID, 46\n",
      "\n",
      "Fixed effects:\n",
      "                     Estimate Std. Error z value Pr(>|z|)    \n",
      "(Intercept)            3.0744     0.8141   3.777 0.000159 ***\n",
      "action_gap            -1.7399     0.2152  -8.086 6.15e-16 ***\n",
      "errorTRUE             -1.5834     0.7569  -2.092 0.036433 *  \n",
      "action_gap:errorTRUE   1.1334     0.2119   5.349 8.86e-08 ***\n",
      "---\n",
      "Signif. codes:  0 ‘***’ 0.001 ‘**’ 0.01 ‘*’ 0.05 ‘.’ 0.1 ‘ ’ 1\n",
      "\n",
      "Correlation of Fixed Effects:\n",
      "            (Intr) actn_g erTRUE\n",
      "action_gap  -0.927              \n",
      "errorTRUE   -0.662  0.708       \n",
      "actn_g:TRUE  0.678 -0.747 -0.984\n"
     ]
    }
   ],
   "source": [
    "\n",
    "%%R \n",
    "\n",
    "model_undo = lme4::glmer(firstUndo ~  1 + action_gap*error + (1 |subjects)+(1|puzzleID),\n",
    "                                  data = state_df_1undo, family = binomial(link=\"logit\"))\n",
    "# save(model_undo, state_df_1undo, file=file.path(out_dir2, file=paste(\"model_undo_rt1.RData\", sep=\"\")))\n",
    "\n",
    "# get the coefficients for the best fitting model\n",
    "summary(model_undo)"
   ]
  },
  {
   "cell_type": "code",
   "execution_count": 39,
   "metadata": {},
   "outputs": [
    {
     "name": "stdout",
     "output_type": "stream",
     "text": [
      "Data: state_df_1undo_select\n",
      "Models:\n",
      "model_undo2: firstUndo ~ 1 + cumulative_error + (1 | subjects) + (1 | puzzleID)\n",
      "model_undo: firstUndo ~ 1 + action_gap * cumulative_error + (1 | subjects) + \n",
      "model_undo:     (1 | puzzleID)\n",
      "            npar    AIC    BIC  logLik deviance  Chisq Df Pr(>Chisq)    \n",
      "model_undo2    4 3080.8 3106.2 -1536.4   3072.8                         \n",
      "model_undo     6 3050.9 3088.9 -1519.5   3038.9 33.929  2   4.29e-08 ***\n",
      "---\n",
      "Signif. codes:  0 ‘***’ 0.001 ‘**’ 0.01 ‘*’ 0.05 ‘.’ 0.1 ‘ ’ 1\n",
      "Generalized linear mixed model fit by maximum likelihood (Laplace\n",
      "  Approximation) [glmerMod]\n",
      " Family: binomial  ( logit )\n",
      "Formula: firstUndo ~ 1 + action_gap * cumulative_error + (1 | subjects) +  \n",
      "    (1 | puzzleID)\n",
      "   Data: state_df_1undo_select\n",
      "\n",
      "     AIC      BIC   logLik deviance df.resid \n",
      "  3050.9   3088.9  -1519.5   3038.9     4152 \n",
      "\n",
      "Scaled residuals: \n",
      "    Min      1Q  Median      3Q     Max \n",
      "-8.7087 -0.3905 -0.1275  0.0724 12.9146 \n",
      "\n",
      "Random effects:\n",
      " Groups   Name        Variance Std.Dev.\n",
      " subjects (Intercept) 8.7693   2.9613  \n",
      " puzzleID (Intercept) 0.2503   0.5003  \n",
      "Number of obs: 4158, groups:  subjects, 100; puzzleID, 46\n",
      "\n",
      "Fixed effects:\n",
      "                            Estimate Std. Error z value Pr(>|z|)    \n",
      "(Intercept)                  0.39205    0.69465   0.564    0.572    \n",
      "action_gap                  -0.94229    0.16672  -5.652 1.59e-08 ***\n",
      "cumulative_error             1.76288    0.35905   4.910 9.12e-07 ***\n",
      "action_gap:cumulative_error -0.07051    0.08952  -0.788    0.431    \n",
      "---\n",
      "Signif. codes:  0 ‘***’ 0.001 ‘**’ 0.01 ‘*’ 0.05 ‘.’ 0.1 ‘ ’ 1\n",
      "\n",
      "Correlation of Fixed Effects:\n",
      "            (Intr) actn_g cmltv_\n",
      "action_gap  -0.880              \n",
      "cumultv_rrr -0.425  0.435       \n",
      "actn_gp:cm_  0.443 -0.486 -0.977\n"
     ]
    }
   ],
   "source": [
    "%%R -i state_df_1undo_select,out_dir2\n",
    "state_df_1undo_select$subjects <- as.factor(state_df_1undo_select[,\"subjects\"])\n",
    "state_df_1undo_select$puzzleID <- as.factor(state_df_1undo_select[,\"puzzleID\"])\n",
    "\n",
    "model_undo = lme4::glmer(firstUndo ~  1 + action_gap*cumulative_error + (1 |subjects)+(1|puzzleID),\n",
    "                                  data = state_df_1undo_select, family = binomial(link=\"logit\"))\n",
    "model_undo2 = lme4::glmer(firstUndo ~  1 + cumulative_error + (1 |subjects)+(1|puzzleID),\n",
    "                                  data = state_df_1undo_select, family = binomial(link=\"logit\"))\n",
    "print(anova(model_undo,model_undo2))\n",
    "# save(model_undo, state_df_1undo, file=file.path(out_dir2, file=paste(\"model_undo_rt1.RData\", sep=\"\")))\n",
    "\n",
    "# get the coefficients for the best fitting model\n",
    "summary(model_undo)"
   ]
  },
  {
   "cell_type": "markdown",
   "metadata": {},
   "source": [
    "## rule out other retrospective factors"
   ]
  },
  {
   "cell_type": "code",
   "execution_count": 9,
   "metadata": {},
   "outputs": [
    {
     "name": "stdout",
     "output_type": "stream",
     "text": [
      "SpearmanrResult(correlation=0.1414166333275896, pvalue=0.34852137169883546)\n",
      "SpearmanrResult(correlation=0.18189150102918966, pvalue=0.22634771259617853)\n"
     ]
    }
   ],
   "source": [
    "print(spearmanr(state_undo_1undo.groupby(['puzzleID'])['RT1'].mean() , state_undo_1undo.groupby(['puzzleID'])['cumulative_error'].mean()))\n",
    "print(spearmanr(state_undo_1undo.groupby(['puzzleID'])['RT1'].mean() , state_undo_1undo.groupby(['puzzleID'])['error'].mean()))"
   ]
  },
  {
   "cell_type": "code",
   "execution_count": 8,
   "metadata": {},
   "outputs": [
    {
     "name": "stdout",
     "output_type": "stream",
     "text": [
      "Linear mixed model fit by REML ['lmerMod']\n",
      "Formula: cumulative_error ~ 1 + RT1_log + (1 | subjects) + (1 | puzzleID)\n",
      "   Data: state_df_1undo\n",
      "\n",
      "REML criterion at convergence: 9736.9\n",
      "\n",
      "Scaled residuals: \n",
      "    Min      1Q  Median      3Q     Max \n",
      "-4.0078 -0.6390 -0.1644  0.5305  5.5284 \n",
      "\n",
      "Random effects:\n",
      " Groups   Name        Variance Std.Dev.\n",
      " subjects (Intercept) 0.1502   0.3876  \n",
      " puzzleID (Intercept) 0.1330   0.3647  \n",
      " Residual             0.5534   0.7439  \n",
      "Number of obs: 4158, groups:  subjects, 100; puzzleID, 46\n",
      "\n",
      "Fixed effects:\n",
      "            Estimate Std. Error t value\n",
      "(Intercept)  0.60565    0.08148   7.433\n",
      "RT1_log      0.12019    0.02832   4.244\n",
      "\n",
      "Correlation of Fixed Effects:\n",
      "        (Intr)\n",
      "RT1_log -0.562\n"
     ]
    }
   ],
   "source": [
    "%%R -i state_df_1undo\n",
    "\n",
    "error_rt1 = lme4::glmer(cumulative_error ~  1 + RT1_log + (1 |subjects)+(1|puzzleID),\n",
    "                                  data = state_df_1undo)\n",
    "summary(error_rt1)"
   ]
  },
  {
   "cell_type": "code",
   "execution_count": 8,
   "metadata": {},
   "outputs": [
    {
     "name": "stdout",
     "output_type": "stream",
     "text": [
      "SpearmanrResult(correlation=0.4866542132650219, pvalue=0.0006048835206200214)\n",
      "SpearmanrResult(correlation=0.5525195841016098, pvalue=6.852486759367743e-05)\n"
     ]
    }
   ],
   "source": [
    "print(spearmanr(state_undo_1undo.groupby(['puzzleID'])['action_gap'].mean() , state_undo_1undo.groupby(['puzzleID'])['error'].mean()))\n",
    "print(spearmanr(state_undo_1undo.groupby(['puzzleID'])['action_gap'].mean() , state_undo_1undo.groupby(['puzzleID'])['cumulative_error'].mean()))"
   ]
  },
  {
   "cell_type": "code",
   "execution_count": null,
   "metadata": {},
   "outputs": [
    {
     "name": "stdout",
     "output_type": "stream",
     "text": [
      "SpearmanrResult(correlation=0.26564282863342314, pvalue=0.07437404563542763)\n",
      "SpearmanrResult(correlation=0.15831508842212058, pvalue=0.29333200914620394)\n",
      "SpearmanrResult(correlation=0.11563367252543941, pvalue=0.4441199055816396)\n",
      "SpearmanrResult(correlation=0.4151967443446188, pvalue=0.004114175528934338)\n"
     ]
    }
   ],
   "source": [
    "df_noundo = data_choice_level[data_choice_level['condition']==0].copy()\n",
    "df_noundo = df_noundo.merge(single_condition_data[[\"subjects\",\"puzzleID\", \"action_gap\", \"RT1\"]], on=[\"subjects\",\"puzzleID\"], how = \"left\")\n",
    "print(spearmanr(df_noundo.groupby(['puzzleID'])['action_gap'].mean() , df_noundo.groupby(['puzzleID'])['error'].mean()))\n",
    "print(spearmanr(df_noundo.groupby(['puzzleID'])['RT1'].mean() , df_noundo.groupby(['puzzleID'])['error'].mean()))\n",
    "print(spearmanr(df_noundo.groupby(['puzzleID'])['RT1'].mean() , df_noundo.groupby(['puzzleID'])['cumulative_error'].mean()))\n",
    "print(spearmanr(df_noundo.groupby(['puzzleID'])['action_gap'].mean() , df_noundo.groupby(['puzzleID'])['cumulative_error'].mean()))"
   ]
  },
  {
   "cell_type": "markdown",
   "metadata": {},
   "source": [
    "# Number of connected cities"
   ]
  },
  {
   "cell_type": "code",
   "execution_count": 11,
   "metadata": {},
   "outputs": [
    {
     "name": "stdout",
     "output_type": "stream",
     "text": [
      "Generalized linear mixed model fit by maximum likelihood (Laplace\n",
      "  Approximation) [glmerMod]\n",
      " Family: binomial  ( logit )\n",
      "Formula: firstUndo ~ 1 + currNumCities + (1 | subjects) + (1 | puzzleID)\n",
      "   Data: state_df_1undo[state_df_1undo$cumulative_error == 0, ]\n",
      "\n",
      "     AIC      BIC   logLik deviance df.resid \n",
      "  1059.6   1081.7   -525.8   1051.6     1843 \n",
      "\n",
      "Scaled residuals: \n",
      "    Min      1Q  Median      3Q     Max \n",
      "-4.4616 -0.2608 -0.1137 -0.0469  6.8354 \n",
      "\n",
      "Random effects:\n",
      " Groups   Name        Variance Std.Dev.\n",
      " subjects (Intercept) 8.7084   2.9510  \n",
      " puzzleID (Intercept) 0.9124   0.9552  \n",
      "Number of obs: 1847, groups:  subjects, 99; puzzleID, 45\n",
      "\n",
      "Fixed effects:\n",
      "              Estimate Std. Error z value Pr(>|z|)    \n",
      "(Intercept)     5.0622     1.6003   3.163  0.00156 ** \n",
      "currNumCities  -1.0569     0.1911  -5.531 3.19e-08 ***\n",
      "---\n",
      "Signif. codes:  0 ‘***’ 0.001 ‘**’ 0.01 ‘*’ 0.05 ‘.’ 0.1 ‘ ’ 1\n",
      "\n",
      "Correlation of Fixed Effects:\n",
      "            (Intr)\n",
      "currNumCits -0.962\n"
     ]
    }
   ],
   "source": [
    "%%R -i state_df_1undo,out_dir2\n",
    "state_df_1undo$subjects <- as.factor(state_df_1undo[,\"subjects\"])\n",
    "state_df_1undo$puzzleID <- as.factor(state_df_1undo[,\"puzzleID\"])\n",
    "\n",
    "model_undo = lme4::glmer(firstUndo ~  1 + currNumCities + (1 |subjects)+(1|puzzleID),\n",
    "                                  data = state_df_1undo[state_df_1undo$cumulative_error==0,], family = binomial(link=\"logit\"))\n",
    "\n",
    "# save(model_undo, state_df_1undo, file=file.path(out_dir2, file=paste(\"model_undo_rt1.RData\", sep=\"\")))\n",
    "\n",
    "# get the coefficients for the best fitting model\n",
    "summary(model_undo)"
   ]
  },
  {
   "cell_type": "markdown",
   "metadata": {},
   "source": [
    "# Context RPE"
   ]
  },
  {
   "cell_type": "markdown",
   "metadata": {},
   "source": [
    "## check the correlation between predictors"
   ]
  },
  {
   "cell_type": "code",
   "execution_count": 21,
   "metadata": {},
   "outputs": [
    {
     "name": "stdout",
     "output_type": "stream",
     "text": [
      "SpearmanrResult(correlation=0.27554470082699956, pvalue=0.0057718510472138055)\n",
      "SpearmanrResult(correlation=-0.044823747680890536, pvalue=0.6595402434931723)\n"
     ]
    }
   ],
   "source": [
    "test = state_df_1undo.loc[state_df_1undo.cumulative_error==0,:]\n",
    "# print(spearmanr(test.groupby(['subjects'])['cumulative_error'].mean() , test.groupby(['subjects'])['RPE'].mean()))\n",
    "print(spearmanr(test.groupby(['subjects'])['currNumCities'].mean() , test.groupby(['subjects'])['RPE'].mean()))\n",
    "print(spearmanr(state_df_1undo[state_df_1undo.error==False].groupby(['subjects'])['RT1_log'].mean() , state_df_1undo[state_df_1undo.error==False].groupby(['subjects'])['RPE'].mean()))"
   ]
  },
  {
   "cell_type": "markdown",
   "metadata": {},
   "source": [
    "## undo"
   ]
  },
  {
   "cell_type": "code",
   "execution_count": 24,
   "metadata": {},
   "outputs": [
    {
     "name": "stdout",
     "output_type": "stream",
     "text": [
      "Generalized linear mixed model fit by maximum likelihood (Laplace\n",
      "  Approximation) [glmerMod]\n",
      " Family: binomial  ( logit )\n",
      "Formula: firstUndo ~ 1 + currNumCities + (1 | subjects) + (1 | puzzleID)\n",
      "   Data: state_df_1undo[state_df_1undo$cumulative_error == 0, ]\n",
      "\n",
      "     AIC      BIC   logLik deviance df.resid \n",
      "  1044.5   1066.5   -518.2   1036.5     1821 \n",
      "\n",
      "Scaled residuals: \n",
      "    Min      1Q  Median      3Q     Max \n",
      "-4.5462 -0.2579 -0.1149 -0.0474  6.7645 \n",
      "\n",
      "Random effects:\n",
      " Groups   Name        Variance Std.Dev.\n",
      " subjects (Intercept) 8.6307   2.9378  \n",
      " puzzleID (Intercept) 0.9523   0.9759  \n",
      "Number of obs: 1825, groups:  subjects, 99; puzzleID, 45\n",
      "\n",
      "Fixed effects:\n",
      "              Estimate Std. Error z value Pr(>|z|)    \n",
      "(Intercept)     5.0965     1.6269   3.133  0.00173 ** \n",
      "currNumCities  -1.0626     0.1944  -5.467 4.58e-08 ***\n",
      "---\n",
      "Signif. codes:  0 ‘***’ 0.001 ‘**’ 0.01 ‘*’ 0.05 ‘.’ 0.1 ‘ ’ 1\n",
      "\n",
      "Correlation of Fixed Effects:\n",
      "            (Intr)\n",
      "currNumCits -0.963\n",
      "Generalized linear mixed model fit by maximum likelihood (Laplace\n",
      "  Approximation) [glmerMod]\n",
      " Family: binomial  ( logit )\n",
      "Formula: firstUndo ~ 1 + RPE + currNumCities + (1 | subjects) + (1 | puzzleID)\n",
      "   Data: state_df_1undo[state_df_1undo$cumulative_error == 0, ]\n",
      "\n",
      "     AIC      BIC   logLik deviance df.resid \n",
      "  1046.5   1074.0   -518.2   1036.5     1820 \n",
      "\n",
      "Scaled residuals: \n",
      "    Min      1Q  Median      3Q     Max \n",
      "-4.5476 -0.2582 -0.1148 -0.0476  6.9236 \n",
      "\n",
      "Random effects:\n",
      " Groups   Name        Variance Std.Dev.\n",
      " subjects (Intercept) 8.549    2.9239  \n",
      " puzzleID (Intercept) 0.951    0.9752  \n",
      "Number of obs: 1825, groups:  subjects, 99; puzzleID, 45\n",
      "\n",
      "Fixed effects:\n",
      "              Estimate Std. Error z value Pr(>|z|)   \n",
      "(Intercept)    5.45329    3.55137   1.536  0.12465   \n",
      "RPE            0.04018    0.35595   0.113  0.91013   \n",
      "currNumCities -1.10252    0.40382  -2.730  0.00633 **\n",
      "---\n",
      "Signif. codes:  0 ‘***’ 0.001 ‘**’ 0.01 ‘*’ 0.05 ‘.’ 0.1 ‘ ’ 1\n",
      "\n",
      "Correlation of Fixed Effects:\n",
      "            (Intr) RPE   \n",
      "RPE          0.889       \n",
      "currNumCits -0.992 -0.877\n",
      "Generalized linear mixed model fit by maximum likelihood (Laplace\n",
      "  Approximation) [glmerMod]\n",
      " Family: binomial  ( logit )\n",
      "Formula: \n",
      "firstUndo ~ 1 + avg_numCities_before + currNumCities + (1 | subjects) +  \n",
      "    (1 | puzzleID)\n",
      "   Data: state_df_1undo[state_df_1undo$cumulative_error == 0, ]\n",
      "\n",
      "     AIC      BIC   logLik deviance df.resid \n",
      "  1046.5   1074.0   -518.2   1036.5     1820 \n",
      "\n",
      "Scaled residuals: \n",
      "    Min      1Q  Median      3Q     Max \n",
      "-4.5476 -0.2582 -0.1148 -0.0476  6.9236 \n",
      "\n",
      "Random effects:\n",
      " Groups   Name        Variance Std.Dev.\n",
      " subjects (Intercept) 8.549    2.9239  \n",
      " puzzleID (Intercept) 0.951    0.9752  \n",
      "Number of obs: 1825, groups:  subjects, 99; puzzleID, 45\n",
      "\n",
      "Fixed effects:\n",
      "                     Estimate Std. Error z value Pr(>|z|)    \n",
      "(Intercept)           5.45331    3.55358   1.535    0.125    \n",
      "avg_numCities_before -0.04018    0.35612  -0.113    0.910    \n",
      "currNumCities        -1.06234    0.19420  -5.470 4.49e-08 ***\n",
      "---\n",
      "Signif. codes:  0 ‘***’ 0.001 ‘**’ 0.01 ‘*’ 0.05 ‘.’ 0.1 ‘ ’ 1\n",
      "\n",
      "Correlation of Fixed Effects:\n",
      "            (Intr) avg_C_\n",
      "avg_nmCts_b -0.889       \n",
      "currNumCits -0.432 -0.009\n"
     ]
    }
   ],
   "source": [
    "%%R -i state_df_1undo\n",
    "model0 = lme4::glmer(firstUndo ~  1 + currNumCities + (1 |subjects) + (1|puzzleID),\n",
    "                                  data = state_df_1undo[state_df_1undo$cumulative_error==0,], family = binomial(link=\"logit\"))\n",
    "model1 = lme4::glmer(firstUndo ~  1 + RPE + currNumCities + (1 |subjects) + (1|puzzleID),\n",
    "                                  data = state_df_1undo[state_df_1undo$cumulative_error==0,], family = binomial(link=\"logit\"))\n",
    "model2 = lme4::glmer(firstUndo ~  1 + avg_numCities_before + currNumCities + (1 |subjects) + (1|puzzleID),\n",
    "                                  data = state_df_1undo[state_df_1undo$cumulative_error==0,], family = binomial(link=\"logit\"))\n",
    "print(summary(model0))\n",
    "print(summary(model1))\n",
    "print(summary(model2))\n",
    "# save(model_undo, state_df_1undo, file=file.path(out_dir2, file=paste(\"model_undo_rt1.RData\", sep=\"\")))"
   ]
  },
  {
   "cell_type": "code",
   "execution_count": 23,
   "metadata": {},
   "outputs": [
    {
     "name": "stdout",
     "output_type": "stream",
     "text": [
      "Data: state_df_1undo[state_df_1undo$cumulative_error == 0, ]\n",
      "Models:\n",
      "model0: firstUndo ~ 1 + currNumCities + (1 | subjects) + (1 | puzzleID)\n",
      "model1: firstUndo ~ 1 + RPE + currNumCities + (1 | subjects) + (1 | puzzleID)\n",
      "       npar    AIC    BIC  logLik deviance  Chisq Df Pr(>Chisq)\n",
      "model0    4 1044.5 1066.5 -518.24   1036.5                     \n",
      "model1    5 1046.5 1074.0 -518.23   1036.5 0.0122  1      0.912\n"
     ]
    }
   ],
   "source": [
    "%%R\n",
    "# model comparison\n",
    "anova(model0, model1)"
   ]
  },
  {
   "cell_type": "code",
   "execution_count": null,
   "metadata": {},
   "outputs": [],
   "source": []
  }
 ],
 "metadata": {
  "kernelspec": {
   "display_name": "road",
   "language": "python",
   "name": "python3"
  },
  "language_info": {
   "codemirror_mode": {
    "name": "ipython",
    "version": 3
   },
   "file_extension": ".py",
   "mimetype": "text/x-python",
   "name": "python",
   "nbconvert_exporter": "python",
   "pygments_lexer": "ipython3",
   "version": "3.8.3"
  }
 },
 "nbformat": 4,
 "nbformat_minor": 2
}
