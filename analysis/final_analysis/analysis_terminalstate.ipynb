{
 "cells": [
  {
   "cell_type": "code",
   "execution_count": 1,
   "metadata": {},
   "outputs": [],
   "source": [
    "import pandas as pd\n",
    "import numpy as np"
   ]
  },
  {
   "cell_type": "code",
   "execution_count": 2,
   "metadata": {},
   "outputs": [],
   "source": [
    "import sys\n",
    "sys.path.append('/Users/dbao/Downloads/research/rc_scripts/analysis')\n",
    "\n",
    "from final_analysis.process_helper.df_choice_add_features import df_choice_add_features\n",
    "from final_analysis.process_helper.df_map_add_features import df_map_add_features\n",
    "from final_analysis.process_helper.df_subset_1undo_submit import df_subset_1undo_submit\n",
    "from final_analysis.process_helper.df_subset_1state import df_subset_1state\n",
    "\n",
    "from scipy.stats import spearmanr"
   ]
  },
  {
   "cell_type": "code",
   "execution_count": 3,
   "metadata": {},
   "outputs": [
    {
     "name": "stderr",
     "output_type": "stream",
     "text": [
      "/Users/dbao/opt/anaconda3/envs/road/lib/python3.8/site-packages/rpy2/robjects/pandas2ri.py:14: FutureWarning: pandas.core.index is deprecated and will be removed in a future version. The public classes are available in the top-level namespace.\n",
      "  from pandas.core.index import Index as PandasIndex\n"
     ]
    }
   ],
   "source": [
    "%load_ext rpy2.ipython\n",
    "\n",
    "from rpy2.robjects.packages import importr\n",
    "# import R's \"base\" package\n",
    "lme4 = importr('lme4')"
   ]
  },
  {
   "cell_type": "markdown",
   "metadata": {},
   "source": [
    "# Load data"
   ]
  },
  {
   "cell_type": "code",
   "execution_count": 6,
   "metadata": {},
   "outputs": [],
   "source": [
    "home_dir = '/Users/dbao/Library/CloudStorage/GoogleDrive-sherrydbao@gmail.com/.shortcut-targets-by-id/1sYZNVBbYCrHcHjo-9xdKcA4wLnob9ZEq/'+'/road_construction/data/2022_online/'\n",
    "data_dir = home_dir + 'R_analysis_data/'\n",
    "out_dir = home_dir + 'figures/figures_final/'\n",
    "out_dir2 = home_dir + 'stat_model/final/'"
   ]
  },
  {
   "cell_type": "code",
   "execution_count": 7,
   "metadata": {},
   "outputs": [],
   "source": [
    "data_choice_level = pd.read_csv(data_dir +  'choice_level/choicelevel_data.csv') # first column is index  \n",
    "data_choice_level = data_choice_level.rename(columns={'Unnamed: 0':'index_copy'})\n",
    "data_choice_level = df_choice_add_features(data_choice_level)\n",
    "sc_data_choice_level = data_choice_level[data_choice_level['condition']==1].reset_index(drop=True) \n",
    "\n",
    "data_puzzle_level = pd.read_csv(data_dir +  'data.csv') # first column is subject\n",
    "data_puzzle_level = df_map_add_features(data_puzzle_level, data_choice_level)\n",
    "single_condition_data = data_puzzle_level[data_puzzle_level['condition']==1].copy()\n",
    "single_condition_data = single_condition_data.reset_index(drop=True)"
   ]
  },
  {
   "cell_type": "code",
   "execution_count": 8,
   "metadata": {},
   "outputs": [],
   "source": [
    "data_subset_before1undo = df_subset_1undo_submit(sc_data_choice_level)\n",
    "state_undo_1undo = df_subset_1state(data_subset_before1undo, data_puzzle_level, single_condition_data, f\"(firstUndo ==1)\", 1)\n",
    "state_notundo_1undo = df_subset_1state(data_subset_before1undo, data_puzzle_level, single_condition_data, f\"(submit ==1)\", 0)\n",
    "state_df_1undo = pd.concat([state_undo_1undo,state_notundo_1undo])\n",
    "state_df_1undo = state_df_1undo.reset_index(drop=True)\n",
    "\n",
    "# only keep rows with RPE to be non-na\n",
    "state_df_1undo = state_df_1undo[state_df_1undo['RPE'].notna()]"
   ]
  },
  {
   "cell_type": "markdown",
   "metadata": {},
   "source": [
    "# Error detection"
   ]
  },
  {
   "cell_type": "code",
   "execution_count": 15,
   "metadata": {},
   "outputs": [
    {
     "name": "stdout",
     "output_type": "stream",
     "text": [
      "0.025541079466538757\n",
      "0.16220896535707383\n",
      "0.031222219656919854\n",
      "0.6526613046286153\n"
     ]
    }
   ],
   "source": [
    "noerror = state_df_1undo.loc[state_df_1undo.cumulative_error == 0, :]\n",
    "undo_noerror_avg = noerror.groupby(\"subjects\")['firstUndo'].mean()\n",
    "print(undo_noerror_avg.sem())\n",
    "print(undo_noerror_avg.mean())\n",
    "\n",
    "error = state_df_1undo.loc[state_df_1undo.cumulative_error == 1, :]\n",
    "undo_error_avg = (error['firstUndo'] == 0).groupby(error[\"subjects\"]).mean()\n",
    "print(undo_error_avg.sem())\n",
    "print(undo_error_avg.mean())"
   ]
  },
  {
   "cell_type": "markdown",
   "metadata": {},
   "source": [
    "# Context RPE"
   ]
  },
  {
   "cell_type": "markdown",
   "metadata": {},
   "source": [
    "## check the correlation between predictors"
   ]
  },
  {
   "cell_type": "code",
   "execution_count": 21,
   "metadata": {},
   "outputs": [
    {
     "name": "stdout",
     "output_type": "stream",
     "text": [
      "SpearmanrResult(correlation=0.27554470082699956, pvalue=0.0057718510472138055)\n",
      "SpearmanrResult(correlation=-0.044823747680890536, pvalue=0.6595402434931723)\n"
     ]
    }
   ],
   "source": [
    "test = state_df_1undo.loc[state_df_1undo.cumulative_error==0,:]\n",
    "# print(spearmanr(test.groupby(['subjects'])['cumulative_error'].mean() , test.groupby(['subjects'])['RPE'].mean()))\n",
    "print(spearmanr(test.groupby(['subjects'])['currNumCities'].mean() , test.groupby(['subjects'])['RPE'].mean()))\n",
    "print(spearmanr(state_df_1undo[state_df_1undo.error==False].groupby(['subjects'])['RT1_log'].mean() , state_df_1undo[state_df_1undo.error==False].groupby(['subjects'])['RPE'].mean()))"
   ]
  },
  {
   "cell_type": "markdown",
   "metadata": {},
   "source": [
    "## undo"
   ]
  },
  {
   "cell_type": "code",
   "execution_count": 24,
   "metadata": {},
   "outputs": [
    {
     "name": "stdout",
     "output_type": "stream",
     "text": [
      "Generalized linear mixed model fit by maximum likelihood (Laplace\n",
      "  Approximation) [glmerMod]\n",
      " Family: binomial  ( logit )\n",
      "Formula: firstUndo ~ 1 + currNumCities + (1 | subjects) + (1 | puzzleID)\n",
      "   Data: state_df_1undo[state_df_1undo$cumulative_error == 0, ]\n",
      "\n",
      "     AIC      BIC   logLik deviance df.resid \n",
      "  1044.5   1066.5   -518.2   1036.5     1821 \n",
      "\n",
      "Scaled residuals: \n",
      "    Min      1Q  Median      3Q     Max \n",
      "-4.5462 -0.2579 -0.1149 -0.0474  6.7645 \n",
      "\n",
      "Random effects:\n",
      " Groups   Name        Variance Std.Dev.\n",
      " subjects (Intercept) 8.6307   2.9378  \n",
      " puzzleID (Intercept) 0.9523   0.9759  \n",
      "Number of obs: 1825, groups:  subjects, 99; puzzleID, 45\n",
      "\n",
      "Fixed effects:\n",
      "              Estimate Std. Error z value Pr(>|z|)    \n",
      "(Intercept)     5.0965     1.6269   3.133  0.00173 ** \n",
      "currNumCities  -1.0626     0.1944  -5.467 4.58e-08 ***\n",
      "---\n",
      "Signif. codes:  0 ‘***’ 0.001 ‘**’ 0.01 ‘*’ 0.05 ‘.’ 0.1 ‘ ’ 1\n",
      "\n",
      "Correlation of Fixed Effects:\n",
      "            (Intr)\n",
      "currNumCits -0.963\n",
      "Generalized linear mixed model fit by maximum likelihood (Laplace\n",
      "  Approximation) [glmerMod]\n",
      " Family: binomial  ( logit )\n",
      "Formula: firstUndo ~ 1 + RPE + currNumCities + (1 | subjects) + (1 | puzzleID)\n",
      "   Data: state_df_1undo[state_df_1undo$cumulative_error == 0, ]\n",
      "\n",
      "     AIC      BIC   logLik deviance df.resid \n",
      "  1046.5   1074.0   -518.2   1036.5     1820 \n",
      "\n",
      "Scaled residuals: \n",
      "    Min      1Q  Median      3Q     Max \n",
      "-4.5476 -0.2582 -0.1148 -0.0476  6.9236 \n",
      "\n",
      "Random effects:\n",
      " Groups   Name        Variance Std.Dev.\n",
      " subjects (Intercept) 8.549    2.9239  \n",
      " puzzleID (Intercept) 0.951    0.9752  \n",
      "Number of obs: 1825, groups:  subjects, 99; puzzleID, 45\n",
      "\n",
      "Fixed effects:\n",
      "              Estimate Std. Error z value Pr(>|z|)   \n",
      "(Intercept)    5.45329    3.55137   1.536  0.12465   \n",
      "RPE            0.04018    0.35595   0.113  0.91013   \n",
      "currNumCities -1.10252    0.40382  -2.730  0.00633 **\n",
      "---\n",
      "Signif. codes:  0 ‘***’ 0.001 ‘**’ 0.01 ‘*’ 0.05 ‘.’ 0.1 ‘ ’ 1\n",
      "\n",
      "Correlation of Fixed Effects:\n",
      "            (Intr) RPE   \n",
      "RPE          0.889       \n",
      "currNumCits -0.992 -0.877\n",
      "Generalized linear mixed model fit by maximum likelihood (Laplace\n",
      "  Approximation) [glmerMod]\n",
      " Family: binomial  ( logit )\n",
      "Formula: \n",
      "firstUndo ~ 1 + avg_numCities_before + currNumCities + (1 | subjects) +  \n",
      "    (1 | puzzleID)\n",
      "   Data: state_df_1undo[state_df_1undo$cumulative_error == 0, ]\n",
      "\n",
      "     AIC      BIC   logLik deviance df.resid \n",
      "  1046.5   1074.0   -518.2   1036.5     1820 \n",
      "\n",
      "Scaled residuals: \n",
      "    Min      1Q  Median      3Q     Max \n",
      "-4.5476 -0.2582 -0.1148 -0.0476  6.9236 \n",
      "\n",
      "Random effects:\n",
      " Groups   Name        Variance Std.Dev.\n",
      " subjects (Intercept) 8.549    2.9239  \n",
      " puzzleID (Intercept) 0.951    0.9752  \n",
      "Number of obs: 1825, groups:  subjects, 99; puzzleID, 45\n",
      "\n",
      "Fixed effects:\n",
      "                     Estimate Std. Error z value Pr(>|z|)    \n",
      "(Intercept)           5.45331    3.55358   1.535    0.125    \n",
      "avg_numCities_before -0.04018    0.35612  -0.113    0.910    \n",
      "currNumCities        -1.06234    0.19420  -5.470 4.49e-08 ***\n",
      "---\n",
      "Signif. codes:  0 ‘***’ 0.001 ‘**’ 0.01 ‘*’ 0.05 ‘.’ 0.1 ‘ ’ 1\n",
      "\n",
      "Correlation of Fixed Effects:\n",
      "            (Intr) avg_C_\n",
      "avg_nmCts_b -0.889       \n",
      "currNumCits -0.432 -0.009\n"
     ]
    }
   ],
   "source": [
    "%%R -i state_df_1undo\n",
    "model0 = lme4::glmer(firstUndo ~  1 + currNumCities + (1 |subjects) + (1|puzzleID),\n",
    "                                  data = state_df_1undo[state_df_1undo$cumulative_error==0,], family = binomial(link=\"logit\"))\n",
    "model1 = lme4::glmer(firstUndo ~  1 + RPE + currNumCities + (1 |subjects) + (1|puzzleID),\n",
    "                                  data = state_df_1undo[state_df_1undo$cumulative_error==0,], family = binomial(link=\"logit\"))\n",
    "model2 = lme4::glmer(firstUndo ~  1 + avg_numCities_before + currNumCities + (1 |subjects) + (1|puzzleID),\n",
    "                                  data = state_df_1undo[state_df_1undo$cumulative_error==0,], family = binomial(link=\"logit\"))\n",
    "print(summary(model0))\n",
    "print(summary(model1))\n",
    "print(summary(model2))\n",
    "# save(model_undo, state_df_1undo, file=file.path(out_dir2, file=paste(\"model_undo_rt1.RData\", sep=\"\")))"
   ]
  },
  {
   "cell_type": "code",
   "execution_count": 23,
   "metadata": {},
   "outputs": [
    {
     "name": "stdout",
     "output_type": "stream",
     "text": [
      "Data: state_df_1undo[state_df_1undo$cumulative_error == 0, ]\n",
      "Models:\n",
      "model0: firstUndo ~ 1 + currNumCities + (1 | subjects) + (1 | puzzleID)\n",
      "model1: firstUndo ~ 1 + RPE + currNumCities + (1 | subjects) + (1 | puzzleID)\n",
      "       npar    AIC    BIC  logLik deviance  Chisq Df Pr(>Chisq)\n",
      "model0    4 1044.5 1066.5 -518.24   1036.5                     \n",
      "model1    5 1046.5 1074.0 -518.23   1036.5 0.0122  1      0.912\n"
     ]
    }
   ],
   "source": [
    "%%R\n",
    "# model comparison\n",
    "anova(model0, model1)"
   ]
  },
  {
   "cell_type": "code",
   "execution_count": null,
   "metadata": {},
   "outputs": [],
   "source": []
  }
 ],
 "metadata": {
  "kernelspec": {
   "display_name": "road",
   "language": "python",
   "name": "python3"
  },
  "language_info": {
   "codemirror_mode": {
    "name": "ipython",
    "version": 3
   },
   "file_extension": ".py",
   "mimetype": "text/x-python",
   "name": "python",
   "nbconvert_exporter": "python",
   "pygments_lexer": "ipython3",
   "version": "3.8.3"
  }
 },
 "nbformat": 4,
 "nbformat_minor": 2
}
