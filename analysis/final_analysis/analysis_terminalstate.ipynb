{
 "cells": [
  {
   "cell_type": "code",
   "execution_count": 1,
   "metadata": {},
   "outputs": [],
   "source": [
    "import pandas as pd\n",
    "import numpy as np\n",
    "from scipy.stats import spearmanr\n",
    "\n",
    "import seaborn as sns\n",
    "\n",
    "from collections import OrderedDict"
   ]
  },
  {
   "cell_type": "code",
   "execution_count": 2,
   "metadata": {},
   "outputs": [],
   "source": [
    "import sys\n",
    "sys.path.append('/Users/dbao/Downloads/research/rc_scripts/analysis/final_analysis/')\n",
    "\n",
    "from process_helper import *\n",
    "from plot_helper import *\n",
    "save_mode = \".pdf\"\n",
    "font_size = 18\n",
    "color_palette = [\"black\", \"grey\"]"
   ]
  },
  {
   "cell_type": "code",
   "execution_count": 3,
   "metadata": {},
   "outputs": [
    {
     "name": "stderr",
     "output_type": "stream",
     "text": [
      "/Users/dbao/opt/anaconda3/envs/road/lib/python3.8/site-packages/rpy2/robjects/pandas2ri.py:14: FutureWarning: pandas.core.index is deprecated and will be removed in a future version. The public classes are available in the top-level namespace.\n",
      "  from pandas.core.index import Index as PandasIndex\n"
     ]
    }
   ],
   "source": [
    "%load_ext rpy2.ipython\n",
    "\n",
    "from rpy2.robjects.packages import importr\n",
    "# import R's \"base\" package\n",
    "lme4 = importr('lme4')"
   ]
  },
  {
   "cell_type": "markdown",
   "metadata": {},
   "source": [
    "# Load data"
   ]
  },
  {
   "cell_type": "code",
   "execution_count": 4,
   "metadata": {},
   "outputs": [],
   "source": [
    "home_dir = '/Users/dbao/Library/CloudStorage/GoogleDrive-sherrydbao@gmail.com/.shortcut-targets-by-id/1sYZNVBbYCrHcHjo-9xdKcA4wLnob9ZEq/'+'/road_construction/data/2022_online/'\n",
    "data_dir = home_dir + 'R_analysis_data/'\n",
    "out_dir = home_dir + 'figures/figures_final/'\n",
    "out_dir2 = home_dir + 'stat_model/final/'"
   ]
  },
  {
   "cell_type": "code",
   "execution_count": 5,
   "metadata": {},
   "outputs": [],
   "source": [
    "data_choice_level = pd.read_csv(data_dir +  'choice_level/choicelevel_data.csv') # first column is index  \n",
    "data_choice_level = data_choice_level.rename(columns={'Unnamed: 0':'index_copy'})\n",
    "data_choice_level = df_choice_add_features(data_choice_level, add_first_move=0)\n",
    "sc_data_choice_level = data_choice_level[data_choice_level['condition']==1].reset_index(drop=True) \n",
    "\n",
    "data_puzzle_level = pd.read_csv(data_dir +  'data.csv') # first column is subject\n",
    "data_puzzle_level = df_map_add_features(data_puzzle_level, data_choice_level)\n",
    "single_condition_data = data_puzzle_level[data_puzzle_level['condition']==1].copy()\n",
    "single_condition_data = single_condition_data.reset_index(drop=True)"
   ]
  },
  {
   "cell_type": "code",
   "execution_count": 6,
   "metadata": {},
   "outputs": [],
   "source": [
    "data_subset_before1undo = df_subset_1undo_submit(sc_data_choice_level)\n",
    "state_undo_1undo = df_subset_1state(data_subset_before1undo, data_puzzle_level, single_condition_data, f\"(firstUndo ==1)\", 1)\n",
    "state_notundo_1undo = df_subset_1state(data_subset_before1undo, data_puzzle_level, single_condition_data, f\"(submit ==1)\", 0)\n",
    "state_df_1undo = pd.concat([state_undo_1undo,state_notundo_1undo])\n",
    "state_df_1undo = state_df_1undo.reset_index(drop=True)\n",
    "\n",
    "# Save state_df_1undo to csv\n",
    "state_df_1undo.to_csv(data_dir + 'state_df_1undo.csv', index=False)\n",
    "\n",
    "# only keep rows with RPE to be non-na\n",
    "# state_df_1undo = state_df_1undo[state_df_1undo['RPE'].notna()]"
   ]
  },
  {
   "cell_type": "markdown",
   "metadata": {},
   "source": [
    "# Task difficulty "
   ]
  },
  {
   "cell_type": "code",
   "execution_count": 23,
   "metadata": {},
   "outputs": [
    {
     "name": "stdout",
     "output_type": "stream",
     "text": [
      "SpearmanrResult(correlation=0.3832870798643231, pvalue=0.008556264654786983)\n"
     ]
    }
   ],
   "source": [
    "print(spearmanr(state_undo_1undo.groupby(['puzzleID'])['RT1'].mean() , state_undo_1undo.groupby(['puzzleID'])['RT1_basic'].mean()))"
   ]
  },
  {
   "cell_type": "markdown",
   "metadata": {},
   "source": [
    "## First-move RT"
   ]
  },
  {
   "cell_type": "code",
   "execution_count": 7,
   "metadata": {},
   "outputs": [
    {
     "name": "stdout",
     "output_type": "stream",
     "text": [
      "0.5399960010657705\n",
      "4.883173065825409\n"
     ]
    }
   ],
   "source": [
    "# state_df_1undo['RT1_log'] = np.log(state_df_1undo['RT1'])\n",
    "print(min(state_df_1undo['RT1_log']))\n",
    "print(max(state_df_1undo['RT1_log']))\n",
    "temp1, cutoff = pd.cut(state_df_1undo['RT1_log'], bins=[0.5,1.5,2.5,3.5], labels=range(1,4), retbins=True)\n",
    "# temp1, cutoff = pd.cut(state_df_1undo['RT1_log'], bins=5, labels=range(1,6),retbins=True)\n",
    "state_df_1undo['rt1_bin'] = temp1#.astype(int)\n",
    "# temp2, cutoff = pd.cut(state_df_1undo['RT1_basic_log'], bins=5, labels=range(1,6),retbins=True)\n",
    "# state_df_1undo['rt1_basic_bin'] = temp2.astype(int)"
   ]
  },
  {
   "cell_type": "raw",
   "metadata": {
    "vscode": {
     "languageId": "raw"
    }
   },
   "source": [
    "firstUndo_sub = state_df_1undo.groupby(['subjects','rt1_bin','error'])['firstUndo'].mean().reset_index()\n",
    "firstUndo_sub.groupby(['rt1_bin','error'])['firstUndo'].count()"
   ]
  },
  {
   "cell_type": "raw",
   "metadata": {
    "vscode": {
     "languageId": "raw"
    }
   },
   "source": [
    "%matplotlib widget\n",
    "fig, axs = plt.subplots(1, 1)\n",
    "fig.set_size_inches(3, 3)\n",
    "plt.rcParams.update({'font.size': font_size})\n",
    "\n",
    "# multiple line plot    \n",
    "sns.lineplot(x='rt1_bin', y='firstUndo', \n",
    "             data = firstUndo_sub[firstUndo_sub.rt1_bin<=3],\n",
    "             hue = \"error\",\n",
    "             palette = color_palette,\n",
    "             err_style = \"bars\",\n",
    "             errorbar = \"se\")\n",
    "\n",
    "# only use 1 decimal place\n",
    "cutoff_round = [round(i,1) for i in cutoff]\n",
    "axs.set_xticks(np.arange(0.5, 4.5, 1))\n",
    "axs.set_xticklabels(cutoff_round[:-2])\n",
    "axs.legend(labels=['Optimal state','Subptimal state'], frameon=False, loc='upper left')\n",
    "\n",
    "# hide legend\n",
    "# axs.get_legend().remove()\n",
    "# axs.set_ylim([0,0.2])\n",
    "# axs.set_yticks(np.arange(0, 0.25, 0.05))\n",
    "axs.set(xlabel='Log(First-move RT)', ylabel='Probability of Undo')\n",
    "axs.set_aspect(1/axs.get_data_ratio())\n",
    "fig.savefig(out_dir+'undo_first_rt'+save_mode, dpi=300, bbox_inches='tight')\n",
    "plt.show()"
   ]
  },
  {
   "cell_type": "code",
   "execution_count": 22,
   "metadata": {},
   "outputs": [
    {
     "data": {
      "text/plain": [
       "rt1_bin  cumulative_error_cat\n",
       "1        0                       97\n",
       "         1                       91\n",
       "         2                       72\n",
       "         >2                      39\n",
       "2        0                       97\n",
       "         1                       96\n",
       "         2                       83\n",
       "         >2                      42\n",
       "3        0                       37\n",
       "         1                       35\n",
       "         2                       22\n",
       "         >2                      11\n",
       "Name: firstUndo, dtype: int64"
      ]
     },
     "execution_count": 22,
     "metadata": {},
     "output_type": "execute_result"
    }
   ],
   "source": [
    "state_df_1undo['cumulative_error_cat'] = state_df_1undo['cumulative_error'].apply(lambda x: '>2' if x > 2 else str(x))\n",
    "firstUndo_sub = state_df_1undo.groupby(['subjects','rt1_bin','cumulative_error_cat'])['firstUndo'].mean().reset_index()\n",
    "firstUndo_sub.groupby(['rt1_bin','cumulative_error_cat'])['firstUndo'].count()\n"
   ]
  },
  {
   "cell_type": "code",
   "execution_count": 43,
   "metadata": {},
   "outputs": [
    {
     "data": {
      "application/vnd.jupyter.widget-view+json": {
       "model_id": "802115f7d37447e7aa0a016d5dbc15de",
       "version_major": 2,
       "version_minor": 0
      },
      "image/png": "[encoded data removed]",
      "text/html": [
       "\n",
       "            <div style=\"display: inline-block;\">\n",
       "                <div class=\"jupyter-widgets widget-label\" style=\"text-align: center;\">\n",
       "                    Figure\n",
       "                </div>\n",
       "                <img src='data:image/png;base64,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' width=300.0/>\n",
       "            </div>\n",
       "        "
      ],
      "text/plain": [
       "Canvas(toolbar=Toolbar(toolitems=[('Home', 'Reset original view', 'home', 'home'), ('Back', 'Back to previous …"
      ]
     },
     "metadata": {},
     "output_type": "display_data"
    }
   ],
   "source": [
    "%matplotlib widget\n",
    "import matplotlib.ticker\n",
    "fig, axs = plt.subplots(1, 1)\n",
    "fig.set_size_inches(3, 3)\n",
    "plt.rcParams.update({'font.size': font_size})\n",
    "\n",
    "plt.rcParams['xtick.minor.size'] = 0\n",
    "plt.rcParams['xtick.minor.width'] = 0\n",
    "\n",
    "# multiple line plot    \n",
    "sns.lineplot(x='rt1_bin', y='firstUndo', \n",
    "             data = firstUndo_sub,\n",
    "             hue = \"cumulative_error_cat\", \n",
    "             palette = OrderedDict({\n",
    "                        '0': '#CCCCCC',  \n",
    "                        '1': '0.7',  # light grey\n",
    "                        '2': '0.4',  # medium grey\n",
    "                        '>2': '0.0'  # dark grey\n",
    "}),\n",
    "             err_style = \"bars\",\n",
    "             errorbar = \"se\"\n",
    "             )\n",
    "\n",
    "\n",
    "# only use 1 decimal place\n",
    "# cutoff_round = [round(i,1) for i in cutoff]\n",
    "# axs.set_xticks(np.arange(0.5, 4.5, 1))\n",
    "\n",
    "axs.set_xscale('log')\n",
    "axs.set_xticks([0.5,1.5,2.5,3.5])\n",
    "\n",
    "axs.get_xaxis().set_major_formatter(matplotlib.ticker.ScalarFormatter())\n",
    "axs.get_xaxis().set_tick_params(which='minor', size=0)\n",
    "axs.get_xaxis().set_tick_params(which='minor', width=0) \n",
    "from matplotlib.ticker import ScalarFormatter, NullFormatter\n",
    "for axis in [axs.xaxis]:\n",
    "    axis.set_major_formatter(ScalarFormatter())\n",
    "    axis.set_minor_formatter(NullFormatter())\n",
    "axs.set_xticklabels([int(x)-1 for x in np.exp([0.5,1.5,2.5,3.5])])\n",
    "# plt.xticklabels([round(x,1) for x in np.exp([0.5,1.5,2.5,3.5])])\n",
    "# axs.set_xticklabels(cutoff_round)\n",
    "\n",
    "handles = axs.get_legend_handles_labels()[0]  # get the handles\n",
    "labels = axs.get_legend_handles_labels()[1]   # get the labels\n",
    "order = [0,1,2,3]\n",
    "axs.legend([handles[idx] for idx in order], \n",
    "           [labels[idx] for idx in order],\n",
    "           frameon=False, \n",
    "           bbox_to_anchor=(3, 0),\n",
    "           title='Cumulative \\nerror magnitude')\n",
    "\n",
    "# hide legend\n",
    "# axs.get_legend().remove()\n",
    "# axs.set_ylim([0,0.2])\n",
    "axs.set_yticks(np.arange(0, 1.2, 0.2))\n",
    "axs.set(xlabel='First-move RT (s)', ylabel='Probability of undo')\n",
    "axs.set_aspect(1/axs.get_data_ratio())\n",
    "fig.savefig(out_dir+'undo_first_rt_cumulative_error'+save_mode, dpi=300, bbox_inches='tight')\n",
    "plt.show()"
   ]
  },
  {
   "cell_type": "raw",
   "metadata": {
    "vscode": {
     "languageId": "raw"
    }
   },
   "source": [
    "%%R -i state_df_1undo,out_dir2\n",
    "state_df_1undo$subjects <- as.factor(state_df_1undo[,\"subjects\"])\n",
    "state_df_1undo$puzzleID <- as.factor(state_df_1undo[,\"puzzleID\"])\n",
    "state_df_1undo$error <- as.factor(state_df_1undo[,\"error\"])\n",
    "\n",
    "model_undo = lme4::glmer(firstUndo ~  1 + RT1_log*error + (1 |subjects)+(1|puzzleID),\n",
    "                                  data = state_df_1undo, family = binomial(link=\"logit\"))\n",
    "\n",
    "# save(model_undo, state_df_1undo, file=file.path(out_dir2, file=paste(\"model_undo_rt1.RData\", sep=\"\")))\n",
    "\n",
    "# get the coefficients for the best fitting model\n",
    "summary(model_undo)"
   ]
  },
  {
   "cell_type": "code",
   "execution_count": 37,
   "metadata": {},
   "outputs": [],
   "source": [
    "state_df_1undo_select = state_df_1undo[[\"subjects\",\"puzzleID\",\"RT1_log\",\"action_gap\",\"cumulative_error\",\"firstUndo\"]]\n"
   ]
  },
  {
   "cell_type": "code",
   "execution_count": 35,
   "metadata": {},
   "outputs": [
    {
     "name": "stdout",
     "output_type": "stream",
     "text": [
      "Data: state_df_1undo_select\n",
      "Models:\n",
      "model_undo2: firstUndo ~ 1 + cumulative_error + (1 | subjects) + (1 | puzzleID)\n",
      "model_undo: firstUndo ~ 1 + RT1_log * cumulative_error + (1 | subjects) + \n",
      "model_undo:     (1 | puzzleID)\n",
      "            npar    AIC    BIC  logLik deviance  Chisq Df Pr(>Chisq)    \n",
      "model_undo2    4 3080.8 3106.2 -1536.4   3072.8                         \n",
      "model_undo     6 3067.2 3105.2 -1527.6   3055.2 17.648  2  0.0001472 ***\n",
      "---\n",
      "Signif. codes:  0 ‘***’ 0.001 ‘**’ 0.01 ‘*’ 0.05 ‘.’ 0.1 ‘ ’ 1\n",
      "Generalized linear mixed model fit by maximum likelihood (Laplace\n",
      "  Approximation) [glmerMod]\n",
      " Family: binomial  ( logit )\n",
      "Formula: firstUndo ~ 1 + RT1_log * cumulative_error + (1 | subjects) +  \n",
      "    (1 | puzzleID)\n",
      "   Data: state_df_1undo_select\n",
      "\n",
      "     AIC      BIC   logLik deviance df.resid \n",
      "  3067.2   3105.2  -1527.6   3055.2     4152 \n",
      "\n",
      "Scaled residuals: \n",
      "    Min      1Q  Median      3Q     Max \n",
      "-7.0252 -0.3890 -0.1274  0.0755 10.6626 \n",
      "\n",
      "Random effects:\n",
      " Groups   Name        Variance Std.Dev.\n",
      " subjects (Intercept) 8.500    2.9155  \n",
      " puzzleID (Intercept) 0.591    0.7687  \n",
      "Number of obs: 4158, groups:  subjects, 100; puzzleID, 46\n",
      "\n",
      "Fixed effects:\n",
      "                         Estimate Std. Error z value Pr(>|z|)    \n",
      "(Intercept)              -3.88877    0.42014  -9.256  < 2e-16 ***\n",
      "RT1_log                   0.46886    0.15027   3.120  0.00181 ** \n",
      "cumulative_error          1.38117    0.21450   6.439  1.2e-10 ***\n",
      "RT1_log:cumulative_error  0.03061    0.11922   0.257  0.79738    \n",
      "---\n",
      "Signif. codes:  0 ‘***’ 0.001 ‘**’ 0.01 ‘*’ 0.05 ‘.’ 0.1 ‘ ’ 1\n",
      "\n",
      "Correlation of Fixed Effects:\n",
      "            (Intr) RT1_lg cmltv_\n",
      "RT1_log     -0.597              \n",
      "cumultv_rrr -0.441  0.595       \n",
      "RT1_lg:cml_  0.389 -0.641 -0.932\n"
     ]
    }
   ],
   "source": [
    "\n",
    "%%R -i state_df_1undo_select,out_dir2\n",
    "state_df_1undo_select$subjects <- as.factor(state_df_1undo_select[,\"subjects\"])\n",
    "state_df_1undo_select$puzzleID <- as.factor(state_df_1undo_select[,\"puzzleID\"])\n",
    "\n",
    "model_undo = lme4::glmer(firstUndo ~  1 + RT1_log*cumulative_error + (1 |subjects)+(1|puzzleID),\n",
    "                                  data = state_df_1undo_select, family = binomial(link=\"logit\"))\n",
    "model_undo2 = lme4::glmer(firstUndo ~  1 + cumulative_error + (1 |subjects)+(1|puzzleID),\n",
    "                                  data = state_df_1undo_select, family = binomial(link=\"logit\"))\n",
    "print(anova(model_undo,model_undo2))\n",
    "# save(model_undo, state_df_1undo, file=file.path(out_dir2, file=paste(\"model_undo_rt1.RData\", sep=\"\")))\n",
    "\n",
    "# get the coefficients for the best fitting model\n",
    "summary(model_undo)"
   ]
  },
  {
   "cell_type": "markdown",
   "metadata": {},
   "source": [
    "## Action gap "
   ]
  },
  {
   "cell_type": "code",
   "execution_count": 18,
   "metadata": {},
   "outputs": [],
   "source": [
    "temp1, cutoff = pd.cut(state_df_1undo['action_gap'], bins=[2,3,4,5,6], labels=range(1,5), retbins=True)\n",
    "# temp1, cutoff = pd.cut(state_df_1undo['action_gap'], bins=5, labels=range(1,6),retbins=True)\n",
    "state_df_1undo['action_gap_bin'] = temp1.astype(int)\n"
   ]
  },
  {
   "cell_type": "code",
   "execution_count": 9,
   "metadata": {},
   "outputs": [
    {
     "data": {
      "text/plain": [
       "action_gap_bin  error\n",
       "1               False     286\n",
       "                True      165\n",
       "2               False    1024\n",
       "                True     1324\n",
       "3               False     481\n",
       "                True      700\n",
       "4               False      56\n",
       "                True      122\n",
       "Name: firstUndo, dtype: int64"
      ]
     },
     "execution_count": 9,
     "metadata": {},
     "output_type": "execute_result"
    }
   ],
   "source": [
    "firstUndo_sub = state_df_1undo.groupby(['subjects','puzzleID','action_gap_bin','error'])['firstUndo'].mean().reset_index()\n",
    "firstUndo_sub.groupby(['action_gap_bin','error'])['firstUndo'].count()"
   ]
  },
  {
   "cell_type": "code",
   "execution_count": 11,
   "metadata": {},
   "outputs": [
    {
     "data": {
      "application/vnd.jupyter.widget-view+json": {
       "model_id": "512233c4eb524a0488fe7c94d58faf20",
       "version_major": 2,
       "version_minor": 0
      },
      "image/png": "[encoded data removed]",
      "text/html": [
       "\n",
       "            <div style=\"display: inline-block;\">\n",
       "                <div class=\"jupyter-widgets widget-label\" style=\"text-align: center;\">\n",
       "                    Figure\n",
       "                </div>\n",
       "                <img src='data:image/png;base64,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' width=300.0/>\n",
       "            </div>\n",
       "        "
      ],
      "text/plain": [
       "Canvas(toolbar=Toolbar(toolitems=[('Home', 'Reset original view', 'home', 'home'), ('Back', 'Back to previous …"
      ]
     },
     "metadata": {},
     "output_type": "display_data"
    }
   ],
   "source": [
    "%matplotlib widget\n",
    "\n",
    "fig, axs = plt.subplots(1, 1)\n",
    "fig.set_size_inches(3, 3)\n",
    "plt.rcParams.update({'font.size': font_size})\n",
    "# multiple line plot    \n",
    "sns.lineplot(x='action_gap_bin', y='firstUndo', \n",
    "             data = firstUndo_sub,\n",
    "             hue = \"error\",\n",
    "             palette = color_palette,\n",
    "             err_style = \"bars\",\n",
    "             errorbar = \"se\")\n",
    "\n",
    "# only use 1 decimal place\n",
    "cutoff_round = [round(i,1) for i in cutoff]\n",
    "axs.set_xticks(np.arange(0.5, 5.5, 1))\n",
    "axs.set_xticklabels(cutoff_round)\n",
    "axs.legend(labels=['Optimal state','Subptimal state'], frameon=False, loc='upper right')\n",
    "\n",
    "# hide legend\n",
    "# axs.get_legend().remove()\n",
    "# axs.set_ylim([0,0.2])\n",
    "# axs.set_yticks(np.arange(0, 0.25, 0.05))\n",
    "axs.set(xlabel='Action Gap', ylabel='Probability of Undo')\n",
    "axs.set_aspect(1/axs.get_data_ratio())\n",
    "fig.savefig(out_dir+'undo_action_gap'+save_mode, dpi=300, bbox_inches='tight')\n",
    "plt.show()"
   ]
  },
  {
   "cell_type": "code",
   "execution_count": 19,
   "metadata": {},
   "outputs": [
    {
     "data": {
      "text/plain": [
       "action_gap_bin  cumulative_error_cat\n",
       "1               0                        286\n",
       "                1                        123\n",
       "                2                         36\n",
       "                >2                         6\n",
       "2               0                       1024\n",
       "                1                        950\n",
       "                2                        271\n",
       "                >2                       103\n",
       "3               0                        481\n",
       "                1                        468\n",
       "                2                        174\n",
       "                >2                        58\n",
       "4               0                         56\n",
       "                1                         78\n",
       "                2                         14\n",
       "                >2                        30\n",
       "Name: firstUndo, dtype: int64"
      ]
     },
     "execution_count": 19,
     "metadata": {},
     "output_type": "execute_result"
    }
   ],
   "source": [
    "firstUndo_sub = state_df_1undo.groupby(['subjects','puzzleID','action_gap_bin','cumulative_error_cat'])['firstUndo'].mean().reset_index()\n",
    "firstUndo_sub.groupby(['action_gap_bin','cumulative_error_cat'])['firstUndo'].count()"
   ]
  },
  {
   "cell_type": "code",
   "execution_count": 20,
   "metadata": {},
   "outputs": [
    {
     "data": {
      "application/vnd.jupyter.widget-view+json": {
       "model_id": "dd96abd82c0d4e06bf62ba5d6bfbb7c8",
       "version_major": 2,
       "version_minor": 0
      },
      "image/png": "[encoded data removed]",
      "text/html": [
       "\n",
       "            <div style=\"display: inline-block;\">\n",
       "                <div class=\"jupyter-widgets widget-label\" style=\"text-align: center;\">\n",
       "                    Figure\n",
       "                </div>\n",
       "                <img src='data:image/png;base64,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' width=300.0/>\n",
       "            </div>\n",
       "        "
      ],
      "text/plain": [
       "Canvas(toolbar=Toolbar(toolitems=[('Home', 'Reset original view', 'home', 'home'), ('Back', 'Back to previous …"
      ]
     },
     "metadata": {},
     "output_type": "display_data"
    }
   ],
   "source": [
    "%matplotlib widget\n",
    "\n",
    "fig, axs = plt.subplots(1, 1)\n",
    "fig.set_size_inches(3, 3)\n",
    "plt.rcParams.update({'font.size': font_size})\n",
    "# multiple line plot    \n",
    "sns.lineplot(x='action_gap_bin', y='firstUndo', \n",
    "             data = firstUndo_sub,\n",
    "             hue = \"cumulative_error_cat\",\n",
    "             palette = OrderedDict({\n",
    "    '0': '#CCCCCC',  \n",
    "    '1': '0.7',  # light grey\n",
    "    '2': '0.4',  # medium grey\n",
    "    '>2': '0.0'  # dark grey\n",
    "}),\n",
    "             err_style = \"bars\",\n",
    "             errorbar = \"se\")\n",
    "\n",
    "# only use 1 decimal place\n",
    "cutoff_round = [round(i,1) for i in cutoff]\n",
    "axs.set_xticks(np.arange(0.5, 5.5, 1))\n",
    "axs.set_xticklabels(cutoff_round)\n",
    "\n",
    "# After your plot, before creating the legend:\n",
    "handles = axs.get_legend_handles_labels()[0]  # get the handles\n",
    "labels = axs.get_legend_handles_labels()[1]   # get the labels\n",
    "order = [1,0,3,2]\n",
    "axs.legend([handles[idx] for idx in order], \n",
    "           [labels[idx] for idx in order],\n",
    "           frameon=False, \n",
    "           bbox_to_anchor=(2, 0))\n",
    "\n",
    "# hide legend\n",
    "# axs.get_legend().remove()\n",
    "\n",
    "axs.set_yticks(np.arange(0, 1.2, 0.2))\n",
    "axs.set(xlabel='Action gap', ylabel='Probability of undo')\n",
    "axs.set_aspect(1/axs.get_data_ratio())\n",
    "fig.savefig(out_dir+'undo_action_gap_cumulative_error'+save_mode, dpi=300, bbox_inches='tight')\n",
    "plt.show()"
   ]
  },
  {
   "cell_type": "code",
   "execution_count": 21,
   "metadata": {},
   "outputs": [
    {
     "name": "stdout",
     "output_type": "stream",
     "text": [
      "Generalized linear mixed model fit by maximum likelihood (Laplace\n",
      "  Approximation) [glmerMod]\n",
      " Family: binomial  ( logit )\n",
      "Formula: firstUndo ~ 1 + action_gap * error + (1 | subjects) + (1 | puzzleID)\n",
      "   Data: state_df_1undo\n",
      "\n",
      "     AIC      BIC   logLik deviance df.resid \n",
      "  3038.8   3076.8  -1513.4   3026.8     4152 \n",
      "\n",
      "Scaled residuals: \n",
      "    Min      1Q  Median      3Q     Max \n",
      "-4.4570 -0.3637 -0.1404  0.0684  8.5662 \n",
      "\n",
      "Random effects:\n",
      " Groups   Name        Variance Std.Dev.\n",
      " subjects (Intercept) 7.2065   2.6845  \n",
      " puzzleID (Intercept) 0.2388   0.4886  \n",
      "Number of obs: 4158, groups:  subjects, 100; puzzleID, 46\n",
      "\n",
      "Fixed effects:\n",
      "                     Estimate Std. Error z value Pr(>|z|)    \n",
      "(Intercept)            3.0744     0.8141   3.777 0.000159 ***\n",
      "action_gap            -1.7399     0.2152  -8.086 6.15e-16 ***\n",
      "errorTRUE             -1.5834     0.7569  -2.092 0.036433 *  \n",
      "action_gap:errorTRUE   1.1334     0.2119   5.349 8.86e-08 ***\n",
      "---\n",
      "Signif. codes:  0 ‘***’ 0.001 ‘**’ 0.01 ‘*’ 0.05 ‘.’ 0.1 ‘ ’ 1\n",
      "\n",
      "Correlation of Fixed Effects:\n",
      "            (Intr) actn_g erTRUE\n",
      "action_gap  -0.927              \n",
      "errorTRUE   -0.662  0.708       \n",
      "actn_g:TRUE  0.678 -0.747 -0.984\n"
     ]
    }
   ],
   "source": [
    "\n",
    "%%R \n",
    "\n",
    "model_undo = lme4::glmer(firstUndo ~  1 + action_gap*error + (1 |subjects)+(1|puzzleID),\n",
    "                                  data = state_df_1undo, family = binomial(link=\"logit\"))\n",
    "# save(model_undo, state_df_1undo, file=file.path(out_dir2, file=paste(\"model_undo_rt1.RData\", sep=\"\")))\n",
    "\n",
    "# get the coefficients for the best fitting model\n",
    "summary(model_undo)"
   ]
  },
  {
   "cell_type": "code",
   "execution_count": 39,
   "metadata": {},
   "outputs": [
    {
     "name": "stdout",
     "output_type": "stream",
     "text": [
      "Data: state_df_1undo_select\n",
      "Models:\n",
      "model_undo2: firstUndo ~ 1 + cumulative_error + (1 | subjects) + (1 | puzzleID)\n",
      "model_undo: firstUndo ~ 1 + action_gap * cumulative_error + (1 | subjects) + \n",
      "model_undo:     (1 | puzzleID)\n",
      "            npar    AIC    BIC  logLik deviance  Chisq Df Pr(>Chisq)    \n",
      "model_undo2    4 3080.8 3106.2 -1536.4   3072.8                         \n",
      "model_undo     6 3050.9 3088.9 -1519.5   3038.9 33.929  2   4.29e-08 ***\n",
      "---\n",
      "Signif. codes:  0 ‘***’ 0.001 ‘**’ 0.01 ‘*’ 0.05 ‘.’ 0.1 ‘ ’ 1\n",
      "Generalized linear mixed model fit by maximum likelihood (Laplace\n",
      "  Approximation) [glmerMod]\n",
      " Family: binomial  ( logit )\n",
      "Formula: firstUndo ~ 1 + action_gap * cumulative_error + (1 | subjects) +  \n",
      "    (1 | puzzleID)\n",
      "   Data: state_df_1undo_select\n",
      "\n",
      "     AIC      BIC   logLik deviance df.resid \n",
      "  3050.9   3088.9  -1519.5   3038.9     4152 \n",
      "\n",
      "Scaled residuals: \n",
      "    Min      1Q  Median      3Q     Max \n",
      "-8.7087 -0.3905 -0.1275  0.0724 12.9146 \n",
      "\n",
      "Random effects:\n",
      " Groups   Name        Variance Std.Dev.\n",
      " subjects (Intercept) 8.7693   2.9613  \n",
      " puzzleID (Intercept) 0.2503   0.5003  \n",
      "Number of obs: 4158, groups:  subjects, 100; puzzleID, 46\n",
      "\n",
      "Fixed effects:\n",
      "                            Estimate Std. Error z value Pr(>|z|)    \n",
      "(Intercept)                  0.39205    0.69465   0.564    0.572    \n",
      "action_gap                  -0.94229    0.16672  -5.652 1.59e-08 ***\n",
      "cumulative_error             1.76288    0.35905   4.910 9.12e-07 ***\n",
      "action_gap:cumulative_error -0.07051    0.08952  -0.788    0.431    \n",
      "---\n",
      "Signif. codes:  0 ‘***’ 0.001 ‘**’ 0.01 ‘*’ 0.05 ‘.’ 0.1 ‘ ’ 1\n",
      "\n",
      "Correlation of Fixed Effects:\n",
      "            (Intr) actn_g cmltv_\n",
      "action_gap  -0.880              \n",
      "cumultv_rrr -0.425  0.435       \n",
      "actn_gp:cm_  0.443 -0.486 -0.977\n"
     ]
    }
   ],
   "source": [
    "%%R -i state_df_1undo_select,out_dir2\n",
    "state_df_1undo_select$subjects <- as.factor(state_df_1undo_select[,\"subjects\"])\n",
    "state_df_1undo_select$puzzleID <- as.factor(state_df_1undo_select[,\"puzzleID\"])\n",
    "\n",
    "model_undo = lme4::glmer(firstUndo ~  1 + action_gap*cumulative_error + (1 |subjects)+(1|puzzleID),\n",
    "                                  data = state_df_1undo_select, family = binomial(link=\"logit\"))\n",
    "model_undo2 = lme4::glmer(firstUndo ~  1 + cumulative_error + (1 |subjects)+(1|puzzleID),\n",
    "                                  data = state_df_1undo_select, family = binomial(link=\"logit\"))\n",
    "print(anova(model_undo,model_undo2))\n",
    "# save(model_undo, state_df_1undo, file=file.path(out_dir2, file=paste(\"model_undo_rt1.RData\", sep=\"\")))\n",
    "\n",
    "# get the coefficients for the best fitting model\n",
    "summary(model_undo)"
   ]
  },
  {
   "cell_type": "markdown",
   "metadata": {},
   "source": [
    "## rule out other retrospective factors"
   ]
  },
  {
   "cell_type": "code",
   "execution_count": 9,
   "metadata": {},
   "outputs": [
    {
     "name": "stdout",
     "output_type": "stream",
     "text": [
      "SpearmanrResult(correlation=0.1414166333275896, pvalue=0.34852137169883546)\n",
      "SpearmanrResult(correlation=0.18189150102918966, pvalue=0.22634771259617853)\n"
     ]
    }
   ],
   "source": [
    "print(spearmanr(state_undo_1undo.groupby(['puzzleID'])['RT1'].mean() , state_undo_1undo.groupby(['puzzleID'])['cumulative_error'].mean()))\n",
    "print(spearmanr(state_undo_1undo.groupby(['puzzleID'])['RT1'].mean() , state_undo_1undo.groupby(['puzzleID'])['error'].mean()))"
   ]
  },
  {
   "cell_type": "code",
   "execution_count": 8,
   "metadata": {},
   "outputs": [
    {
     "name": "stdout",
     "output_type": "stream",
     "text": [
      "Linear mixed model fit by REML ['lmerMod']\n",
      "Formula: cumulative_error ~ 1 + RT1_log + (1 | subjects) + (1 | puzzleID)\n",
      "   Data: state_df_1undo\n",
      "\n",
      "REML criterion at convergence: 9736.9\n",
      "\n",
      "Scaled residuals: \n",
      "    Min      1Q  Median      3Q     Max \n",
      "-4.0078 -0.6390 -0.1644  0.5305  5.5284 \n",
      "\n",
      "Random effects:\n",
      " Groups   Name        Variance Std.Dev.\n",
      " subjects (Intercept) 0.1502   0.3876  \n",
      " puzzleID (Intercept) 0.1330   0.3647  \n",
      " Residual             0.5534   0.7439  \n",
      "Number of obs: 4158, groups:  subjects, 100; puzzleID, 46\n",
      "\n",
      "Fixed effects:\n",
      "            Estimate Std. Error t value\n",
      "(Intercept)  0.60565    0.08148   7.433\n",
      "RT1_log      0.12019    0.02832   4.244\n",
      "\n",
      "Correlation of Fixed Effects:\n",
      "        (Intr)\n",
      "RT1_log -0.562\n"
     ]
    }
   ],
   "source": [
    "%%R -i state_df_1undo\n",
    "\n",
    "error_rt1 = lme4::glmer(cumulative_error ~  1 + RT1_log + (1 |subjects)+(1|puzzleID),\n",
    "                                  data = state_df_1undo)\n",
    "summary(error_rt1)"
   ]
  },
  {
   "cell_type": "code",
   "execution_count": 8,
   "metadata": {},
   "outputs": [
    {
     "name": "stdout",
     "output_type": "stream",
     "text": [
      "SpearmanrResult(correlation=0.4866542132650219, pvalue=0.0006048835206200214)\n",
      "SpearmanrResult(correlation=0.5525195841016098, pvalue=6.852486759367743e-05)\n"
     ]
    }
   ],
   "source": [
    "print(spearmanr(state_undo_1undo.groupby(['puzzleID'])['action_gap'].mean() , state_undo_1undo.groupby(['puzzleID'])['error'].mean()))\n",
    "print(spearmanr(state_undo_1undo.groupby(['puzzleID'])['action_gap'].mean() , state_undo_1undo.groupby(['puzzleID'])['cumulative_error'].mean()))"
   ]
  },
  {
   "cell_type": "code",
   "execution_count": null,
   "metadata": {},
   "outputs": [
    {
     "name": "stdout",
     "output_type": "stream",
     "text": [
      "SpearmanrResult(correlation=0.26564282863342314, pvalue=0.07437404563542763)\n",
      "SpearmanrResult(correlation=0.15831508842212058, pvalue=0.29333200914620394)\n",
      "SpearmanrResult(correlation=0.11563367252543941, pvalue=0.4441199055816396)\n",
      "SpearmanrResult(correlation=0.4151967443446188, pvalue=0.004114175528934338)\n"
     ]
    }
   ],
   "source": [
    "df_noundo = data_choice_level[data_choice_level['condition']==0].copy()\n",
    "df_noundo = df_noundo.merge(single_condition_data[[\"subjects\",\"puzzleID\", \"action_gap\", \"RT1\"]], on=[\"subjects\",\"puzzleID\"], how = \"left\")\n",
    "print(spearmanr(df_noundo.groupby(['puzzleID'])['action_gap'].mean() , df_noundo.groupby(['puzzleID'])['error'].mean()))\n",
    "print(spearmanr(df_noundo.groupby(['puzzleID'])['RT1'].mean() , df_noundo.groupby(['puzzleID'])['error'].mean()))\n",
    "print(spearmanr(df_noundo.groupby(['puzzleID'])['RT1'].mean() , df_noundo.groupby(['puzzleID'])['cumulative_error'].mean()))\n",
    "print(spearmanr(df_noundo.groupby(['puzzleID'])['action_gap'].mean() , df_noundo.groupby(['puzzleID'])['cumulative_error'].mean()))"
   ]
  },
  {
   "cell_type": "markdown",
   "metadata": {},
   "source": [
    "# Number of connected cities"
   ]
  },
  {
   "cell_type": "code",
   "execution_count": 11,
   "metadata": {},
   "outputs": [
    {
     "name": "stdout",
     "output_type": "stream",
     "text": [
      "Generalized linear mixed model fit by maximum likelihood (Laplace\n",
      "  Approximation) [glmerMod]\n",
      " Family: binomial  ( logit )\n",
      "Formula: firstUndo ~ 1 + currNumCities + (1 | subjects) + (1 | puzzleID)\n",
      "   Data: state_df_1undo[state_df_1undo$cumulative_error == 0, ]\n",
      "\n",
      "     AIC      BIC   logLik deviance df.resid \n",
      "  1059.6   1081.7   -525.8   1051.6     1843 \n",
      "\n",
      "Scaled residuals: \n",
      "    Min      1Q  Median      3Q     Max \n",
      "-4.4616 -0.2608 -0.1137 -0.0469  6.8354 \n",
      "\n",
      "Random effects:\n",
      " Groups   Name        Variance Std.Dev.\n",
      " subjects (Intercept) 8.7084   2.9510  \n",
      " puzzleID (Intercept) 0.9124   0.9552  \n",
      "Number of obs: 1847, groups:  subjects, 99; puzzleID, 45\n",
      "\n",
      "Fixed effects:\n",
      "              Estimate Std. Error z value Pr(>|z|)    \n",
      "(Intercept)     5.0622     1.6003   3.163  0.00156 ** \n",
      "currNumCities  -1.0569     0.1911  -5.531 3.19e-08 ***\n",
      "---\n",
      "Signif. codes:  0 ‘***’ 0.001 ‘**’ 0.01 ‘*’ 0.05 ‘.’ 0.1 ‘ ’ 1\n",
      "\n",
      "Correlation of Fixed Effects:\n",
      "            (Intr)\n",
      "currNumCits -0.962\n"
     ]
    }
   ],
   "source": [
    "%%R -i state_df_1undo,out_dir2\n",
    "state_df_1undo$subjects <- as.factor(state_df_1undo[,\"subjects\"])\n",
    "state_df_1undo$puzzleID <- as.factor(state_df_1undo[,\"puzzleID\"])\n",
    "\n",
    "model_undo = lme4::glmer(firstUndo ~  1 + currNumCities + (1 |subjects)+(1|puzzleID),\n",
    "                                  data = state_df_1undo[state_df_1undo$cumulative_error==0,], family = binomial(link=\"logit\"))\n",
    "\n",
    "# save(model_undo, state_df_1undo, file=file.path(out_dir2, file=paste(\"model_undo_rt1.RData\", sep=\"\")))\n",
    "\n",
    "# get the coefficients for the best fitting model\n",
    "summary(model_undo)"
   ]
  },
  {
   "cell_type": "markdown",
   "metadata": {},
   "source": [
    "# Context RPE"
   ]
  },
  {
   "cell_type": "markdown",
   "metadata": {},
   "source": [
    "## check the correlation between predictors"
   ]
  },
  {
   "cell_type": "code",
   "execution_count": 21,
   "metadata": {},
   "outputs": [
    {
     "name": "stdout",
     "output_type": "stream",
     "text": [
      "SpearmanrResult(correlation=0.27554470082699956, pvalue=0.0057718510472138055)\n",
      "SpearmanrResult(correlation=-0.044823747680890536, pvalue=0.6595402434931723)\n"
     ]
    }
   ],
   "source": [
    "test = state_df_1undo.loc[state_df_1undo.cumulative_error==0,:]\n",
    "# print(spearmanr(test.groupby(['subjects'])['cumulative_error'].mean() , test.groupby(['subjects'])['RPE'].mean()))\n",
    "print(spearmanr(test.groupby(['subjects'])['currNumCities'].mean() , test.groupby(['subjects'])['RPE'].mean()))\n",
    "print(spearmanr(state_df_1undo[state_df_1undo.error==False].groupby(['subjects'])['RT1_log'].mean() , state_df_1undo[state_df_1undo.error==False].groupby(['subjects'])['RPE'].mean()))"
   ]
  },
  {
   "cell_type": "markdown",
   "metadata": {},
   "source": [
    "## undo"
   ]
  },
  {
   "cell_type": "code",
   "execution_count": 24,
   "metadata": {},
   "outputs": [
    {
     "name": "stdout",
     "output_type": "stream",
     "text": [
      "Generalized linear mixed model fit by maximum likelihood (Laplace\n",
      "  Approximation) [glmerMod]\n",
      " Family: binomial  ( logit )\n",
      "Formula: firstUndo ~ 1 + currNumCities + (1 | subjects) + (1 | puzzleID)\n",
      "   Data: state_df_1undo[state_df_1undo$cumulative_error == 0, ]\n",
      "\n",
      "     AIC      BIC   logLik deviance df.resid \n",
      "  1044.5   1066.5   -518.2   1036.5     1821 \n",
      "\n",
      "Scaled residuals: \n",
      "    Min      1Q  Median      3Q     Max \n",
      "-4.5462 -0.2579 -0.1149 -0.0474  6.7645 \n",
      "\n",
      "Random effects:\n",
      " Groups   Name        Variance Std.Dev.\n",
      " subjects (Intercept) 8.6307   2.9378  \n",
      " puzzleID (Intercept) 0.9523   0.9759  \n",
      "Number of obs: 1825, groups:  subjects, 99; puzzleID, 45\n",
      "\n",
      "Fixed effects:\n",
      "              Estimate Std. Error z value Pr(>|z|)    \n",
      "(Intercept)     5.0965     1.6269   3.133  0.00173 ** \n",
      "currNumCities  -1.0626     0.1944  -5.467 4.58e-08 ***\n",
      "---\n",
      "Signif. codes:  0 ‘***’ 0.001 ‘**’ 0.01 ‘*’ 0.05 ‘.’ 0.1 ‘ ’ 1\n",
      "\n",
      "Correlation of Fixed Effects:\n",
      "            (Intr)\n",
      "currNumCits -0.963\n",
      "Generalized linear mixed model fit by maximum likelihood (Laplace\n",
      "  Approximation) [glmerMod]\n",
      " Family: binomial  ( logit )\n",
      "Formula: firstUndo ~ 1 + RPE + currNumCities + (1 | subjects) + (1 | puzzleID)\n",
      "   Data: state_df_1undo[state_df_1undo$cumulative_error == 0, ]\n",
      "\n",
      "     AIC      BIC   logLik deviance df.resid \n",
      "  1046.5   1074.0   -518.2   1036.5     1820 \n",
      "\n",
      "Scaled residuals: \n",
      "    Min      1Q  Median      3Q     Max \n",
      "-4.5476 -0.2582 -0.1148 -0.0476  6.9236 \n",
      "\n",
      "Random effects:\n",
      " Groups   Name        Variance Std.Dev.\n",
      " subjects (Intercept) 8.549    2.9239  \n",
      " puzzleID (Intercept) 0.951    0.9752  \n",
      "Number of obs: 1825, groups:  subjects, 99; puzzleID, 45\n",
      "\n",
      "Fixed effects:\n",
      "              Estimate Std. Error z value Pr(>|z|)   \n",
      "(Intercept)    5.45329    3.55137   1.536  0.12465   \n",
      "RPE            0.04018    0.35595   0.113  0.91013   \n",
      "currNumCities -1.10252    0.40382  -2.730  0.00633 **\n",
      "---\n",
      "Signif. codes:  0 ‘***’ 0.001 ‘**’ 0.01 ‘*’ 0.05 ‘.’ 0.1 ‘ ’ 1\n",
      "\n",
      "Correlation of Fixed Effects:\n",
      "            (Intr) RPE   \n",
      "RPE          0.889       \n",
      "currNumCits -0.992 -0.877\n",
      "Generalized linear mixed model fit by maximum likelihood (Laplace\n",
      "  Approximation) [glmerMod]\n",
      " Family: binomial  ( logit )\n",
      "Formula: \n",
      "firstUndo ~ 1 + avg_numCities_before + currNumCities + (1 | subjects) +  \n",
      "    (1 | puzzleID)\n",
      "   Data: state_df_1undo[state_df_1undo$cumulative_error == 0, ]\n",
      "\n",
      "     AIC      BIC   logLik deviance df.resid \n",
      "  1046.5   1074.0   -518.2   1036.5     1820 \n",
      "\n",
      "Scaled residuals: \n",
      "    Min      1Q  Median      3Q     Max \n",
      "-4.5476 -0.2582 -0.1148 -0.0476  6.9236 \n",
      "\n",
      "Random effects:\n",
      " Groups   Name        Variance Std.Dev.\n",
      " subjects (Intercept) 8.549    2.9239  \n",
      " puzzleID (Intercept) 0.951    0.9752  \n",
      "Number of obs: 1825, groups:  subjects, 99; puzzleID, 45\n",
      "\n",
      "Fixed effects:\n",
      "                     Estimate Std. Error z value Pr(>|z|)    \n",
      "(Intercept)           5.45331    3.55358   1.535    0.125    \n",
      "avg_numCities_before -0.04018    0.35612  -0.113    0.910    \n",
      "currNumCities        -1.06234    0.19420  -5.470 4.49e-08 ***\n",
      "---\n",
      "Signif. codes:  0 ‘***’ 0.001 ‘**’ 0.01 ‘*’ 0.05 ‘.’ 0.1 ‘ ’ 1\n",
      "\n",
      "Correlation of Fixed Effects:\n",
      "            (Intr) avg_C_\n",
      "avg_nmCts_b -0.889       \n",
      "currNumCits -0.432 -0.009\n"
     ]
    }
   ],
   "source": [
    "%%R -i state_df_1undo\n",
    "model0 = lme4::glmer(firstUndo ~  1 + currNumCities + (1 |subjects) + (1|puzzleID),\n",
    "                                  data = state_df_1undo[state_df_1undo$cumulative_error==0,], family = binomial(link=\"logit\"))\n",
    "model1 = lme4::glmer(firstUndo ~  1 + RPE + currNumCities + (1 |subjects) + (1|puzzleID),\n",
    "                                  data = state_df_1undo[state_df_1undo$cumulative_error==0,], family = binomial(link=\"logit\"))\n",
    "model2 = lme4::glmer(firstUndo ~  1 + avg_numCities_before + currNumCities + (1 |subjects) + (1|puzzleID),\n",
    "                                  data = state_df_1undo[state_df_1undo$cumulative_error==0,], family = binomial(link=\"logit\"))\n",
    "print(summary(model0))\n",
    "print(summary(model1))\n",
    "print(summary(model2))\n",
    "# save(model_undo, state_df_1undo, file=file.path(out_dir2, file=paste(\"model_undo_rt1.RData\", sep=\"\")))"
   ]
  },
  {
   "cell_type": "code",
   "execution_count": 23,
   "metadata": {},
   "outputs": [
    {
     "name": "stdout",
     "output_type": "stream",
     "text": [
      "Data: state_df_1undo[state_df_1undo$cumulative_error == 0, ]\n",
      "Models:\n",
      "model0: firstUndo ~ 1 + currNumCities + (1 | subjects) + (1 | puzzleID)\n",
      "model1: firstUndo ~ 1 + RPE + currNumCities + (1 | subjects) + (1 | puzzleID)\n",
      "       npar    AIC    BIC  logLik deviance  Chisq Df Pr(>Chisq)\n",
      "model0    4 1044.5 1066.5 -518.24   1036.5                     \n",
      "model1    5 1046.5 1074.0 -518.23   1036.5 0.0122  1      0.912\n"
     ]
    }
   ],
   "source": [
    "%%R\n",
    "# model comparison\n",
    "anova(model0, model1)"
   ]
  },
  {
   "cell_type": "code",
   "execution_count": null,
   "metadata": {},
   "outputs": [],
   "source": []
  }
 ],
 "metadata": {
  "kernelspec": {
   "display_name": "Python 3",
   "language": "python",
   "name": "python3"
  },
  "language_info": {
   "codemirror_mode": {
    "name": "ipython",
    "version": 3
   },
   "file_extension": ".py",
   "mimetype": "text/x-python",
   "name": "python",
   "nbconvert_exporter": "python",
   "pygments_lexer": "ipython3",
   "version": "3.8.3"
  }
 },
 "nbformat": 4,
 "nbformat_minor": 2
}
