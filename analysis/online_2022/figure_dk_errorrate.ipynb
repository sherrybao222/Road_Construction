{
 "cells": [
  {
   "cell_type": "code",
   "execution_count": 1,
   "outputs": [],
   "source": [
    "import pandas as pd\n",
    "import numpy as np\n",
    "\n",
    "import matplotlib as mpl\n",
    "import matplotlib.pyplot as plt\n",
    "import seaborn as sns\n",
    "\n",
    "from scipy import stats\n",
    "from scipy.stats import sem\n",
    "from scipy.stats import shapiro\n",
    "from scipy.stats import normaltest\n",
    "from scipy.stats import ttest_rel,ttest_ind,wilcoxon\n",
    "import json\n",
    "import statsmodels.api as sm\n",
    "import pylab as py"
   ],
   "metadata": {
    "collapsed": false,
    "ExecuteTime": {
     "start_time": "2024-02-07T17:45:51.316734Z",
     "end_time": "2024-02-07T17:45:51.730313Z"
    }
   }
  },
  {
   "cell_type": "code",
   "execution_count": 2,
   "outputs": [],
   "source": [
    "plt.rcParams.update(plt.rcParamsDefault)"
   ],
   "metadata": {
    "collapsed": false,
    "ExecuteTime": {
     "start_time": "2024-02-07T17:45:51.731045Z",
     "end_time": "2024-02-07T17:45:51.733787Z"
    }
   }
  },
  {
   "cell_type": "code",
   "execution_count": 3,
   "outputs": [],
   "source": [
    "# home_dir = '/Users/dbao/google_drive_db'+'/road_construction/data/2022_online/'\n",
    "# home_dir = '../../../2022_online/'\n",
    "home_dir = './data/2022_online/'\n",
    "map_dir = 'active_map/'\n",
    "data_dir  = 'data/preprocessed'\n",
    "# out_dir = home_dir + 'figures/cogsci_2022/'\n",
    "out_dir = './figures_dk/'\n",
    "R_out_dir = home_dir + 'R_analysis_data/'"
   ],
   "metadata": {
    "collapsed": false,
    "ExecuteTime": {
     "start_time": "2024-02-07T17:45:51.734987Z",
     "end_time": "2024-02-07T17:45:51.739058Z"
    }
   }
  },
  {
   "cell_type": "code",
   "execution_count": 4,
   "outputs": [],
   "source": [
    "data_puzzle_level = pd.read_csv(R_out_dir +  'data.csv')\n",
    "puzzleID_order_data = data_puzzle_level.sort_values([\"subjects\",\"puzzleID\"])\n",
    "data_choice_level = pd.read_csv(R_out_dir +  'choice_level/choicelevel_data.csv')\n",
    "\n",
    "single_condition_data = puzzleID_order_data[puzzleID_order_data['condition']==1].copy()\n",
    "single_condition_data = single_condition_data.reset_index()\n",
    "sc_data_choice_level = data_choice_level[data_choice_level['condition']==1].reset_index()"
   ],
   "metadata": {
    "collapsed": false,
    "ExecuteTime": {
     "start_time": "2024-02-07T17:45:51.742116Z",
     "end_time": "2024-02-07T17:45:52.093647Z"
    }
   }
  },
  {
   "cell_type": "markdown",
   "source": [
    "## error rate (fixed metric)"
   ],
   "metadata": {
    "collapsed": false
   }
  },
  {
   "cell_type": "code",
   "execution_count": 5,
   "outputs": [
    {
     "name": "stdout",
     "output_type": "stream",
     "text": [
      "sub0\n",
      "sub1\n",
      "sub2\n",
      "sub3\n",
      "sub4\n",
      "sub5\n",
      "sub6\n",
      "sub7\n",
      "sub8\n",
      "sub9\n",
      "sub10\n",
      "sub11\n",
      "sub12\n",
      "sub13\n",
      "sub14\n",
      "sub15\n",
      "sub16\n",
      "sub17\n",
      "sub18\n",
      "sub19\n",
      "sub20\n",
      "sub21\n",
      "sub22\n",
      "sub23\n",
      "sub24\n",
      "sub25\n",
      "sub26\n",
      "sub27\n",
      "sub28\n",
      "sub29\n",
      "sub30\n",
      "sub31\n",
      "sub32\n",
      "sub33\n",
      "sub34\n",
      "sub35\n",
      "sub36\n",
      "sub37\n",
      "sub38\n",
      "sub39\n",
      "sub40\n",
      "sub41\n",
      "sub42\n",
      "sub43\n",
      "sub44\n",
      "sub45\n",
      "sub46\n",
      "sub47\n",
      "sub48\n",
      "sub49\n",
      "sub50\n",
      "sub51\n",
      "sub52\n",
      "sub53\n",
      "sub54\n",
      "sub55\n",
      "sub56\n",
      "sub57\n",
      "sub58\n",
      "sub59\n",
      "sub60\n",
      "sub61\n",
      "sub62\n",
      "sub63\n",
      "sub64\n",
      "sub65\n",
      "sub66\n",
      "sub67\n",
      "sub68\n",
      "sub69\n",
      "sub70\n",
      "sub71\n",
      "sub72\n",
      "sub73\n",
      "sub74\n",
      "sub75\n",
      "sub76\n",
      "sub77\n",
      "sub78\n",
      "sub79\n",
      "sub80\n",
      "sub81\n",
      "sub82\n",
      "sub83\n",
      "sub84\n",
      "sub85\n",
      "sub86\n",
      "sub87\n",
      "sub88\n",
      "sub89\n",
      "sub90\n",
      "sub91\n",
      "sub92\n",
      "sub93\n",
      "sub94\n",
      "sub95\n",
      "sub96\n",
      "sub97\n",
      "sub98\n",
      "sub99\n"
     ]
    }
   ],
   "source": [
    "\n",
    "undo_level = data_choice_level[data_choice_level['condition']==1].copy().reset_index()\n",
    "basic_level = data_choice_level[data_choice_level['condition']==0].copy().reset_index()\n",
    "\n",
    "mas_gain = []\n",
    "for sub in range(100):\n",
    "    mas_gain_length = []\n",
    "    print('sub{}'.format(sub))\n",
    "    dat_sbj_undo  = undo_level[undo_level['subjects']==sub].sort_values([\"puzzleID\",\"index\"])\n",
    "    dat_sbj_basic = basic_level[basic_level['subjects']==sub].sort_values([\"puzzleID\",\"index\"])\n",
    "\n",
    "    for pzi in np.unique(sc_data_choice_level['puzzleID']):\n",
    "        dat_sbj_undo_pzi = dat_sbj_undo[dat_sbj_undo['puzzleID'] == pzi].reset_index()\n",
    "        dat_sbj_basic_pzi = dat_sbj_basic[dat_sbj_basic['puzzleID'] == pzi].reset_index()\n",
    "\n",
    "        mas_gain_length.append(dat_sbj_undo_pzi['currMas'].iloc[-1] - dat_sbj_basic_pzi['currMas'].iloc[-1])\n",
    "    mas_gain.append(mas_gain_length)\n",
    "mas_gain = np.array(mas_gain)"
   ],
   "metadata": {
    "collapsed": false,
    "ExecuteTime": {
     "start_time": "2024-02-07T17:45:52.102414Z",
     "end_time": "2024-02-07T17:45:56.951242Z"
    }
   }
  },
  {
   "cell_type": "code",
   "execution_count": 6,
   "outputs": [],
   "source": [
    "mas_gain_persub = mas_gain.mean(axis=1)"
   ],
   "metadata": {
    "collapsed": false,
    "ExecuteTime": {
     "start_time": "2024-02-07T17:45:56.952062Z",
     "end_time": "2024-02-07T17:45:56.956439Z"
    }
   }
  },
  {
   "cell_type": "code",
   "execution_count": 7,
   "outputs": [
    {
     "name": "stdout",
     "output_type": "stream",
     "text": [
      "0\n",
      "1\n",
      "2\n",
      "3\n",
      "4\n",
      "5\n",
      "6\n",
      "7\n",
      "8\n",
      "9\n",
      "10\n",
      "11\n",
      "12\n",
      "13\n",
      "14\n",
      "15\n",
      "16\n",
      "17\n",
      "18\n",
      "19\n",
      "20\n",
      "21\n",
      "22\n",
      "23\n",
      "24\n",
      "25\n",
      "26\n",
      "27\n",
      "28\n",
      "29\n",
      "30\n",
      "31\n",
      "32\n",
      "33\n",
      "34\n",
      "35\n",
      "36\n",
      "37\n",
      "38\n",
      "39\n",
      "40\n",
      "41\n",
      "42\n",
      "43\n",
      "44\n",
      "45\n",
      "46\n",
      "47\n",
      "48\n",
      "49\n",
      "50\n",
      "51\n",
      "52\n",
      "53\n",
      "54\n",
      "55\n",
      "56\n",
      "57\n",
      "58\n",
      "59\n",
      "60\n",
      "61\n",
      "62\n",
      "63\n",
      "64\n",
      "65\n",
      "66\n",
      "67\n",
      "68\n",
      "69\n",
      "70\n",
      "71\n",
      "72\n",
      "73\n",
      "74\n",
      "75\n",
      "76\n",
      "77\n",
      "78\n",
      "79\n",
      "80\n",
      "81\n",
      "82\n",
      "83\n",
      "84\n",
      "85\n",
      "86\n",
      "87\n",
      "88\n",
      "89\n",
      "90\n",
      "91\n",
      "92\n",
      "93\n",
      "94\n",
      "95\n",
      "96\n",
      "97\n",
      "98\n",
      "99\n"
     ]
    }
   ],
   "source": [
    "data_error_rate = []\n",
    "\n",
    "for sub in range(100):\n",
    "    dat_sbj = sc_data_choice_level[sc_data_choice_level['subjects'] == sub].sort_values([\"puzzleID\", \"index\"])\n",
    "    data_error_rate_puzzle = []\n",
    "    print(sub)\n",
    "\n",
    "    for pzi in np.unique(sc_data_choice_level['puzzleID']):\n",
    "        dat_sbj_pzi = dat_sbj[dat_sbj['puzzleID'] == pzi].reset_index()\n",
    "\n",
    "        firstUndo_idx = dat_sbj_pzi[dat_sbj_pzi[\"firstUndo\"] == 1].index\n",
    "        path_bf_undo = dat_sbj_pzi[\"currMas\"][firstUndo_idx - 1]  # the mas of the state before undo\n",
    "\n",
    "        lastUndo_idx = dat_sbj_pzi[dat_sbj_pzi[\"lastUndo\"] == 1].index\n",
    "        path_af_undo = dat_sbj_pzi[\"currMas\"][lastUndo_idx + 1]  # the mas of the state after undo\n",
    "\n",
    "        submit_idx = pd.Int64Index([len(dat_sbj_pzi) - 1])\n",
    "\n",
    "        if len(firstUndo_idx) > 0:\n",
    "            if len(firstUndo_idx) == 1:  #\n",
    "                t_idx = (firstUndo_idx[1:] - 1).to_list()\n",
    "                t_idx.append(submit_idx.item())\n",
    "                seq_bf = dat_sbj_pzi[\"path\"][firstUndo_idx - 1]\n",
    "                seq_af = dat_sbj_pzi[\"path\"][t_idx]\n",
    "                seq_im = dat_sbj_pzi[\"path\"][lastUndo_idx]\n",
    "                currmas_bf = dat_sbj_pzi[\"currMas\"][lastUndo_idx - 1]\n",
    "                currmas_af = dat_sbj_pzi[\"currMas\"][lastUndo_idx + 1]\n",
    "\n",
    "\n",
    "            else:\n",
    "                seq_bf = dat_sbj_pzi[\"path\"][firstUndo_idx - 1]\n",
    "                t_idx = (firstUndo_idx[1:] - 1).to_list()\n",
    "                t_idx.append(submit_idx.item())\n",
    "                seq_af = dat_sbj_pzi[\"path\"][t_idx]\n",
    "                seq_im = dat_sbj_pzi[\"path\"][lastUndo_idx]\n",
    "                currmas_bf = dat_sbj_pzi[\"currMas\"][lastUndo_idx - 1]\n",
    "                currmas_af = dat_sbj_pzi[\"currMas\"][lastUndo_idx + 1]\n",
    "\n",
    "            seq_im = seq_im.reset_index()\n",
    "            pathStr_im = [seq_im.loc[i].path.strip('[').strip(']') for i in range(len(seq_im))]\n",
    "            pathList_im = [[int(i) for i in pathStr_im[j].split(', ')]  for j in range(len(pathStr_im))]\n",
    "            pathStr_im = [\" \".join([str(a) for a in pathList_im[j]]) for j in range(len(seq_im))]\n",
    "\n",
    "            seq_bf = seq_bf.reset_index()\n",
    "            pathStr_bf = [seq_bf.loc[i].path.strip('[').strip(']') for i in range(len(seq_bf))]\n",
    "            pathList_bf = [[int(i) for i in pathStr_bf[j].split(', ')]  for j in range(len(pathStr_bf))]\n",
    "            pathStr_bf = [\" \".join([str(a) for a in pathList_bf[j]]) for j in range(len(seq_bf))]\n",
    "\n",
    "            seq_af = seq_af.reset_index()\n",
    "            pathStr_af = [seq_af.loc[i].path.strip('[').strip(']') for i in range(len(seq_af))]\n",
    "            pathList_af = [[int(i) for i in pathStr_af[j].split(', ')]  for j in range(len(pathStr_af))]\n",
    "            pathStr_af = [\" \".join([str(a) for a in pathList_af[j]]) for j in range(len(seq_af))]\n",
    "\n",
    "            firstundoidx = firstUndo_idx.to_numpy()-1\n",
    "            lastundoidx = lastUndo_idx.to_numpy()\n",
    "            tidx = np.array(t_idx) + 1\n",
    "            tidx[-1] -= 1\n",
    "\n",
    "            length_error_rate = []\n",
    "\n",
    "            for i in range(len(firstundoidx)):\n",
    "                currnct = dat_sbj_pzi[\"currNumCities\"][firstundoidx[i]:tidx[i]].to_numpy()\n",
    "                currnct2 = currnct.copy()\n",
    "                currmas = dat_sbj_pzi[\"currMas\"][firstundoidx[i]:tidx[i]].to_numpy()\n",
    "                currnct = currnct - min(currnct)\n",
    "                currpath = dat_sbj_pzi[\"path\"][firstundoidx[i]:tidx[i]].to_list()\n",
    "                currpath = [currpath[i].strip('[').strip(']') for i in range(len(currpath))]\n",
    "                currpath = [[int(i) for i in currpath[j].split(', ')] for j in range(len(currpath))]\n",
    "\n",
    "                currRT = dat_sbj_pzi[\"RT\"][firstundoidx[i]:tidx[i]].to_numpy()\n",
    "                currundoRT = dat_sbj_pzi[\"undoRT\"][firstundoidx[i]:tidx[i]].to_numpy()\n",
    "\n",
    "                seq_im = dat_sbj_pzi[\"path\"][lastundoidx[i]]\n",
    "                pathStr_im = seq_im.strip('[').strip(']')\n",
    "                pathList_im = [int(i) for i in pathStr_im.split(', ')]\n",
    "\n",
    "                currpath = [np.setdiff1d(currpath[i], pathList_im).tolist() for i in range(len(currpath))]\n",
    "                pathafter = [np.setdiff1d(pathList_af[i], pathList_im).tolist() for i in range(len(pathList_af))]\n",
    "\n",
    "                idx_2 = np.where(currnct==0)[0]\n",
    "                if len(idx_2)>1:\n",
    "                    idx_2 = idx_2[0]\n",
    "\n",
    "                if currnct[-1]==0:\n",
    "                    # this means this perseon undo and submitted\n",
    "                    continue\n",
    "                else:\n",
    "                    length_error_rate.append([np.abs(currmas[idx_2]-currmas[0]).squeeze()/currnct[0], np.abs(currmas[idx_2]-currmas[-1]).squeeze()/currnct[-1], sub, pzi]) # undo redo subid pzi\n",
    "\n",
    "            data_error_rate_puzzle.extend(length_error_rate)\n",
    "\n",
    "    data_error_rate.extend(data_error_rate_puzzle)\n",
    "data_error_rate = np.array(data_error_rate)"
   ],
   "metadata": {
    "collapsed": false,
    "ExecuteTime": {
     "start_time": "2024-02-07T17:45:56.956872Z",
     "end_time": "2024-02-07T17:46:10.991866Z"
    }
   }
  },
  {
   "cell_type": "code",
   "execution_count": 8,
   "outputs": [
    {
     "name": "stdout",
     "output_type": "stream",
     "text": [
      "[[4, 7, 9, 23, 26, 28], [4, 7, 9, 11, 23, 24], [4, 7, 8, 9, 20, 23]]\n"
     ]
    }
   ],
   "source": [
    "print([np.setdiff1d(pathList_af[i], pathList_im).tolist() for i in range(len(pathList_af))])"
   ],
   "metadata": {
    "collapsed": false,
    "ExecuteTime": {
     "start_time": "2024-02-07T17:46:10.994839Z",
     "end_time": "2024-02-07T17:46:11.000105Z"
    }
   }
  },
  {
   "cell_type": "code",
   "execution_count": 9,
   "outputs": [
    {
     "name": "stdout",
     "output_type": "stream",
     "text": [
      "2.2273182113548116e-14 97.0\n"
     ]
    },
    {
     "name": "stderr",
     "output_type": "stream",
     "text": [
      "/var/folders/8q/yjgzft41043gt_l8bqcfnzn40000gn/T/ipykernel_39434/2421498470.py:10: RuntimeWarning: Mean of empty slice\n",
      "  error_rate_ = np.array([np.nanmean(data_error_rate[np.where(data_error_rate[:,2]==i)[0],:2], axis=0) for i in range(100)])\n"
     ]
    },
    {
     "data": {
      "text/plain": "<Figure size 300x300 with 2 Axes>",
      "image/png": "[encoded data removed]"
     },
     "metadata": {},
     "output_type": "display_data"
    }
   ],
   "source": [
    "# scatter plot of time taken\n",
    "%matplotlib inline\n",
    "# set font and font size\n",
    "plt.rcParams['font.family'] = 'Arial'\n",
    "plt.rcParams['font.size'] = 12\n",
    "\n",
    "plt.figure(figsize=(3,3))\n",
    "\n",
    "# average over subjects, which is third column\n",
    "error_rate_ = np.array([np.nanmean(data_error_rate[np.where(data_error_rate[:,2]==i)[0],:2], axis=0) for i in range(100)])\n",
    "\n",
    "valid_subidx = np.where(~np.isnan(error_rate_[:,0]))[0]\n",
    "\n",
    "plt.scatter(error_rate_[valid_subidx,0], error_rate_[valid_subidx,1], color=[.7,.7,.7], s=10, alpha=0.5, edgecolor = 'k')\n",
    "\n",
    "# # get plausible range of x and y and set xlim and ylim\n",
    "# plt.xlim([0, 6])\n",
    "# plt.ylim([0, 6])\n",
    "\n",
    "plt.xlim([0, 1])\n",
    "plt.ylim([0, 1])\n",
    "#\n",
    "# # set xticks and yticks\n",
    "# plt.xticks([0,1,2,3,4,5,6])\n",
    "# plt.yticks([0,1,2,3,4,5,6])\n",
    "\n",
    "plt.xticks([0,0.2,0.4,0.6,0.8,1])\n",
    "plt.yticks([0,0.2,0.4,0.6,0.8,1])\n",
    "\n",
    "# set xand y label\n",
    "plt.xlabel('Error rate (do)')\n",
    "plt.ylabel('Error rate (redo)')\n",
    "# title\n",
    "# plt.title('Error magnitude')\n",
    "\n",
    "\n",
    "# remove top and right frame\n",
    "sns.despine()\n",
    "\n",
    "# mid line\n",
    "# plt.plot([0,6],[0,6], 'k--')\n",
    "plt.plot([0,1],[0,1], 'k--')\n",
    "\n",
    "# set xticks and yticks\n",
    "# plt.xticks([0,5,10,15])\n",
    "# plt.yticks([0,5,10,15])\n",
    "\n",
    "# make inset and include hist_error_magnitude\n",
    "from mpl_toolkits.axes_grid1.inset_locator import inset_axes\n",
    "axins = inset_axes(plt.gca(), width=\"25%\", height=\"25%\", loc=2, borderpad=2)\n",
    "axins.hist(error_rate_[valid_subidx,0]-error_rate_[valid_subidx,1], bins=np.linspace(-1,1,11), color='w', alpha=1, label='Undo Allowed', edgecolor='k')\n",
    "# center line of histogram at x = 0\n",
    "axins.plot([0,0],[0,80], 'k--', linewidth=1)\n",
    "axins.arrow(np.mean(error_rate_[valid_subidx,0]-error_rate_[valid_subidx,1]), 80, 0, -18, head_width=0.15, head_length=4, fc='k', ec='k')\n",
    "\n",
    "# statistical test between currmas_with_undo and currmas_without_undo\n",
    "from scipy.stats import wilcoxon\n",
    "stat, p = wilcoxon(error_rate_[valid_subidx,0], error_rate_[valid_subidx,1])\n",
    "print(p,stat)\n",
    "\n",
    "# set x and y lim of axins\n",
    "axins.set_xlim([-1, 1])\n",
    "axins.set_ylim([0,80])\n",
    "\n",
    "# set x and y ticks of axins\n",
    "axins.set_xticks([-1,0,1])\n",
    "\n",
    "# set xtickslabel of axins\n",
    "axins.set_xticklabels(['-1','0','1'])\n",
    "axins.set_yticks([0,20,40,60])\n",
    "\n",
    "\n",
    "# remove top and right frame\n",
    "sns.despine()\n",
    "\n",
    "# save figure\n",
    "plt.savefig(out_dir + '/error_rate_doredo.png', dpi=300, bbox_inches='tight')\n"
   ],
   "metadata": {
    "collapsed": false,
    "ExecuteTime": {
     "start_time": "2024-02-07T17:46:11.009964Z",
     "end_time": "2024-02-07T17:46:11.423851Z"
    }
   }
  },
  {
   "cell_type": "code",
   "execution_count": 10,
   "outputs": [
    {
     "name": "stdout",
     "output_type": "stream",
     "text": [
      "[-0.42337662 -0.28354037 -0.0578373  -0.525      -0.11536281 -0.52083333\n",
      " -0.23333333 -0.125      -0.37144661 -0.05336284 -0.10668498 -0.13262108\n",
      " -0.1136566  -0.4570028  -0.10720551 -0.05441097 -0.24310658 -0.09088771\n",
      " -0.0468502  -0.11104269 -0.21212121 -1.         -0.86111111 -0.07159864\n",
      " -0.0495873  -0.04084492 -0.18939394 -0.23958333 -0.13244048 -0.04908009\n",
      " -0.25542328 -0.25892857 -0.34278274 -0.16661491 -0.10426829  0.25\n",
      " -0.02549603 -0.69345238 -0.03821369 -0.07708333 -0.04013367 -0.06964286\n",
      " -0.22400794 -0.20825893 -0.39434524 -0.04804422 -0.12064626 -0.06680403\n",
      " -1.          0.         -0.00396825 -0.41666667 -0.0440396  -0.33333333\n",
      "  0.         -0.19592934 -0.06666667 -0.07540355 -0.97291667  0.1\n",
      " -0.08666667 -0.05503663 -0.07380952 -0.13367347 -0.0952381  -0.13936252\n",
      " -1.         -0.19990663  0.         -0.11358025 -0.16688312 -0.02682292\n",
      " -0.03675997 -0.08253968 -0.20850631 -0.20166667 -0.10256283 -0.12997199\n",
      " -0.08423181 -0.15392157 -0.17298535 -1.66666667 -0.52357143 -0.07018849\n",
      " -1.         -0.03170996 -0.08327344 -0.83333333 -0.04033883]\n"
     ]
    }
   ],
   "source": [
    "print(error_rate_[valid_subidx,1]-error_rate_[valid_subidx,0])"
   ],
   "metadata": {
    "collapsed": false,
    "ExecuteTime": {
     "start_time": "2024-02-07T17:46:11.431561Z",
     "end_time": "2024-02-07T17:46:11.435786Z"
    }
   }
  },
  {
   "cell_type": "code",
   "execution_count": 11,
   "outputs": [
    {
     "name": "stdout",
     "output_type": "stream",
     "text": [
      "error rate(do) and error rate(redo): corr=0.179, p=0.092\n"
     ]
    },
    {
     "data": {
      "text/plain": "<Figure size 400x400 with 1 Axes>",
      "image/png": "[encoded data removed]"
     },
     "metadata": {},
     "output_type": "display_data"
    }
   ],
   "source": [
    "#scatter plot between error_rate_redo and error_rate_do\n",
    "%matplotlib inline\n",
    "plt.rcParams['font.family'] = 'Arial'\n",
    "plt.rcParams['font.size'] = 12\n",
    "fig, ax=plt.subplots(1,1,figsize=(4,4))\n",
    "\n",
    "valid_subidx = np.where(~np.isnan(error_rate_[:,0]))[0]\n",
    "\n",
    "ax.scatter( error_rate_[valid_subidx,1]-error_rate_[valid_subidx,0], mas_gain_persub[valid_subidx], color='k', marker='.', alpha=0.5)\n",
    "\n",
    "# get corrleation and p value\n",
    "from scipy.stats import pearsonr, spearmanr\n",
    "# corr, p = pearsonr(error_rate_do[valid_subidx], error_rate_redo[valid_subidx])\n",
    "# print('error rate(do) and error rate(redo): corr={:.3f}, p={:.3f}'.format(corr, p))\n",
    "aa = error_rate_[valid_subidx,1]-error_rate_[valid_subidx,0]\n",
    "valid_idx = np.where(~np.isnan(aa))[0]\n",
    "corr, p = spearmanr(aa, mas_gain_persub[valid_subidx])\n",
    "print('error rate(do) and error rate(redo): corr={:.3f}, p={:.3f}'.format(corr, p))\n",
    "\n",
    "# xlabel, ylabel\n",
    "ax.set_xlabel(r'Error rate (redo) $-$ Error rate (do)')\n",
    "ax.set_ylabel('Difference in submit MAS\\n(undo allowed - undo not allowed)')\n",
    "\n",
    "# set xlim\n",
    "ax.set_xlim([-1,1])\n",
    "\n",
    "# save\n",
    "fig.savefig(out_dir + 'error_rate_do_redo_masgain.png', transparent=True,\n",
    "            bbox_inches='tight', pad_inches=0.1)"
   ],
   "metadata": {
    "collapsed": false,
    "ExecuteTime": {
     "start_time": "2024-02-07T17:46:11.456195Z",
     "end_time": "2024-02-07T17:46:11.724297Z"
    }
   }
  },
  {
   "cell_type": "code",
   "execution_count": 11,
   "outputs": [],
   "source": [],
   "metadata": {
    "collapsed": false,
    "ExecuteTime": {
     "start_time": "2024-02-07T17:46:11.723993Z",
     "end_time": "2024-02-07T17:46:11.726874Z"
    }
   }
  }
 ],
 "metadata": {
  "kernelspec": {
   "display_name": "Python 3",
   "language": "python",
   "name": "python3"
  },
  "language_info": {
   "codemirror_mode": {
    "name": "ipython",
    "version": 2
   },
   "file_extension": ".py",
   "mimetype": "text/x-python",
   "name": "python",
   "nbconvert_exporter": "python",
   "pygments_lexer": "ipython2",
   "version": "2.7.6"
  }
 },
 "nbformat": 4,
 "nbformat_minor": 0
}
