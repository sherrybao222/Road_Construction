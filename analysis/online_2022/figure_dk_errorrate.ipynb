{
 "cells": [
  {
   "cell_type": "code",
   "execution_count": 51,
   "metadata": {
    "ExecuteTime": {
     "end_time": "2024-02-07T17:45:51.730313Z",
     "start_time": "2024-02-07T17:45:51.316734Z"
    },
    "collapsed": false
   },
   "outputs": [],
   "source": [
    "import pandas as pd\n",
    "import numpy as np\n",
    "\n",
    "import matplotlib as mpl\n",
    "import matplotlib.pyplot as plt\n",
    "import seaborn as sns\n",
    "\n",
    "from scipy import stats\n",
    "from scipy.stats import sem\n",
    "from scipy.stats import shapiro\n",
    "from scipy.stats import normaltest\n",
    "from scipy.stats import ttest_rel,ttest_ind,wilcoxon\n",
    "from scipy.stats import pearsonr, spearmanr\n",
    "import json\n",
    "import statsmodels.api as sm\n",
    "import pylab as py"
   ]
  },
  {
   "cell_type": "code",
   "execution_count": 52,
   "metadata": {
    "ExecuteTime": {
     "end_time": "2024-02-07T17:45:51.733787Z",
     "start_time": "2024-02-07T17:45:51.731045Z"
    },
    "collapsed": false
   },
   "outputs": [],
   "source": [
    "plt.rcParams.update(plt.rcParamsDefault)\n",
    "# set font and font size\n",
    "plt.rcParams['font.family'] = 'Arial'\n",
    "plt.rcParams['font.size'] = 12"
   ]
  },
  {
   "cell_type": "code",
   "execution_count": 53,
   "metadata": {
    "ExecuteTime": {
     "end_time": "2024-02-07T17:45:51.739058Z",
     "start_time": "2024-02-07T17:45:51.734987Z"
    },
    "collapsed": false
   },
   "outputs": [],
   "source": [
    "home_dir = '/Users/dbao/My_Drive'+'/road_construction/data/2022_online/'\n",
    "data_dir = home_dir + 'R_analysis_data/'\n",
    "out_dir = home_dir + 'figures/figures_final/'\n",
    "out_dir2 = home_dir + 'stat_model/final/'"
   ]
  },
  {
   "cell_type": "code",
   "execution_count": 54,
   "metadata": {
    "ExecuteTime": {
     "end_time": "2024-02-07T17:45:52.093647Z",
     "start_time": "2024-02-07T17:45:51.742116Z"
    },
    "collapsed": false
   },
   "outputs": [
    {
     "data": {
      "text/html": [
       "<div>\n",
       "<style scoped>\n",
       "    .dataframe tbody tr th:only-of-type {\n",
       "        vertical-align: middle;\n",
       "    }\n",
       "\n",
       "    .dataframe tbody tr th {\n",
       "        vertical-align: top;\n",
       "    }\n",
       "\n",
       "    .dataframe thead th {\n",
       "        text-align: right;\n",
       "    }\n",
       "</style>\n",
       "<table border=\"1\" class=\"dataframe\">\n",
       "  <thead>\n",
       "    <tr style=\"text-align: right;\">\n",
       "      <th></th>\n",
       "      <th>index_copy</th>\n",
       "      <th>subjects</th>\n",
       "      <th>puzzleID</th>\n",
       "      <th>trialID</th>\n",
       "      <th>allMAS</th>\n",
       "      <th>path</th>\n",
       "      <th>choice</th>\n",
       "      <th>currNumCities</th>\n",
       "      <th>currMas</th>\n",
       "      <th>reward</th>\n",
       "      <th>...</th>\n",
       "      <th>severityOfErrors</th>\n",
       "      <th>error</th>\n",
       "      <th>cumulative_error</th>\n",
       "      <th>missed_reward</th>\n",
       "      <th>error_rate</th>\n",
       "      <th>RT</th>\n",
       "      <th>undoRT</th>\n",
       "      <th>tortuosity</th>\n",
       "      <th>branching</th>\n",
       "      <th>branchingFirst</th>\n",
       "    </tr>\n",
       "  </thead>\n",
       "  <tbody>\n",
       "    <tr>\n",
       "      <th>0</th>\n",
       "      <td>0</td>\n",
       "      <td>0</td>\n",
       "      <td>27</td>\n",
       "      <td>0</td>\n",
       "      <td>10</td>\n",
       "      <td>[0]</td>\n",
       "      <td>0</td>\n",
       "      <td>0</td>\n",
       "      <td>10</td>\n",
       "      <td>0</td>\n",
       "      <td>...</td>\n",
       "      <td>0</td>\n",
       "      <td>0</td>\n",
       "      <td>0</td>\n",
       "      <td>0</td>\n",
       "      <td>0.0</td>\n",
       "      <td>-1</td>\n",
       "      <td>NaN</td>\n",
       "      <td>0.000000</td>\n",
       "      <td>False</td>\n",
       "      <td>False</td>\n",
       "    </tr>\n",
       "    <tr>\n",
       "      <th>1</th>\n",
       "      <td>1</td>\n",
       "      <td>0</td>\n",
       "      <td>27</td>\n",
       "      <td>0</td>\n",
       "      <td>10</td>\n",
       "      <td>[0, 15]</td>\n",
       "      <td>15</td>\n",
       "      <td>1</td>\n",
       "      <td>10</td>\n",
       "      <td>2</td>\n",
       "      <td>...</td>\n",
       "      <td>0</td>\n",
       "      <td>0</td>\n",
       "      <td>0</td>\n",
       "      <td>0</td>\n",
       "      <td>0.0</td>\n",
       "      <td>5770</td>\n",
       "      <td>NaN</td>\n",
       "      <td>1.000000</td>\n",
       "      <td>False</td>\n",
       "      <td>False</td>\n",
       "    </tr>\n",
       "    <tr>\n",
       "      <th>2</th>\n",
       "      <td>2</td>\n",
       "      <td>0</td>\n",
       "      <td>27</td>\n",
       "      <td>0</td>\n",
       "      <td>10</td>\n",
       "      <td>[0, 15, 24]</td>\n",
       "      <td>24</td>\n",
       "      <td>2</td>\n",
       "      <td>10</td>\n",
       "      <td>8</td>\n",
       "      <td>...</td>\n",
       "      <td>0</td>\n",
       "      <td>0</td>\n",
       "      <td>0</td>\n",
       "      <td>0</td>\n",
       "      <td>0.0</td>\n",
       "      <td>1311</td>\n",
       "      <td>NaN</td>\n",
       "      <td>1.130933</td>\n",
       "      <td>False</td>\n",
       "      <td>False</td>\n",
       "    </tr>\n",
       "    <tr>\n",
       "      <th>3</th>\n",
       "      <td>3</td>\n",
       "      <td>0</td>\n",
       "      <td>27</td>\n",
       "      <td>0</td>\n",
       "      <td>10</td>\n",
       "      <td>[0, 15, 24, 17]</td>\n",
       "      <td>17</td>\n",
       "      <td>3</td>\n",
       "      <td>10</td>\n",
       "      <td>18</td>\n",
       "      <td>...</td>\n",
       "      <td>0</td>\n",
       "      <td>0</td>\n",
       "      <td>0</td>\n",
       "      <td>0</td>\n",
       "      <td>0.0</td>\n",
       "      <td>1263</td>\n",
       "      <td>NaN</td>\n",
       "      <td>1.128554</td>\n",
       "      <td>False</td>\n",
       "      <td>False</td>\n",
       "    </tr>\n",
       "    <tr>\n",
       "      <th>4</th>\n",
       "      <td>4</td>\n",
       "      <td>0</td>\n",
       "      <td>27</td>\n",
       "      <td>0</td>\n",
       "      <td>10</td>\n",
       "      <td>[0, 15, 24, 17, 12]</td>\n",
       "      <td>12</td>\n",
       "      <td>4</td>\n",
       "      <td>10</td>\n",
       "      <td>32</td>\n",
       "      <td>...</td>\n",
       "      <td>0</td>\n",
       "      <td>0</td>\n",
       "      <td>0</td>\n",
       "      <td>0</td>\n",
       "      <td>0.0</td>\n",
       "      <td>3639</td>\n",
       "      <td>NaN</td>\n",
       "      <td>1.256188</td>\n",
       "      <td>False</td>\n",
       "      <td>False</td>\n",
       "    </tr>\n",
       "    <tr>\n",
       "      <th>...</th>\n",
       "      <td>...</td>\n",
       "      <td>...</td>\n",
       "      <td>...</td>\n",
       "      <td>...</td>\n",
       "      <td>...</td>\n",
       "      <td>...</td>\n",
       "      <td>...</td>\n",
       "      <td>...</td>\n",
       "      <td>...</td>\n",
       "      <td>...</td>\n",
       "      <td>...</td>\n",
       "      <td>...</td>\n",
       "      <td>...</td>\n",
       "      <td>...</td>\n",
       "      <td>...</td>\n",
       "      <td>...</td>\n",
       "      <td>...</td>\n",
       "      <td>...</td>\n",
       "      <td>...</td>\n",
       "      <td>...</td>\n",
       "      <td>...</td>\n",
       "    </tr>\n",
       "    <tr>\n",
       "      <th>67928</th>\n",
       "      <td>111883</td>\n",
       "      <td>99</td>\n",
       "      <td>30</td>\n",
       "      <td>68</td>\n",
       "      <td>7</td>\n",
       "      <td>[0, 16, 25, 27, 3]</td>\n",
       "      <td>3</td>\n",
       "      <td>4</td>\n",
       "      <td>7</td>\n",
       "      <td>32</td>\n",
       "      <td>...</td>\n",
       "      <td>0</td>\n",
       "      <td>0</td>\n",
       "      <td>0</td>\n",
       "      <td>0</td>\n",
       "      <td>0.0</td>\n",
       "      <td>918</td>\n",
       "      <td>NaN</td>\n",
       "      <td>1.068325</td>\n",
       "      <td>False</td>\n",
       "      <td>False</td>\n",
       "    </tr>\n",
       "    <tr>\n",
       "      <th>67929</th>\n",
       "      <td>111884</td>\n",
       "      <td>99</td>\n",
       "      <td>30</td>\n",
       "      <td>68</td>\n",
       "      <td>7</td>\n",
       "      <td>[0, 16, 25, 27, 3, 29]</td>\n",
       "      <td>29</td>\n",
       "      <td>5</td>\n",
       "      <td>7</td>\n",
       "      <td>50</td>\n",
       "      <td>...</td>\n",
       "      <td>0</td>\n",
       "      <td>0</td>\n",
       "      <td>0</td>\n",
       "      <td>0</td>\n",
       "      <td>0.0</td>\n",
       "      <td>810</td>\n",
       "      <td>NaN</td>\n",
       "      <td>1.076896</td>\n",
       "      <td>False</td>\n",
       "      <td>False</td>\n",
       "    </tr>\n",
       "    <tr>\n",
       "      <th>67930</th>\n",
       "      <td>111885</td>\n",
       "      <td>99</td>\n",
       "      <td>30</td>\n",
       "      <td>68</td>\n",
       "      <td>7</td>\n",
       "      <td>[0, 16, 25, 27, 3, 29, 18]</td>\n",
       "      <td>18</td>\n",
       "      <td>6</td>\n",
       "      <td>7</td>\n",
       "      <td>72</td>\n",
       "      <td>...</td>\n",
       "      <td>0</td>\n",
       "      <td>0</td>\n",
       "      <td>0</td>\n",
       "      <td>0</td>\n",
       "      <td>0.0</td>\n",
       "      <td>1033</td>\n",
       "      <td>NaN</td>\n",
       "      <td>1.152506</td>\n",
       "      <td>False</td>\n",
       "      <td>False</td>\n",
       "    </tr>\n",
       "    <tr>\n",
       "      <th>67931</th>\n",
       "      <td>111886</td>\n",
       "      <td>99</td>\n",
       "      <td>30</td>\n",
       "      <td>68</td>\n",
       "      <td>7</td>\n",
       "      <td>[0, 16, 25, 27, 3, 29, 18, 5]</td>\n",
       "      <td>5</td>\n",
       "      <td>7</td>\n",
       "      <td>7</td>\n",
       "      <td>98</td>\n",
       "      <td>...</td>\n",
       "      <td>0</td>\n",
       "      <td>0</td>\n",
       "      <td>0</td>\n",
       "      <td>0</td>\n",
       "      <td>0.0</td>\n",
       "      <td>903</td>\n",
       "      <td>NaN</td>\n",
       "      <td>1.218016</td>\n",
       "      <td>False</td>\n",
       "      <td>False</td>\n",
       "    </tr>\n",
       "    <tr>\n",
       "      <th>67932</th>\n",
       "      <td>111887</td>\n",
       "      <td>99</td>\n",
       "      <td>30</td>\n",
       "      <td>68</td>\n",
       "      <td>7</td>\n",
       "      <td>[0, 16, 25, 27, 3, 29, 18, 5]</td>\n",
       "      <td>5</td>\n",
       "      <td>7</td>\n",
       "      <td>7</td>\n",
       "      <td>98</td>\n",
       "      <td>...</td>\n",
       "      <td>0</td>\n",
       "      <td>0</td>\n",
       "      <td>0</td>\n",
       "      <td>0</td>\n",
       "      <td>0.0</td>\n",
       "      <td>1525</td>\n",
       "      <td>NaN</td>\n",
       "      <td>1.218016</td>\n",
       "      <td>False</td>\n",
       "      <td>False</td>\n",
       "    </tr>\n",
       "  </tbody>\n",
       "</table>\n",
       "<p>67933 rows × 29 columns</p>\n",
       "</div>"
      ],
      "text/plain": [
       "       index_copy  subjects  puzzleID  trialID  allMAS  \\\n",
       "0               0         0        27        0      10   \n",
       "1               1         0        27        0      10   \n",
       "2               2         0        27        0      10   \n",
       "3               3         0        27        0      10   \n",
       "4               4         0        27        0      10   \n",
       "...           ...       ...       ...      ...     ...   \n",
       "67928      111883        99        30       68       7   \n",
       "67929      111884        99        30       68       7   \n",
       "67930      111885        99        30       68       7   \n",
       "67931      111886        99        30       68       7   \n",
       "67932      111887        99        30       68       7   \n",
       "\n",
       "                                path  choice  currNumCities  currMas  reward  \\\n",
       "0                                [0]       0              0       10       0   \n",
       "1                            [0, 15]      15              1       10       2   \n",
       "2                        [0, 15, 24]      24              2       10       8   \n",
       "3                    [0, 15, 24, 17]      17              3       10      18   \n",
       "4                [0, 15, 24, 17, 12]      12              4       10      32   \n",
       "...                              ...     ...            ...      ...     ...   \n",
       "67928             [0, 16, 25, 27, 3]       3              4        7      32   \n",
       "67929         [0, 16, 25, 27, 3, 29]      29              5        7      50   \n",
       "67930     [0, 16, 25, 27, 3, 29, 18]      18              6        7      72   \n",
       "67931  [0, 16, 25, 27, 3, 29, 18, 5]       5              7        7      98   \n",
       "67932  [0, 16, 25, 27, 3, 29, 18, 5]       5              7        7      98   \n",
       "\n",
       "       ...  severityOfErrors  error  cumulative_error  missed_reward  \\\n",
       "0      ...                 0      0                 0              0   \n",
       "1      ...                 0      0                 0              0   \n",
       "2      ...                 0      0                 0              0   \n",
       "3      ...                 0      0                 0              0   \n",
       "4      ...                 0      0                 0              0   \n",
       "...    ...               ...    ...               ...            ...   \n",
       "67928  ...                 0      0                 0              0   \n",
       "67929  ...                 0      0                 0              0   \n",
       "67930  ...                 0      0                 0              0   \n",
       "67931  ...                 0      0                 0              0   \n",
       "67932  ...                 0      0                 0              0   \n",
       "\n",
       "       error_rate    RT  undoRT  tortuosity  branching  branchingFirst  \n",
       "0             0.0    -1     NaN    0.000000      False           False  \n",
       "1             0.0  5770     NaN    1.000000      False           False  \n",
       "2             0.0  1311     NaN    1.130933      False           False  \n",
       "3             0.0  1263     NaN    1.128554      False           False  \n",
       "4             0.0  3639     NaN    1.256188      False           False  \n",
       "...           ...   ...     ...         ...        ...             ...  \n",
       "67928         0.0   918     NaN    1.068325      False           False  \n",
       "67929         0.0   810     NaN    1.076896      False           False  \n",
       "67930         0.0  1033     NaN    1.152506      False           False  \n",
       "67931         0.0   903     NaN    1.218016      False           False  \n",
       "67932         0.0  1525     NaN    1.218016      False           False  \n",
       "\n",
       "[67933 rows x 29 columns]"
      ]
     },
     "execution_count": 54,
     "metadata": {},
     "output_type": "execute_result"
    }
   ],
   "source": [
    "data_choice_level = pd.read_csv(data_dir +  'choice_level/choicelevel_data.csv') # first column is index  \n",
    "data_choice_level = data_choice_level.rename(columns={'Unnamed: 0':'index_copy'})\n",
    "\n",
    "data_choice_level['currNumCities'] = data_choice_level.currNumCities - 1 # starting from 0\n",
    "data_choice_level['allMAS'] = data_choice_level.allMAS - 1\n",
    "data_choice_level['currMas'] = data_choice_level.currMas - 1\n",
    "\n",
    "sc_data_choice_level = data_choice_level[data_choice_level['condition']==1].reset_index(drop=True) \n",
    "sc_data_choice_level"
   ]
  },
  {
   "cell_type": "markdown",
   "metadata": {
    "collapsed": false
   },
   "source": [
    "## error rate (fixed metric)"
   ]
  },
  {
   "cell_type": "code",
   "execution_count": 55,
   "metadata": {},
   "outputs": [
    {
     "name": "stdout",
     "output_type": "stream",
     "text": [
      "[[ 0  0  0 ...  0  0  0]\n",
      " [-3  0  0 ...  1  1  1]\n",
      " [ 0  1  0 ...  1 -1  0]\n",
      " ...\n",
      " [ 0  0  0 ...  0  0  0]\n",
      " [ 1  0  0 ...  0  1  0]\n",
      " [-1  0  0 ...  1  0  1]]\n"
     ]
    }
   ],
   "source": [
    "# Pre-sort data based on condition, subject, puzzleID, and index for efficiency.\n",
    "undo_level = data_choice_level[data_choice_level['condition'] == 1].sort_values(by=[\"subjects\", \"puzzleID\"])\n",
    "basic_level = data_choice_level[data_choice_level['condition'] == 0].sort_values(by=[\"subjects\", \"puzzleID\"])\n",
    "\n",
    "# Function to calculate mas_gain for each group.\n",
    "def calculate_mas_gain(group):\n",
    "    # Group by puzzleID and take the last 'currMas' value, then compute difference.\n",
    "    undo_mas = undo_level[undo_level['subjects'] == group.name].groupby('puzzleID')['currMas'].last()\n",
    "    basic_mas = basic_level[basic_level['subjects'] == group.name].groupby('puzzleID')['currMas'].last()\n",
    "    return undo_mas.values - basic_mas.values\n",
    "\n",
    "# Group by subjects and apply the function to calculate mas_gain for each subject.\n",
    "mas_gain = undo_level.groupby('subjects').apply(calculate_mas_gain)\n",
    "# Convert the result into a numpy array if needed.\n",
    "mas_gain = np.array(mas_gain.tolist())\n",
    "\n",
    "print(mas_gain)"
   ]
  },
  {
   "cell_type": "code",
   "execution_count": 56,
   "metadata": {
    "ExecuteTime": {
     "end_time": "2024-02-07T17:45:56.956439Z",
     "start_time": "2024-02-07T17:45:56.952062Z"
    },
    "collapsed": false
   },
   "outputs": [
    {
     "data": {
      "text/plain": [
       "array([ 0.06521739,  0.13043478,  0.63043478,  0.2173913 ,  0.10869565,\n",
       "        0.13043478,  0.13043478,  0.19565217,  0.06521739,  0.26086957,\n",
       "        0.2173913 ,  0.2173913 ,  0.17391304,  0.17391304,  0.08695652,\n",
       "        0.04347826,  0.23913043,  0.36956522,  0.13043478,  0.13043478,\n",
       "        0.17391304,  0.2173913 , -0.10869565,  0.13043478,  0.17391304,\n",
       "        0.02173913, -0.2826087 ,  0.63043478,  0.19565217,  0.08695652,\n",
       "        0.15217391,  0.26086957,  0.39130435,  0.23913043,  0.26086957,\n",
       "        0.02173913,  0.2826087 , -0.10869565,  0.43478261,  0.15217391,\n",
       "        0.39130435,  0.23913043, -0.10869565,  0.17391304,  0.13043478,\n",
       "        0.2173913 ,  0.02173913, -0.06521739,  0.04347826,  0.06521739,\n",
       "        0.45652174,  0.02173913, -0.17391304,  0.2173913 ,  0.        ,\n",
       "        0.13043478, -0.13043478,  0.26086957, -0.06521739, -0.08695652,\n",
       "        0.17391304,  0.04347826,  0.04347826,  0.02173913,  0.08695652,\n",
       "        0.        ,  0.10869565,  0.04347826,  0.26086957,  0.10869565,\n",
       "        0.08695652, -0.08695652, -0.06521739,  0.23913043,  0.06521739,\n",
       "        0.06521739,  0.36956522,  0.23913043,  0.02173913,  0.36956522,\n",
       "       -0.17391304,  0.32608696, -0.04347826,  0.15217391,  0.43478261,\n",
       "        0.26086957, -0.2826087 ,  0.2173913 ,  0.15217391,  0.2826087 ,\n",
       "        0.47826087,  0.13043478,  0.36956522,  0.23913043, -0.23913043,\n",
       "        0.23913043,  0.2173913 , -0.06521739, -0.02173913,  0.15217391])"
      ]
     },
     "execution_count": 56,
     "metadata": {},
     "output_type": "execute_result"
    }
   ],
   "source": [
    "mas_gain_persub = mas_gain.mean(axis=1)\n",
    "mas_gain_persub"
   ]
  },
  {
   "cell_type": "markdown",
   "metadata": {},
   "source": [
    "# Error rate"
   ]
  },
  {
   "cell_type": "code",
   "execution_count": 57,
   "metadata": {},
   "outputs": [
    {
     "data": {
      "text/plain": [
       "array([[ 0.16666667,  0.        ,  0.        ,  8.        ],\n",
       "       [ 0.5       ,  0.        ,  0.        , 18.        ],\n",
       "       [ 0.        ,  0.        ,  0.        , 19.        ],\n",
       "       ...,\n",
       "       [ 0.        ,  0.        , 99.        , 44.        ],\n",
       "       [ 0.        ,  0.        , 99.        , 44.        ],\n",
       "       [ 0.        ,  0.        , 99.        , 44.        ]])"
      ]
     },
     "execution_count": 57,
     "metadata": {},
     "output_type": "execute_result"
    }
   ],
   "source": [
    "# Pre-sort the DataFrame to optimize access patterns.\n",
    "sc_data_choice_level_sorted = sc_data_choice_level.sort_values(by=[\"subjects\", \"puzzleID\", \"index_copy\"])\n",
    "\n",
    "def process_puzzle(puzzle_group):\n",
    "    firstUndo_idx = puzzle_group[puzzle_group[\"firstUndo\"] == 1].index\n",
    "    # get the last index of the puzzle\n",
    "    submit_idx = pd.Index([len(puzzle_group) - 1])\n",
    "\n",
    "    error_rate_data = []  # Placeholder for error rate data for this puzzle.\n",
    "\n",
    "    if not firstUndo_idx.empty:\n",
    "        t_idx = (firstUndo_idx[1:] - 1).tolist() if len(firstUndo_idx) > 1 else submit_idx # terminal index\n",
    "        if not len(t_idx) or t_idx[-1] != submit_idx:\n",
    "            t_idx.extend(submit_idx)  # Include the submit action\n",
    "\n",
    "        # Adjust indices for operations that depend on specific undo actions\n",
    "        firstundo_idx_adjusted = firstUndo_idx - 1 # before first undo\n",
    "        t_idx_adjusted = np.array(t_idx, dtype=int) + 1\n",
    "        t_idx_adjusted[-1] = t_idx_adjusted[-1] - 1\n",
    "\n",
    "        length_error_rate = []\n",
    "        \n",
    "        for i in range(len(firstundo_idx_adjusted)):\n",
    "            slice_indices = slice(firstundo_idx_adjusted[i], t_idx_adjusted[i])\n",
    "            currnct = puzzle_group[\"currNumCities\"].iloc[slice_indices].to_numpy()\n",
    "            currmas = puzzle_group[\"currMas\"].iloc[slice_indices].to_numpy()\n",
    "\n",
    "            # Identify where undo finishes & redo starts\n",
    "            idx_2 = np.where(currnct == min(currnct))[0][0] \n",
    "\n",
    "            # if i == 0:  # For the first undo index\n",
    "            if (np.abs(currnct[idx_2] - currnct[0]) != 0)&(np.abs(currnct[idx_2] - currnct[-1]) != 0):\n",
    "                error_before = np.abs(currmas[idx_2] - currmas[0]) / np.abs(currnct[idx_2] - currnct[0]) \n",
    "                error_after = np.abs(currmas[idx_2] - currmas[-1]) / np.abs(currnct[idx_2] - currnct[-1])\n",
    "            else:\n",
    "                continue\n",
    "            # if i == len(firstundo_idx_adjusted)-1:  # For the last undo index\n",
    "            \n",
    "\n",
    "            # Append the calculated errors outside the loop\n",
    "            length_error_rate.append([error_before, error_after, \n",
    "                                      puzzle_group[\"subjects\"].iloc[0], puzzle_group[\"puzzleID\"].iloc[0]])\n",
    "\n",
    "        error_rate_data.extend(length_error_rate)\n",
    "\n",
    "    return error_rate_data\n",
    "\n",
    "# Define a function to process each subject's data.\n",
    "def process_subject(subject_group):\n",
    "    error_rates = []\n",
    "    for puzzle_id, puzzle_group in subject_group.groupby(\"puzzleID\"):\n",
    "        puzzle_error_rates = process_puzzle(puzzle_group.reset_index(drop=True))\n",
    "        error_rates.extend(puzzle_error_rates)\n",
    "    return error_rates\n",
    "\n",
    "# Group by subjects and apply the processing function.\n",
    "data_error_rate = sc_data_choice_level_sorted.groupby(\"subjects\").apply(process_subject)\n",
    "data_error_rate = data_error_rate.explode()\n",
    "data_error_rate = data_error_rate.dropna()\n",
    "data_error_rate = data_error_rate.to_list()\n",
    "data_error_rate = [x for x in data_error_rate if x!=[]]\n",
    "data_error_rate = np.array(data_error_rate, dtype=float)\n",
    "data_error_rate"
   ]
  },
  {
   "cell_type": "code",
   "execution_count": 58,
   "metadata": {},
   "outputs": [
    {
     "data": {
      "text/plain": [
       "array([[1., 0.],\n",
       "       [3., 0.],\n",
       "       [2., 1.]])"
      ]
     },
     "execution_count": 58,
     "metadata": {},
     "output_type": "execute_result"
    }
   ],
   "source": [
    "data_error_rate[np.where(data_error_rate[:,2]==91)[0],:2]"
   ]
  },
  {
   "cell_type": "code",
   "execution_count": 59,
   "metadata": {
    "ExecuteTime": {
     "end_time": "2024-02-07T17:46:11.423851Z",
     "start_time": "2024-02-07T17:46:11.009964Z"
    },
    "collapsed": false
   },
   "outputs": [
    {
     "name": "stderr",
     "output_type": "stream",
     "text": [
      "/var/folders/1f/jm7zf5792lvd000qt0vb8jmr5t6hzx/T/ipykernel_64198/4093378386.py:7: RuntimeWarning: Mean of empty slice\n",
      "  error_rate_ = np.array([np.nanmean(data_error_rate[np.where(data_error_rate[:,2]==i)[0],:2], axis=0) for i in range(100)])\n"
     ]
    },
    {
     "name": "stdout",
     "output_type": "stream",
     "text": [
      "2.2273182113548116e-14 97.0\n"
     ]
    },
    {
     "data": {
      "image/png": "[encoded data removed]",
      "text/plain": [
       "<Figure size 216x216 with 2 Axes>"
      ]
     },
     "metadata": {
      "needs_background": "light"
     },
     "output_type": "display_data"
    }
   ],
   "source": [
    "# scatter plot of time taken\n",
    "%matplotlib inline\n",
    "\n",
    "plt.figure(figsize=(3,3))\n",
    "\n",
    "# average over subjects, which is third column\n",
    "error_rate_ = np.array([np.nanmean(data_error_rate[np.where(data_error_rate[:,2]==i)[0],:2], axis=0) for i in range(100)])\n",
    "\n",
    "# Convert the list to a numpy array for easier handling and display the first few means as a sample\n",
    "error_rate_ = np.array(error_rate_)\n",
    "valid_subidx = np.where(~np.isnan(error_rate_[:,0]))[0]\n",
    "\n",
    "plt.scatter(error_rate_[valid_subidx,0], error_rate_[valid_subidx,1], color=[.7,.7,.7], s=10, alpha=0.5, edgecolor = 'k')\n",
    "\n",
    "plt.xlim([0, 1])\n",
    "plt.ylim([0, 1])\n",
    "plt.xticks([0,0.2,0.4,0.6,0.8,1])\n",
    "plt.yticks([0,0.2,0.4,0.6,0.8,1])\n",
    "plt.xlabel('Error rate (do)')\n",
    "plt.ylabel('Error rate (redo)')\n",
    "\n",
    "# remove top and right frame\n",
    "sns.despine()\n",
    "\n",
    "# mid line\n",
    "# plt.plot([0,6],[0,6], 'k--')\n",
    "plt.plot([0,1],[0,1], 'k--')\n",
    "\n",
    "# set xticks and yticks\n",
    "# plt.xticks([0,5,10,15])\n",
    "# plt.yticks([0,5,10,15])\n",
    "\n",
    "# make inset and include hist_error_magnitude\n",
    "from mpl_toolkits.axes_grid1.inset_locator import inset_axes\n",
    "axins = inset_axes(plt.gca(), width=\"25%\", height=\"25%\", loc=2, borderpad=2)\n",
    "axins.hist(error_rate_[valid_subidx,0]-error_rate_[valid_subidx,1], bins=np.linspace(-1,1,11), color='w', alpha=1, label='Undo Allowed', edgecolor='k')\n",
    "# center line of histogram at x = 0\n",
    "axins.plot([0,0],[0,80], 'k--', linewidth=1)\n",
    "axins.arrow(np.mean(error_rate_[valid_subidx,0]-error_rate_[valid_subidx,1]), 80, 0, -18, head_width=0.15, head_length=4, fc='k', ec='k')\n",
    "\n",
    "# statistical test between currmas_with_undo and currmas_without_undo\n",
    "from scipy.stats import wilcoxon\n",
    "stat, p = wilcoxon(error_rate_[valid_subidx,0], error_rate_[valid_subidx,1])\n",
    "print(p,stat)\n",
    "\n",
    "# set x and y lim of axins\n",
    "axins.set_xlim([-1, 1])\n",
    "axins.set_ylim([0,80])\n",
    "\n",
    "# set x and y ticks of axins\n",
    "axins.set_xticks([-1,0,1])\n",
    "\n",
    "# set xtickslabel of axins\n",
    "axins.set_xticklabels(['-1','0','1'])\n",
    "axins.set_yticks([0,20,40,60])\n",
    "\n",
    "\n",
    "# remove top and right frame\n",
    "sns.despine()\n",
    "\n",
    "# save figure\n",
    "plt.savefig(out_dir + '/error_rate_doredo.png', dpi=300, bbox_inches='tight')\n"
   ]
  },
  {
   "cell_type": "code",
   "execution_count": 60,
   "metadata": {
    "ExecuteTime": {
     "end_time": "2024-02-07T17:46:11.435786Z",
     "start_time": "2024-02-07T17:46:11.431561Z"
    },
    "collapsed": false
   },
   "outputs": [
    {
     "name": "stdout",
     "output_type": "stream",
     "text": [
      "[-0.42337662 -0.28354037 -0.0578373  -0.525      -0.11536281 -0.52083333\n",
      " -0.23333333 -0.125      -0.37144661 -0.05336284 -0.10668498 -0.13262108\n",
      " -0.1136566  -0.4570028  -0.10720551 -0.05441097 -0.24310658 -0.09088771\n",
      " -0.0468502  -0.11104269 -0.21212121 -1.         -0.86111111 -0.07159864\n",
      " -0.0495873  -0.04084492 -0.18939394 -0.23958333 -0.13244048 -0.04908009\n",
      " -0.25542328 -0.25892857 -0.34278274 -0.16661491 -0.10426829  0.25\n",
      " -0.02549603 -0.69345238 -0.03821369 -0.07708333 -0.04013367 -0.06964286\n",
      " -0.22400794 -0.20825893 -0.39434524 -0.04804422 -0.12064626 -0.06680403\n",
      " -1.          0.         -0.00396825 -0.41666667 -0.0440396  -0.33333333\n",
      "  0.         -0.19592934 -0.06666667 -0.07540355 -0.97291667  0.1\n",
      " -0.08666667 -0.05503663 -0.07380952 -0.13367347 -0.0952381  -0.13936252\n",
      " -1.         -0.19990663  0.         -0.11358025 -0.16688312 -0.02682292\n",
      " -0.03675997 -0.08253968 -0.20850631 -0.20166667 -0.10256283 -0.12997199\n",
      " -0.08423181 -0.15392157 -0.17298535 -1.66666667 -0.52357143 -0.07018849\n",
      " -1.         -0.03170996 -0.08327344 -0.83333333 -0.04033883]\n"
     ]
    }
   ],
   "source": [
    "print(error_rate_[valid_subidx,1]-error_rate_[valid_subidx,0])"
   ]
  },
  {
   "cell_type": "code",
   "execution_count": 61,
   "metadata": {
    "ExecuteTime": {
     "end_time": "2024-02-07T17:46:11.724297Z",
     "start_time": "2024-02-07T17:46:11.456195Z"
    },
    "collapsed": false
   },
   "outputs": [
    {
     "name": "stdout",
     "output_type": "stream",
     "text": [
      "error rate(do) and error rate(redo): corr=0.179, p=0.092\n"
     ]
    },
    {
     "data": {
      "image/png": "[encoded data removed]",
      "text/plain": [
       "<Figure size 288x288 with 1 Axes>"
      ]
     },
     "metadata": {
      "needs_background": "light"
     },
     "output_type": "display_data"
    }
   ],
   "source": [
    "#scatter plot between error_rate_redo and error_rate_do\n",
    "%matplotlib inline\n",
    "plt.rcParams['font.family'] = 'Arial'\n",
    "plt.rcParams['font.size'] = 12\n",
    "fig, ax=plt.subplots(1,1,figsize=(4,4))\n",
    "\n",
    "valid_subidx = np.where(~np.isnan(error_rate_[:,0]))[0]\n",
    "\n",
    "aa = error_rate_[valid_subidx,1]-error_rate_[valid_subidx,0]\n",
    "ax.scatter(aa, \n",
    "           mas_gain_persub[valid_subidx], color='k', marker='.', alpha=0.5)\n",
    "corr, p = spearmanr(aa, mas_gain_persub[valid_subidx], nan_policy='omit')\n",
    "\n",
    "print('error rate(do) and error rate(redo): corr={:.3f}, p={:.3f}'.format(corr, p))\n",
    "\n",
    "# xlabel, ylabel\n",
    "ax.set_xlabel(r'Error rate (redo) $-$ Error rate (do)')\n",
    "ax.set_ylabel('Difference in submit MAS\\n(undo allowed - undo not allowed)')\n",
    "\n",
    "# set xlim\n",
    "ax.set_xlim([-1,1])\n",
    "\n",
    "# save\n",
    "fig.savefig(out_dir + 'error_rate_do_redo_masgain.png', transparent=True,\n",
    "            bbox_inches='tight', pad_inches=0.1)"
   ]
  },
  {
   "cell_type": "code",
   "execution_count": null,
   "metadata": {
    "ExecuteTime": {
     "end_time": "2024-02-07T17:46:11.726874Z",
     "start_time": "2024-02-07T17:46:11.723993Z"
    },
    "collapsed": false
   },
   "outputs": [],
   "source": []
  }
 ],
 "metadata": {
  "kernelspec": {
   "display_name": "Python 3",
   "language": "python",
   "name": "python3"
  },
  "language_info": {
   "codemirror_mode": {
    "name": "ipython",
    "version": 3
   },
   "file_extension": ".py",
   "mimetype": "text/x-python",
   "name": "python",
   "nbconvert_exporter": "python",
   "pygments_lexer": "ipython3",
   "version": "3.8.3"
  }
 },
 "nbformat": 4,
 "nbformat_minor": 0
}
