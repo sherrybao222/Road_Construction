{
 "cells": [
  {
   "cell_type": "markdown",
   "id": "7185c7a8",
   "metadata": {
    "toc": true
   },
   "source": [
    "<h1>Table of Contents<span class=\"tocSkip\"></span></h1>\n",
    "<div class=\"toc\"><ul class=\"toc-item\"><li><span><a href=\"#what-about-factorized-numFullundo-&amp;-condition\" data-toc-modified-id=\"what-about-factorized-numFullundo-&amp;-condition-1\"><span class=\"toc-item-num\">1&nbsp;&nbsp;</span>what about factorized numFullundo &amp; condition</a></span></li></ul></div>"
   ]
  },
  {
   "cell_type": "code",
   "execution_count": 3,
   "id": "2db75fcc",
   "metadata": {
    "ExecuteTime": {
     "end_time": "2022-07-05T20:52:32.200679Z",
     "start_time": "2022-07-05T20:52:23.654072Z"
    },
    "scrolled": true
   },
   "outputs": [],
   "source": [
    "import pandas as pd\n",
    "import numpy as np\n",
    "import matplotlib.pyplot as plt\n",
    "import seaborn as sns\n",
    "from scipy import stats\n",
    "from scipy.stats import sem\n",
    "from scipy.stats import shapiro\n",
    "from scipy.stats import normaltest\n",
    "from scipy.stats import ttest_rel, ttest_ind"
   ]
  },
  {
   "cell_type": "code",
   "execution_count": 4,
   "id": "6775eaee",
   "metadata": {
    "ExecuteTime": {
     "end_time": "2022-07-05T20:52:32.215713Z",
     "start_time": "2022-07-05T20:52:32.202712Z"
    },
    "scrolled": true
   },
   "outputs": [],
   "source": [
    "import rpy2"
   ]
  },
  {
   "cell_type": "code",
   "execution_count": 5,
   "id": "006249fa",
   "metadata": {
    "ExecuteTime": {
     "end_time": "2022-07-05T20:52:39.300537Z",
     "start_time": "2022-07-05T20:52:32.217712Z"
    },
    "scrolled": true
   },
   "outputs": [],
   "source": [
    "from rpy2.robjects.packages import importr\n",
    "import rpy2.robjects.packages as rpackages\n",
    "# import R's \"base\" package\n",
    "utils = importr('utils')\n",
    "utils.chooseCRANmirror(ind=1) # select the first mirror in the list\n",
    "from rpy2.robjects.vectors import StrVector\n",
    "\n",
    "packnames = ['lme4', 'optimx', 'pbkrtest', 'lmerTest',\n",
    "             'ggplot2', 'dplyr', 'sjPlot', 'car']\n",
    "\n",
    "# if there is no package then install it\n",
    "names_to_install = [x for x in packnames if not rpackages.isinstalled(x)]\n",
    "if len(names_to_install) > 0:\n",
    "    utils.install_packages(StrVector(names_to_install))"
   ]
  },
  {
   "cell_type": "code",
   "execution_count": 6,
   "id": "e3f5f791",
   "metadata": {
    "ExecuteTime": {
     "end_time": "2022-07-05T20:52:49.848881Z",
     "start_time": "2022-07-05T20:52:39.302511Z"
    },
    "scrolled": true
   },
   "outputs": [
    {
     "name": "stderr",
     "output_type": "stream",
     "text": [
      "C:\\Users\\dongj\\anaconda3\\envs\\base37\\lib\\site-packages\\rpy2\\robjects\\packages.py:367: UserWarning: The symbol 'quartz' is not in this R namespace/package.\n",
      "  \"The symbol '%s' is not in this R namespace/package.\" % name\n"
     ]
    }
   ],
   "source": [
    "%load_ext rpy2.ipython\n",
    "\n",
    "from rpy2.robjects.packages import importr\n",
    "# import R's \"base\" package\n",
    "lme4 = importr('lme4')\n",
    "optimx = importr('optimx')\n",
    "pbkrtest = importr('pbkrtest')\n",
    "lmerTest = importr('lmerTest')\n",
    "ggplot = importr('ggplot2')\n",
    "dplyr = importr('dplyr')\n",
    "sjp = importr('sjPlot')\n",
    "sjmisc = importr('sjmisc')\n",
    "car = importr('car')\n",
    "lattice = importr('lattice')"
   ]
  },
  {
   "cell_type": "code",
   "execution_count": 7,
   "id": "75bada35",
   "metadata": {
    "ExecuteTime": {
     "end_time": "2022-07-05T20:52:50.105647Z",
     "start_time": "2022-07-05T20:52:49.849791Z"
    },
    "scrolled": true
   },
   "outputs": [],
   "source": [
    "home_dir = 'G:\\My Drive\\\\researches\\\\nyu\\\\road-construction-local-dk\\data_online_2022\\\\'\n",
    "# home_dir = 'G:\\.shortcut-targets-by-id\\\\1sYZNVBbYCrHcHjo-9xdKcA4wLnob9ZEq\\\\road_construction\\\\data\\\\2022_online\\\\R_analysis_data\\\\'\n",
    "map_dir = 'active_map/'\n",
    "data_dir  = 'data/preprocessed'\n",
    "out_dir = home_dir + 'figures/figures_all/'\n",
    "R_out_dir = home_dir + 'R_analysis_data/'\n",
    "\n",
    "data_puzzle_level = pd.read_csv(R_out_dir +  'data.csv')\n",
    "puzzleID_order_data = data_puzzle_level.sort_values([\"subjects\",\"puzzleID\",\"condition\"])\n",
    "data_choice_level = pd.read_csv(R_out_dir +  'choice_level/choicelevel_data.csv')\n",
    "\n",
    "single_condition_data = puzzleID_order_data[puzzleID_order_data['condition']==1].copy()\n",
    "single_condition_data = single_condition_data.reset_index()"
   ]
  },
  {
   "cell_type": "markdown",
   "id": "402f1baa",
   "metadata": {},
   "source": [
    "# undo (factorized)"
   ]
  },
  {
   "cell_type": "code",
   "execution_count": 31,
   "id": "3c8cef56",
   "metadata": {
    "ExecuteTime": {
     "end_time": "2022-07-05T21:10:37.251729Z",
     "start_time": "2022-07-05T21:10:37.207660Z"
    }
   },
   "outputs": [
    {
     "name": "stderr",
     "output_type": "stream",
     "text": [
      "C:\\Users\\dongj\\AppData\\Roaming\\Python\\Python37\\site-packages\\ipykernel_launcher.py:17: SettingWithCopyWarning: \n",
      "A value is trying to be set on a copy of a slice from a DataFrame\n",
      "\n",
      "See the caveats in the documentation: https://pandas.pydata.org/pandas-docs/stable/user_guide/indexing.html#returning-a-view-versus-a-copy\n",
      "  app.launch_new_instance()\n"
     ]
    }
   ],
   "source": [
    "condition = (np.array(data_puzzle_level.condition)-0.5)*2\n",
    "subject = np.array(data_puzzle_level.subjects)\n",
    "puzzleID = np.array(data_puzzle_level.puzzleID)\n",
    "numUndo = np.array(data_puzzle_level.numUNDO)\n",
    "mas = np.array(data_puzzle_level.mas)\n",
    "num_loss = np.array(data_puzzle_level.mas) - np.array(data_puzzle_level.numCities)\n",
    "numFullUndo = np.array(data_puzzle_level.numFullUndo)\n",
    "# numFullUndo = np.sign(numFullUndo)\n",
    "\n",
    "dat = pd.DataFrame({'subject':subject, 'condition':condition,'mas':mas,\n",
    "                    'num_loss':num_loss,'puzzleID':puzzleID,'numUndo':numUndo,\n",
    "                   'numFullUndo':numFullUndo, 'numFullUndo_factor':numFullUndo})\n",
    "\n",
    "\n",
    "\n",
    "# error correction\n",
    "dat.mas[dat[dat.num_loss == -1 ].index] = 9\n",
    "num_loss = np.array(dat.mas) - np.array(data_puzzle_level.numCities)\n",
    "dat.num_loss = num_loss"
   ]
  },
  {
   "cell_type": "code",
   "execution_count": 32,
   "id": "b3e90098",
   "metadata": {
    "ExecuteTime": {
     "end_time": "2022-07-05T21:10:37.642519Z",
     "start_time": "2022-07-05T21:10:37.253747Z"
    }
   },
   "outputs": [],
   "source": [
    "%%R -i dat\n",
    "# dat$numFullUndo <- factor(dat$numFullUndo)\n",
    "dat$numFullUndo_factor <- factor(dat$numFullUndo_factor)\n",
    "dat$subject <- factor(dat$subject)\n",
    "# dat$condition <- factor(dat$condition)\n",
    "dat$puzzleID <- factor(dat$puzzleID)"
   ]
  },
  {
   "cell_type": "code",
   "execution_count": 33,
   "id": "c656cdab",
   "metadata": {
    "ExecuteTime": {
     "end_time": "2022-07-05T21:24:25.308302Z",
     "start_time": "2022-07-05T21:10:37.643519Z"
    }
   },
   "outputs": [
    {
     "name": "stderr",
     "output_type": "stream",
     "text": [
      "R[write to console]: boundary (singular) fit: see ?isSingular\n",
      "\n",
      "R[write to console]: boundary (singular) fit: see ?isSingular\n",
      "\n"
     ]
    },
    {
     "name": "stdout",
     "output_type": "stream",
     "text": [
      "Generalized linear mixed model fit by maximum likelihood (Laplace\n",
      "  Approximation) [glmerMod]\n",
      " Family: poisson  ( log )\n",
      "Formula: num_loss ~ condition + numFullUndo_factor + (1 + numFullUndo |  \n",
      "    puzzleID) + (1 + condition | subject)\n",
      "   Data: dat\n",
      "\n",
      "     AIC      BIC   logLik deviance df.resid \n",
      " 19025.8  19175.6  -9491.9  18983.8     9271 \n",
      "\n",
      "Scaled residuals: \n",
      "    Min      1Q  Median      3Q     Max \n",
      "-1.9231 -0.6531 -0.3216  0.4689  8.8676 \n",
      "\n",
      "Random effects:\n",
      " Groups   Name        Variance Std.Dev. Corr\n",
      " subject  (Intercept) 0.275464 0.52485      \n",
      "          condition   0.004840 0.06957  0.60\n",
      " puzzleID (Intercept) 0.188543 0.43421      \n",
      "          numFullUndo 0.001807 0.04251  1.00\n",
      "Number of obs: 9292, groups:  subject, 101; puzzleID, 46\n",
      "\n",
      "Fixed effects:\n",
      "                      Estimate Std. Error z value Pr(>|z|)    \n",
      "(Intercept)          -0.460959   0.084219  -5.473 4.42e-08 ***\n",
      "condition            -0.115460   0.016932  -6.819 9.16e-12 ***\n",
      "numFullUndo_factor1  -0.110659   0.052816  -2.095   0.0362 *  \n",
      "numFullUndo_factor2  -0.054495   0.090040  -0.605   0.5450    \n",
      "numFullUndo_factor3  -0.099634   0.128351  -0.776   0.4376    \n",
      "numFullUndo_factor4  -0.247019   0.203824  -1.212   0.2255    \n",
      "numFullUndo_factor5  -0.078846   0.281471  -0.280   0.7794    \n",
      "numFullUndo_factor6  -0.061239   0.424489  -0.144   0.8853    \n",
      "numFullUndo_factor7  -0.493531   0.583029  -0.846   0.3973    \n",
      "numFullUndo_factor8  -0.367195   0.596684  -0.615   0.5383    \n",
      "numFullUndo_factor9   0.007592   1.005458   0.008   0.9940    \n",
      "numFullUndo_factor10 -8.789249  14.696412  -0.598   0.5498    \n",
      "numFullUndo_factor11 -0.083754   0.752941  -0.111   0.9114    \n",
      "numFullUndo_factor12  0.342063   0.638135   0.536   0.5919    \n",
      "numFullUndo_factor16 -0.292697   1.089805  -0.269   0.7883    \n",
      "---\n",
      "Signif. codes:  0 '***' 0.001 '**' 0.01 '*' 0.05 '.' 0.1 ' ' 1\n"
     ]
    },
    {
     "name": "stderr",
     "output_type": "stream",
     "text": [
      "R[write to console]: \n",
      "Correlation matrix not shown by default, as p = 15 > 12.\n",
      "Use print(object, correlation=TRUE)  or\n",
      "    vcov(object)        if you need it\n",
      "\n",
      "\n"
     ]
    },
    {
     "name": "stdout",
     "output_type": "stream",
     "text": [
      "optimizer (Nelder_Mead) convergence code: 0 (OK)\n",
      "Model failed to converge with max|grad| = 0.0145502 (tol = 0.002, component 1)\n",
      "Model is nearly unidentifiable: large eigenvalue ratio\n",
      " - Rescale variables?\n",
      "\n"
     ]
    }
   ],
   "source": [
    "%%R\n",
    "# this case \n",
    "model0 = glmer(num_loss ~ condition + numFullUndo_factor + (1|puzzleID) + (1|subject)\n",
    "               , data=dat,\n",
    "             family=poisson())\n",
    "model1 = glmer(num_loss ~ condition + numFullUndo_factor + (1|puzzleID) + (1+numFullUndo|subject)\n",
    "               , data=dat,\n",
    "             family=poisson())\n",
    "model1_1 = glmer(num_loss ~ condition + numFullUndo_factor + (1 +numFullUndo |puzzleID) + (1|subject)\n",
    "               , data=dat,\n",
    "             family=poisson())\n",
    "model2 = glmer(num_loss ~ condition + numFullUndo_factor + (1|puzzleID) + (1+condition|subject)\n",
    "               , data=dat,\n",
    "             family=poisson())\n",
    "model2_1= glmer(num_loss ~ condition + numFullUndo_factor + (1+condition|puzzleID) + (1|subject)\n",
    "               , data=dat,\n",
    "             family=poisson())\n",
    "model3 = glmer(num_loss ~ condition + numFullUndo_factor + (1+condition|puzzleID) + (1+condition|subject)\n",
    "               , data=dat,\n",
    "             family=poisson())\n",
    "model4 = glmer(num_loss ~ condition + numFullUndo_factor + (1+numFullUndo|puzzleID) + (1+condition|subject)\n",
    "               , data=dat,\n",
    "             family=poisson())\n",
    "summary(model4)"
   ]
  },
  {
   "cell_type": "code",
   "execution_count": 40,
   "id": "e07038af",
   "metadata": {
    "ExecuteTime": {
     "end_time": "2022-07-05T21:30:49.665791Z",
     "start_time": "2022-07-05T21:30:49.634802Z"
    }
   },
   "outputs": [
    {
     "name": "stdout",
     "output_type": "stream",
     "text": [
      "Data: dat\n",
      "Models:\n",
      "model0: num_loss ~ condition + numFullUndo_factor + (1 | puzzleID) + (1 | subject)\n",
      "model1: num_loss ~ condition + numFullUndo_factor + (1 | puzzleID) + (1 + numFullUndo | subject)\n",
      "       npar   AIC   BIC  logLik deviance  Chisq Df Pr(>Chisq)\n",
      "model0   17 19037 19159 -9501.7    19003                     \n",
      "model1   19 19039 19175 -9500.6    19001 2.1614  2     0.3394\n"
     ]
    }
   ],
   "source": [
    "%%R\n",
    "anova(model0, model1)"
   ]
  },
  {
   "cell_type": "code",
   "execution_count": 39,
   "id": "a1137ab7",
   "metadata": {
    "ExecuteTime": {
     "end_time": "2022-07-05T21:30:47.912110Z",
     "start_time": "2022-07-05T21:30:47.861143Z"
    }
   },
   "outputs": [
    {
     "name": "stdout",
     "output_type": "stream",
     "text": [
      "Data: dat\n",
      "Models:\n",
      "model0: num_loss ~ condition + numFullUndo_factor + (1 | puzzleID) + (1 | subject)\n",
      "model2: num_loss ~ condition + numFullUndo_factor + (1 | puzzleID) + (1 + condition | subject)\n",
      "       npar   AIC   BIC  logLik deviance  Chisq Df Pr(>Chisq)    \n",
      "model0   17 19037 19159 -9501.7    19003                         \n",
      "model2   19 19027 19162 -9494.2    18989 14.879  2  0.0005876 ***\n",
      "---\n",
      "Signif. codes:  0 '***' 0.001 '**' 0.01 '*' 0.05 '.' 0.1 ' ' 1\n"
     ]
    }
   ],
   "source": [
    "%%R\n",
    "\n",
    "anova(model0, model2)"
   ]
  },
  {
   "cell_type": "code",
   "execution_count": 37,
   "id": "74898f26",
   "metadata": {
    "ExecuteTime": {
     "end_time": "2022-07-05T21:30:45.460443Z",
     "start_time": "2022-07-05T21:30:45.423440Z"
    }
   },
   "outputs": [
    {
     "name": "stdout",
     "output_type": "stream",
     "text": [
      "Data: dat\n",
      "Models:\n",
      "model2: num_loss ~ condition + numFullUndo_factor + (1 | puzzleID) + (1 + condition | subject)\n",
      "model3: num_loss ~ condition + numFullUndo_factor + (1 + condition | puzzleID) + (1 + condition | subject)\n",
      "       npar   AIC   BIC  logLik deviance  Chisq Df Pr(>Chisq)  \n",
      "model2   19 19027 19162 -9494.2    18989                       \n",
      "model3   21 19026 19176 -9491.9    18984 4.6272  2     0.0989 .\n",
      "---\n",
      "Signif. codes:  0 '***' 0.001 '**' 0.01 '*' 0.05 '.' 0.1 ' ' 1\n"
     ]
    }
   ],
   "source": [
    "%%R\n",
    "\n",
    "anova(model2, model3)"
   ]
  },
  {
   "cell_type": "code",
   "execution_count": 38,
   "id": "55108937",
   "metadata": {
    "ExecuteTime": {
     "end_time": "2022-07-05T21:30:46.640987Z",
     "start_time": "2022-07-05T21:30:46.596991Z"
    }
   },
   "outputs": [
    {
     "name": "stdout",
     "output_type": "stream",
     "text": [
      "Data: dat\n",
      "Models:\n",
      "model2: num_loss ~ condition + numFullUndo_factor + (1 | puzzleID) + (1 + condition | subject)\n",
      "model4: num_loss ~ condition + numFullUndo_factor + (1 + numFullUndo | puzzleID) + (1 + condition | subject)\n",
      "       npar   AIC   BIC  logLik deviance  Chisq Df Pr(>Chisq)  \n",
      "model2   19 19027 19162 -9494.2    18989                       \n",
      "model4   21 19026 19176 -9491.9    18984 4.7359  2    0.09367 .\n",
      "---\n",
      "Signif. codes:  0 '***' 0.001 '**' 0.01 '*' 0.05 '.' 0.1 ' ' 1\n"
     ]
    }
   ],
   "source": [
    "%%R\n",
    "\n",
    "anova(model2, model4)"
   ]
  },
  {
   "cell_type": "markdown",
   "id": "32f1090a",
   "metadata": {},
   "source": [
    "# undo once vs. more than once. (factorized)"
   ]
  },
  {
   "cell_type": "code",
   "execution_count": 9,
   "id": "52651e10",
   "metadata": {
    "ExecuteTime": {
     "end_time": "2022-07-05T20:54:03.190415Z",
     "start_time": "2022-07-05T20:54:03.163336Z"
    }
   },
   "outputs": [
    {
     "name": "stderr",
     "output_type": "stream",
     "text": [
      "C:\\Users\\dongj\\AppData\\Roaming\\Python\\Python37\\site-packages\\ipykernel_launcher.py:17: SettingWithCopyWarning: \n",
      "A value is trying to be set on a copy of a slice from a DataFrame\n",
      "\n",
      "See the caveats in the documentation: https://pandas.pydata.org/pandas-docs/stable/user_guide/indexing.html#returning-a-view-versus-a-copy\n",
      "  app.launch_new_instance()\n"
     ]
    }
   ],
   "source": [
    "condition = (np.array(data_puzzle_level.condition)-0.5)*2\n",
    "subject = np.array(data_puzzle_level.subjects)\n",
    "puzzleID = np.array(data_puzzle_level.puzzleID)\n",
    "numUndo = np.array(data_puzzle_level.numUNDO)\n",
    "mas = np.array(data_puzzle_level.mas)\n",
    "num_loss = np.array(data_puzzle_level.mas) - np.array(data_puzzle_level.numCities)\n",
    "numFullUndo = np.array(data_puzzle_level.numFullUndo)\n",
    "# numFullUndo = np.sign(numFullUndo)\n",
    "\n",
    "dat = pd.DataFrame({'subject':subject, 'condition':condition,'mas':mas,\n",
    "                    'num_loss':num_loss,'puzzleID':puzzleID,'numUndo':numUndo,\n",
    "                   'numFullUndo':numFullUndo, 'numFullUndo_factor':numFullUndo})\n",
    "\n",
    "\n",
    "\n",
    "# error correction\n",
    "dat.mas[dat[dat.num_loss == -1 ].index] = 9\n",
    "num_loss = np.array(dat.mas) - np.array(data_puzzle_level.numCities)\n",
    "dat.num_loss = num_loss"
   ]
  },
  {
   "cell_type": "code",
   "execution_count": 10,
   "id": "1781ab6c",
   "metadata": {
    "ExecuteTime": {
     "end_time": "2022-07-05T20:54:03.205334Z",
     "start_time": "2022-07-05T20:54:03.192332Z"
    }
   },
   "outputs": [
    {
     "name": "stderr",
     "output_type": "stream",
     "text": [
      "C:\\Users\\dongj\\AppData\\Roaming\\Python\\Python37\\site-packages\\ipykernel_launcher.py:1: SettingWithCopyWarning: \n",
      "A value is trying to be set on a copy of a slice from a DataFrame\n",
      "\n",
      "See the caveats in the documentation: https://pandas.pydata.org/pandas-docs/stable/user_guide/indexing.html#returning-a-view-versus-a-copy\n",
      "  \"\"\"Entry point for launching an IPython kernel.\n",
      "C:\\Users\\dongj\\AppData\\Roaming\\Python\\Python37\\site-packages\\ipykernel_launcher.py:2: SettingWithCopyWarning: \n",
      "A value is trying to be set on a copy of a slice from a DataFrame\n",
      "\n",
      "See the caveats in the documentation: https://pandas.pydata.org/pandas-docs/stable/user_guide/indexing.html#returning-a-view-versus-a-copy\n",
      "  \n"
     ]
    }
   ],
   "source": [
    "dat['numFullUndo_factor'][dat['numFullUndo_factor']==1] = 1\n",
    "dat['numFullUndo_factor'][dat['numFullUndo_factor']>=2] = 2"
   ]
  },
  {
   "cell_type": "code",
   "execution_count": 11,
   "id": "5479dd2a",
   "metadata": {
    "ExecuteTime": {
     "end_time": "2022-07-05T20:54:03.490745Z",
     "start_time": "2022-07-05T20:54:03.207332Z"
    },
    "scrolled": true
   },
   "outputs": [],
   "source": [
    "%%R -i dat\n",
    "# dat$numFullUndo <- factor(dat$numFullUndo)\n",
    "dat$numFullUndo_factor <- factor(dat$numFullUndo_factor)\n",
    "dat$subject <- factor(dat$subject)\n",
    "# dat$condition <- factor(dat$condition)\n",
    "dat$puzzleID <- factor(dat$puzzleID)"
   ]
  },
  {
   "cell_type": "code",
   "execution_count": 12,
   "id": "aba5c5cf",
   "metadata": {
    "ExecuteTime": {
     "end_time": "2022-07-05T20:55:23.400763Z",
     "start_time": "2022-07-05T20:54:03.492745Z"
    }
   },
   "outputs": [
    {
     "name": "stderr",
     "output_type": "stream",
     "text": [
      "R[write to console]: boundary (singular) fit: see ?isSingular\n",
      "\n",
      "R[write to console]: boundary (singular) fit: see ?isSingular\n",
      "\n"
     ]
    },
    {
     "name": "stdout",
     "output_type": "stream",
     "text": [
      "Generalized linear mixed model fit by maximum likelihood (Laplace\n",
      "  Approximation) [glmerMod]\n",
      " Family: poisson  ( log )\n",
      "Formula: num_loss ~ condition + numFullUndo_factor + (1 + numFullUndo |  \n",
      "    puzzleID) + (1 + condition | subject)\n",
      "   Data: dat\n",
      "\n",
      "     AIC      BIC   logLik deviance df.resid \n",
      " 19006.1  19077.5  -9493.1  18986.1     9282 \n",
      "\n",
      "Scaled residuals: \n",
      "    Min      1Q  Median      3Q     Max \n",
      "-1.9197 -0.6530 -0.3234  0.4673  8.8272 \n",
      "\n",
      "Random effects:\n",
      " Groups   Name        Variance Std.Dev. Corr\n",
      " subject  (Intercept) 0.276992 0.52630      \n",
      "          condition   0.004992 0.07065  0.61\n",
      " puzzleID (Intercept) 0.188895 0.43462      \n",
      "          numFullUndo 0.001776 0.04215  1.00\n",
      "Number of obs: 9292, groups:  subject, 101; puzzleID, 46\n",
      "\n",
      "Fixed effects:\n",
      "                    Estimate Std. Error z value Pr(>|z|)    \n",
      "(Intercept)         -0.45737    0.08400  -5.445 5.19e-08 ***\n",
      "condition           -0.11619    0.01698  -6.842 7.80e-12 ***\n",
      "numFullUndo_factor1 -0.10937    0.05243  -2.086    0.037 *  \n",
      "numFullUndo_factor2 -0.08852    0.07650  -1.157    0.247    \n",
      "---\n",
      "Signif. codes:  0 '***' 0.001 '**' 0.01 '*' 0.05 '.' 0.1 ' ' 1\n",
      "\n",
      "Correlation of Fixed Effects:\n",
      "            (Intr) condtn nmFU_1\n",
      "condition    0.223              \n",
      "nmFllUnd_f1  0.002 -0.362       \n",
      "nmFllUnd_f2  0.079 -0.323  0.313\n",
      "optimizer (Nelder_Mead) convergence code: 0 (OK)\n",
      "Model failed to converge with max|grad| = 0.00752669 (tol = 0.002, component 1)\n",
      "\n"
     ]
    }
   ],
   "source": [
    "%%R\n",
    "# this case \n",
    "model0 = glmer(num_loss ~ condition + numFullUndo_factor + (1|puzzleID) + (1|subject)\n",
    "               , data=dat,\n",
    "             family=poisson())\n",
    "model1 = glmer(num_loss ~ condition + numFullUndo_factor + (1|puzzleID) + (1+numFullUndo|subject)\n",
    "               , data=dat,\n",
    "             family=poisson())\n",
    "model1_1 = glmer(num_loss ~ condition + numFullUndo_factor + (1 +numFullUndo |puzzleID) + (1|subject)\n",
    "               , data=dat,\n",
    "             family=poisson())\n",
    "model2 = glmer(num_loss ~ condition + numFullUndo_factor + (1|puzzleID) + (1+condition|subject)\n",
    "               , data=dat,\n",
    "             family=poisson())\n",
    "model2_1= glmer(num_loss ~ condition + numFullUndo_factor + (1+condition|puzzleID) + (1|subject)\n",
    "               , data=dat,\n",
    "             family=poisson())\n",
    "model3 = glmer(num_loss ~ condition + numFullUndo_factor + (1+condition|puzzleID) + (1+condition|subject)\n",
    "               , data=dat,\n",
    "             family=poisson())\n",
    "model4 = glmer(num_loss ~ condition + numFullUndo_factor + (1+numFullUndo|puzzleID) + (1+condition|subject)\n",
    "               , data=dat,\n",
    "             family=poisson())\n",
    "summary(model4)"
   ]
  },
  {
   "cell_type": "code",
   "execution_count": 13,
   "id": "7b3c7eb3",
   "metadata": {
    "ExecuteTime": {
     "end_time": "2022-07-05T20:55:23.445862Z",
     "start_time": "2022-07-05T20:55:23.402766Z"
    }
   },
   "outputs": [
    {
     "name": "stdout",
     "output_type": "stream",
     "text": [
      "Data: dat\n",
      "Models:\n",
      "model0: num_loss ~ condition + numFullUndo_factor + (1 | puzzleID) + (1 | subject)\n",
      "model1_1: num_loss ~ condition + numFullUndo_factor + (1 + numFullUndo | puzzleID) + (1 | subject)\n",
      "         npar   AIC   BIC  logLik deviance  Chisq Df Pr(>Chisq)  \n",
      "model0      6 19019 19062 -9503.7    19007                       \n",
      "model1_1    8 19018 19075 -9501.0    19002 5.3147  2    0.07013 .\n",
      "---\n",
      "Signif. codes:  0 '***' 0.001 '**' 0.01 '*' 0.05 '.' 0.1 ' ' 1\n"
     ]
    }
   ],
   "source": [
    "%%R\n",
    "anova(model0, model1_1)"
   ]
  },
  {
   "cell_type": "code",
   "execution_count": 14,
   "id": "34f36867",
   "metadata": {
    "ExecuteTime": {
     "end_time": "2022-07-05T20:55:23.475763Z",
     "start_time": "2022-07-05T20:55:23.447763Z"
    }
   },
   "outputs": [
    {
     "name": "stderr",
     "output_type": "stream",
     "text": [
      "C:\\Users\\dongj\\AppData\\Roaming\\Python\\Python37\\site-packages\\ipykernel_launcher.py:17: SettingWithCopyWarning: \n",
      "A value is trying to be set on a copy of a slice from a DataFrame\n",
      "\n",
      "See the caveats in the documentation: https://pandas.pydata.org/pandas-docs/stable/user_guide/indexing.html#returning-a-view-versus-a-copy\n",
      "  app.launch_new_instance()\n"
     ]
    }
   ],
   "source": [
    "condition = (np.array(data_puzzle_level.condition)-0.5)*2\n",
    "subject = np.array(data_puzzle_level.subjects)\n",
    "puzzleID = np.array(data_puzzle_level.puzzleID)\n",
    "numUndo = np.array(data_puzzle_level.numUNDO)\n",
    "mas = np.array(data_puzzle_level.mas)\n",
    "num_loss = np.array(data_puzzle_level.mas) - np.array(data_puzzle_level.numCities)\n",
    "numFullUndo = np.array(data_puzzle_level.numFullUndo)\n",
    "# numFullUndo = np.sign(numFullUndo)\n",
    "\n",
    "dat = pd.DataFrame({'subject':subject, 'condition':condition,'mas':mas,\n",
    "                    'num_loss':num_loss,'puzzleID':puzzleID,'numUndo':numUndo,\n",
    "                   'numFullUndo':numFullUndo, 'numFullUndo_factor':numFullUndo})\n",
    "\n",
    "\n",
    "\n",
    "# error correction\n",
    "dat.mas[dat[dat.num_loss == -1 ].index] = 9\n",
    "num_loss = np.array(dat.mas) - np.array(data_puzzle_level.numCities)\n",
    "dat.num_loss = num_loss"
   ]
  },
  {
   "cell_type": "code",
   "execution_count": 15,
   "id": "a446b4a9",
   "metadata": {
    "ExecuteTime": {
     "end_time": "2022-07-05T20:55:24.167014Z",
     "start_time": "2022-07-05T20:55:23.477763Z"
    },
    "scrolled": true
   },
   "outputs": [],
   "source": [
    "%%R -i dat\n",
    "# dat$numFullUndo <- factor(dat$numFullUndo)\n",
    "dat$numFullUndo_factor <- factor(dat$numFullUndo_factor)\n",
    "dat$subject <- factor(dat$subject)\n",
    "# dat$condition <- factor(dat$condition)\n",
    "dat$puzzleID <- factor(dat$puzzleID)"
   ]
  },
  {
   "cell_type": "code",
   "execution_count": 16,
   "id": "bb37ec0d",
   "metadata": {
    "ExecuteTime": {
     "end_time": "2022-07-05T21:09:32.985522Z",
     "start_time": "2022-07-05T20:55:24.169028Z"
    }
   },
   "outputs": [
    {
     "name": "stderr",
     "output_type": "stream",
     "text": [
      "R[write to console]: boundary (singular) fit: see ?isSingular\n",
      "\n",
      "R[write to console]: boundary (singular) fit: see ?isSingular\n",
      "\n"
     ]
    },
    {
     "name": "stdout",
     "output_type": "stream",
     "text": [
      "Generalized linear mixed model fit by maximum likelihood (Laplace\n",
      "  Approximation) [glmerMod]\n",
      " Family: poisson  ( log )\n",
      "Formula: num_loss ~ condition + numFullUndo_factor + (1 + numFullUndo |  \n",
      "    puzzleID) + (1 + condition | subject)\n",
      "   Data: dat\n",
      "\n",
      "     AIC      BIC   logLik deviance df.resid \n",
      " 19025.8  19175.6  -9491.9  18983.8     9271 \n",
      "\n",
      "Scaled residuals: \n",
      "    Min      1Q  Median      3Q     Max \n",
      "-1.9231 -0.6531 -0.3216  0.4689  8.8676 \n",
      "\n",
      "Random effects:\n",
      " Groups   Name        Variance Std.Dev. Corr\n",
      " subject  (Intercept) 0.275464 0.52485      \n",
      "          condition   0.004840 0.06957  0.60\n",
      " puzzleID (Intercept) 0.188543 0.43421      \n",
      "          numFullUndo 0.001807 0.04251  1.00\n",
      "Number of obs: 9292, groups:  subject, 101; puzzleID, 46\n",
      "\n",
      "Fixed effects:\n",
      "                      Estimate Std. Error z value Pr(>|z|)    \n",
      "(Intercept)          -0.460959   0.084219  -5.473 4.42e-08 ***\n",
      "condition            -0.115460   0.016932  -6.819 9.16e-12 ***\n",
      "numFullUndo_factor1  -0.110659   0.052816  -2.095   0.0362 *  \n",
      "numFullUndo_factor2  -0.054495   0.090040  -0.605   0.5450    \n",
      "numFullUndo_factor3  -0.099634   0.128351  -0.776   0.4376    \n",
      "numFullUndo_factor4  -0.247019   0.203824  -1.212   0.2255    \n",
      "numFullUndo_factor5  -0.078846   0.281471  -0.280   0.7794    \n",
      "numFullUndo_factor6  -0.061239   0.424489  -0.144   0.8853    \n",
      "numFullUndo_factor7  -0.493531   0.583029  -0.846   0.3973    \n",
      "numFullUndo_factor8  -0.367195   0.596684  -0.615   0.5383    \n",
      "numFullUndo_factor9   0.007592   1.005458   0.008   0.9940    \n",
      "numFullUndo_factor10 -8.789249  14.696412  -0.598   0.5498    \n",
      "numFullUndo_factor11 -0.083754   0.752941  -0.111   0.9114    \n",
      "numFullUndo_factor12  0.342063   0.638135   0.536   0.5919    \n",
      "numFullUndo_factor16 -0.292697   1.089805  -0.269   0.7883    \n",
      "---\n",
      "Signif. codes:  0 '***' 0.001 '**' 0.01 '*' 0.05 '.' 0.1 ' ' 1\n"
     ]
    },
    {
     "name": "stderr",
     "output_type": "stream",
     "text": [
      "R[write to console]: \n",
      "Correlation matrix not shown by default, as p = 15 > 12.\n",
      "Use print(object, correlation=TRUE)  or\n",
      "    vcov(object)        if you need it\n",
      "\n",
      "\n"
     ]
    },
    {
     "name": "stdout",
     "output_type": "stream",
     "text": [
      "optimizer (Nelder_Mead) convergence code: 0 (OK)\n",
      "Model failed to converge with max|grad| = 0.0145502 (tol = 0.002, component 1)\n",
      "Model is nearly unidentifiable: large eigenvalue ratio\n",
      " - Rescale variables?\n",
      "\n"
     ]
    }
   ],
   "source": [
    "%%R\n",
    "# this case \n",
    "model0 = glmer(num_loss ~ condition + numFullUndo_factor + (1|puzzleID) + (1|subject)\n",
    "               , data=dat,\n",
    "             family=poisson())\n",
    "model1 = glmer(num_loss ~ condition + numFullUndo_factor + (1|puzzleID) + (1+numFullUndo|subject)\n",
    "               , data=dat,\n",
    "             family=poisson())\n",
    "model1_1 = glmer(num_loss ~ condition + numFullUndo_factor + (1 +numFullUndo |puzzleID) + (1|subject)\n",
    "               , data=dat,\n",
    "             family=poisson())\n",
    "model2 = glmer(num_loss ~ condition + numFullUndo_factor + (1|puzzleID) + (1+condition|subject)\n",
    "               , data=dat,\n",
    "             family=poisson())\n",
    "model2_1= glmer(num_loss ~ condition + numFullUndo_factor + (1+condition|puzzleID) + (1|subject)\n",
    "               , data=dat,\n",
    "             family=poisson())\n",
    "model3 = glmer(num_loss ~ condition + numFullUndo_factor + (1+condition|puzzleID) + (1+condition|subject)\n",
    "               , data=dat,\n",
    "             family=poisson())\n",
    "model4 = glmer(num_loss ~ condition + numFullUndo_factor + (1+numFullUndo|puzzleID) + (1+condition|subject)\n",
    "               , data=dat,\n",
    "             family=poisson())\n",
    "summary(model4)"
   ]
  },
  {
   "cell_type": "code",
   "execution_count": 17,
   "id": "cce46bee",
   "metadata": {
    "ExecuteTime": {
     "end_time": "2022-07-05T21:09:33.030517Z",
     "start_time": "2022-07-05T21:09:32.990517Z"
    }
   },
   "outputs": [
    {
     "name": "stdout",
     "output_type": "stream",
     "text": [
      "Data: dat\n",
      "Models:\n",
      "model0: num_loss ~ condition + numFullUndo_factor + (1 | puzzleID) + (1 | subject)\n",
      "model1: num_loss ~ condition + numFullUndo_factor + (1 | puzzleID) + (1 + numFullUndo | subject)\n",
      "       npar   AIC   BIC  logLik deviance  Chisq Df Pr(>Chisq)\n",
      "model0   17 19037 19159 -9501.7    19003                     \n",
      "model1   19 19039 19175 -9500.6    19001 2.1614  2     0.3394\n"
     ]
    }
   ],
   "source": [
    "%%R\n",
    "anova(model0, model1)"
   ]
  },
  {
   "cell_type": "code",
   "execution_count": 18,
   "id": "627f177e",
   "metadata": {
    "ExecuteTime": {
     "end_time": "2022-07-05T21:09:33.075516Z",
     "start_time": "2022-07-05T21:09:33.034517Z"
    }
   },
   "outputs": [
    {
     "name": "stdout",
     "output_type": "stream",
     "text": [
      "Data: dat\n",
      "Models:\n",
      "model0: num_loss ~ condition + numFullUndo_factor + (1 | puzzleID) + (1 | subject)\n",
      "model1_1: num_loss ~ condition + numFullUndo_factor + (1 + numFullUndo | puzzleID) + (1 | subject)\n",
      "         npar   AIC   BIC  logLik deviance  Chisq Df Pr(>Chisq)\n",
      "model0     17 19037 19159 -9501.7    19003                     \n",
      "model1_1   19 19037 19173 -9499.6    18999 4.2615  2     0.1187\n"
     ]
    }
   ],
   "source": [
    "%%R\n",
    "anova(model0, model1_1)"
   ]
  },
  {
   "cell_type": "code",
   "execution_count": 19,
   "id": "96c48e5d",
   "metadata": {
    "ExecuteTime": {
     "end_time": "2022-07-05T21:09:33.120517Z",
     "start_time": "2022-07-05T21:09:33.077517Z"
    }
   },
   "outputs": [
    {
     "name": "stdout",
     "output_type": "stream",
     "text": [
      "Data: dat\n",
      "Models:\n",
      "model0: num_loss ~ condition + numFullUndo_factor + (1 | puzzleID) + (1 | subject)\n",
      "model2_1: num_loss ~ condition + numFullUndo_factor + (1 + condition | puzzleID) + (1 | subject)\n",
      "         npar   AIC   BIC  logLik deviance  Chisq Df Pr(>Chisq)\n",
      "model0     17 19037 19159 -9501.7    19003                     \n",
      "model2_1   19 19037 19173 -9499.5    18999 4.4665  2     0.1072\n"
     ]
    }
   ],
   "source": [
    "%%R\n",
    "anova(model0, model2_1)"
   ]
  },
  {
   "cell_type": "code",
   "execution_count": 20,
   "id": "43612054",
   "metadata": {
    "ExecuteTime": {
     "end_time": "2022-07-05T21:09:33.165517Z",
     "start_time": "2022-07-05T21:09:33.122517Z"
    }
   },
   "outputs": [
    {
     "name": "stdout",
     "output_type": "stream",
     "text": [
      "Data: dat\n",
      "Models:\n",
      "model0: num_loss ~ condition + numFullUndo_factor + (1 | puzzleID) + (1 | subject)\n",
      "model2: num_loss ~ condition + numFullUndo_factor + (1 | puzzleID) + (1 + condition | subject)\n",
      "       npar   AIC   BIC  logLik deviance  Chisq Df Pr(>Chisq)    \n",
      "model0   17 19037 19159 -9501.7    19003                         \n",
      "model2   19 19027 19162 -9494.2    18989 14.879  2  0.0005876 ***\n",
      "---\n",
      "Signif. codes:  0 '***' 0.001 '**' 0.01 '*' 0.05 '.' 0.1 ' ' 1\n"
     ]
    }
   ],
   "source": [
    "%%R\n",
    "anova(model0, model2)"
   ]
  },
  {
   "cell_type": "code",
   "execution_count": 21,
   "id": "a550be02",
   "metadata": {
    "ExecuteTime": {
     "end_time": "2022-07-05T21:09:33.227517Z",
     "start_time": "2022-07-05T21:09:33.167517Z"
    },
    "scrolled": true
   },
   "outputs": [
    {
     "name": "stdout",
     "output_type": "stream",
     "text": [
      "Data: dat\n",
      "Models:\n",
      "model0: num_loss ~ condition + numFullUndo_factor + (1 | puzzleID) + (1 | subject)\n",
      "model2_1: num_loss ~ condition + numFullUndo_factor + (1 + condition | puzzleID) + (1 | subject)\n",
      "         npar   AIC   BIC  logLik deviance  Chisq Df Pr(>Chisq)\n",
      "model0     17 19037 19159 -9501.7    19003                     \n",
      "model2_1   19 19037 19173 -9499.5    18999 4.4665  2     0.1072\n"
     ]
    }
   ],
   "source": [
    "%%R\n",
    "anova(model0, model2_1)"
   ]
  },
  {
   "cell_type": "code",
   "execution_count": 22,
   "id": "30a9a28c",
   "metadata": {
    "ExecuteTime": {
     "end_time": "2022-07-05T21:09:33.287516Z",
     "start_time": "2022-07-05T21:09:33.229516Z"
    },
    "scrolled": true
   },
   "outputs": [
    {
     "name": "stdout",
     "output_type": "stream",
     "text": [
      "Data: dat\n",
      "Models:\n",
      "model0: num_loss ~ condition + numFullUndo_factor + (1 | puzzleID) + (1 | subject)\n",
      "model2: num_loss ~ condition + numFullUndo_factor + (1 | puzzleID) + (1 + condition | subject)\n",
      "       npar   AIC   BIC  logLik deviance  Chisq Df Pr(>Chisq)    \n",
      "model0   17 19037 19159 -9501.7    19003                         \n",
      "model2   19 19027 19162 -9494.2    18989 14.879  2  0.0005876 ***\n",
      "---\n",
      "Signif. codes:  0 '***' 0.001 '**' 0.01 '*' 0.05 '.' 0.1 ' ' 1\n"
     ]
    }
   ],
   "source": [
    "%%R\n",
    "anova(model0, model2)"
   ]
  },
  {
   "cell_type": "code",
   "execution_count": 23,
   "id": "fcda93ef",
   "metadata": {
    "ExecuteTime": {
     "end_time": "2022-07-05T21:09:33.347519Z",
     "start_time": "2022-07-05T21:09:33.290516Z"
    }
   },
   "outputs": [
    {
     "name": "stdout",
     "output_type": "stream",
     "text": [
      "Data: dat\n",
      "Models:\n",
      "model2: num_loss ~ condition + numFullUndo_factor + (1 | puzzleID) + (1 + condition | subject)\n",
      "model3: num_loss ~ condition + numFullUndo_factor + (1 + condition | puzzleID) + (1 + condition | subject)\n",
      "       npar   AIC   BIC  logLik deviance  Chisq Df Pr(>Chisq)  \n",
      "model2   19 19027 19162 -9494.2    18989                       \n",
      "model3   21 19026 19176 -9491.9    18984 4.6272  2     0.0989 .\n",
      "---\n",
      "Signif. codes:  0 '***' 0.001 '**' 0.01 '*' 0.05 '.' 0.1 ' ' 1\n"
     ]
    }
   ],
   "source": [
    "%%R\n",
    "anova(model2, model3)"
   ]
  },
  {
   "cell_type": "code",
   "execution_count": 24,
   "id": "210dae85",
   "metadata": {
    "ExecuteTime": {
     "end_time": "2022-07-05T21:09:33.392517Z",
     "start_time": "2022-07-05T21:09:33.349516Z"
    }
   },
   "outputs": [
    {
     "name": "stdout",
     "output_type": "stream",
     "text": [
      "Data: dat\n",
      "Models:\n",
      "model2: num_loss ~ condition + numFullUndo_factor + (1 | puzzleID) + (1 + condition | subject)\n",
      "model4: num_loss ~ condition + numFullUndo_factor + (1 + numFullUndo | puzzleID) + (1 + condition | subject)\n",
      "       npar   AIC   BIC  logLik deviance  Chisq Df Pr(>Chisq)  \n",
      "model2   19 19027 19162 -9494.2    18989                       \n",
      "model4   21 19026 19176 -9491.9    18984 4.7359  2    0.09367 .\n",
      "---\n",
      "Signif. codes:  0 '***' 0.001 '**' 0.01 '*' 0.05 '.' 0.1 ' ' 1\n"
     ]
    }
   ],
   "source": [
    "%%R\n",
    "anova(model2, model4)"
   ]
  },
  {
   "cell_type": "code",
   "execution_count": 25,
   "id": "5c1e5257",
   "metadata": {
    "ExecuteTime": {
     "end_time": "2022-07-05T21:09:33.437516Z",
     "start_time": "2022-07-05T21:09:33.395516Z"
    },
    "scrolled": true
   },
   "outputs": [
    {
     "name": "stdout",
     "output_type": "stream",
     "text": [
      "Data: dat\n",
      "Models:\n",
      "model2: num_loss ~ condition + numFullUndo_factor + (1 | puzzleID) + (1 + condition | subject)\n",
      "model3: num_loss ~ condition + numFullUndo_factor + (1 + condition | puzzleID) + (1 + condition | subject)\n",
      "       npar   AIC   BIC  logLik deviance  Chisq Df Pr(>Chisq)  \n",
      "model2   19 19027 19162 -9494.2    18989                       \n",
      "model3   21 19026 19176 -9491.9    18984 4.6272  2     0.0989 .\n",
      "---\n",
      "Signif. codes:  0 '***' 0.001 '**' 0.01 '*' 0.05 '.' 0.1 ' ' 1\n"
     ]
    }
   ],
   "source": [
    "%%R\n",
    "anova(model2, model3)"
   ]
  },
  {
   "cell_type": "code",
   "execution_count": 26,
   "id": "8d47f0a9",
   "metadata": {
    "ExecuteTime": {
     "end_time": "2022-07-05T21:09:33.497516Z",
     "start_time": "2022-07-05T21:09:33.439517Z"
    }
   },
   "outputs": [
    {
     "name": "stdout",
     "output_type": "stream",
     "text": [
      "Data: dat\n",
      "Models:\n",
      "model2: num_loss ~ condition + numFullUndo_factor + (1 | puzzleID) + (1 + condition | subject)\n",
      "model4: num_loss ~ condition + numFullUndo_factor + (1 + numFullUndo | puzzleID) + (1 + condition | subject)\n",
      "       npar   AIC   BIC  logLik deviance  Chisq Df Pr(>Chisq)  \n",
      "model2   19 19027 19162 -9494.2    18989                       \n",
      "model4   21 19026 19176 -9491.9    18984 4.7359  2    0.09367 .\n",
      "---\n",
      "Signif. codes:  0 '***' 0.001 '**' 0.01 '*' 0.05 '.' 0.1 ' ' 1\n"
     ]
    }
   ],
   "source": [
    "%%R\n",
    "anova(model2, model4)"
   ]
  },
  {
   "cell_type": "code",
   "execution_count": 27,
   "id": "f139b1fb",
   "metadata": {
    "ExecuteTime": {
     "end_time": "2022-07-05T21:09:33.632516Z",
     "start_time": "2022-07-05T21:09:33.499516Z"
    },
    "scrolled": true
   },
   "outputs": [
    {
     "name": "stdout",
     "output_type": "stream",
     "text": [
      "Generalized linear mixed model fit by maximum likelihood (Laplace\n",
      "  Approximation) [glmerMod]\n",
      " Family: poisson  ( log )\n",
      "Formula: num_loss ~ condition + numFullUndo_factor + (1 + numFullUndo |  \n",
      "    puzzleID) + (1 + condition | subject)\n",
      "   Data: dat\n",
      "\n",
      "     AIC      BIC   logLik deviance df.resid \n",
      " 19025.8  19175.6  -9491.9  18983.8     9271 \n",
      "\n",
      "Scaled residuals: \n",
      "    Min      1Q  Median      3Q     Max \n",
      "-1.9231 -0.6531 -0.3216  0.4689  8.8676 \n",
      "\n",
      "Random effects:\n",
      " Groups   Name        Variance Std.Dev. Corr\n",
      " subject  (Intercept) 0.275464 0.52485      \n",
      "          condition   0.004840 0.06957  0.60\n",
      " puzzleID (Intercept) 0.188543 0.43421      \n",
      "          numFullUndo 0.001807 0.04251  1.00\n",
      "Number of obs: 9292, groups:  subject, 101; puzzleID, 46\n",
      "\n",
      "Fixed effects:\n",
      "                      Estimate Std. Error z value Pr(>|z|)    \n",
      "(Intercept)          -0.460959   0.084219  -5.473 4.42e-08 ***\n",
      "condition            -0.115460   0.016932  -6.819 9.16e-12 ***\n",
      "numFullUndo_factor1  -0.110659   0.052816  -2.095   0.0362 *  \n",
      "numFullUndo_factor2  -0.054495   0.090040  -0.605   0.5450    \n",
      "numFullUndo_factor3  -0.099634   0.128351  -0.776   0.4376    \n",
      "numFullUndo_factor4  -0.247019   0.203824  -1.212   0.2255    \n",
      "numFullUndo_factor5  -0.078846   0.281471  -0.280   0.7794    \n",
      "numFullUndo_factor6  -0.061239   0.424489  -0.144   0.8853    \n",
      "numFullUndo_factor7  -0.493531   0.583029  -0.846   0.3973    \n",
      "numFullUndo_factor8  -0.367195   0.596684  -0.615   0.5383    \n",
      "numFullUndo_factor9   0.007592   1.005458   0.008   0.9940    \n",
      "numFullUndo_factor10 -8.789249  14.696412  -0.598   0.5498    \n",
      "numFullUndo_factor11 -0.083754   0.752941  -0.111   0.9114    \n",
      "numFullUndo_factor12  0.342063   0.638135   0.536   0.5919    \n",
      "numFullUndo_factor16 -0.292697   1.089805  -0.269   0.7883    \n",
      "---\n",
      "Signif. codes:  0 '***' 0.001 '**' 0.01 '*' 0.05 '.' 0.1 ' ' 1\n"
     ]
    },
    {
     "name": "stderr",
     "output_type": "stream",
     "text": [
      "R[write to console]: \n",
      "Correlation matrix not shown by default, as p = 15 > 12.\n",
      "Use print(object, correlation=TRUE)  or\n",
      "    vcov(object)        if you need it\n",
      "\n",
      "\n"
     ]
    },
    {
     "name": "stdout",
     "output_type": "stream",
     "text": [
      "optimizer (Nelder_Mead) convergence code: 0 (OK)\n",
      "Model failed to converge with max|grad| = 0.0145502 (tol = 0.002, component 1)\n",
      "Model is nearly unidentifiable: large eigenvalue ratio\n",
      " - Rescale variables?\n",
      "\n"
     ]
    }
   ],
   "source": [
    "%%R\n",
    "summary(model4)"
   ]
  },
  {
   "cell_type": "code",
   "execution_count": 29,
   "id": "bf28143a",
   "metadata": {
    "ExecuteTime": {
     "end_time": "2022-07-05T21:10:36.996731Z",
     "start_time": "2022-07-05T21:10:36.877661Z"
    },
    "scrolled": false
   },
   "outputs": [
    {
     "name": "stdout",
     "output_type": "stream",
     "text": [
      "Generalized linear mixed model fit by maximum likelihood (Laplace\n",
      "  Approximation) [glmerMod]\n",
      " Family: poisson  ( log )\n",
      "Formula: num_loss ~ condition + numFullUndo_factor + (1 + numFullUndo |  \n",
      "    puzzleID) + (1 + condition | subject)\n",
      "   Data: dat\n",
      "\n",
      "     AIC      BIC   logLik deviance df.resid \n",
      " 19025.8  19175.6  -9491.9  18983.8     9271 \n",
      "\n",
      "Scaled residuals: \n",
      "    Min      1Q  Median      3Q     Max \n",
      "-1.9231 -0.6531 -0.3216  0.4689  8.8676 \n",
      "\n",
      "Random effects:\n",
      " Groups   Name        Variance Std.Dev. Corr\n",
      " subject  (Intercept) 0.275464 0.52485      \n",
      "          condition   0.004840 0.06957  0.60\n",
      " puzzleID (Intercept) 0.188543 0.43421      \n",
      "          numFullUndo 0.001807 0.04251  1.00\n",
      "Number of obs: 9292, groups:  subject, 101; puzzleID, 46\n",
      "\n",
      "Fixed effects:\n",
      "                      Estimate Std. Error z value Pr(>|z|)    \n",
      "(Intercept)          -0.460959   0.084219  -5.473 4.42e-08 ***\n",
      "condition            -0.115460   0.016932  -6.819 9.16e-12 ***\n",
      "numFullUndo_factor1  -0.110659   0.052816  -2.095   0.0362 *  \n",
      "numFullUndo_factor2  -0.054495   0.090040  -0.605   0.5450    \n",
      "numFullUndo_factor3  -0.099634   0.128351  -0.776   0.4376    \n",
      "numFullUndo_factor4  -0.247019   0.203824  -1.212   0.2255    \n",
      "numFullUndo_factor5  -0.078846   0.281471  -0.280   0.7794    \n",
      "numFullUndo_factor6  -0.061239   0.424489  -0.144   0.8853    \n",
      "numFullUndo_factor7  -0.493531   0.583029  -0.846   0.3973    \n",
      "numFullUndo_factor8  -0.367195   0.596684  -0.615   0.5383    \n",
      "numFullUndo_factor9   0.007592   1.005458   0.008   0.9940    \n",
      "numFullUndo_factor10 -8.789249  14.696412  -0.598   0.5498    \n",
      "numFullUndo_factor11 -0.083754   0.752941  -0.111   0.9114    \n",
      "numFullUndo_factor12  0.342063   0.638135   0.536   0.5919    \n",
      "numFullUndo_factor16 -0.292697   1.089805  -0.269   0.7883    \n",
      "---\n",
      "Signif. codes:  0 '***' 0.001 '**' 0.01 '*' 0.05 '.' 0.1 ' ' 1\n"
     ]
    },
    {
     "name": "stderr",
     "output_type": "stream",
     "text": [
      "R[write to console]: \n",
      "Correlation matrix not shown by default, as p = 15 > 12.\n",
      "Use print(object, correlation=TRUE)  or\n",
      "    vcov(object)        if you need it\n",
      "\n",
      "\n"
     ]
    },
    {
     "name": "stdout",
     "output_type": "stream",
     "text": [
      "optimizer (Nelder_Mead) convergence code: 0 (OK)\n",
      "Model failed to converge with max|grad| = 0.0145502 (tol = 0.002, component 1)\n",
      "Model is nearly unidentifiable: large eigenvalue ratio\n",
      " - Rescale variables?\n",
      "\n"
     ]
    }
   ],
   "source": [
    "%%R\n",
    "summary(model4)"
   ]
  },
  {
   "cell_type": "code",
   "execution_count": 43,
   "id": "7cca94e1",
   "metadata": {
    "ExecuteTime": {
     "end_time": "2022-07-05T21:31:00.853826Z",
     "start_time": "2022-07-05T21:31:00.744828Z"
    },
    "scrolled": true
   },
   "outputs": [
    {
     "name": "stdout",
     "output_type": "stream",
     "text": [
      "Generalized linear mixed model fit by maximum likelihood (Laplace\n",
      "  Approximation) [glmerMod]\n",
      " Family: poisson  ( log )\n",
      "Formula: num_loss ~ condition + numFullUndo_factor + (1 + numFullUndo |  \n",
      "    puzzleID) + (1 + condition | subject)\n",
      "   Data: dat\n",
      "\n",
      "     AIC      BIC   logLik deviance df.resid \n",
      " 19025.8  19175.6  -9491.9  18983.8     9271 \n",
      "\n",
      "Scaled residuals: \n",
      "    Min      1Q  Median      3Q     Max \n",
      "-1.9231 -0.6531 -0.3216  0.4689  8.8676 \n",
      "\n",
      "Random effects:\n",
      " Groups   Name        Variance Std.Dev. Corr\n",
      " subject  (Intercept) 0.275464 0.52485      \n",
      "          condition   0.004840 0.06957  0.60\n",
      " puzzleID (Intercept) 0.188543 0.43421      \n",
      "          numFullUndo 0.001807 0.04251  1.00\n",
      "Number of obs: 9292, groups:  subject, 101; puzzleID, 46\n",
      "\n",
      "Fixed effects:\n",
      "                      Estimate Std. Error z value Pr(>|z|)    \n",
      "(Intercept)          -0.460959   0.084219  -5.473 4.42e-08 ***\n",
      "condition            -0.115460   0.016932  -6.819 9.16e-12 ***\n",
      "numFullUndo_factor1  -0.110659   0.052816  -2.095   0.0362 *  \n",
      "numFullUndo_factor2  -0.054495   0.090040  -0.605   0.5450    \n",
      "numFullUndo_factor3  -0.099634   0.128351  -0.776   0.4376    \n",
      "numFullUndo_factor4  -0.247019   0.203824  -1.212   0.2255    \n",
      "numFullUndo_factor5  -0.078846   0.281471  -0.280   0.7794    \n",
      "numFullUndo_factor6  -0.061239   0.424489  -0.144   0.8853    \n",
      "numFullUndo_factor7  -0.493531   0.583029  -0.846   0.3973    \n",
      "numFullUndo_factor8  -0.367195   0.596684  -0.615   0.5383    \n",
      "numFullUndo_factor9   0.007592   1.005458   0.008   0.9940    \n",
      "numFullUndo_factor10 -8.789249  14.696412  -0.598   0.5498    \n",
      "numFullUndo_factor11 -0.083754   0.752941  -0.111   0.9114    \n",
      "numFullUndo_factor12  0.342063   0.638135   0.536   0.5919    \n",
      "numFullUndo_factor16 -0.292697   1.089805  -0.269   0.7883    \n",
      "---\n",
      "Signif. codes:  0 '***' 0.001 '**' 0.01 '*' 0.05 '.' 0.1 ' ' 1\n"
     ]
    },
    {
     "name": "stderr",
     "output_type": "stream",
     "text": [
      "R[write to console]: \n",
      "Correlation matrix not shown by default, as p = 15 > 12.\n",
      "Use print(object, correlation=TRUE)  or\n",
      "    vcov(object)        if you need it\n",
      "\n",
      "\n"
     ]
    },
    {
     "name": "stdout",
     "output_type": "stream",
     "text": [
      "optimizer (Nelder_Mead) convergence code: 0 (OK)\n",
      "Model failed to converge with max|grad| = 0.0145502 (tol = 0.002, component 1)\n",
      "Model is nearly unidentifiable: large eigenvalue ratio\n",
      " - Rescale variables?\n",
      "\n"
     ]
    }
   ],
   "source": [
    "%%R\n",
    "summary(model4)"
   ]
  },
  {
   "cell_type": "code",
   "execution_count": 30,
   "id": "c3e44b07",
   "metadata": {
    "ExecuteTime": {
     "end_time": "2022-07-05T21:10:37.206669Z",
     "start_time": "2022-07-05T21:10:36.997662Z"
    },
    "scrolled": true
   },
   "outputs": [
    {
     "name": "stdout",
     "output_type": "stream",
     "text": [
      "$subject\n",
      "\n",
      "$puzzleID\n",
      "\n"
     ]
    },
    {
     "data": {
      "image/png": "[encoded data removed]"
     },
     "metadata": {},
     "output_type": "display_data"
    },
    {
     "data": {
      "image/png": "[encoded data removed]"
     },
     "metadata": {},
     "output_type": "display_data"
    }
   ],
   "source": [
    "%%R\n",
    "\n",
    "# theme_set(theme_sjplot())\n",
    "# sjp.glmer(model2)\n",
    "# plot_model(model2,type=\"pred\",terms=\"condition\")\n",
    "# plot_model(model2,type=\"pred\",terms=\"numFullUndo\")\n",
    "dotplot(ranef(model4,condVar=TRUE))\n"
   ]
  }
 ],
 "metadata": {
  "kernelspec": {
   "display_name": "Python 3 (ipykernel)",
   "language": "python",
   "name": "python3"
  },
  "language_info": {
   "codemirror_mode": {
    "name": "ipython",
    "version": 3
   },
   "file_extension": ".py",
   "mimetype": "text/x-python",
   "name": "python",
   "nbconvert_exporter": "python",
   "pygments_lexer": "ipython3",
   "version": "3.7.11"
  },
  "toc": {
   "base_numbering": 1,
   "nav_menu": {},
   "number_sections": true,
   "sideBar": true,
   "skip_h1_title": false,
   "title_cell": "Table of Contents",
   "title_sidebar": "Contents",
   "toc_cell": true,
   "toc_position": {
    "height": "687.167px",
    "left": "33px",
    "top": "340.833px",
    "width": "256.312px"
   },
   "toc_section_display": true,
   "toc_window_display": true
  }
 },
 "nbformat": 4,
 "nbformat_minor": 5
}
