{
 "cells": [
  {
   "cell_type": "code",
   "execution_count": 1,
   "id": "2db75fcc",
   "metadata": {
    "ExecuteTime": {
     "end_time": "2022-04-06T18:07:24.971660Z",
     "start_time": "2022-04-06T18:07:22.811086Z"
    },
    "scrolled": true
   },
   "outputs": [],
   "source": [
    "import pandas as pd\n",
    "import numpy as np\n",
    "\n",
    "import matplotlib.pyplot as plt\n",
    "import seaborn as sns\n",
    "\n",
    "from scipy import stats\n",
    "from scipy.stats import sem\n",
    "from scipy.stats import pearsonr\n",
    "from scipy.stats import shapiro\n",
    "from scipy.stats import normaltest\n",
    "from scipy.stats import ttest_rel, ttest_ind"
   ]
  },
  {
   "cell_type": "code",
   "execution_count": 2,
   "id": "6775eaee",
   "metadata": {
    "ExecuteTime": {
     "end_time": "2022-04-06T18:07:24.987121Z",
     "start_time": "2022-04-06T18:07:24.973621Z"
    },
    "scrolled": true
   },
   "outputs": [],
   "source": [
    "from rpy2.robjects.packages import importr\n",
    "import rpy2.robjects.packages as rpackages\n",
    "from rpy2.robjects.vectors import StrVector\n",
    "\n",
    "# import R's \"base\" package\n",
    "utils = importr('utils')\n",
    "utils.chooseCRANmirror(ind=1) # select the first mirror in the list\n",
    "\n",
    "packnames = ['lme4', 'optimx', 'pbkrtest', 'lmerTest',\n",
    "             'ggplot2', 'dplyr', 'sjPlot', 'car']\n",
    "\n",
    "# if there is no package then install it\n",
    "names_to_install = [x for x in packnames if not rpackages.isinstalled(x)]\n",
    "if len(names_to_install) > 0:\n",
    "    utils.install_packages(StrVector(names_to_install))"
   ]
  },
  {
   "cell_type": "code",
   "execution_count": 3,
   "id": "e3f5f791",
   "metadata": {
    "ExecuteTime": {
     "end_time": "2022-04-06T18:07:38.061726Z",
     "start_time": "2022-04-06T18:07:29.055639Z"
    },
    "scrolled": true
   },
   "outputs": [],
   "source": [
    "%load_ext rpy2.ipython\n",
    "\n",
    "# import R's \"base\" package\n",
    "lme4 = importr('lme4')\n",
    "optimx = importr('optimx')\n",
    "pbkrtest = importr('pbkrtest')\n",
    "lmerTest = importr('lmerTest')\n",
    "ggplot = importr('ggplot2')\n",
    "dplyr = importr('dplyr')\n",
    "sjp = importr('sjPlot')\n",
    "sjmisc = importr('sjmisc')\n",
    "car = importr('car')\n",
    "lattice = importr('lattice')"
   ]
  },
  {
   "cell_type": "code",
   "execution_count": 4,
   "id": "c8bfb898",
   "metadata": {
    "ExecuteTime": {
     "end_time": "2022-04-06T18:07:38.339808Z",
     "start_time": "2022-04-06T18:07:38.063636Z"
    }
   },
   "outputs": [],
   "source": [
    "home_dir = '/Users/dbao/google_drive_db'+'/road_construction/data/2022_online/'\n",
    "map_dir = 'active_map/'\n",
    "data_dir  = 'data/preprocessed'\n",
    "out_dir = home_dir + 'figures/figures_all/'\n",
    "R_out_dir = home_dir + 'R_analysis_data/'"
   ]
  },
  {
   "cell_type": "code",
   "execution_count": 5,
   "id": "75bada35",
   "metadata": {
    "ExecuteTime": {
     "end_time": "2022-04-06T18:07:38.339808Z",
     "start_time": "2022-04-06T18:07:38.063636Z"
    },
    "scrolled": true
   },
   "outputs": [],
   "source": [
    "data_puzzle_level = pd.read_csv(R_out_dir +  'data.csv')\n",
    "puzzleID_order_data = data_puzzle_level.sort_values([\"subjects\",\"puzzleID\",\"condition\"])\n",
    "data_choice_level = pd.read_csv(R_out_dir +  'choice_level/choicelevel_data.csv')\n",
    "\n",
    "sc_condition_data = data_choice_level[data_choice_level['condition']==1].copy()\n",
    "sc_condition_data = sc_condition_data.reset_index()"
   ]
  },
  {
   "cell_type": "code",
   "execution_count": null,
   "id": "9694b828",
   "metadata": {},
   "outputs": [],
   "source": [
    "data_choice_level_df = data_choice_level[(data_choice_level['undo'] == 0)|(data_choice_level['firstUndo'] == 1)]\n",
    "data_choice_level_df = data_choice_level_df.reset_index()"
   ]
  },
  {
   "cell_type": "code",
   "execution_count": 39,
   "id": "5dca3124",
   "metadata": {
    "ExecuteTime": {
     "end_time": "2022-04-06T18:07:38.370566Z",
     "start_time": "2022-04-06T18:07:38.341880Z"
    },
    "scrolled": true
   },
   "outputs": [],
   "source": [
    "subject = np.array(data_puzzle_level.subjects)\n",
    "puzzleID = np.array(data_puzzle_level.puzzleID)\n",
    "\n",
    "mas = np.array(data_puzzle_level.mas)\n",
    "num_loss = np.array(data_puzzle_level.mas) - np.array(data_puzzle_level.numCities)\n",
    "\n",
    "numUndo = np.array(data_puzzle_level.numUNDO)\n",
    "numFullUndo = np.array(data_puzzle_level.numFullUndo)\n",
    "# numFullUndo = np.sign(numFullUndo)\n",
    "\n",
    "dat = pd.DataFrame({'condition':condition,'subject':subject, 'puzzleID':puzzleID,\n",
    "                    'mas':mas, 'num_loss':num_loss,\n",
    "                    'numUndo':numUndo, 'numFullUndo':numFullUndo, \n",
    "                    'numFullUndo_factor':numFullUndo,'numFullUndo_factor1':numFullUndo,'numFullUndo_factor2':numFullUndo,'numFullUndo_factor3':numFullUndo,\n",
    "                    'numUndo_center':numUndo,'numFullUndo_center':numFullUndo,\n",
    "                    'numUndo_center0':numUndo,'numFullUndo_center0':numFullUndo})\n",
    "\n",
    "\n",
    "# fix bug\n",
    "dat.loc[dat[dat.num_loss == -1].index,'mas'] = 9\n",
    "num_loss = np.array(dat.mas) - np.array(data_puzzle_level.numCities)\n",
    "dat.num_loss = num_loss"
   ]
  },
  {
   "cell_type": "code",
   "execution_count": 40,
   "id": "ca8bfcc6",
   "metadata": {
    "ExecuteTime": {
     "end_time": "2022-04-05T21:25:09.700242Z",
     "start_time": "2022-04-05T21:25:09.388430Z"
    },
    "scrolled": true
   },
   "outputs": [],
   "source": [
    "# center number of undo in undo condition\n",
    "for si in np.unique(dat.subject):\n",
    "    index = np.intersect1d(dat[dat['condition']==1].index, dat[dat['subject']==si].index)\n",
    "    dat.loc[index,'numFullUndo_center'] = dat.loc[index,'numFullUndo'] - dat.loc[index,'numFullUndo'].mean()\n",
    "    dat.loc[index,'numUndo_center'] = dat.loc[index,'numUndo'] - dat.loc[index,'numUndo'].mean()\n"
   ]
  },
  {
   "cell_type": "code",
   "execution_count": 41,
   "id": "bc198628",
   "metadata": {
    "ExecuteTime": {
     "end_time": "2022-04-06T18:22:17.828180Z",
     "start_time": "2022-04-06T18:22:17.366151Z"
    },
    "scrolled": true
   },
   "outputs": [],
   "source": [
    "# Assumption here: there is no effect of not undoing, but centralize for others. \n",
    "for si in np.unique(dat.subject):\n",
    "    index = np.intersect1d(dat[dat['condition']==1].index,dat[dat['subject']==si].index)\n",
    "    index = np.intersect1d(dat[dat['numFullUndo']!=0].index, index)\n",
    "    dat.loc[index,'numFullUndo_center0'] = dat.loc[index,'numFullUndo'] - dat.loc[index,'numFullUndo'].mean()\n",
    "    dat.loc[index,'numUndo_center0'] = dat.loc[index,'numUndo'] - dat.loc[index,'numUndo'].mean()"
   ]
  },
  {
   "cell_type": "code",
   "execution_count": 42,
   "id": "44b20c55",
   "metadata": {
    "ExecuteTime": {
     "end_time": "2022-04-06T19:34:51.634759Z",
     "start_time": "2022-04-06T19:34:51.614820Z"
    }
   },
   "outputs": [],
   "source": [
    "dat.loc[dat.numFullUndo_factor ==1,'numFullUndo_factor'] = 1\n",
    "dat.loc[dat.numFullUndo_factor >=2,'numFullUndo_factor'] = 2"
   ]
  },
  {
   "cell_type": "code",
   "execution_count": 43,
   "id": "84ae9aaa",
   "metadata": {
    "ExecuteTime": {
     "end_time": "2022-04-06T19:14:43.645098Z",
     "start_time": "2022-04-06T19:14:43.626099Z"
    }
   },
   "outputs": [],
   "source": [
    "dat.loc[dat.numFullUndo_factor ==1,'numFullUndo_factor1'] = -.5\n",
    "dat.loc[dat.numFullUndo_factor >=2,'numFullUndo_factor1'] = .5"
   ]
  },
  {
   "cell_type": "code",
   "execution_count": 51,
   "id": "3ec1c219",
   "metadata": {},
   "outputs": [],
   "source": [
    "dat.loc[dat.numFullUndo_factor <=1,'numFullUndo_factor2']  = -1\n",
    "dat.loc[dat.numFullUndo_factor ==2,'numFullUndo_factor2']  = 0\n",
    "dat.loc[dat.numFullUndo_factor >2,'numFullUndo_factor2']  = 1\n",
    "\n",
    "dat.loc[dat.numFullUndo_factor ==0,'numFullUndo_factor3']= -1\n",
    "dat.loc[dat.numFullUndo_factor ==1,'numFullUndo_factor3']= 0\n",
    "dat.loc[dat.numFullUndo_factor >1,'numFullUndo_factor3'] = 1"
   ]
  },
  {
   "cell_type": "code",
   "execution_count": null,
   "id": "59a00b33",
   "metadata": {},
   "outputs": [],
   "source": []
  }
 ],
 "metadata": {
  "kernelspec": {
   "display_name": "Python 3 (ipykernel)",
   "language": "python",
   "name": "python3"
  },
  "language_info": {
   "codemirror_mode": {
    "name": "ipython",
    "version": 3
   },
   "file_extension": ".py",
   "mimetype": "text/x-python",
   "name": "python",
   "nbconvert_exporter": "python",
   "pygments_lexer": "ipython3",
   "version": "3.8.3"
  },
  "toc": {
   "base_numbering": 1,
   "nav_menu": {},
   "number_sections": true,
   "sideBar": true,
   "skip_h1_title": false,
   "title_cell": "Table of Contents",
   "title_sidebar": "Contents",
   "toc_cell": false,
   "toc_position": {},
   "toc_section_display": true,
   "toc_window_display": false
  }
 },
 "nbformat": 4,
 "nbformat_minor": 5
}
