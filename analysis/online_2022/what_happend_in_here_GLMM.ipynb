{
 "cells": [
  {
   "cell_type": "markdown",
   "id": "7185c7a8",
   "metadata": {
    "toc": true
   },
   "source": [
    "<h1>Table of Contents<span class=\"tocSkip\"></span></h1>\n",
    "<div class=\"toc\"><ul class=\"toc-item\"><li><span><a href=\"#NOT-FACTORIZED-CONDITION-(-1/1)\" data-toc-modified-id=\"NOT-FACTORIZED-CONDITION-(-1/1)-1\"><span class=\"toc-item-num\">1&nbsp;&nbsp;</span>NOT FACTORIZED CONDITION (-1/1)</a></span></li><li><span><a href=\"#FACTORIZED-CONDITION\" data-toc-modified-id=\"FACTORIZED-CONDITION-2\"><span class=\"toc-item-num\">2&nbsp;&nbsp;</span>FACTORIZED CONDITION</a></span></li></ul></div>"
   ]
  },
  {
   "cell_type": "code",
   "execution_count": 99,
   "id": "2db75fcc",
   "metadata": {
    "ExecuteTime": {
     "end_time": "2022-07-06T18:35:41.823571Z",
     "start_time": "2022-07-06T18:35:41.818499Z"
    },
    "scrolled": true
   },
   "outputs": [],
   "source": [
    "import pandas as pd\n",
    "import numpy as np\n",
    "import matplotlib.pyplot as plt\n",
    "import seaborn as sns\n",
    "from scipy import stats\n",
    "from scipy.stats import sem\n",
    "from scipy.stats import shapiro\n",
    "from scipy.stats import normaltest\n",
    "from scipy.stats import ttest_rel, ttest_ind"
   ]
  },
  {
   "cell_type": "code",
   "execution_count": 100,
   "id": "6775eaee",
   "metadata": {
    "ExecuteTime": {
     "end_time": "2022-07-06T18:35:43.341331Z",
     "start_time": "2022-07-06T18:35:43.332311Z"
    },
    "scrolled": true
   },
   "outputs": [],
   "source": [
    "import rpy2"
   ]
  },
  {
   "cell_type": "code",
   "execution_count": 101,
   "id": "006249fa",
   "metadata": {
    "ExecuteTime": {
     "end_time": "2022-07-06T18:35:47.980204Z",
     "start_time": "2022-07-06T18:35:44.427966Z"
    },
    "scrolled": true
   },
   "outputs": [],
   "source": [
    "from rpy2.robjects.packages import importr\n",
    "import rpy2.robjects.packages as rpackages\n",
    "# import R's \"base\" package\n",
    "utils = importr('utils')\n",
    "utils.chooseCRANmirror(ind=1) # select the first mirror in the list\n",
    "from rpy2.robjects.vectors import StrVector\n",
    "\n",
    "packnames = ['lme4', 'optimx', 'pbkrtest', 'lmerTest',\n",
    "             'ggplot2', 'dplyr', 'sjPlot', 'car']\n",
    "\n",
    "# if there is no package then install it\n",
    "names_to_install = [x for x in packnames if not rpackages.isinstalled(x)]\n",
    "if len(names_to_install) > 0:\n",
    "    utils.install_packages(StrVector(names_to_install))"
   ]
  },
  {
   "cell_type": "code",
   "execution_count": 102,
   "id": "e3f5f791",
   "metadata": {
    "ExecuteTime": {
     "end_time": "2022-07-06T18:35:53.094272Z",
     "start_time": "2022-07-06T18:35:47.982087Z"
    },
    "scrolled": true
   },
   "outputs": [
    {
     "name": "stdout",
     "output_type": "stream",
     "text": [
      "The rpy2.ipython extension is already loaded. To reload it, use:\n",
      "  %reload_ext rpy2.ipython\n"
     ]
    }
   ],
   "source": [
    "%load_ext rpy2.ipython\n",
    "\n",
    "from rpy2.robjects.packages import importr\n",
    "# import R's \"base\" package\n",
    "lme4 = importr('lme4')\n",
    "optimx = importr('optimx')\n",
    "pbkrtest = importr('pbkrtest')\n",
    "lmerTest = importr('lmerTest')\n",
    "ggplot = importr('ggplot2')\n",
    "dplyr = importr('dplyr')\n",
    "sjp = importr('sjPlot')\n",
    "sjmisc = importr('sjmisc')\n",
    "car = importr('car')\n",
    "lattice = importr('lattice')"
   ]
  },
  {
   "cell_type": "code",
   "execution_count": 103,
   "id": "75bada35",
   "metadata": {
    "ExecuteTime": {
     "end_time": "2022-07-06T18:35:53.329252Z",
     "start_time": "2022-07-06T18:35:53.096239Z"
    },
    "scrolled": true
   },
   "outputs": [],
   "source": [
    "home_dir = 'G:\\My Drive\\\\researches\\\\nyu\\\\road-construction-local-dk\\data_online_2022\\\\'\n",
    "# home_dir = 'G:\\.shortcut-targets-by-id\\\\1sYZNVBbYCrHcHjo-9xdKcA4wLnob9ZEq\\\\road_construction\\\\data\\\\2022_online\\\\R_analysis_data\\\\'\n",
    "map_dir = 'active_map/'\n",
    "data_dir  = 'data/preprocessed'\n",
    "out_dir = home_dir + 'figures/figures_all/'\n",
    "R_out_dir = home_dir + 'R_analysis_data/'\n",
    "\n",
    "data_puzzle_level = pd.read_csv(R_out_dir +  'data.csv')\n",
    "puzzleID_order_data = data_puzzle_level.sort_values([\"subjects\",\"puzzleID\",\"condition\"])\n",
    "data_choice_level = pd.read_csv(R_out_dir +  'choice_level/choicelevel_data.csv')\n",
    "\n",
    "single_condition_data = puzzleID_order_data[puzzleID_order_data['condition']==1].copy()\n",
    "single_condition_data = single_condition_data.reset_index()"
   ]
  },
  {
   "cell_type": "markdown",
   "id": "04e18000",
   "metadata": {},
   "source": [
    "# NOT FACTORIZED CONDITION (-1/1)"
   ]
  },
  {
   "cell_type": "code",
   "execution_count": 104,
   "id": "52651e10",
   "metadata": {
    "ExecuteTime": {
     "end_time": "2022-04-06T19:34:50.102031Z",
     "start_time": "2022-04-06T19:34:50.089571Z"
    }
   },
   "outputs": [
    {
     "name": "stderr",
     "output_type": "stream",
     "text": [
      "C:\\ProgramData\\Anaconda3\\envs\\base37\\lib\\site-packages\\ipykernel_launcher.py:17: SettingWithCopyWarning: \n",
      "A value is trying to be set on a copy of a slice from a DataFrame\n",
      "\n",
      "See the caveats in the documentation: https://pandas.pydata.org/pandas-docs/stable/user_guide/indexing.html#returning-a-view-versus-a-copy\n"
     ]
    }
   ],
   "source": [
    "condition = (np.array(data_puzzle_level.condition)-0.5)*2\n",
    "subject = np.array(data_puzzle_level.subjects)\n",
    "puzzleID = np.array(data_puzzle_level.puzzleID)\n",
    "numUndo = np.array(data_puzzle_level.numUNDO)\n",
    "mas = np.array(data_puzzle_level.mas)\n",
    "num_loss = np.array(data_puzzle_level.mas) - np.array(data_puzzle_level.numCities)\n",
    "numFullUndo = np.array(data_puzzle_level.numFullUndo)\n",
    "# numFullUndo = np.sign(numFullUndo)\n",
    "\n",
    "dat = pd.DataFrame({'subject':subject, 'condition':condition,'mas':mas,\n",
    "                    'num_loss':num_loss,'puzzleID':puzzleID,'numUndo':numUndo,\n",
    "                   'numFullUndo':numFullUndo, 'numFullUndo_factor':numFullUndo})\n",
    "\n",
    "\n",
    "\n",
    "# error correction\n",
    "dat.mas[dat[dat.num_loss == -1 ].index] = 9\n",
    "num_loss = np.array(dat.mas) - np.array(data_puzzle_level.numCities)\n",
    "dat.num_loss = num_loss"
   ]
  },
  {
   "cell_type": "code",
   "execution_count": 105,
   "id": "5479dd2a",
   "metadata": {
    "ExecuteTime": {
     "end_time": "2022-04-06T19:34:53.249964Z",
     "start_time": "2022-04-06T19:34:52.839121Z"
    },
    "scrolled": true
   },
   "outputs": [],
   "source": [
    "%%R -i dat\n",
    "# dat$numFullUndo <- factor(dat$numFullUndo)\n",
    "# dat$numFullUndo_factor <- factor(dat$numFullUndo_factor)\n",
    "dat$numFullUndo <- factor(dat$numFullUndo)\n",
    "dat$subject <- factor(dat$subject)\n",
    "# dat$condition <- factor(dat$condition)\n",
    "dat$puzzleID <- factor(dat$puzzleID)"
   ]
  },
  {
   "cell_type": "code",
   "execution_count": 106,
   "id": "acf74696",
   "metadata": {},
   "outputs": [
    {
     "name": "stdout",
     "output_type": "stream",
     "text": [
      "Generalized linear mixed model fit by maximum likelihood (Laplace\n",
      "  Approximation) [glmerMod]\n",
      " Family: poisson  ( log )\n",
      "Formula: \n",
      "num_loss ~ condition + numFullUndo + (1 | puzzleID) + (1 + condition |  \n",
      "    subject)\n",
      "   Data: dat\n",
      "\n",
      "     AIC      BIC   logLik deviance df.resid \n",
      " 19026.5  19162.1  -9494.2  18988.5     9273 \n",
      "\n",
      "Scaled residuals: \n",
      "    Min      1Q  Median      3Q     Max \n",
      "-1.9319 -0.6510 -0.3331  0.4763  8.5136 \n",
      "\n",
      "Random effects:\n",
      " Groups   Name        Variance Std.Dev. Corr\n",
      " subject  (Intercept) 0.274949 0.52436      \n",
      "          condition   0.004772 0.06908  0.60\n",
      " puzzleID (Intercept) 0.196142 0.44288      \n",
      "Number of obs: 9292, groups:  subject, 101; puzzleID, 46\n",
      "\n",
      "Fixed effects:\n",
      "               Estimate Std. Error z value Pr(>|z|)    \n",
      "(Intercept)    -0.46380    0.08516  -5.446 5.15e-08 ***\n",
      "condition      -0.11495    0.01691  -6.799 1.06e-11 ***\n",
      "numFullUndo1   -0.09099    0.05157  -1.764   0.0777 .  \n",
      "numFullUndo2   -0.01723    0.08720  -0.198   0.8434    \n",
      "numFullUndo3   -0.02962    0.12167  -0.243   0.8077    \n",
      "numFullUndo4   -0.17411    0.19808  -0.879   0.3794    \n",
      "numFullUndo5    0.03275    0.27252   0.120   0.9043    \n",
      "numFullUndo6    0.11523    0.41135   0.280   0.7794    \n",
      "numFullUndo7   -0.44682    0.57795  -0.773   0.4395    \n",
      "numFullUndo8   -0.13968    0.57905  -0.241   0.8094    \n",
      "numFullUndo9    0.10600    0.99803   0.106   0.9154    \n",
      "numFullUndo10 -10.63927   17.42497  -0.611   0.5415    \n",
      "numFullUndo11   0.32707    0.71119   0.460   0.6456    \n",
      "numFullUndo12   0.77499    0.58709   1.320   0.1868    \n",
      "numFullUndo16   0.54971    1.00657   0.546   0.5850    \n",
      "---\n",
      "Signif. codes:  0 '***' 0.001 '**' 0.01 '*' 0.05 '.' 0.1 ' ' 1\n"
     ]
    },
    {
     "name": "stderr",
     "output_type": "stream",
     "text": [
      "R[write to console]: \n",
      "Correlation matrix not shown by default, as p = 15 > 12.\n",
      "Use print(object, correlation=TRUE)  or\n",
      "    vcov(object)        if you need it\n",
      "\n",
      "\n"
     ]
    },
    {
     "name": "stdout",
     "output_type": "stream",
     "text": [
      "optimizer (Nelder_Mead) convergence code: 0 (OK)\n",
      "Model is nearly unidentifiable: large eigenvalue ratio\n",
      " - Rescale variables?\n",
      "\n"
     ]
    }
   ],
   "source": [
    "%%R\n",
    "model6 = glmer(num_loss ~ condition + numFullUndo + (1|puzzleID) + (1+condition|subject)\n",
    "               , data=dat,\n",
    "             family=poisson())\n",
    "summary(model6)"
   ]
  },
  {
   "cell_type": "code",
   "execution_count": 107,
   "id": "505c3bfa",
   "metadata": {
    "ExecuteTime": {
     "end_time": "2022-04-06T19:36:31.777676Z",
     "start_time": "2022-04-06T19:34:53.531365Z"
    }
   },
   "outputs": [
    {
     "name": "stdout",
     "output_type": "stream",
     "text": [
      "Generalized linear mixed model fit by maximum likelihood (Laplace\n",
      "  Approximation) [glmerMod]\n",
      " Family: poisson  ( log )\n",
      "Formula: num_loss ~ condition + numFullUndo + (1 + numFullUndo | puzzleID) +  \n",
      "    (1 + condition | subject)\n",
      "   Data: dat\n",
      "\n",
      "     AIC      BIC   logLik deviance df.resid \n",
      " 19218.0  20095.9  -9486.0  18972.0     9169 \n",
      "\n",
      "Scaled residuals: \n",
      "    Min      1Q  Median      3Q     Max \n",
      "-1.9302 -0.6516 -0.3112  0.4658  7.7765 \n",
      "\n",
      "Random effects:\n",
      " Groups   Name          Variance Std.Dev. Corr                               \n",
      " subject  (Intercept)   0.275635 0.52501                                     \n",
      "          condition     0.004625 0.06801  0.61                               \n",
      " puzzleID (Intercept)   0.198267 0.44527                                     \n",
      "          numFullUndo1  0.007504 0.08663  -0.92                              \n",
      "          numFullUndo2  0.084501 0.29069   0.60 -0.23                        \n",
      "          numFullUndo3  0.143932 0.37938   0.97 -0.89  0.60                  \n",
      "          numFullUndo4  0.112327 0.33515   0.82 -0.59  0.85  0.88            \n",
      "          numFullUndo5  0.044276 0.21042  -0.55  0.81  0.31 -0.47 -0.02      \n",
      "          numFullUndo6  0.757059 0.87009   0.95 -0.99  0.33  0.94  0.68 -0.74\n",
      "          numFullUndo7  0.508216 0.71289   0.86 -0.89  0.33  0.92  0.75 -0.55\n",
      "          numFullUndo8  0.655465 0.80961   0.95 -0.94  0.42  0.89  0.63 -0.72\n",
      "          numFullUndo9  1.404517 1.18512   0.08 -0.25 -0.33  0.02 -0.29 -0.50\n",
      "          numFullUndo10 2.471391 1.57207  -0.45  0.51 -0.09 -0.44 -0.31  0.41\n",
      "          numFullUndo11 0.419813 0.64793   0.82 -0.64  0.72  0.80  0.79 -0.22\n",
      "          numFullUndo12 0.070685 0.26587   0.82 -0.59  0.82  0.81  0.84 -0.11\n",
      "          numFullUndo16 0.929067 0.96388   0.22 -0.11  0.30  0.15  0.18 -0.02\n",
      "                                          \n",
      "                                          \n",
      "                                          \n",
      "                                          \n",
      "                                          \n",
      "                                          \n",
      "                                          \n",
      "                                          \n",
      "                                          \n",
      "                                          \n",
      "  0.92                                    \n",
      "  0.94  0.78                              \n",
      "  0.19  0.03  0.29                        \n",
      " -0.50 -0.53 -0.50  0.11                  \n",
      "  0.70  0.61  0.74 -0.01 -0.23            \n",
      "  0.66  0.60  0.72  0.02 -0.28  0.91      \n",
      "  0.10 -0.02  0.23 -0.10 -0.19  0.41  0.37\n",
      "Number of obs: 9292, groups:  subject, 101; puzzleID, 46\n",
      "\n",
      "Fixed effects:\n",
      "              Estimate Std. Error z value Pr(>|z|)    \n",
      "(Intercept)   -0.46667    0.08534  -5.469 4.53e-08 ***\n",
      "condition     -0.11500    0.01526  -7.537 4.81e-14 ***\n",
      "numFullUndo1  -0.05769    0.05143  -1.122   0.2620    \n",
      "numFullUndo2  -0.09979    0.09928  -1.005   0.3148    \n",
      "numFullUndo3  -0.27147    0.13659  -1.988   0.0469 *  \n",
      "numFullUndo4  -0.29872    0.20786  -1.437   0.1507    \n",
      "numFullUndo5   0.10375    0.27392   0.379   0.7049    \n",
      "numFullUndo6  -0.55950    0.45397  -1.232   0.2178    \n",
      "numFullUndo7  -0.72011    0.62531  -1.152   0.2495    \n",
      "numFullUndo8  -0.75071    0.62655  -1.198   0.2309    \n",
      "numFullUndo9  -0.65146    1.45937  -0.446   0.6553    \n",
      "numFullUndo10 -8.42778   84.04796  -0.100   0.9201    \n",
      "numFullUndo11 -0.13660    0.76397  -0.179   0.8581    \n",
      "numFullUndo12  0.60609    0.59514   1.018   0.3085    \n",
      "numFullUndo16  0.17939    1.41653   0.127   0.8992    \n",
      "---\n",
      "Signif. codes:  0 '***' 0.001 '**' 0.01 '*' 0.05 '.' 0.1 ' ' 1\n"
     ]
    },
    {
     "name": "stderr",
     "output_type": "stream",
     "text": [
      "R[write to console]: \n",
      "Correlation matrix not shown by default, as p = 15 > 12.\n",
      "Use print(object, correlation=TRUE)  or\n",
      "    vcov(object)        if you need it\n",
      "\n",
      "\n"
     ]
    },
    {
     "name": "stdout",
     "output_type": "stream",
     "text": [
      "optimizer (Nelder_Mead) convergence code: 4 (failure to converge in 10000 evaluations)\n",
      "unable to evaluate scaled gradient\n",
      "Model failed to converge: degenerate  Hessian with 4 negative eigenvalues\n",
      "failure to converge in 10000 evaluations\n",
      "\n"
     ]
    }
   ],
   "source": [
    "%%R\n",
    "model4 = glmer(num_loss ~ condition + numFullUndo + (1+numFullUndo|puzzleID) + (1+condition|subject)\n",
    "               , data=dat,\n",
    "             family=poisson())\n",
    "summary(model4)"
   ]
  },
  {
   "cell_type": "code",
   "execution_count": 108,
   "id": "aba5c5cf",
   "metadata": {
    "ExecuteTime": {
     "end_time": "2022-04-06T19:36:31.777676Z",
     "start_time": "2022-04-06T19:34:53.531365Z"
    }
   },
   "outputs": [
    {
     "name": "stdout",
     "output_type": "stream",
     "text": [
      "Generalized linear mixed model fit by maximum likelihood (Laplace\n",
      "  Approximation) [glmerMod]\n",
      " Family: poisson  ( log )\n",
      "Formula: num_loss ~ condition + numFullUndo + (1 + numFullUndo | puzzleID) +  \n",
      "    (1 + condition | subject)\n",
      "   Data: dat\n",
      "\n",
      "     AIC      BIC   logLik deviance df.resid \n",
      " 19218.0  20095.9  -9486.0  18972.0     9169 \n",
      "\n",
      "Scaled residuals: \n",
      "    Min      1Q  Median      3Q     Max \n",
      "-1.9302 -0.6516 -0.3112  0.4658  7.7765 \n",
      "\n",
      "Random effects:\n",
      " Groups   Name          Variance Std.Dev. Corr                               \n",
      " subject  (Intercept)   0.275635 0.52501                                     \n",
      "          condition     0.004625 0.06801  0.61                               \n",
      " puzzleID (Intercept)   0.198267 0.44527                                     \n",
      "          numFullUndo1  0.007504 0.08663  -0.92                              \n",
      "          numFullUndo2  0.084501 0.29069   0.60 -0.23                        \n",
      "          numFullUndo3  0.143932 0.37938   0.97 -0.89  0.60                  \n",
      "          numFullUndo4  0.112327 0.33515   0.82 -0.59  0.85  0.88            \n",
      "          numFullUndo5  0.044276 0.21042  -0.55  0.81  0.31 -0.47 -0.02      \n",
      "          numFullUndo6  0.757059 0.87009   0.95 -0.99  0.33  0.94  0.68 -0.74\n",
      "          numFullUndo7  0.508216 0.71289   0.86 -0.89  0.33  0.92  0.75 -0.55\n",
      "          numFullUndo8  0.655465 0.80961   0.95 -0.94  0.42  0.89  0.63 -0.72\n",
      "          numFullUndo9  1.404517 1.18512   0.08 -0.25 -0.33  0.02 -0.29 -0.50\n",
      "          numFullUndo10 2.471391 1.57207  -0.45  0.51 -0.09 -0.44 -0.31  0.41\n",
      "          numFullUndo11 0.419813 0.64793   0.82 -0.64  0.72  0.80  0.79 -0.22\n",
      "          numFullUndo12 0.070685 0.26587   0.82 -0.59  0.82  0.81  0.84 -0.11\n",
      "          numFullUndo16 0.929067 0.96388   0.22 -0.11  0.30  0.15  0.18 -0.02\n",
      "                                          \n",
      "                                          \n",
      "                                          \n",
      "                                          \n",
      "                                          \n",
      "                                          \n",
      "                                          \n",
      "                                          \n",
      "                                          \n",
      "                                          \n",
      "  0.92                                    \n",
      "  0.94  0.78                              \n",
      "  0.19  0.03  0.29                        \n",
      " -0.50 -0.53 -0.50  0.11                  \n",
      "  0.70  0.61  0.74 -0.01 -0.23            \n",
      "  0.66  0.60  0.72  0.02 -0.28  0.91      \n",
      "  0.10 -0.02  0.23 -0.10 -0.19  0.41  0.37\n",
      "Number of obs: 9292, groups:  subject, 101; puzzleID, 46\n",
      "\n",
      "Fixed effects:\n",
      "              Estimate Std. Error z value Pr(>|z|)    \n",
      "(Intercept)   -0.46667    0.08534  -5.469 4.53e-08 ***\n",
      "condition     -0.11500    0.01526  -7.537 4.81e-14 ***\n",
      "numFullUndo1  -0.05769    0.05143  -1.122   0.2620    \n",
      "numFullUndo2  -0.09979    0.09928  -1.005   0.3148    \n",
      "numFullUndo3  -0.27147    0.13659  -1.988   0.0469 *  \n",
      "numFullUndo4  -0.29872    0.20786  -1.437   0.1507    \n",
      "numFullUndo5   0.10375    0.27392   0.379   0.7049    \n",
      "numFullUndo6  -0.55950    0.45397  -1.232   0.2178    \n",
      "numFullUndo7  -0.72011    0.62531  -1.152   0.2495    \n",
      "numFullUndo8  -0.75071    0.62655  -1.198   0.2309    \n",
      "numFullUndo9  -0.65146    1.45937  -0.446   0.6553    \n",
      "numFullUndo10 -8.42778   84.04796  -0.100   0.9201    \n",
      "numFullUndo11 -0.13660    0.76397  -0.179   0.8581    \n",
      "numFullUndo12  0.60609    0.59514   1.018   0.3085    \n",
      "numFullUndo16  0.17939    1.41653   0.127   0.8992    \n",
      "---\n",
      "Signif. codes:  0 '***' 0.001 '**' 0.01 '*' 0.05 '.' 0.1 ' ' 1\n"
     ]
    },
    {
     "name": "stderr",
     "output_type": "stream",
     "text": [
      "R[write to console]: \n",
      "Correlation matrix not shown by default, as p = 15 > 12.\n",
      "Use print(object, correlation=TRUE)  or\n",
      "    vcov(object)        if you need it\n",
      "\n",
      "\n"
     ]
    },
    {
     "name": "stdout",
     "output_type": "stream",
     "text": [
      "optimizer (Nelder_Mead) convergence code: 4 (failure to converge in 10000 evaluations)\n",
      "unable to evaluate scaled gradient\n",
      "Model failed to converge: degenerate  Hessian with 4 negative eigenvalues\n",
      "failure to converge in 10000 evaluations\n",
      "\n"
     ]
    }
   ],
   "source": [
    "%%R\n",
    "# this case \n",
    "model0 = glmer(num_loss ~ condition + numFullUndo + (1|puzzleID) + (1|subject)\n",
    "               , data=dat,\n",
    "             family=poisson())\n",
    "model1 = glmer(num_loss ~ condition + numFullUndo + (1|puzzleID) + (1+numFullUndo|subject)\n",
    "               , data=dat,\n",
    "             family=poisson())\n",
    "model1_1 = glmer(num_loss ~ condition + numFullUndo + (1 +numFullUndo |puzzleID) + (1|subject)\n",
    "               , data=dat,\n",
    "             family=poisson())\n",
    "model2 = glmer(num_loss ~ condition + numFullUndo + (1|puzzleID) + (1+condition|subject)\n",
    "               , data=dat,\n",
    "             family=poisson())\n",
    "model2_1= glmer(num_loss ~ condition + numFullUndo + (1+condition|puzzleID) + (1|subject)\n",
    "               , data=dat,\n",
    "             family=poisson())\n",
    "model3 = glmer(num_loss ~ condition + numFullUndo + (1+condition|puzzleID) + (1+condition|subject)\n",
    "               , data=dat,\n",
    "             family=poisson())\n",
    "summary(model4)"
   ]
  },
  {
   "cell_type": "code",
   "execution_count": 109,
   "id": "5235da39",
   "metadata": {
    "ExecuteTime": {
     "end_time": "2022-04-06T19:36:31.825679Z",
     "start_time": "2022-04-06T19:36:31.779675Z"
    }
   },
   "outputs": [
    {
     "name": "stdout",
     "output_type": "stream",
     "text": [
      "Data: dat\n",
      "Models:\n",
      "model0: num_loss ~ condition + numFullUndo + (1 | puzzleID) + (1 | subject)\n",
      "model1: num_loss ~ condition + numFullUndo + (1 | puzzleID) + (1 + numFullUndo | subject)\n",
      "       npar   AIC   BIC  logLik deviance  Chisq  Df Pr(>Chisq)\n",
      "model0   17 19037 19159 -9501.7    19003                      \n",
      "model1  121 19240 20103 -9498.9    18998 5.5584 104          1\n"
     ]
    }
   ],
   "source": [
    "%%R\n",
    "anova(model0, model1)"
   ]
  },
  {
   "cell_type": "code",
   "execution_count": 110,
   "id": "7b3c7eb3",
   "metadata": {
    "ExecuteTime": {
     "end_time": "2022-04-06T19:38:46.688465Z",
     "start_time": "2022-04-06T19:38:46.646458Z"
    }
   },
   "outputs": [
    {
     "name": "stdout",
     "output_type": "stream",
     "text": [
      "Data: dat\n",
      "Models:\n",
      "model0: num_loss ~ condition + numFullUndo + (1 | puzzleID) + (1 | subject)\n",
      "model1_1: num_loss ~ condition + numFullUndo + (1 + numFullUndo | puzzleID) + (1 | subject)\n",
      "         npar   AIC   BIC  logLik deviance  Chisq  Df Pr(>Chisq)\n",
      "model0     17 19037 19159 -9501.7    19003                      \n",
      "model1_1  121 19227 20090 -9492.3    18985 18.732 104          1\n"
     ]
    }
   ],
   "source": [
    "%%R\n",
    "anova(model0, model1_1)"
   ]
  },
  {
   "cell_type": "code",
   "execution_count": 111,
   "id": "a550be02",
   "metadata": {
    "ExecuteTime": {
     "end_time": "2022-04-06T19:38:48.069960Z",
     "start_time": "2022-04-06T19:38:48.017962Z"
    }
   },
   "outputs": [
    {
     "name": "stdout",
     "output_type": "stream",
     "text": [
      "Data: dat\n",
      "Models:\n",
      "model0: num_loss ~ condition + numFullUndo + (1 | puzzleID) + (1 | subject)\n",
      "model2_1: num_loss ~ condition + numFullUndo + (1 + condition | puzzleID) + (1 | subject)\n",
      "         npar   AIC   BIC  logLik deviance  Chisq Df Pr(>Chisq)\n",
      "model0     17 19037 19159 -9501.7    19003                     \n",
      "model2_1   19 19037 19173 -9499.5    18999 4.4665  2     0.1072\n"
     ]
    }
   ],
   "source": [
    "%%R\n",
    "anova(model0, model2_1)"
   ]
  },
  {
   "cell_type": "code",
   "execution_count": 112,
   "id": "30a9a28c",
   "metadata": {
    "ExecuteTime": {
     "end_time": "2022-04-06T19:38:49.944038Z",
     "start_time": "2022-04-06T19:38:49.902049Z"
    }
   },
   "outputs": [
    {
     "name": "stdout",
     "output_type": "stream",
     "text": [
      "Data: dat\n",
      "Models:\n",
      "model0: num_loss ~ condition + numFullUndo + (1 | puzzleID) + (1 | subject)\n",
      "model2: num_loss ~ condition + numFullUndo + (1 | puzzleID) + (1 + condition | subject)\n",
      "       npar   AIC   BIC  logLik deviance  Chisq Df Pr(>Chisq)    \n",
      "model0   17 19037 19159 -9501.7    19003                         \n",
      "model2   19 19027 19162 -9494.2    18989 14.879  2  0.0005876 ***\n",
      "---\n",
      "Signif. codes:  0 '***' 0.001 '**' 0.01 '*' 0.05 '.' 0.1 ' ' 1\n"
     ]
    }
   ],
   "source": [
    "%%R\n",
    "anova(model0, model2)"
   ]
  },
  {
   "cell_type": "code",
   "execution_count": 113,
   "id": "5c1e5257",
   "metadata": {
    "ExecuteTime": {
     "end_time": "2022-04-06T19:38:52.112443Z",
     "start_time": "2022-04-06T19:38:52.059906Z"
    }
   },
   "outputs": [
    {
     "name": "stdout",
     "output_type": "stream",
     "text": [
      "Data: dat\n",
      "Models:\n",
      "model2: num_loss ~ condition + numFullUndo + (1 | puzzleID) + (1 + condition | subject)\n",
      "model3: num_loss ~ condition + numFullUndo + (1 + condition | puzzleID) + (1 + condition | subject)\n",
      "       npar   AIC   BIC  logLik deviance  Chisq Df Pr(>Chisq)  \n",
      "model2   19 19027 19162 -9494.2    18989                       \n",
      "model3   21 19026 19176 -9491.9    18984 4.6272  2    0.09891 .\n",
      "---\n",
      "Signif. codes:  0 '***' 0.001 '**' 0.01 '*' 0.05 '.' 0.1 ' ' 1\n"
     ]
    }
   ],
   "source": [
    "%%R\n",
    "anova(model2, model3)"
   ]
  },
  {
   "cell_type": "code",
   "execution_count": 114,
   "id": "8d47f0a9",
   "metadata": {
    "ExecuteTime": {
     "end_time": "2022-04-06T19:38:54.549404Z",
     "start_time": "2022-04-06T19:38:54.507403Z"
    }
   },
   "outputs": [
    {
     "name": "stdout",
     "output_type": "stream",
     "text": [
      "Data: dat\n",
      "Models:\n",
      "model2: num_loss ~ condition + numFullUndo + (1 | puzzleID) + (1 + condition | subject)\n",
      "model4: num_loss ~ condition + numFullUndo + (1 + numFullUndo | puzzleID) + (1 + condition | subject)\n",
      "       npar   AIC   BIC  logLik deviance  Chisq  Df Pr(>Chisq)\n",
      "model2   19 19027 19162 -9494.2    18989                      \n",
      "model4  123 19218 20096 -9486.0    18972 16.461 104          1\n"
     ]
    }
   ],
   "source": [
    "%%R\n",
    "anova(model2, model4)"
   ]
  },
  {
   "cell_type": "code",
   "execution_count": 115,
   "id": "bf28143a",
   "metadata": {
    "ExecuteTime": {
     "end_time": "2022-04-06T19:39:13.983453Z",
     "start_time": "2022-04-06T19:39:13.891546Z"
    },
    "scrolled": false
   },
   "outputs": [
    {
     "name": "stdout",
     "output_type": "stream",
     "text": [
      "Generalized linear mixed model fit by maximum likelihood (Laplace\n",
      "  Approximation) [glmerMod]\n",
      " Family: poisson  ( log )\n",
      "Formula: num_loss ~ condition + numFullUndo + (1 + numFullUndo | puzzleID) +  \n",
      "    (1 + condition | subject)\n",
      "   Data: dat\n",
      "\n",
      "     AIC      BIC   logLik deviance df.resid \n",
      " 19218.0  20095.9  -9486.0  18972.0     9169 \n",
      "\n",
      "Scaled residuals: \n",
      "    Min      1Q  Median      3Q     Max \n",
      "-1.9302 -0.6516 -0.3112  0.4658  7.7765 \n",
      "\n",
      "Random effects:\n",
      " Groups   Name          Variance Std.Dev. Corr                               \n",
      " subject  (Intercept)   0.275635 0.52501                                     \n",
      "          condition     0.004625 0.06801  0.61                               \n",
      " puzzleID (Intercept)   0.198267 0.44527                                     \n",
      "          numFullUndo1  0.007504 0.08663  -0.92                              \n",
      "          numFullUndo2  0.084501 0.29069   0.60 -0.23                        \n",
      "          numFullUndo3  0.143932 0.37938   0.97 -0.89  0.60                  \n",
      "          numFullUndo4  0.112327 0.33515   0.82 -0.59  0.85  0.88            \n",
      "          numFullUndo5  0.044276 0.21042  -0.55  0.81  0.31 -0.47 -0.02      \n",
      "          numFullUndo6  0.757059 0.87009   0.95 -0.99  0.33  0.94  0.68 -0.74\n",
      "          numFullUndo7  0.508216 0.71289   0.86 -0.89  0.33  0.92  0.75 -0.55\n",
      "          numFullUndo8  0.655465 0.80961   0.95 -0.94  0.42  0.89  0.63 -0.72\n",
      "          numFullUndo9  1.404517 1.18512   0.08 -0.25 -0.33  0.02 -0.29 -0.50\n",
      "          numFullUndo10 2.471391 1.57207  -0.45  0.51 -0.09 -0.44 -0.31  0.41\n",
      "          numFullUndo11 0.419813 0.64793   0.82 -0.64  0.72  0.80  0.79 -0.22\n",
      "          numFullUndo12 0.070685 0.26587   0.82 -0.59  0.82  0.81  0.84 -0.11\n",
      "          numFullUndo16 0.929067 0.96388   0.22 -0.11  0.30  0.15  0.18 -0.02\n",
      "                                          \n",
      "                                          \n",
      "                                          \n",
      "                                          \n",
      "                                          \n",
      "                                          \n",
      "                                          \n",
      "                                          \n",
      "                                          \n",
      "                                          \n",
      "  0.92                                    \n",
      "  0.94  0.78                              \n",
      "  0.19  0.03  0.29                        \n",
      " -0.50 -0.53 -0.50  0.11                  \n",
      "  0.70  0.61  0.74 -0.01 -0.23            \n",
      "  0.66  0.60  0.72  0.02 -0.28  0.91      \n",
      "  0.10 -0.02  0.23 -0.10 -0.19  0.41  0.37\n",
      "Number of obs: 9292, groups:  subject, 101; puzzleID, 46\n",
      "\n",
      "Fixed effects:\n",
      "              Estimate Std. Error z value Pr(>|z|)    \n",
      "(Intercept)   -0.46667    0.08534  -5.469 4.53e-08 ***\n",
      "condition     -0.11500    0.01526  -7.537 4.81e-14 ***\n",
      "numFullUndo1  -0.05769    0.05143  -1.122   0.2620    \n",
      "numFullUndo2  -0.09979    0.09928  -1.005   0.3148    \n",
      "numFullUndo3  -0.27147    0.13659  -1.988   0.0469 *  \n",
      "numFullUndo4  -0.29872    0.20786  -1.437   0.1507    \n",
      "numFullUndo5   0.10375    0.27392   0.379   0.7049    \n",
      "numFullUndo6  -0.55950    0.45397  -1.232   0.2178    \n",
      "numFullUndo7  -0.72011    0.62531  -1.152   0.2495    \n",
      "numFullUndo8  -0.75071    0.62655  -1.198   0.2309    \n",
      "numFullUndo9  -0.65146    1.45937  -0.446   0.6553    \n",
      "numFullUndo10 -8.42778   84.04796  -0.100   0.9201    \n",
      "numFullUndo11 -0.13660    0.76397  -0.179   0.8581    \n",
      "numFullUndo12  0.60609    0.59514   1.018   0.3085    \n",
      "numFullUndo16  0.17939    1.41653   0.127   0.8992    \n",
      "---\n",
      "Signif. codes:  0 '***' 0.001 '**' 0.01 '*' 0.05 '.' 0.1 ' ' 1\n"
     ]
    },
    {
     "name": "stderr",
     "output_type": "stream",
     "text": [
      "R[write to console]: \n",
      "Correlation matrix not shown by default, as p = 15 > 12.\n",
      "Use print(object, correlation=TRUE)  or\n",
      "    vcov(object)        if you need it\n",
      "\n",
      "\n"
     ]
    },
    {
     "name": "stdout",
     "output_type": "stream",
     "text": [
      "optimizer (Nelder_Mead) convergence code: 4 (failure to converge in 10000 evaluations)\n",
      "unable to evaluate scaled gradient\n",
      "Model failed to converge: degenerate  Hessian with 4 negative eigenvalues\n",
      "failure to converge in 10000 evaluations\n",
      "\n"
     ]
    }
   ],
   "source": [
    "%%R\n",
    "summary(model4)"
   ]
  },
  {
   "cell_type": "markdown",
   "id": "907115c0",
   "metadata": {},
   "source": [
    "# FACTORIZED CONDITION"
   ]
  },
  {
   "cell_type": "code",
   "execution_count": 116,
   "id": "01bd9816",
   "metadata": {
    "ExecuteTime": {
     "end_time": "2022-04-06T19:34:50.102031Z",
     "start_time": "2022-04-06T19:34:50.089571Z"
    }
   },
   "outputs": [],
   "source": [
    "condition = (np.array(data_puzzle_level.condition))\n",
    "subject = np.array(data_puzzle_level.subjects)\n",
    "puzzleID = np.array(data_puzzle_level.puzzleID)\n",
    "numUndo = np.array(data_puzzle_level.numUNDO)\n",
    "mas = np.array(data_puzzle_level.mas)\n",
    "num_loss = np.array(data_puzzle_level.mas) - np.array(data_puzzle_level.numCities)\n",
    "numFullUndo = np.array(data_puzzle_level.numFullUndo)\n",
    "# numFullUndo = np.sign(numFullUndo)\n",
    "\n",
    "dat = pd.DataFrame({'subject':subject, 'condition':condition,'mas':mas,\n",
    "                    'num_loss':num_loss,'puzzleID':puzzleID,'numUndo':numUndo,\n",
    "                   'numFullUndo':numFullUndo, 'numFullUndo_factor':numFullUndo})\n",
    "\n",
    "\n",
    "\n",
    "# error correction\n",
    "dat.mas[dat[dat.num_loss == -1 ].index] = 9\n",
    "num_loss = np.array(dat.mas) - np.array(data_puzzle_level.numCities)\n",
    "dat.num_loss = num_loss"
   ]
  },
  {
   "cell_type": "code",
   "execution_count": 117,
   "id": "fe7e68a7",
   "metadata": {
    "ExecuteTime": {
     "end_time": "2022-04-06T19:34:53.249964Z",
     "start_time": "2022-04-06T19:34:52.839121Z"
    },
    "scrolled": true
   },
   "outputs": [],
   "source": [
    "%%R -i dat\n",
    "# dat$numFullUndo <- factor(dat$numFullUndo)\n",
    "# dat$numFullUndo_factor <- factor(dat$numFullUndo_factor)\n",
    "dat$numFullUndo <- factor(dat$numFullUndo)\n",
    "dat$subject <- factor(dat$subject)\n",
    "dat$condition <- factor(dat$condition)\n",
    "dat$puzzleID <- factor(dat$puzzleID)"
   ]
  },
  {
   "cell_type": "code",
   "execution_count": 118,
   "id": "a63abc3f",
   "metadata": {},
   "outputs": [
    {
     "name": "stdout",
     "output_type": "stream",
     "text": [
      "Generalized linear mixed model fit by maximum likelihood (Laplace\n",
      "  Approximation) [glmerMod]\n",
      " Family: poisson  ( log )\n",
      "Formula: \n",
      "num_loss ~ condition + numFullUndo + (1 | puzzleID) + (1 + condition |  \n",
      "    subject)\n",
      "   Data: dat\n",
      "\n",
      "     AIC      BIC   logLik deviance df.resid \n",
      " 19026.5  19162.1  -9494.2  18988.5     9273 \n",
      "\n",
      "Scaled residuals: \n",
      "    Min      1Q  Median      3Q     Max \n",
      "-1.9319 -0.6510 -0.3331  0.4762  8.5137 \n",
      "\n",
      "Random effects:\n",
      " Groups   Name        Variance Std.Dev. Corr\n",
      " subject  (Intercept) 0.23629  0.4861       \n",
      "          condition1  0.01908  0.1381   0.50\n",
      " puzzleID (Intercept) 0.19610  0.4428       \n",
      "Number of obs: 9292, groups:  subject, 101; puzzleID, 46\n",
      "\n",
      "Fixed effects:\n",
      "               Estimate Std. Error z value Pr(>|z|)    \n",
      "(Intercept)    -0.34884    0.08311  -4.197 2.70e-05 ***\n",
      "condition1     -0.22989    0.03064  -7.503 6.25e-14 ***\n",
      "numFullUndo1   -0.09102    0.04985  -1.826   0.0678 .  \n",
      "numFullUndo2   -0.01718    0.08595  -0.200   0.8416    \n",
      "numFullUndo3   -0.02961    0.12064  -0.245   0.8061    \n",
      "numFullUndo4   -0.17437    0.19789  -0.881   0.3783    \n",
      "numFullUndo5    0.03285    0.27278   0.120   0.9042    \n",
      "numFullUndo6    0.11545    0.41379   0.279   0.7802    \n",
      "numFullUndo7   -0.44684    0.58322  -0.766   0.4436    \n",
      "numFullUndo8   -0.13893    0.58360  -0.238   0.8118    \n",
      "numFullUndo9    0.10508    1.01086   0.104   0.9172    \n",
      "numFullUndo10  -9.18153  214.98883  -0.043   0.9659    \n",
      "numFullUndo11   0.32776    0.71698   0.457   0.6476    \n",
      "numFullUndo12   0.77568    0.59026   1.314   0.1888    \n",
      "numFullUndo16   0.54836    1.01896   0.538   0.5905    \n",
      "---\n",
      "Signif. codes:  0 '***' 0.001 '**' 0.01 '*' 0.05 '.' 0.1 ' ' 1\n"
     ]
    },
    {
     "name": "stderr",
     "output_type": "stream",
     "text": [
      "R[write to console]: \n",
      "Correlation matrix not shown by default, as p = 15 > 12.\n",
      "Use print(object, correlation=TRUE)  or\n",
      "    vcov(object)        if you need it\n",
      "\n",
      "\n"
     ]
    },
    {
     "name": "stdout",
     "output_type": "stream",
     "text": [
      "optimizer (Nelder_Mead) convergence code: 0 (OK)\n",
      "unable to evaluate scaled gradient\n",
      "Model failed to converge: degenerate  Hessian with 1 negative eigenvalues\n",
      "\n"
     ]
    }
   ],
   "source": [
    "%%R\n",
    "model6 = glmer(num_loss ~ condition + numFullUndo + (1|puzzleID) + (1+condition|subject)\n",
    "               , data=dat,\n",
    "             family=poisson())\n",
    "summary(model6)"
   ]
  },
  {
   "cell_type": "code",
   "execution_count": 119,
   "id": "497e97d8",
   "metadata": {
    "ExecuteTime": {
     "end_time": "2022-04-06T19:36:31.777676Z",
     "start_time": "2022-04-06T19:34:53.531365Z"
    }
   },
   "outputs": [
    {
     "name": "stderr",
     "output_type": "stream",
     "text": [
      "R[write to console]: boundary (singular) fit: see ?isSingular\n",
      "\n"
     ]
    },
    {
     "name": "stdout",
     "output_type": "stream",
     "text": [
      "Generalized linear mixed model fit by maximum likelihood (Laplace\n",
      "  Approximation) [glmerMod]\n",
      " Family: poisson  ( log )\n",
      "Formula: num_loss ~ condition + numFullUndo + (1 + numFullUndo | puzzleID) +  \n",
      "    (1 + condition | subject)\n",
      "   Data: dat\n",
      "\n",
      "     AIC      BIC   logLik deviance df.resid \n",
      " 19216.6  20094.4  -9485.3  18970.6     9169 \n",
      "\n",
      "Scaled residuals: \n",
      "    Min      1Q  Median      3Q     Max \n",
      "-1.9351 -0.6515 -0.3125  0.4674  7.7986 \n",
      "\n",
      "Random effects:\n",
      " Groups   Name          Variance Std.Dev. Corr                               \n",
      " subject  (Intercept)   0.235728 0.48552                                     \n",
      "          condition1    0.018903 0.13749  0.51                               \n",
      " puzzleID (Intercept)   0.196351 0.44311                                     \n",
      "          numFullUndo1  0.006723 0.08199  -1.00                              \n",
      "          numFullUndo2  0.080076 0.28298   0.64 -0.64                        \n",
      "          numFullUndo3  0.123540 0.35148   0.98 -0.98  0.55                  \n",
      "          numFullUndo4  0.081831 0.28606   0.93 -0.93  0.75  0.94            \n",
      "          numFullUndo5  0.021047 0.14508  -0.70  0.70  0.03 -0.70 -0.43      \n",
      "          numFullUndo6  0.723299 0.85047   0.98 -0.98  0.48  0.99  0.88 -0.81\n",
      "          numFullUndo7  0.416912 0.64569   0.94 -0.94  0.35  0.97  0.85 -0.81\n",
      "          numFullUndo8  0.477743 0.69119   0.98 -0.98  0.58  0.95  0.85 -0.79\n",
      "          numFullUndo9  0.099896 0.31606   0.91 -0.91  0.31  0.91  0.74 -0.91\n",
      "          numFullUndo10 1.619418 1.27256  -0.16  0.16  0.13 -0.18 -0.06  0.32\n",
      "          numFullUndo11 0.901424 0.94943   0.98 -0.98  0.76  0.95  0.95 -0.59\n",
      "          numFullUndo12 0.119225 0.34529   0.99 -0.99  0.66  0.98  0.94 -0.66\n",
      "          numFullUndo16 0.028528 0.16890  -0.88  0.88 -0.37 -0.88 -0.73  0.81\n",
      "                                          \n",
      "                                          \n",
      "                                          \n",
      "                                          \n",
      "                                          \n",
      "                                          \n",
      "                                          \n",
      "                                          \n",
      "                                          \n",
      "                                          \n",
      "  0.98                                    \n",
      "  0.98  0.91                              \n",
      "  0.96  0.94  0.94                        \n",
      " -0.21 -0.24 -0.19 -0.22                  \n",
      "  0.93  0.86  0.96  0.83 -0.12            \n",
      "  0.97  0.92  0.97  0.89 -0.16  0.98      \n",
      " -0.91 -0.89 -0.90 -0.91  0.31 -0.82 -0.89\n",
      "Number of obs: 9292, groups:  subject, 101; puzzleID, 46\n",
      "\n",
      "Fixed effects:\n",
      "              Estimate Std. Error z value Pr(>|z|)    \n",
      "(Intercept)   -0.34463    0.08328  -4.138  3.5e-05 ***\n",
      "condition1    -0.22857    0.03371  -6.780  1.2e-11 ***\n",
      "numFullUndo1  -0.06125    0.05565  -1.101    0.271    \n",
      "numFullUndo2  -0.11527    0.11504  -1.002    0.316    \n",
      "numFullUndo3  -0.24824    0.17993  -1.380    0.168    \n",
      "numFullUndo4  -0.29965    0.24509  -1.223    0.221    \n",
      "numFullUndo5   0.08007    0.28582   0.280    0.779    \n",
      "numFullUndo6  -0.58648    0.84251  -0.696    0.486    \n",
      "numFullUndo7  -0.67478    0.74237  -0.909    0.363    \n",
      "numFullUndo8  -0.66301    1.11666  -0.594    0.553    \n",
      "numFullUndo9   0.01734    1.16743   0.015    0.988    \n",
      "numFullUndo10 -9.79548   15.69981  -0.624    0.533    \n",
      "numFullUndo11 -0.56202    2.29078  -0.245    0.806    \n",
      "numFullUndo12  0.49753    1.14769   0.434    0.665    \n",
      "numFullUndo16  0.74386    6.49009   0.115    0.909    \n",
      "---\n",
      "Signif. codes:  0 '***' 0.001 '**' 0.01 '*' 0.05 '.' 0.1 ' ' 1\n"
     ]
    },
    {
     "name": "stderr",
     "output_type": "stream",
     "text": [
      "R[write to console]: \n",
      "Correlation matrix not shown by default, as p = 15 > 12.\n",
      "Use print(object, correlation=TRUE)  or\n",
      "    vcov(object)        if you need it\n",
      "\n",
      "\n"
     ]
    },
    {
     "name": "stdout",
     "output_type": "stream",
     "text": [
      "optimizer (Nelder_Mead) convergence code: 4 (failure to converge in 10000 evaluations)\n",
      "boundary (singular) fit: see ?isSingular\n",
      "failure to converge in 10000 evaluations\n",
      "\n"
     ]
    }
   ],
   "source": [
    "%%R\n",
    "model4 = glmer(num_loss ~ condition + numFullUndo + (1+numFullUndo|puzzleID) + (1+condition|subject)\n",
    "               , data=dat,\n",
    "             family=poisson())\n",
    "summary(model4)"
   ]
  },
  {
   "cell_type": "code",
   "execution_count": 120,
   "id": "5b4650c2",
   "metadata": {
    "ExecuteTime": {
     "end_time": "2022-04-06T19:36:31.777676Z",
     "start_time": "2022-04-06T19:34:53.531365Z"
    }
   },
   "outputs": [
    {
     "name": "stdout",
     "output_type": "stream",
     "text": [
      "Generalized linear mixed model fit by maximum likelihood (Laplace\n",
      "  Approximation) [glmerMod]\n",
      " Family: poisson  ( log )\n",
      "Formula: num_loss ~ condition + numFullUndo + (1 + numFullUndo | puzzleID) +  \n",
      "    (1 + condition | subject)\n",
      "   Data: dat\n",
      "\n",
      "     AIC      BIC   logLik deviance df.resid \n",
      " 19216.6  20094.4  -9485.3  18970.6     9169 \n",
      "\n",
      "Scaled residuals: \n",
      "    Min      1Q  Median      3Q     Max \n",
      "-1.9351 -0.6515 -0.3125  0.4674  7.7986 \n",
      "\n",
      "Random effects:\n",
      " Groups   Name          Variance Std.Dev. Corr                               \n",
      " subject  (Intercept)   0.235728 0.48552                                     \n",
      "          condition1    0.018903 0.13749  0.51                               \n",
      " puzzleID (Intercept)   0.196351 0.44311                                     \n",
      "          numFullUndo1  0.006723 0.08199  -1.00                              \n",
      "          numFullUndo2  0.080076 0.28298   0.64 -0.64                        \n",
      "          numFullUndo3  0.123540 0.35148   0.98 -0.98  0.55                  \n",
      "          numFullUndo4  0.081831 0.28606   0.93 -0.93  0.75  0.94            \n",
      "          numFullUndo5  0.021047 0.14508  -0.70  0.70  0.03 -0.70 -0.43      \n",
      "          numFullUndo6  0.723299 0.85047   0.98 -0.98  0.48  0.99  0.88 -0.81\n",
      "          numFullUndo7  0.416912 0.64569   0.94 -0.94  0.35  0.97  0.85 -0.81\n",
      "          numFullUndo8  0.477743 0.69119   0.98 -0.98  0.58  0.95  0.85 -0.79\n",
      "          numFullUndo9  0.099896 0.31606   0.91 -0.91  0.31  0.91  0.74 -0.91\n",
      "          numFullUndo10 1.619418 1.27256  -0.16  0.16  0.13 -0.18 -0.06  0.32\n",
      "          numFullUndo11 0.901424 0.94943   0.98 -0.98  0.76  0.95  0.95 -0.59\n",
      "          numFullUndo12 0.119225 0.34529   0.99 -0.99  0.66  0.98  0.94 -0.66\n",
      "          numFullUndo16 0.028528 0.16890  -0.88  0.88 -0.37 -0.88 -0.73  0.81\n",
      "                                          \n",
      "                                          \n",
      "                                          \n",
      "                                          \n",
      "                                          \n",
      "                                          \n",
      "                                          \n",
      "                                          \n",
      "                                          \n",
      "                                          \n",
      "  0.98                                    \n",
      "  0.98  0.91                              \n",
      "  0.96  0.94  0.94                        \n",
      " -0.21 -0.24 -0.19 -0.22                  \n",
      "  0.93  0.86  0.96  0.83 -0.12            \n",
      "  0.97  0.92  0.97  0.89 -0.16  0.98      \n",
      " -0.91 -0.89 -0.90 -0.91  0.31 -0.82 -0.89\n",
      "Number of obs: 9292, groups:  subject, 101; puzzleID, 46\n",
      "\n",
      "Fixed effects:\n",
      "              Estimate Std. Error z value Pr(>|z|)    \n",
      "(Intercept)   -0.34463    0.08328  -4.138  3.5e-05 ***\n",
      "condition1    -0.22857    0.03371  -6.780  1.2e-11 ***\n",
      "numFullUndo1  -0.06125    0.05565  -1.101    0.271    \n",
      "numFullUndo2  -0.11527    0.11504  -1.002    0.316    \n",
      "numFullUndo3  -0.24824    0.17993  -1.380    0.168    \n",
      "numFullUndo4  -0.29965    0.24509  -1.223    0.221    \n",
      "numFullUndo5   0.08007    0.28582   0.280    0.779    \n",
      "numFullUndo6  -0.58648    0.84251  -0.696    0.486    \n",
      "numFullUndo7  -0.67478    0.74237  -0.909    0.363    \n",
      "numFullUndo8  -0.66301    1.11666  -0.594    0.553    \n",
      "numFullUndo9   0.01734    1.16743   0.015    0.988    \n",
      "numFullUndo10 -9.79548   15.69981  -0.624    0.533    \n",
      "numFullUndo11 -0.56202    2.29078  -0.245    0.806    \n",
      "numFullUndo12  0.49753    1.14769   0.434    0.665    \n",
      "numFullUndo16  0.74386    6.49009   0.115    0.909    \n",
      "---\n",
      "Signif. codes:  0 '***' 0.001 '**' 0.01 '*' 0.05 '.' 0.1 ' ' 1\n"
     ]
    },
    {
     "name": "stderr",
     "output_type": "stream",
     "text": [
      "R[write to console]: \n",
      "Correlation matrix not shown by default, as p = 15 > 12.\n",
      "Use print(object, correlation=TRUE)  or\n",
      "    vcov(object)        if you need it\n",
      "\n",
      "\n"
     ]
    },
    {
     "name": "stdout",
     "output_type": "stream",
     "text": [
      "optimizer (Nelder_Mead) convergence code: 4 (failure to converge in 10000 evaluations)\n",
      "boundary (singular) fit: see ?isSingular\n",
      "failure to converge in 10000 evaluations\n",
      "\n"
     ]
    }
   ],
   "source": [
    "%%R\n",
    "# this case \n",
    "model0 = glmer(num_loss ~ condition + numFullUndo + (1|puzzleID) + (1|subject)\n",
    "               , data=dat,\n",
    "             family=poisson())\n",
    "model1 = glmer(num_loss ~ condition + numFullUndo + (1|puzzleID) + (1+numFullUndo|subject)\n",
    "               , data=dat,\n",
    "             family=poisson())\n",
    "model1_1 = glmer(num_loss ~ condition + numFullUndo + (1 +numFullUndo |puzzleID) + (1|subject)\n",
    "               , data=dat,\n",
    "             family=poisson())\n",
    "model2 = glmer(num_loss ~ condition + numFullUndo + (1|puzzleID) + (1+condition|subject)\n",
    "               , data=dat,\n",
    "             family=poisson())\n",
    "model2_1= glmer(num_loss ~ condition + numFullUndo + (1+condition|puzzleID) + (1|subject)\n",
    "               , data=dat,\n",
    "             family=poisson())\n",
    "model3 = glmer(num_loss ~ condition + numFullUndo + (1+condition|puzzleID) + (1+condition|subject)\n",
    "               , data=dat,\n",
    "             family=poisson())\n",
    "summary(model4)"
   ]
  },
  {
   "cell_type": "code",
   "execution_count": 121,
   "id": "9e2f31d6",
   "metadata": {
    "ExecuteTime": {
     "end_time": "2022-04-06T19:36:31.825679Z",
     "start_time": "2022-04-06T19:36:31.779675Z"
    }
   },
   "outputs": [
    {
     "name": "stdout",
     "output_type": "stream",
     "text": [
      "Data: dat\n",
      "Models:\n",
      "model0: num_loss ~ condition + numFullUndo + (1 | puzzleID) + (1 | subject)\n",
      "model1: num_loss ~ condition + numFullUndo + (1 | puzzleID) + (1 + numFullUndo | subject)\n",
      "       npar   AIC   BIC  logLik deviance  Chisq  Df Pr(>Chisq)\n",
      "model0   17 19037 19159 -9501.7    19003                      \n",
      "model1  121 19240 20103 -9498.9    18998 5.5659 104          1\n"
     ]
    }
   ],
   "source": [
    "%%R\n",
    "anova(model0, model1)"
   ]
  },
  {
   "cell_type": "code",
   "execution_count": 122,
   "id": "e320b2d0",
   "metadata": {
    "ExecuteTime": {
     "end_time": "2022-04-06T19:38:46.688465Z",
     "start_time": "2022-04-06T19:38:46.646458Z"
    }
   },
   "outputs": [
    {
     "name": "stdout",
     "output_type": "stream",
     "text": [
      "Data: dat\n",
      "Models:\n",
      "model0: num_loss ~ condition + numFullUndo + (1 | puzzleID) + (1 | subject)\n",
      "model1_1: num_loss ~ condition + numFullUndo + (1 + numFullUndo | puzzleID) + (1 | subject)\n",
      "         npar   AIC   BIC  logLik deviance  Chisq  Df Pr(>Chisq)\n",
      "model0     17 19037 19159 -9501.7    19003                      \n",
      "model1_1  121 19227 20090 -9492.3    18985 18.734 104          1\n"
     ]
    }
   ],
   "source": [
    "%%R\n",
    "anova(model0, model1_1)"
   ]
  },
  {
   "cell_type": "code",
   "execution_count": 123,
   "id": "f00a6322",
   "metadata": {
    "ExecuteTime": {
     "end_time": "2022-04-06T19:38:48.069960Z",
     "start_time": "2022-04-06T19:38:48.017962Z"
    }
   },
   "outputs": [
    {
     "name": "stdout",
     "output_type": "stream",
     "text": [
      "Data: dat\n",
      "Models:\n",
      "model0: num_loss ~ condition + numFullUndo + (1 | puzzleID) + (1 | subject)\n",
      "model2_1: num_loss ~ condition + numFullUndo + (1 + condition | puzzleID) + (1 | subject)\n",
      "         npar   AIC   BIC  logLik deviance  Chisq Df Pr(>Chisq)\n",
      "model0     17 19037 19159 -9501.7    19003                     \n",
      "model2_1   19 19037 19173 -9499.5    18999 4.4666  2     0.1072\n"
     ]
    }
   ],
   "source": [
    "%%R\n",
    "anova(model0, model2_1)"
   ]
  },
  {
   "cell_type": "code",
   "execution_count": 124,
   "id": "e7c94c72",
   "metadata": {
    "ExecuteTime": {
     "end_time": "2022-04-06T19:38:49.944038Z",
     "start_time": "2022-04-06T19:38:49.902049Z"
    }
   },
   "outputs": [
    {
     "name": "stdout",
     "output_type": "stream",
     "text": [
      "Data: dat\n",
      "Models:\n",
      "model0: num_loss ~ condition + numFullUndo + (1 | puzzleID) + (1 | subject)\n",
      "model2: num_loss ~ condition + numFullUndo + (1 | puzzleID) + (1 + condition | subject)\n",
      "       npar   AIC   BIC  logLik deviance  Chisq Df Pr(>Chisq)    \n",
      "model0   17 19037 19159 -9501.7    19003                         \n",
      "model2   19 19027 19162 -9494.2    18989 14.879  2  0.0005876 ***\n",
      "---\n",
      "Signif. codes:  0 '***' 0.001 '**' 0.01 '*' 0.05 '.' 0.1 ' ' 1\n"
     ]
    }
   ],
   "source": [
    "%%R\n",
    "anova(model0, model2)"
   ]
  },
  {
   "cell_type": "code",
   "execution_count": 125,
   "id": "b2270c11",
   "metadata": {
    "ExecuteTime": {
     "end_time": "2022-04-06T19:38:52.112443Z",
     "start_time": "2022-04-06T19:38:52.059906Z"
    }
   },
   "outputs": [
    {
     "name": "stdout",
     "output_type": "stream",
     "text": [
      "Data: dat\n",
      "Models:\n",
      "model2: num_loss ~ condition + numFullUndo + (1 | puzzleID) + (1 + condition | subject)\n",
      "model3: num_loss ~ condition + numFullUndo + (1 + condition | puzzleID) + (1 + condition | subject)\n",
      "       npar   AIC   BIC  logLik deviance  Chisq Df Pr(>Chisq)  \n",
      "model2   19 19027 19162 -9494.2    18989                       \n",
      "model3   21 19026 19176 -9491.9    18984 4.6272  2     0.0989 .\n",
      "---\n",
      "Signif. codes:  0 '***' 0.001 '**' 0.01 '*' 0.05 '.' 0.1 ' ' 1\n"
     ]
    }
   ],
   "source": [
    "%%R\n",
    "anova(model2, model3)"
   ]
  },
  {
   "cell_type": "code",
   "execution_count": 126,
   "id": "9dcc8210",
   "metadata": {
    "ExecuteTime": {
     "end_time": "2022-04-06T19:38:54.549404Z",
     "start_time": "2022-04-06T19:38:54.507403Z"
    }
   },
   "outputs": [
    {
     "name": "stdout",
     "output_type": "stream",
     "text": [
      "Data: dat\n",
      "Models:\n",
      "model2: num_loss ~ condition + numFullUndo + (1 | puzzleID) + (1 + condition | subject)\n",
      "model4: num_loss ~ condition + numFullUndo + (1 + numFullUndo | puzzleID) + (1 + condition | subject)\n",
      "       npar   AIC   BIC  logLik deviance  Chisq  Df Pr(>Chisq)\n",
      "model2   19 19027 19162 -9494.2    18989                      \n",
      "model4  123 19217 20094 -9485.3    18971 17.925 104          1\n"
     ]
    }
   ],
   "source": [
    "%%R\n",
    "anova(model2, model4)"
   ]
  },
  {
   "cell_type": "code",
   "execution_count": 127,
   "id": "ecc20313",
   "metadata": {
    "ExecuteTime": {
     "end_time": "2022-04-06T19:39:13.983453Z",
     "start_time": "2022-04-06T19:39:13.891546Z"
    },
    "scrolled": false
   },
   "outputs": [
    {
     "name": "stdout",
     "output_type": "stream",
     "text": [
      "Generalized linear mixed model fit by maximum likelihood (Laplace\n",
      "  Approximation) [glmerMod]\n",
      " Family: poisson  ( log )\n",
      "Formula: num_loss ~ condition + numFullUndo + (1 + numFullUndo | puzzleID) +  \n",
      "    (1 + condition | subject)\n",
      "   Data: dat\n",
      "\n",
      "     AIC      BIC   logLik deviance df.resid \n",
      " 19216.6  20094.4  -9485.3  18970.6     9169 \n",
      "\n",
      "Scaled residuals: \n",
      "    Min      1Q  Median      3Q     Max \n",
      "-1.9351 -0.6515 -0.3125  0.4674  7.7986 \n",
      "\n",
      "Random effects:\n",
      " Groups   Name          Variance Std.Dev. Corr                               \n",
      " subject  (Intercept)   0.235728 0.48552                                     \n",
      "          condition1    0.018903 0.13749  0.51                               \n",
      " puzzleID (Intercept)   0.196351 0.44311                                     \n",
      "          numFullUndo1  0.006723 0.08199  -1.00                              \n",
      "          numFullUndo2  0.080076 0.28298   0.64 -0.64                        \n",
      "          numFullUndo3  0.123540 0.35148   0.98 -0.98  0.55                  \n",
      "          numFullUndo4  0.081831 0.28606   0.93 -0.93  0.75  0.94            \n",
      "          numFullUndo5  0.021047 0.14508  -0.70  0.70  0.03 -0.70 -0.43      \n",
      "          numFullUndo6  0.723299 0.85047   0.98 -0.98  0.48  0.99  0.88 -0.81\n",
      "          numFullUndo7  0.416912 0.64569   0.94 -0.94  0.35  0.97  0.85 -0.81\n",
      "          numFullUndo8  0.477743 0.69119   0.98 -0.98  0.58  0.95  0.85 -0.79\n",
      "          numFullUndo9  0.099896 0.31606   0.91 -0.91  0.31  0.91  0.74 -0.91\n",
      "          numFullUndo10 1.619418 1.27256  -0.16  0.16  0.13 -0.18 -0.06  0.32\n",
      "          numFullUndo11 0.901424 0.94943   0.98 -0.98  0.76  0.95  0.95 -0.59\n",
      "          numFullUndo12 0.119225 0.34529   0.99 -0.99  0.66  0.98  0.94 -0.66\n",
      "          numFullUndo16 0.028528 0.16890  -0.88  0.88 -0.37 -0.88 -0.73  0.81\n",
      "                                          \n",
      "                                          \n",
      "                                          \n",
      "                                          \n",
      "                                          \n",
      "                                          \n",
      "                                          \n",
      "                                          \n",
      "                                          \n",
      "                                          \n",
      "  0.98                                    \n",
      "  0.98  0.91                              \n",
      "  0.96  0.94  0.94                        \n",
      " -0.21 -0.24 -0.19 -0.22                  \n",
      "  0.93  0.86  0.96  0.83 -0.12            \n",
      "  0.97  0.92  0.97  0.89 -0.16  0.98      \n",
      " -0.91 -0.89 -0.90 -0.91  0.31 -0.82 -0.89\n",
      "Number of obs: 9292, groups:  subject, 101; puzzleID, 46\n",
      "\n",
      "Fixed effects:\n",
      "              Estimate Std. Error z value Pr(>|z|)    \n",
      "(Intercept)   -0.34463    0.08328  -4.138  3.5e-05 ***\n",
      "condition1    -0.22857    0.03371  -6.780  1.2e-11 ***\n",
      "numFullUndo1  -0.06125    0.05565  -1.101    0.271    \n",
      "numFullUndo2  -0.11527    0.11504  -1.002    0.316    \n",
      "numFullUndo3  -0.24824    0.17993  -1.380    0.168    \n",
      "numFullUndo4  -0.29965    0.24509  -1.223    0.221    \n",
      "numFullUndo5   0.08007    0.28582   0.280    0.779    \n",
      "numFullUndo6  -0.58648    0.84251  -0.696    0.486    \n",
      "numFullUndo7  -0.67478    0.74237  -0.909    0.363    \n",
      "numFullUndo8  -0.66301    1.11666  -0.594    0.553    \n",
      "numFullUndo9   0.01734    1.16743   0.015    0.988    \n",
      "numFullUndo10 -9.79548   15.69981  -0.624    0.533    \n",
      "numFullUndo11 -0.56202    2.29078  -0.245    0.806    \n",
      "numFullUndo12  0.49753    1.14769   0.434    0.665    \n",
      "numFullUndo16  0.74386    6.49009   0.115    0.909    \n",
      "---\n",
      "Signif. codes:  0 '***' 0.001 '**' 0.01 '*' 0.05 '.' 0.1 ' ' 1\n"
     ]
    },
    {
     "name": "stderr",
     "output_type": "stream",
     "text": [
      "R[write to console]: \n",
      "Correlation matrix not shown by default, as p = 15 > 12.\n",
      "Use print(object, correlation=TRUE)  or\n",
      "    vcov(object)        if you need it\n",
      "\n",
      "\n"
     ]
    },
    {
     "name": "stdout",
     "output_type": "stream",
     "text": [
      "optimizer (Nelder_Mead) convergence code: 4 (failure to converge in 10000 evaluations)\n",
      "boundary (singular) fit: see ?isSingular\n",
      "failure to converge in 10000 evaluations\n",
      "\n"
     ]
    }
   ],
   "source": [
    "%%R\n",
    "summary(model4)"
   ]
  }
 ],
 "metadata": {
  "kernelspec": {
   "display_name": "Python 3",
   "language": "python",
   "name": "python3"
  },
  "language_info": {
   "codemirror_mode": {
    "name": "ipython",
    "version": 3
   },
   "file_extension": ".py",
   "mimetype": "text/x-python",
   "name": "python",
   "nbconvert_exporter": "python",
   "pygments_lexer": "ipython3",
   "version": "3.8.2"
  },
  "toc": {
   "base_numbering": 1,
   "nav_menu": {},
   "number_sections": true,
   "sideBar": true,
   "skip_h1_title": false,
   "title_cell": "Table of Contents",
   "title_sidebar": "Contents",
   "toc_cell": true,
   "toc_position": {
    "height": "687.167px",
    "left": "33px",
    "top": "340.833px",
    "width": "207.312px"
   },
   "toc_section_display": true,
   "toc_window_display": true
  },
  "vscode": {
   "interpreter": {
    "hash": "31f2aee4e71d21fbe5cf8b01ff0e069b9275f58929596ceb00d14d90e3e16cd6"
   }
  }
 },
 "nbformat": 4,
 "nbformat_minor": 5
}
