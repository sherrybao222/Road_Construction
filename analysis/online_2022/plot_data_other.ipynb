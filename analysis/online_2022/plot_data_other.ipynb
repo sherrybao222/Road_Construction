{
 "cells": [
  {
   "cell_type": "code",
   "execution_count": 1,
   "metadata": {},
   "outputs": [],
   "source": [
    "import pandas as pd\n",
    "import numpy as np\n",
    "import math\n",
    "\n",
    "import matplotlib.pyplot as plt\n",
    "import seaborn as sns\n",
    "\n",
    "import json\n",
    "from anytree.importer import JsonImporter\n",
    "from anytree import PreOrderIter"
   ]
  },
  {
   "cell_type": "code",
   "execution_count": 2,
   "metadata": {},
   "outputs": [],
   "source": [
    "from scipy import stats\n",
    "from scipy.stats import sem\n",
    "from scipy.stats import shapiro\n",
    "from scipy.stats import normaltest\n",
    "from scipy.stats import ttest_rel,ttest_ind"
   ]
  },
  {
   "cell_type": "code",
   "execution_count": 3,
   "metadata": {},
   "outputs": [],
   "source": [
    "%load_ext rpy2.ipython\n",
    "\n",
    "from rpy2.robjects.packages import importr\n",
    "# import R's \"base\" package\n",
    "lme4 = importr('lme4')\n",
    "optimx = importr('optimx')\n",
    "pbkrtest = importr('pbkrtest')\n",
    "lmerTest = importr('lmerTest')\n",
    "ggplot = importr('ggplot2')\n",
    "dplyr = importr('dplyr')\n",
    "sjplot = importr('sjPlot')\n",
    "car = importr('car')\n",
    "# fitdistrplus = importr('fitdistrplus')\n",
    "boot = importr('boot')"
   ]
  },
  {
   "cell_type": "code",
   "execution_count": 4,
   "metadata": {},
   "outputs": [],
   "source": [
    "home_dir = '/Users/dbao/google_drive_db'+'/road_construction/data/2022_online/'\n",
    "map_dir = 'active_map/'\n",
    "data_dir  = 'data/preprocessed'\n",
    "out_dir = home_dir + 'figures/figures_all/'\n",
    "R_out_dir = home_dir + 'R_analysis_data/'"
   ]
  },
  {
   "cell_type": "code",
   "execution_count": 5,
   "metadata": {},
   "outputs": [],
   "source": [
    "data_puzzle_level = pd.read_csv(R_out_dir +  'data.csv')\n",
    "puzzleID_order_data = data_puzzle_level.sort_values([\"subjects\",\"puzzleID\",\"condition\"])\n",
    "data_choice_level = pd.read_csv(R_out_dir +  'choice_level/choicelevel_data.csv')\n",
    "\n",
    "single_condition_data = puzzleID_order_data[puzzleID_order_data['condition']==1].copy()\n",
    "single_condition_data = single_condition_data.reset_index()\n",
    "\n",
    "with open(home_dir +'tree_data/undo_tree', 'r') as file:\n",
    "    undo_tree = json.load(file)"
   ]
  },
  {
   "cell_type": "code",
   "execution_count": 6,
   "metadata": {},
   "outputs": [],
   "source": [
    "# helper functions\n",
    "def as_si(x, ndp):\n",
    "    s = '{x:0.{ndp:d}e}'.format(x=x, ndp=ndp)\n",
    "    m, e = s.split('e')\n",
    "    return r'{m:s}\\times 10^{{{e:d}}}'.format(m=m, e=int(e))\n",
    "\n",
    "# add p-value to figure\n",
    "def text(p):\n",
    "    if p == 0:\n",
    "        axs.text((x1+x2)*.5, y+h,  r\"$p = {:.1f}$\".format(p), ha='center', va='bottom', color=col, fontsize = 8)\n",
    "    elif p < 0.001:\n",
    "        axs.text((x1+x2)*.5, y+h, r\"$p = {0:s}$\".format(as_si(p,1)), ha='center', va='bottom', color=col, fontsize = 8)\n",
    "    elif p > 0.1:\n",
    "        axs.text((x1+x2)*.5, y+h, r\"$p = {:.2f}$\".format(p), ha='center', va='bottom', color=col, fontsize = 8)\n",
    "\n",
    "    elif 0.01 < p < 0.1:\n",
    "        axs.text((x1+x2)*.5, y+h, r\"$p = {:.3f}$\".format(p), ha='center', va='bottom', color=col, fontsize = 8)\n",
    "    else:\n",
    "        axs.text((x1+x2)*.5, y+h, r\"$p = {:.4f}$\".format(p), ha='center', va='bottom', color=col, fontsize = 8)"
   ]
  },
  {
   "cell_type": "markdown",
   "metadata": {},
   "source": [
    "### histogram of the position of branching node"
   ]
  },
  {
   "cell_type": "code",
   "execution_count": null,
   "metadata": {},
   "outputs": [],
   "source": [
    "pos_branching = data_choice_level[data_choice_level['branchingFirst']==True]['currNumCities']\n",
    "\n",
    "%matplotlib notebook\n",
    "\n",
    "fig, axs = plt.subplots(1, 1)\n",
    "axs.hist(pos_branching,\n",
    "        color = (.7,.7,.7), \n",
    "        edgecolor = 'k',)\n",
    "axs.set_ylabel('counts') \n",
    "axs.set_xlabel('the postion of branching node') \n",
    "plt.show()"
   ]
  },
  {
   "cell_type": "markdown",
   "metadata": {},
   "source": [
    "## histogram of number of cities within reach"
   ]
  },
  {
   "cell_type": "code",
   "execution_count": null,
   "metadata": {},
   "outputs": [],
   "source": [
    "n_reach = data_choice_level[data_choice_level['condition']==0]['within_reach'] # only basic condition\n",
    "\n",
    "%matplotlib notebook\n",
    "\n",
    "fig, axs = plt.subplots(1, 1)\n",
    "axs.hist(n_reach,\n",
    "        color = (.7,.7,.7), \n",
    "        edgecolor = 'k',)\n",
    "axs.set_ylabel('counts') \n",
    "axs.set_xlabel('number of cities within reach') \n",
    "plt.show()"
   ]
  },
  {
   "cell_type": "markdown",
   "metadata": {},
   "source": [
    "## number of visits to a state (not undo target)"
   ]
  },
  {
   "cell_type": "code",
   "execution_count": null,
   "metadata": {},
   "outputs": [],
   "source": [
    "importer = JsonImporter()\n",
    "visit = []\n",
    "for ti in range(len(undo_tree)): # loop through trials\n",
    "    root = importer.import_(undo_tree[ti])\n",
    "    \n",
    "    for node in PreOrderIter(root): # loop through the tree\n",
    "        n_child = len(node.children)\n",
    "        visit.append(node.visit)\n",
    "\n",
    "visit.count(2)"
   ]
  },
  {
   "cell_type": "markdown",
   "metadata": {},
   "source": [
    "## number of visits to undo target"
   ]
  },
  {
   "cell_type": "code",
   "execution_count": null,
   "metadata": {},
   "outputs": [],
   "source": [
    "each_trial = data_choice_level[data_choice_level['condition']==1].groupby([\"subjects\",\"puzzleID\"])\n",
    "n_undotarget_visit = each_trial[\"branching\"].count()\n",
    "n_undotarget_visit\n",
    "\n",
    "%matplotlib notebook\n",
    "\n",
    "fig, axs = plt.subplots(1, 1)\n",
    "axs.hist(n_undotarget_visit,\n",
    "        color = (.7,.7,.7), \n",
    "        bins = [2,3,4,5,6,7,8,9],\n",
    "        edgecolor = 'k',)\n",
    "axs.set_ylabel('counts') \n",
    "axs.set_xlabel('number of undo target visit') \n",
    "axs.set_xticks([2,3,4,5,6,7,8])\n",
    "axs.set_xticklabels([\"1\",\"2\",\"3\",\"4\",\"5\",\"6\",\"7+\"])\n",
    "plt.show()"
   ]
  },
  {
   "cell_type": "markdown",
   "metadata": {},
   "source": [
    "## budget before submit/undo at the end of trial"
   ]
  },
  {
   "cell_type": "code",
   "execution_count": null,
   "metadata": {
    "lines_to_next_cell": 2
   },
   "outputs": [],
   "source": [
    "# only undo condition\n",
    "index_first_undo =  data_choice_level.index[data_choice_level['firstUndo'] == 1]\n",
    "df_beforeUndo = data_choice_level.loc[index_first_undo-1,:]\n",
    "index_end_undo = df_beforeUndo.index[df_beforeUndo['checkEnd'] == 1]\n",
    "leftover_undo = df_beforeUndo.loc[index_end_undo,'leftover']\n",
    "\n",
    "index_notundo = data_choice_level.index[(data_choice_level['undo'] == 0)&(data_choice_level['RT'] != -1)]\n",
    "df_notbeforeUndo = data_choice_level.loc[index_notundo-1,:]\n",
    "index_end_notundo = df_notbeforeUndo.index[(df_notbeforeUndo['checkEnd'] == 1)&(df_notbeforeUndo['condition'] == 1)]\n",
    "leftover_notundo = df_notbeforeUndo.loc[index_end_notundo,'leftover']"
   ]
  },
  {
   "cell_type": "code",
   "execution_count": null,
   "metadata": {},
   "outputs": [],
   "source": [
    "%matplotlib notebook\n",
    "\n",
    "fig, axs = plt.subplots(1, 1)\n",
    "\n",
    "bx = axs.boxplot([leftover_undo,leftover_notundo],\n",
    "   positions =[1,2],widths = 0.3,showfliers=False,whis = 1.5,\n",
    "   medianprops = dict(color = 'k'))  #\n",
    "\n",
    "# run 2-independent-sample t test\n",
    "stat1, p1 = ttest_ind(leftover_undo,leftover_notundo,equal_var=False)\n",
    "x1, x2 = 1,2  \n",
    "if bx['caps'][1]._y[0] > bx['caps'][3]._y[0]:\n",
    "    y, h, col = bx['caps'][1]._y[0] + 2, 0.5, 'k'\n",
    "else:\n",
    "    y, h, col = bx['caps'][3]._y[0] + 2, 0.5, 'k'\n",
    "\n",
    "axs.plot([x1, x1, x2, x2], [y, y+h, y+h, y], lw=1.5, c=col)\n",
    "text(p1)\n",
    "\n",
    "#--------------------------------------\n",
    "axs.set_xticks([1,2])\n",
    "axs.set_xticklabels(labels = ['budget before undo','budget before submit'])#,fontsize=18\n",
    "\n",
    "axs.set_facecolor('white')\n",
    "axs.spines['bottom'].set_color('k')\n",
    "axs.spines['left'].set_color('k')\n",
    "axs.tick_params(axis='y', colors='k', direction='in',left = True) #, labelsize = 16\n",
    "axs.tick_params(axis='x', colors='k')\n",
    "# axs.set_title('S'+str(i+1), fontsize = 16)\n",
    "axs.set_ylabel('budget') #,fontsize=18\n",
    "\n",
    "# fig.set_figwidth(26)\n",
    "# fig.set_figheight(12)\n",
    "\n",
    "plt.show()\n",
    "fig.savefig(out_dir + 'budget_before_submit_undo.png', dpi=600, bbox_inches='tight')"
   ]
  },
  {
   "cell_type": "markdown",
   "metadata": {},
   "source": [
    "## counts of errors before undo (by accumulated severity)"
   ]
  },
  {
   "cell_type": "code",
   "execution_count": null,
   "metadata": {},
   "outputs": [],
   "source": [
    "index_first_undo =  data_choice_level.index[data_choice_level['firstUndo'] == 1]\n",
    "df_beforeUndo = data_choice_level.loc[index_first_undo-1,:]\n",
    "\n",
    "MAS_trial = df_beforeUndo['allMAS']\n",
    "accu_severity_error = MAS_trial - df_beforeUndo['currMas']\n",
    "groupby_error = accu_severity_error.value_counts()\n",
    "print(groupby_error/sum(groupby_error))"
   ]
  },
  {
   "cell_type": "code",
   "execution_count": null,
   "metadata": {
    "lines_to_next_cell": 2
   },
   "outputs": [],
   "source": [
    "%matplotlib notebook\n",
    "\n",
    "fig, axs = plt.subplots(1, 1)\n",
    "axs.bar(groupby_error.index,groupby_error/sum(groupby_error))\n",
    "axs.set_ylabel('proportion of first undo')\n",
    "axs.set_xlabel('accumulated error before first undo action')\n",
    "plt.show()\n",
    "fig.savefig(out_dir + 'undo_accumulated_error.pdf', dpi=600, bbox_inches='tight')"
   ]
  },
  {
   "cell_type": "code",
   "execution_count": null,
   "metadata": {},
   "outputs": [],
   "source": [
    "index_first_undo =  data_choice_level.index[data_choice_level['firstUndo'] == 1]\n",
    "df_beforeUndo = data_choice_level.loc[index_first_undo-1,:]\n",
    "\n",
    "instant_severity_error = df_beforeUndo['severityOfErrors']\n",
    "groupby_error_instant = instant_severity_error.value_counts()\n",
    "print(groupby_error_instant)"
   ]
  },
  {
   "cell_type": "code",
   "execution_count": null,
   "metadata": {
    "lines_to_next_cell": 2
   },
   "outputs": [],
   "source": [
    "%matplotlib notebook\n",
    "\n",
    "fig, axs = plt.subplots(1, 1)\n",
    "axs.bar(groupby_error.index,groupby_error_instant/sum(groupby_error_instant))\n",
    "axs.set_ylabel('proportion of first undo')\n",
    "axs.set_xlabel('instant error before first undo action')\n",
    "plt.show()\n",
    "fig.savefig(out_dir + 'undo_instant_error.pdf', dpi=600, bbox_inches='tight')"
   ]
  },
  {
   "cell_type": "code",
   "execution_count": null,
   "metadata": {},
   "outputs": [],
   "source": [
    "# groupby_error_single = single_severity_error.value_counts()\n",
    "# groupby_error_series = series_severity_error.value_counts()\n",
    "\n",
    "# groupby_error_series.at[4] = 0\n",
    "# groupby_error_series.at[6] = 0"
   ]
  },
  {
   "cell_type": "code",
   "execution_count": null,
   "metadata": {
    "lines_to_next_cell": 2
   },
   "outputs": [],
   "source": [
    "index_single_undo =  data_choice_level.index[(data_choice_level['firstUndo'] == 1)&(data_choice_level['lastUndo'] == 1)]\n",
    "df_beforeSingleUndo = data_choice_level.loc[index_single_undo-1,:]\n",
    "\n",
    "single_severity_error = df_beforeSingleUndo['severityOfErrors']\n",
    "df_beforeSingleUndo['accumulatedError'] = df_beforeSingleUndo['allMAS'] - df_beforeSingleUndo['currMas']\n",
    "groupby_error_single = df_beforeSingleUndo.groupby(['severityOfErrors','accumulatedError'])['subjects'].count()\n",
    "groupby_error_single = groupby_error_single.reset_index()\n",
    "\n",
    "groupby_error_single.loc[groupby_error_single['accumulatedError']>groupby_error_single['severityOfErrors'],'accumulatedError']= 'noninstant'\n",
    "groupby_error_single = groupby_error_single.groupby(['severityOfErrors','accumulatedError']).sum()\n",
    "groupby_error_single = groupby_error_single.reset_index()\n",
    "\n",
    "groupby_error_single['undoType'] = 'single'\n",
    "\n",
    "\n",
    "\n",
    "index_series_undo =  data_choice_level.index[(data_choice_level['firstUndo'] == 1)&(data_choice_level['lastUndo'] != 1)]\n",
    "df_beforeSeriesUndo = data_choice_level.loc[index_series_undo-1,:]\n",
    "\n",
    "series_severity_error = df_beforeSeriesUndo['severityOfErrors']\n",
    "df_beforeSeriesUndo['accumulatedError'] = df_beforeSeriesUndo['allMAS'] - df_beforeSeriesUndo['currMas']\n",
    "groupby_error_series = df_beforeSeriesUndo.groupby(['severityOfErrors','accumulatedError'])['subjects'].count()\n",
    "groupby_error_series = groupby_error_series.reset_index()\n",
    "\n",
    "groupby_error_series.loc[groupby_error_series['accumulatedError']>groupby_error_series['severityOfErrors'],'accumulatedError']= 'noninstant'\n",
    "groupby_error_series = groupby_error_series.groupby(['severityOfErrors','accumulatedError']).sum()\n",
    "groupby_error_series = groupby_error_series.reset_index()\n",
    "\n",
    "groupby_error_series['undoType'] = 'serial'\n",
    "\n",
    "groupby_error = pd.concat([groupby_error_single,groupby_error_series])\n",
    "\n",
    "# add empty entries\n",
    "d = {'severityOfErrors': [4,4,4,6,6,6], 'accumulatedError': [4,'noninstant','noninstant', 6,'noninstant','noninstant'],'subjects': [0,0,0,0,0,0],'undoType': ['serial','serial','single', 'serial','serial','single',]}\n",
    "df = pd.DataFrame(data=d)\n",
    "groupby_error = pd.concat([groupby_error,df]).reset_index()\n",
    "print(groupby_error)"
   ]
  },
  {
   "cell_type": "code",
   "execution_count": null,
   "metadata": {
    "lines_to_end_of_cell_marker": 2,
    "lines_to_next_cell": 0
   },
   "outputs": [],
   "source": [
    "%matplotlib notebook\n",
    "\n",
    "fig, axs = plt.subplots(1, 1)\n",
    "single_index1 = (groupby_error['accumulatedError']!='noninstant')&(groupby_error['undoType']=='single')\n",
    "single_index2 = (groupby_error['accumulatedError']=='noninstant')&(groupby_error['undoType']=='single')\n",
    "single_proportion = groupby_error.loc[single_index1 ,'subjects']/sum(groupby_error['subjects'])\n",
    "single_proportion2 = groupby_error.loc[single_index2 ,'subjects']/sum(groupby_error['subjects'])\n",
    "\n",
    "serial_index1 = (groupby_error['accumulatedError']!='noninstant')&(groupby_error['undoType']=='serial')\n",
    "serial_index2 = (groupby_error['accumulatedError']=='noninstant')&(groupby_error['undoType']=='serial')\n",
    "\n",
    "x = groupby_error.loc[single_index1 ,'severityOfErrors']\n",
    "width = 0.35  # the width of the bars\n",
    "\n",
    "axs.bar(x - width/2, single_proportion, width, label='single undo-only instant error',hatch='//',color='#d4a373',edgecolor='black')\n",
    "axs.bar(x + width/2, single_proportion2, width, label='single undo-with accumulated error',hatch='//',color='#ccd5ae',edgecolor='black')\n",
    "axs.bar(x - width/2, groupby_error.loc[serial_index1 ,'subjects']/sum(groupby_error['subjects']),width, bottom=single_proportion,\n",
    "       label='serial undo-only instant error',color='#d4a373',edgecolor='black')\n",
    "axs.bar(x + width/2, groupby_error.loc[serial_index2 ,'subjects']/sum(groupby_error['subjects']),width, bottom=single_proportion2,\n",
    "       label='serial undo-with accumulated error',color='#ccd5ae',edgecolor='black')\n",
    "\n",
    "axs.set_ylabel('proportion of first undo')\n",
    "axs.set_xlabel('instant error before undo action')\n",
    "axs.legend()\n",
    "plt.show()\n",
    "fig.savefig(out_dir + 'undotype_errortype.pdf', dpi=600, bbox_inches='tight')"
   ]
  },
  {
   "cell_type": "markdown",
   "metadata": {},
   "source": [
    "## conditional probability of undo"
   ]
  },
  {
   "cell_type": "code",
   "execution_count": null,
   "metadata": {},
   "outputs": [],
   "source": [
    "# FROM EACH SUBJECT\n",
    "dat_subjects = []\n",
    "for i in np.unique(np.array(data_choice_level['subjects'])):\n",
    "    temp_data = []\n",
    "    index_subjects =  data_choice_level.index[data_choice_level['subjects'] == i]\n",
    "    \n",
    "    puzzle_error = data_choice_level['allMAS'] - data_choice_level['currMas']\n",
    "    \n",
    "    # no error\n",
    "    index_error = puzzle_error.index[puzzle_error == 0]\n",
    "    index_error = np.array(index_error)\n",
    "    index_error = np.intersect1d(index_error, index_subjects)\n",
    "    index_error += 1\n",
    "    if np.any(index_error>(data_choice_level.shape[0]-1)):\n",
    "        index_error = np.delete(index_error, np.where(index_error>(data_choice_level.shape[0]-1)))\n",
    "#     temp_data.append(np.mean(data_choice_level['undo'][index_error]))\n",
    "    temp_data.append(np.mean(data_choice_level['firstUndo'][index_error]))\n",
    "\n",
    "\n",
    "    # YES error\n",
    "    index_error = puzzle_error.index[puzzle_error != 0]\n",
    "    index_error = np.array(index_error)\n",
    "    index_error = np.intersect1d(index_error, index_subjects)\n",
    "    index_error += 1\n",
    "    if np.any(index_error>(data_choice_level.shape[0]-1)):\n",
    "        index_error = np.delete(index_error, np.where(index_error>(data_choice_level.shape[0]-1)))\n",
    "#     temp_data.append(np.mean(data_choice_level['undo'][index_error]))\n",
    "    temp_data.append(np.mean(data_choice_level['firstUndo'][index_error]))\n",
    "    \n",
    "    dat_subjects.append(temp_data)\n",
    "\n",
    "dat_subjects = np.array(dat_subjects)\n",
    "print(np.mean(dat_subjects,axis=0))\n",
    "print(np.unique(np.array(data_choice_level['subjects'])))"
   ]
  },
  {
   "cell_type": "code",
   "execution_count": null,
   "metadata": {
    "lines_to_next_cell": 2
   },
   "outputs": [],
   "source": [
    "%matplotlib notebook\n",
    "\n",
    "fig, axs = plt.subplots(1, 1)\n",
    "axs.bar([1,2],np.mean(dat_subjects,axis = 0),color=[.7,.7,.7], edgecolor = 'k', yerr=np.std(dat_subjects,axis = 0)/np.sqrt(dat_subjects.shape[0]))\n",
    "axs.set_ylabel('P (undo)')\n",
    "axs.set_xticks([1,2])\n",
    "axs.set_yticks(np.linspace(0,0.16,5))\n",
    "axs.set_xticklabels(labels = ['No error', 'Error'])#,fontsize=18\n",
    "fig.set_figheight(4)\n",
    "fig.set_figwidth(3)\n",
    "axs.set_xlabel('puzzle-level')\n",
    "plt.show()\n",
    "# fig.savefig(out_dir + 'conditional_undo_masError.pdf', dpi=600, bbox_inches='tight')\n",
    "\n",
    "from scipy.stats import ttest_ind\n",
    "stat1, p1 = ttest_ind(dat_subjects[:,0], dat_subjects[:,1])\n",
    "print(stat1)\n",
    "print(p1)\n",
    "axs.set_title('p=' + str(p1))"
   ]
  },
  {
   "cell_type": "code",
   "execution_count": null,
   "metadata": {},
   "outputs": [],
   "source": [
    "# FROM EACH SUBJECT\n",
    "dat_subjects = []\n",
    "for i in np.unique(np.array(data_choice_level['subjects'])):\n",
    "    temp_data = []\n",
    "    index_subjects =  data_choice_level.index[data_choice_level['subjects'] == i]\n",
    "    \n",
    "    # no error\n",
    "    index_error = data_choice_level['severityOfErrors'].index[data_choice_level['severityOfErrors'] == 0]\n",
    "    index_error = np.array(index_error)\n",
    "    index_error = np.intersect1d(index_error, index_subjects)\n",
    "    index_error += 1\n",
    "    if np.any(index_error>(data_choice_level.shape[0]-1)):\n",
    "        index_error = np.delete(index_error, np.where(index_error>(data_choice_level.shape[0]-1)))\n",
    "#     temp_data.append(np.mean(data_choice_level['undo'][index_error]))\n",
    "    temp_data.append(np.mean(data_choice_level['firstUndo'][index_error]))\n",
    "\n",
    "\n",
    "    # YES error\n",
    "    index_error = data_choice_level['severityOfErrors'].index[data_choice_level['severityOfErrors'] != 0]\n",
    "    index_error = np.array(index_error)\n",
    "    index_error = np.intersect1d(index_error, index_subjects)\n",
    "    index_error += 1\n",
    "    if np.any(index_error>(data_choice_level.shape[0]-1)):\n",
    "        index_error = np.delete(index_error, np.where(index_error>(data_choice_level.shape[0]-1)))\n",
    "#     temp_data.append(np.mean(data_choice_level['undo'][index_error]))\n",
    "    temp_data.append(np.mean(data_choice_level['firstUndo'][index_error]))\n",
    "    \n",
    "    dat_subjects.append(temp_data)\n",
    "\n",
    "dat_subjects = np.array(dat_subjects)"
   ]
  },
  {
   "cell_type": "code",
   "execution_count": null,
   "metadata": {},
   "outputs": [],
   "source": [
    "%matplotlib notebook\n",
    "\n",
    "fig, axs = plt.subplots(1, 1)\n",
    "axs.bar([1,2],np.mean(dat_subjects,axis = 0),color=[.7,.7,.7], edgecolor = 'k', yerr=np.std(dat_subjects,axis = 0)/np.sqrt(dat_subjects.shape[0]))\n",
    "axs.set_ylabel('P (undo)')\n",
    "axs.set_xticks([1,2])\n",
    "axs.set_xticklabels(labels = ['No error', 'Error'])#,fontsize=18\n",
    "fig.set_figheight(4)\n",
    "fig.set_figwidth(3)\n",
    "axs.set_xlabel('move-level')\n",
    "plt.show()\n",
    "# fig.savefig(out_dir + 'conditional_pundo_givenError.pdf', dpi=600, bbox_inches='tight')\n"
   ]
  },
  {
   "cell_type": "code",
   "execution_count": null,
   "metadata": {},
   "outputs": [],
   "source": [
    "ttest_ind\n",
    "stat1, p1 = ttest_ind(dat_subjects[:,0], dat_subjects[:,1])\n",
    "print(stat1)\n",
    "print(p1)\n",
    "import statsmodels.api as sm\n",
    "import pylab as py\n",
    "# sm.qqplot(stats.zscore(dat_subjects[:,0]), line ='45')\n",
    "sm.qqplot_2samples(dat_subjects[:,0],dat_subjects[:,1],line ='45')\n",
    "py.show()"
   ]
  },
  {
   "cell_type": "markdown",
   "metadata": {},
   "source": [
    "## number of undo - subjects"
   ]
  },
  {
   "cell_type": "code",
   "execution_count": null,
   "metadata": {},
   "outputs": [],
   "source": [
    "undo_puzzle = single_condition_data[single_condition_data['numUNDO']>0].groupby(['subjects']).size()\n",
    "count = [len(single_condition_data.groupby(['subjects']).size())]\n",
    "for i in range(1,47):\n",
    "    count.append(sum(undo_puzzle>=i))"
   ]
  },
  {
   "cell_type": "code",
   "execution_count": null,
   "metadata": {},
   "outputs": [],
   "source": [
    "fig, axs = plt.subplots()\n",
    "\n",
    "plt.bar(list(range(0,47)),count)\n",
    "axs.set_xlabel(\"undo in >= number of puzzles\")\n",
    "axs.set_ylabel(\"number of subjects\")\n",
    "# axs.plot(bins[1][:-1], bins[0], color = '#81b29a', linewidth=3)"
   ]
  },
  {
   "cell_type": "markdown",
   "metadata": {},
   "source": [
    "## number of undo - puzzles"
   ]
  },
  {
   "cell_type": "code",
   "execution_count": null,
   "metadata": {},
   "outputs": [],
   "source": [
    "order = single_condition_data.groupby(['puzzleID'])['numFullUndo'].mean().to_frame()\n",
    "sort_order = order.sort_values('numFullUndo')\n",
    "\n",
    "%matplotlib notebook\n",
    "fig, axs = plt.subplots(1, 1)\n",
    "\n",
    "bx = sns.barplot(x='puzzleID', y='numFullUndo', data = single_condition_data, color = '#ccd5ae',order=sort_order.index) \n"
   ]
  },
  {
   "cell_type": "markdown",
   "metadata": {},
   "source": [
    "## benefit of undo - number of full undoing"
   ]
  },
  {
   "cell_type": "code",
   "execution_count": 25,
   "metadata": {},
   "outputs": [],
   "source": [
    "basic_score = puzzleID_order_data[puzzleID_order_data['condition']==0]['numCities'].reset_index(drop=True)\n",
    "basic_score_z = basic_score/puzzleID_order_data[puzzleID_order_data['condition']==0]['mas'].reset_index(drop=True)\n",
    "single_condition_data['numCities_z'] = single_condition_data['numCities']/single_condition_data['mas']\n",
    "\n",
    "single_condition_data['undo_benefit'] = single_condition_data['numCities'] - basic_score\n",
    "single_condition_data['undo_benefit_z'] = single_condition_data['numCities_z'] - basic_score_z\n",
    "\n",
    "undo_benefit_z_sub = single_condition_data.groupby(['subjects'])['undo_benefit_z'].mean()\n",
    "undo_count_sub = single_condition_data.groupby(['subjects'])['numFullUndo'].mean()\n"
   ]
  },
  {
   "cell_type": "code",
   "execution_count": 26,
   "metadata": {
    "lines_to_next_cell": 2
   },
   "outputs": [
    {
     "ename": "NameError",
     "evalue": "name 'undo_count' is not defined",
     "output_type": "error",
     "traceback": [
      "\u001b[0;31m---------------------------------------------------------------------------\u001b[0m",
      "\u001b[0;31mNameError\u001b[0m                                 Traceback (most recent call last)",
      "\u001b[0;32m<ipython-input-26-89b7d6fb74e7>\u001b[0m in \u001b[0;36m<module>\u001b[0;34m\u001b[0m\n\u001b[1;32m      4\u001b[0m \u001b[0;31m# undo_count = np.array(puzzleID_order_data[puzzleID_order_data['condition']==1]['numFullUndo'])\u001b[0m\u001b[0;34m\u001b[0m\u001b[0;34m\u001b[0m\u001b[0;34m\u001b[0m\u001b[0m\n\u001b[1;32m      5\u001b[0m \u001b[0;34m\u001b[0m\u001b[0m\n\u001b[0;32m----> 6\u001b[0;31m \u001b[0myerr\u001b[0m \u001b[0;34m=\u001b[0m \u001b[0mstats\u001b[0m\u001b[0;34m.\u001b[0m\u001b[0mbinned_statistic\u001b[0m\u001b[0;34m(\u001b[0m\u001b[0mundo_count\u001b[0m\u001b[0;34m,\u001b[0m \u001b[0mbenefit_undo\u001b[0m\u001b[0;34m,\u001b[0m \u001b[0mstatistic\u001b[0m\u001b[0;34m=\u001b[0m\u001b[0;32mlambda\u001b[0m \u001b[0my\u001b[0m\u001b[0;34m:\u001b[0m \u001b[0mnp\u001b[0m\u001b[0;34m.\u001b[0m\u001b[0mstd\u001b[0m\u001b[0;34m(\u001b[0m\u001b[0my\u001b[0m\u001b[0;34m)\u001b[0m\u001b[0;34m/\u001b[0m\u001b[0mnp\u001b[0m\u001b[0;34m.\u001b[0m\u001b[0msqrt\u001b[0m\u001b[0;34m(\u001b[0m\u001b[0mlen\u001b[0m\u001b[0;34m(\u001b[0m\u001b[0my\u001b[0m\u001b[0;34m)\u001b[0m\u001b[0;34m)\u001b[0m\u001b[0;34m,\u001b[0m \u001b[0mbins\u001b[0m\u001b[0;34m=\u001b[0m\u001b[0;34m[\u001b[0m\u001b[0;36m0\u001b[0m\u001b[0;34m,\u001b[0m\u001b[0;36m1\u001b[0m\u001b[0;34m,\u001b[0m\u001b[0;36m2\u001b[0m\u001b[0;34m,\u001b[0m\u001b[0;36m3\u001b[0m\u001b[0;34m,\u001b[0m\u001b[0;36m4\u001b[0m\u001b[0;34m,\u001b[0m\u001b[0;36m100\u001b[0m\u001b[0;34m]\u001b[0m\u001b[0;34m)\u001b[0m\u001b[0;34m\u001b[0m\u001b[0;34m\u001b[0m\u001b[0m\n\u001b[0m\u001b[1;32m      7\u001b[0m \u001b[0mbins\u001b[0m \u001b[0;34m=\u001b[0m \u001b[0mstats\u001b[0m\u001b[0;34m.\u001b[0m\u001b[0mbinned_statistic\u001b[0m\u001b[0;34m(\u001b[0m\u001b[0mundo_count\u001b[0m\u001b[0;34m,\u001b[0m \u001b[0mbenefit_undo\u001b[0m\u001b[0;34m,\u001b[0m \u001b[0;34m'mean'\u001b[0m\u001b[0;34m,\u001b[0m \u001b[0mbins\u001b[0m\u001b[0;34m=\u001b[0m\u001b[0;34m[\u001b[0m\u001b[0;36m0\u001b[0m\u001b[0;34m,\u001b[0m\u001b[0;36m1\u001b[0m\u001b[0;34m,\u001b[0m\u001b[0;36m2\u001b[0m\u001b[0;34m,\u001b[0m\u001b[0;36m3\u001b[0m\u001b[0;34m,\u001b[0m\u001b[0;36m4\u001b[0m\u001b[0;34m,\u001b[0m\u001b[0;36m100\u001b[0m\u001b[0;34m]\u001b[0m\u001b[0;34m)\u001b[0m\u001b[0;34m\u001b[0m\u001b[0;34m\u001b[0m\u001b[0m\n",
      "\u001b[0;31mNameError\u001b[0m: name 'undo_count' is not defined"
     ]
    }
   ],
   "source": [
    "# benefit_undo = (np.array(puzzleID_order_data[puzzleID_order_data['condition']==1]['numCities']) \n",
    "#         - np.array(puzzleID_order_data[puzzleID_order_data['condition']==0]['numCities']))\n",
    "\n",
    "# undo_count = np.array(puzzleID_order_data[puzzleID_order_data['condition']==1]['numFullUndo'])\n",
    "\n",
    "yerr = stats.binned_statistic(undo_count, benefit_undo, statistic=lambda y: np.std(y)/np.sqrt(len(y)), bins=[0,1,2,3,4,100])\n",
    "bins = stats.binned_statistic(undo_count, benefit_undo, 'mean', bins=[0,1,2,3,4,100])"
   ]
  },
  {
   "cell_type": "code",
   "execution_count": null,
   "metadata": {
    "lines_to_next_cell": 2
   },
   "outputs": [],
   "source": [
    "fig, axs = plt.subplots()         \n",
    "axs.plot(bins[1][:-1], bins[0], color = '#81b29a', linewidth=3)\n",
    "plotline1, caplines1, barlinecols1 = axs.errorbar(bins[1][:-1], bins[0], yerr[0], capsize = 0, ls='None', color='k')\n",
    "\n",
    "# non-parametric version of anova (because number of observations is different: https://www.reneshbedre.com/blog/anova.html)\n",
    "# Kruskal-Wallis Test\n",
    "stat1, p1 = stats.kruskal(benefit_undo[undo_count==1], benefit_undo[undo_count==2], benefit_undo[undo_count==3],benefit_undo[undo_count>=4])\n",
    "x1, x2 = 1,4  \n",
    "y, h, col = bins[0][1] + 0.1, 0, 'k'\n",
    "axs.plot([x1, x1, x2, x2], [y, y+h, y+h, y], lw=1.5, c=col)\n",
    "text(p1)\n",
    "\n",
    "stat2, p2 = stats.kruskal(benefit_undo[undo_count==0], benefit_undo[undo_count==1], benefit_undo[undo_count==2], benefit_undo[undo_count==3],benefit_undo[undo_count>=4])\n",
    "x1, x2 = 0,4  \n",
    "y, h, col = bins[0][1] + 0.05, 0, 'k'\n",
    "axs.plot([x1, x1, x2, x2], [y, y+h, y+h, y], lw=1.5, c=col)\n",
    "text(p2)\n",
    "\n",
    "axs.set_xticks([0,1,2,3,4])\n",
    "axs.set_xticklabels([0,1,2,3,'4+'])\n",
    "axs.set_xlabel('number of full undoing')\n",
    "axs.set_ylabel('benefit of undo (n_undo - n_basic)')\n",
    "fig.savefig(out_dir + 'undobenefit_undonum.png', dpi=600, bbox_inches='tight')"
   ]
  },
  {
   "cell_type": "code",
   "execution_count": null,
   "metadata": {},
   "outputs": [],
   "source": [
    "scatter_data = single_condition_data.groupby(['undo_benefit_z','numFullUndo'])['index'].size().to_frame(name = 'count').reset_index()"
   ]
  },
  {
   "cell_type": "code",
   "execution_count": null,
   "metadata": {},
   "outputs": [],
   "source": [
    "%matplotlib notebook\n",
    "fig1, ax1 = plt.subplots()\n",
    "sns.scatterplot(x='numFullUndo', y='undo_benefit_z', size = scatter_data['count'], sizes = (3,100), data=scatter_data) \n",
    "ax1.set_xlabel(\"number of undo\")\n",
    "ax1.set_ylabel(\"benefit of undo\")"
   ]
  },
  {
   "cell_type": "code",
   "execution_count": null,
   "metadata": {},
   "outputs": [],
   "source": [
    "fig11, ax1 = plt.subplots()\n",
    "ax1.plot(undo_count_sub,undo_benefit_z_sub,'o')\n",
    "ax1.set_xlabel(\"average number of undo\")\n",
    "ax1.set_ylabel(\"benefit of undo\")\n",
    "fig11.savefig(out_dir + 'undobenefit_individual.pdf', dpi=600, bbox_inches='tight')"
   ]
  },
  {
   "cell_type": "code",
   "execution_count": null,
   "metadata": {},
   "outputs": [],
   "source": [
    "#TODO: with a caption stating that each point is a subject, the Spearman rho, and the p-value\n",
    "stats.spearmanr(undo_count_sub,undo_benefit_z_sub)"
   ]
  },
  {
   "cell_type": "code",
   "execution_count": null,
   "metadata": {},
   "outputs": [],
   "source": [
    "undo_benefit_puzzle = single_condition_data.groupby(['puzzleID'])['undo_benefit'].mean()\n",
    "undo_count_puzzle = single_condition_data.groupby(['puzzleID'])['numFullUndo'].mean()\n",
    "fig1, ax1 = plt.subplots()\n",
    "ax1.plot(undo_count_puzzle,undo_benefit_puzzle,'o')\n",
    "ax1.set_xlabel(\"average number of undo\")\n",
    "ax1.set_ylabel(\"benefit of undo\")"
   ]
  },
  {
   "cell_type": "markdown",
   "metadata": {},
   "source": [
    "## GLMM benefit of undo - number of undo"
   ]
  },
  {
   "cell_type": "code",
   "execution_count": null,
   "metadata": {},
   "outputs": [],
   "source": [
    "basic_score = puzzleID_order_data[puzzleID_order_data['condition']==0]['numCities'].reset_index(drop=True)\n",
    "basic_score_z = basic_score/puzzleID_order_data[puzzleID_order_data['condition']==0]['mas'].reset_index(drop=True)\n",
    "single_condition_data['numCities_z'] = single_condition_data['numCities']/single_condition_data['mas']\n",
    "\n",
    "single_condition_data['undo_benefit'] = single_condition_data['numCities'] - basic_score\n",
    "single_condition_data['undo_benefit_z'] = single_condition_data['numCities_z'] - basic_score_z\n",
    "\n",
    "undo_benefit_z_sub = single_condition_data.groupby(['subjects'])['undo_benefit_z'].mean()\n",
    "undo_count_sub = single_condition_data.groupby(['subjects'])['numFullUndo'].mean()"
   ]
  },
  {
   "cell_type": "code",
   "execution_count": null,
   "metadata": {},
   "outputs": [],
   "source": [
    "%%R -i single_condition_data\n",
    "#https://stats.stackexchange.com/questions/29781/when-conducting-multiple-regression-when-should-you-center-your-predictor-varia\n",
    "single_condition_data$subjects <- factor(single_condition_data$subjects)\n",
    "single_condition_data$puzzleID <- factor(single_condition_data$puzzleID)\n",
    "single_condition_data$mas <- factor(single_condition_data$mas)\n",
    "# single_condition_data$numFullUndo[single_condition_data$numFullUndo >4] <- 4\n",
    "# single_condition_data$numFullUndo <- factor(single_condition_data$numFullUndo)\n",
    "\n",
    "str(single_condition_data)"
   ]
  },
  {
   "cell_type": "code",
   "execution_count": null,
   "metadata": {},
   "outputs": [],
   "source": [
    "%%R\n",
    "\n",
    "model = lmer(undo_benefit_z ~ numFullUndo + (numFullUndo|subjects),\n",
    "                                  data=single_condition_data , control=lmerControl(optimizer=\"optimx\",\n",
    "                                                                   optCtrl=list(method=\"nlminb\")))\n",
    "\n",
    "# get the coefficients for the best fitting model\n",
    "summary(model)"
   ]
  },
  {
   "cell_type": "code",
   "execution_count": null,
   "metadata": {},
   "outputs": [],
   "source": [
    "%%R\n",
    "# anova(model)\n",
    "# plot(model)\n",
    "\n",
    "ranef(model)\n",
    "## QQ-plots:\n",
    "# par(mfrow = c(1, 2))\n",
    "# qqnorm(ranef(model)$subjects[, 1], main = \"Random effects of subjects\")\n",
    "# qqnorm(resid(model), main = \"Residuals\")\n",
    "\n",
    "qqPlot(resid(model), distribution = \"norm\")"
   ]
  },
  {
   "cell_type": "markdown",
   "metadata": {},
   "source": [
    "## glmm：missed points - number of undo"
   ]
  },
  {
   "cell_type": "code",
   "execution_count": 7,
   "metadata": {},
   "outputs": [],
   "source": [
    "puzzleID_order_data['missed_points'] = puzzleID_order_data['mas'] - puzzleID_order_data['numCities']\n",
    "puzzleID_order_data = puzzleID_order_data[puzzleID_order_data['missed_points'] >= 0]"
   ]
  },
  {
   "cell_type": "code",
   "execution_count": 21,
   "metadata": {},
   "outputs": [
    {
     "name": "stdout",
     "output_type": "stream",
     "text": [
      "'data.frame':\t9291 obs. of  20 variables:\n",
      " $ subjects          : Factor w/ 101 levels \"1\",\"2\",\"3\",\"4\",..: 1 1 1 1 1 1 1 1 1 1 ...\n",
      " $ puzzleID          : Factor w/ 46 levels \"0\",\"1\",\"2\",\"3\",..: 1 1 2 2 3 3 4 4 5 5 ...\n",
      " $ reward            : int  81 81 36 49 100 100 64 81 81 81 ...\n",
      " $ numCities         : int  9 9 6 7 10 10 8 9 9 9 ...\n",
      " $ mas               : int  9 9 7 7 10 10 10 10 10 10 ...\n",
      " $ nos               : int  104 104 6 6 70 70 34 34 4 4 ...\n",
      " $ leftover          : num  1.37 12.88 26.52 20.82 28.4 ...\n",
      " $ numError          : int  0 1 1 3 0 0 2 1 1 1 ...\n",
      " $ sumSeverityErrors : int  0 1 1 3 0 0 2 1 1 1 ...\n",
      " $ condition         : Factor w/ 2 levels \"0\",\"1\": 1 2 1 2 1 2 1 2 1 2 ...\n",
      " $ numUNDO           : int  0 6 0 11 0 7 0 0 0 0 ...\n",
      " $ numFullUndo       : int  0 1 0 3 0 1 0 0 0 0 ...\n",
      " $ numEnd            : int  1 2 1 4 1 2 1 1 1 1 ...\n",
      " $ TT                : num  21.3 48.6 22.2 62.3 20 ...\n",
      " $ RT1               : num  6.78 6.99 8.73 12.95 4.69 ...\n",
      " $ RTlater           : num  2.44 3 4.15 3.03 2.05 ...\n",
      " $ RTsubmit          : num  1.61 2.33 1.31 2.67 1.27 ...\n",
      " $ tortuosity        : num  1.34 1.32 1.34 1.19 1.48 ...\n",
      " $ missed_points     : int  0 0 1 0 0 0 2 1 1 1 ...\n",
      " $ missed_points_sqrt: num  0 0 1 0 0 ...\n"
     ]
    }
   ],
   "source": [
    "%%R -i puzzleID_order_data\n",
    "\n",
    "puzzleID_order_data$subjects <- factor(puzzleID_order_data$subjects)\n",
    "puzzleID_order_data$puzzleID <- factor(puzzleID_order_data$puzzleID)\n",
    "puzzleID_order_data$condition <- factor(puzzleID_order_data$condition)\n",
    "puzzleID_order_data$missed_points_sqrt <- sqrt(puzzleID_order_data$missed_points)\n",
    "str(puzzleID_order_data)"
   ]
  },
  {
   "cell_type": "code",
   "execution_count": 23,
   "metadata": {},
   "outputs": [
    {
     "name": "stdout",
     "output_type": "stream",
     "text": [
      "Generalized linear mixed model fit by maximum likelihood (Laplace\n",
      "  Approximation) [glmerMod]\n",
      " Family: poisson  ( log )\n",
      "Formula: missed_points ~ numFullUndo + (1 | subjects) + (1 | puzzleID)\n",
      "   Data: puzzleID_order_data\n",
      "\n",
      "     AIC      BIC   logLik deviance df.resid \n",
      " 19074.7  19103.2  -9533.3  19066.7     9287 \n",
      "\n",
      "Scaled residuals: \n",
      "    Min      1Q  Median      3Q     Max \n",
      "-1.9007 -0.6574 -0.3378  0.4837  7.1753 \n",
      "\n",
      "Random effects:\n",
      " Groups   Name        Variance Std.Dev.\n",
      " subjects (Intercept) 0.2591   0.5090  \n",
      " puzzleID (Intercept) 0.1968   0.4437  \n",
      "Number of obs: 9291, groups:  subjects, 101; puzzleID, 46\n",
      "\n",
      "Fixed effects:\n",
      "            Estimate Std. Error z value Pr(>|z|)    \n",
      "(Intercept) -0.44134    0.08406  -5.250 1.52e-07 ***\n",
      "numFullUndo -0.08118    0.01860  -4.366 1.27e-05 ***\n",
      "---\n",
      "Signif. codes:  0 ‘***’ 0.001 ‘**’ 0.01 ‘*’ 0.05 ‘.’ 0.1 ‘ ’ 1\n",
      "\n",
      "Correlation of Fixed Effects:\n",
      "            (Intr)\n",
      "numFullUndo -0.054\n"
     ]
    }
   ],
   "source": [
    "%%R\n",
    " #\n",
    "model0 = lme4::glmer(missed_points ~  numFullUndo + (1|subjects) + (1|puzzleID) ,#+ (condition + 0 | subjects)\n",
    "                                  data = puzzleID_order_data, family = \"poisson\")\n",
    "\n",
    "# get the coefficients for the best fitting model\n",
    "summary(model0)"
   ]
  },
  {
   "cell_type": "code",
   "execution_count": 15,
   "metadata": {},
   "outputs": [
    {
     "name": "stdout",
     "output_type": "stream",
     "text": [
      "$subjects\n",
      "       condition0   condition1   (Intercept)\n",
      "1   -1.633971e-01 -0.285507408  0.2235382931\n",
      "2   -1.428510e-01 -0.229790925 -0.1420547212\n",
      "3   -1.955902e-01 -0.333734594  0.1309140932\n",
      "4   -1.119124e-01 -0.185943770 -0.0104499366\n",
      "5   -7.899105e-02 -0.121115909 -0.1798783554\n",
      "6    1.387891e-01  0.230879140  0.0082018173\n",
      "7   -6.709874e-02 -0.108865889 -0.0508780073\n",
      "8   -1.197215e-01 -0.184589557 -0.2552215044\n",
      "9   -4.514553e-02 -0.060948948 -0.2436883378\n",
      "10  -4.600111e-02 -0.084813818  0.1384668450\n",
      "11   5.686008e-02  0.090551573  0.0721076604\n",
      "12   1.366718e-01  0.209384087  0.3141752551\n",
      "13   1.742748e-01  0.288434045  0.0354443478\n",
      "14   7.590960e-03  0.014564007 -0.0325280577\n",
      "15  -3.333854e-01 -0.521516210 -0.5830685555\n",
      "16  -1.238218e-01 -0.180986447 -0.4329976118\n",
      "17   7.796268e-02  0.117347138  0.2148686403\n",
      "18   1.031945e-01  0.101027707  1.2091588904\n",
      "19  -9.985783e-02 -0.158389792 -0.1374867874\n",
      "20   4.603776e-02  0.065552380  0.1906177717\n",
      "21   2.640510e-01  0.436524133  0.0621216348\n",
      "22  -1.225240e-01 -0.211734010  0.1275152199\n",
      "23   2.149785e-01  0.336987023  0.3641421256\n",
      "24  -6.464387e-02 -0.090551752 -0.2930925240\n",
      "25  -1.440129e-01 -0.234353151 -0.0973428857\n",
      "26  -4.547148e-02 -0.067952973 -0.1336559576\n",
      "27   3.605874e-01  0.511259891  1.5300321533\n",
      "28   1.128656e-01  0.181537813  0.1125520547\n",
      "29   1.088093e-01  0.184831820 -0.0587106072\n",
      "30  -2.278846e-01 -0.360347715 -0.3326971873\n",
      "31   9.346012e-02  0.147067483  0.1486822618\n",
      "32   4.676815e-01  0.723317782  0.9589344672\n",
      "33   2.668187e-02  0.048711279 -0.0720885652\n",
      "34   1.126003e-01  0.195567503 -0.1339216276\n",
      "35   1.343208e-01  0.213009116  0.1856901582\n",
      "36   8.482026e-02  0.127981029  0.2284536793\n",
      "37   1.718044e-01  0.276944252  0.1609923620\n",
      "38   8.338311e-02  0.138057691  0.0160347231\n",
      "39  -2.718966e-01 -0.422727444 -0.5198356057\n",
      "40  -3.712058e-02 -0.062358702  0.0081562661\n",
      "41   5.190646e-02  0.089706325 -0.0541341877\n",
      "42  -9.465478e-02 -0.147125463 -0.1816122233\n",
      "43  -9.045981e-02 -0.155938965  0.0875903226\n",
      "44  -1.187276e-01 -0.184340579 -0.2312434327\n",
      "45  -3.358021e-02 -0.050608561 -0.0914481444\n",
      "46  -8.684699e-02 -0.153171382  0.1430260422\n",
      "47   2.042972e-01  0.334249956  0.1075055888\n",
      "48  -2.711740e-02 -0.031021404 -0.2415551461\n",
      "49  -6.522635e-02 -0.090112651 -0.3171079535\n",
      "50   3.740401e-01  0.579778329  0.7450189484\n",
      "51   1.621578e-01  0.242711913  0.4701308608\n",
      "52  -5.422653e-02 -0.086213909 -0.0712142647\n",
      "53  -8.761912e-02 -0.139325661 -0.1147034468\n",
      "54   1.006446e-01  0.172261854 -0.0764334462\n",
      "55  -2.951669e-02 -0.036319141 -0.2194465423\n",
      "56  -3.011928e-01 -0.472493800 -0.5040021171\n",
      "57  -2.110266e-01 -0.334084482 -0.3013792301\n",
      "58   2.258153e-01  0.329962265  0.7914469583\n",
      "59  -1.720516e-01 -0.274068336 -0.2169886026\n",
      "60  -1.722048e-01 -0.272892122 -0.2413713860\n",
      "61   3.424113e-02  0.049626197  0.1269429718\n",
      "62   4.647973e-02  0.058245019  0.3276181545\n",
      "63   6.317370e-02  0.105281539  0.0004885264\n",
      "64  -3.558984e-01 -0.569177463 -0.4105061349\n",
      "65   5.039719e-02  0.079723663  0.0730326248\n",
      "66   1.698454e-02  0.029136233 -0.0140182892\n",
      "67  -3.251209e-01 -0.511673257 -0.5160693363\n",
      "68   3.539331e-01  0.579847113  0.1729934706\n",
      "69   8.449402e-02  0.144170147 -0.0565274452\n",
      "70  -4.571825e-03  0.011775233 -0.3303432321\n",
      "71   7.313473e-05  0.004310678 -0.0713393480\n",
      "72   2.822050e-02  0.046819196  0.0038187341\n",
      "73   3.357957e-02  0.067341909 -0.1935577707\n",
      "74  -1.390455e-01 -0.215146488 -0.2834246501\n",
      "75  -4.177286e-02 -0.061798182 -0.1334719597\n",
      "76  -5.508609e-02 -0.090029329 -0.0306369996\n",
      "77  -2.749945e-01 -0.450164172 -0.1405083346\n",
      "78   1.448393e-01  0.248328862 -0.1172167642\n",
      "79  -4.514463e-02 -0.067409084 -0.1336393115\n",
      "80  -2.340445e-01 -0.373597497 -0.2819246855\n",
      "81   1.107541e-01  0.179915393  0.0802345675\n",
      "82   9.397919e-03  0.010023845  0.0960970129\n",
      "83  -1.391222e-01 -0.204615079 -0.4649656368\n",
      "84  -1.109706e-01 -0.186750371  0.0300253841\n",
      "85  -1.243798e-01 -0.183456368 -0.4067741641\n",
      "86   6.460793e-02  0.105582109  0.0360883429\n",
      "87   3.619042e-01  0.564446488  0.6615879945\n",
      "88  -1.846379e-02 -0.036623011  0.0995295449\n",
      "89  -1.963775e-02 -0.035373170  0.0449136116\n",
      "90   9.447906e-02  0.150674444  0.1161803008\n",
      "91  -9.348561e-02 -0.147800192 -0.1369271736\n",
      "92   5.701305e-04  0.005139749 -0.0713492675\n",
      "93   2.321580e-01  0.386558127  0.0076294117\n",
      "94   2.196187e-01  0.319424104  0.7949981206\n",
      "95   7.040760e-02  0.132364663 -0.2553914222\n",
      "96   1.357130e-01  0.227758682 -0.0259866128\n",
      "97  -8.981251e-02 -0.137754207 -0.2037391877\n",
      "98  -1.266748e-02 -0.022625622  0.0257000980\n",
      "99   1.127361e-01  0.192477938 -0.0774490124\n",
      "100  5.568803e-03  0.011187276 -0.0324291719\n",
      "101 -1.039755e-01 -0.159888656 -0.2288618739\n",
      "\n",
      "$puzzleID\n",
      "   (Intercept)\n",
      "0  -0.69226188\n",
      "1  -0.71436079\n",
      "2  -0.58630872\n",
      "3   0.15011739\n",
      "4   0.56727073\n",
      "5   0.15646298\n",
      "6  -0.75830718\n",
      "7  -0.08203688\n",
      "8  -0.48663099\n",
      "9   0.75089558\n",
      "10 -0.13948426\n",
      "11  0.65035381\n",
      "12  0.40567523\n",
      "13 -0.09554841\n",
      "14  0.08609776\n",
      "15  0.49410562\n",
      "16 -0.24922681\n",
      "17  0.43172596\n",
      "18  0.10373633\n",
      "19  0.13609037\n",
      "20  0.34342234\n",
      "21 -0.36873512\n",
      "22 -0.44589441\n",
      "23 -0.00702736\n",
      "24  0.35280954\n",
      "25  0.09224893\n",
      "26  0.33209359\n",
      "27 -0.70653837\n",
      "28  0.35456628\n",
      "29  0.08267419\n",
      "30  0.33738706\n",
      "31 -0.12536779\n",
      "32 -0.29116523\n",
      "33  0.16232908\n",
      "34 -0.71973441\n",
      "35  0.52266617\n",
      "36  0.62758431\n",
      "37  0.25706869\n",
      "38 -0.42675993\n",
      "39  0.38411325\n",
      "40 -0.16114776\n",
      "41  0.54833820\n",
      "42 -0.37949292\n",
      "43  0.17223543\n",
      "44 -0.83884867\n",
      "45  0.10418718\n",
      "\n",
      "with conditional variances for “subjects” “puzzleID” \n"
     ]
    }
   ],
   "source": [
    "%%R\n",
    "# plot(model0) # https://stat.ethz.ch/R-manual/R-devel/library/nlme/html/plot.lme.html\n",
    "ranef(model0)\n",
    "## QQ-plots:\n",
    "# par(mfrow = c(1, 2))\n",
    "# qqnorm(ranef(model0)$subjects[, 1], main = \"Random effects of subjects\")\n",
    "# qqnorm(resid(model0), main = \"Residuals\")\n",
    "\n",
    "# qqPlot(resid(model0), distribution = \"norm\")\n",
    "\n",
    "# https://stats.stackexchange.com/questions/295340/what-to-do-with-glm-gamma-when-residuals-are-not-normally-distributed/302413#302413\n",
    "# model0.diag <- glm.diag(model0)\n",
    "# glm.diag.plots(model0, model0.diag)"
   ]
  },
  {
   "cell_type": "code",
   "execution_count": 24,
   "metadata": {},
   "outputs": [
    {
     "name": "stdout",
     "output_type": "stream",
     "text": [
      "Generalized linear mixed model fit by maximum likelihood (Laplace\n",
      "  Approximation) [glmerMod]\n",
      " Family: poisson  ( log )\n",
      "Formula: missed_points ~ condition + numFullUndo + (1 | subjects) + (1 |  \n",
      "    puzzleID)\n",
      "   Data: puzzleID_order_data\n",
      "\n",
      "     AIC      BIC   logLik deviance df.resid \n",
      " 19019.9  19055.5  -9504.9  19009.9     9286 \n",
      "\n",
      "Scaled residuals: \n",
      "    Min      1Q  Median      3Q     Max \n",
      "-2.0443 -0.6549 -0.3443  0.4758  7.5603 \n",
      "\n",
      "Random effects:\n",
      " Groups   Name        Variance Std.Dev.\n",
      " subjects (Intercept) 0.2649   0.5146  \n",
      " puzzleID (Intercept) 0.1964   0.4432  \n",
      "Number of obs: 9291, groups:  subjects, 101; puzzleID, 46\n",
      "\n",
      "Fixed effects:\n",
      "            Estimate Std. Error z value Pr(>|z|)    \n",
      "(Intercept) -0.36682    0.08486  -4.322 1.54e-05 ***\n",
      "condition1  -0.18624    0.02467  -7.550 4.34e-14 ***\n",
      "numFullUndo -0.02930    0.01892  -1.549    0.121    \n",
      "---\n",
      "Signif. codes:  0 ‘***’ 0.001 ‘**’ 0.01 ‘*’ 0.05 ‘.’ 0.1 ‘ ’ 1\n",
      "\n",
      "Correlation of Fixed Effects:\n",
      "            (Intr) cndtn1\n",
      "condition1  -0.111       \n",
      "numFullUndo -0.009 -0.356\n"
     ]
    }
   ],
   "source": [
    "%%R\n",
    "\n",
    "model1 = lme4::glmer(missed_points ~ condition + numFullUndo + (1|subjects) + (1|puzzleID),\n",
    "                                  data = puzzleID_order_data, family = \"poisson\")\n",
    "\n",
    "# get the coefficients for the best fitting model\n",
    "summary(model1)"
   ]
  },
  {
   "cell_type": "code",
   "execution_count": 25,
   "metadata": {},
   "outputs": [
    {
     "name": "stdout",
     "output_type": "stream",
     "text": [
      "Data: puzzleID_order_data\n",
      "Models:\n",
      "model0: missed_points ~ numFullUndo + (1 | subjects) + (1 | puzzleID)\n",
      "model1: missed_points ~ condition + numFullUndo + (1 | subjects) + (1 | puzzleID)\n",
      "       npar   AIC   BIC  logLik deviance  Chisq Df Pr(>Chisq)    \n",
      "model0    4 19075 19103 -9533.3    19067                         \n",
      "model1    5 19020 19056 -9504.9    19010 56.828  1  4.757e-14 ***\n",
      "---\n",
      "Signif. codes:  0 ‘***’ 0.001 ‘**’ 0.01 ‘*’ 0.05 ‘.’ 0.1 ‘ ’ 1\n"
     ]
    }
   ],
   "source": [
    "%%R\n",
    "\n",
    "anova(model0,model1)"
   ]
  },
  {
   "cell_type": "markdown",
   "metadata": {},
   "source": [
    "## count of error - number of optimal solutions"
   ]
  },
  {
   "cell_type": "code",
   "execution_count": null,
   "metadata": {
    "lines_to_next_cell": 0
   },
   "outputs": [],
   "source": [
    "error_basic = np.array(puzzleID_order_data[puzzleID_order_data['condition']==0]['numError']) \n",
    "# error_undo = np.array(puzzleID_order_data[puzzleID_order_data['condition']==1]['numError']) \n",
    "\n",
    "n_optimal = np.array(puzzleID_order_data[puzzleID_order_data['condition']==1]['nos'])\n",
    "\n",
    "bins1 = stats.binned_statistic(n_optimal, error_basic, 'mean', bins=[1,3,6,9,100])\n",
    "# bins2 = stats.binned_statistic(n_optimal, error_undo, 'mean', bins=[1,3,6,9,15])\n",
    "\n",
    "fig, axs = plt.subplots()         \n",
    "axs.plot(bins1[1][:-1], bins1[0], color = '#81b29a', linewidth=3,label='basic')\n",
    "# axs.plot(bins2[1][:-1], bins2[0],linewidth=3,label='undo')\n",
    "\n",
    "# non-parametric version of anova (because number of observations is different: https://www.reneshbedre.com/blog/anova.html)\n",
    "# Kruskal-Wallis Test\n",
    "stat1, p1 = stats.kruskal(error_basic[(n_optimal<3) & (n_optimal>=1)], error_basic[(n_optimal<6) & (n_optimal>=3)], error_basic[(n_optimal<9) & (n_optimal>=6)],error_basic[n_optimal>=9])\n",
    "x1, x2 = 1,9\n",
    "y, h, col = bins1[0][0] + 0.05, 0, 'k'\n",
    "axs.plot([x1, x1, x2, x2], [y, y+h, y+h, y], lw=1.5, c=col)\n",
    "text(p1)\n",
    "\n",
    "axs.set_xlabel('number of optimal solutions')\n",
    "axs.set_ylabel('count of error')\n",
    "axs.set_xticks([1,3,6,9])\n",
    "axs.set_xticklabels([1,3,6,'9+'])\n",
    "# axs.legend()\n",
    "fig.savefig(out_dir + 'error_optimal.png', dpi=600, bbox_inches='tight')\n"
   ]
  },
  {
   "cell_type": "code",
   "execution_count": null,
   "metadata": {
    "lines_to_next_cell": 2
   },
   "outputs": [],
   "source": []
  }
 ],
 "metadata": {
  "jupytext": {
   "formats": "ipynb,py"
  },
  "kernelspec": {
   "display_name": "Python 3",
   "language": "python",
   "name": "python3"
  },
  "language_info": {
   "codemirror_mode": {
    "name": "ipython",
    "version": 3
   },
   "file_extension": ".py",
   "mimetype": "text/x-python",
   "name": "python",
   "nbconvert_exporter": "python",
   "pygments_lexer": "ipython3",
   "version": "3.8.3"
  }
 },
 "nbformat": 4,
 "nbformat_minor": 4
}
