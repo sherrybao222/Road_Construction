{
 "cells": [
  {
   "cell_type": "code",
   "execution_count": 1,
   "metadata": {},
   "outputs": [],
   "source": [
    "import pandas as pd\n",
    "import numpy as np\n",
    "import math\n",
    "\n",
    "import matplotlib.pyplot as plt\n",
    "import seaborn as sns\n",
    "\n",
    "import json\n",
    "from anytree.importer import JsonImporter\n",
    "from anytree import PreOrderIter"
   ]
  },
  {
   "cell_type": "code",
   "execution_count": 2,
   "metadata": {},
   "outputs": [],
   "source": [
    "from scipy import stats\n",
    "from scipy.stats import sem\n",
    "from scipy.stats import shapiro\n",
    "from scipy.stats import normaltest\n",
    "from scipy.stats import ttest_rel,ttest_ind"
   ]
  },
  {
   "cell_type": "code",
   "execution_count": 3,
   "metadata": {},
   "outputs": [],
   "source": [
    "%load_ext rpy2.ipython\n",
    "\n",
    "from rpy2.robjects.packages import importr\n",
    "# import R's \"base\" package\n",
    "lme4 = importr('lme4')\n",
    "optimx = importr('optimx')\n",
    "pbkrtest = importr('pbkrtest')\n",
    "lmerTest = importr('lmerTest')\n",
    "ggplot = importr('ggplot2')\n",
    "dplyr = importr('dplyr')\n",
    "sjplot = importr('sjPlot')\n",
    "car = importr('car')"
   ]
  },
  {
   "cell_type": "code",
   "execution_count": 4,
   "metadata": {},
   "outputs": [],
   "source": [
    "home_dir = '/Users/dbao/google_drive_db'+'/road_construction/data/2022_online/'\n",
    "map_dir = 'active_map/'\n",
    "data_dir  = 'data/preprocessed'\n",
    "out_dir = home_dir + 'figures/figures_all/'\n",
    "R_out_dir = home_dir + 'R_analysis_data/'"
   ]
  },
  {
   "cell_type": "code",
   "execution_count": 5,
   "metadata": {},
   "outputs": [],
   "source": [
    "data_puzzle_level = pd.read_csv(R_out_dir +  'data.csv')\n",
    "puzzleID_order_data = data_puzzle_level.sort_values([\"subjects\",\"puzzleID\",\"condition\"])\n",
    "data_choice_level = pd.read_csv(R_out_dir +  'choice_level/choicelevel_data.csv')\n",
    "\n",
    "single_condition_data = puzzleID_order_data[puzzleID_order_data['condition']==1].copy()\n",
    "single_condition_data = single_condition_data.reset_index()\n",
    "\n",
    "with open(home_dir +'tree_data/undo_tree', 'r') as file:\n",
    "    undo_tree = json.load(file)"
   ]
  },
  {
   "cell_type": "code",
   "execution_count": null,
   "metadata": {},
   "outputs": [],
   "source": [
    "# helper functions\n",
    "def as_si(x, ndp):\n",
    "    s = '{x:0.{ndp:d}e}'.format(x=x, ndp=ndp)\n",
    "    m, e = s.split('e')\n",
    "    return r'{m:s}\\times 10^{{{e:d}}}'.format(m=m, e=int(e))\n",
    "\n",
    "# add p-value to figure\n",
    "def text(p):\n",
    "    if p == 0:\n",
    "        axs.text((x1+x2)*.5, y+h,  r\"$p = {:.1f}$\".format(p), ha='center', va='bottom', color=col, fontsize = 8)\n",
    "    elif p < 0.001:\n",
    "        axs.text((x1+x2)*.5, y+h, r\"$p = {0:s}$\".format(as_si(p,1)), ha='center', va='bottom', color=col, fontsize = 8)\n",
    "    elif p > 0.1:\n",
    "        axs.text((x1+x2)*.5, y+h, r\"$p = {:.2f}$\".format(p), ha='center', va='bottom', color=col, fontsize = 8)\n",
    "\n",
    "    elif 0.01 < p < 0.1:\n",
    "        axs.text((x1+x2)*.5, y+h, r\"$p = {:.3f}$\".format(p), ha='center', va='bottom', color=col, fontsize = 8)\n",
    "    else:\n",
    "        axs.text((x1+x2)*.5, y+h, r\"$p = {:.4f}$\".format(p), ha='center', va='bottom', color=col, fontsize = 8)"
   ]
  },
  {
   "cell_type": "markdown",
   "metadata": {},
   "source": [
    "### histogram of the position of branching node"
   ]
  },
  {
   "cell_type": "code",
   "execution_count": null,
   "metadata": {},
   "outputs": [],
   "source": [
    "pos_branching = data_choice_level[data_choice_level['branchingFirst']==True]['currNumCities']\n",
    "\n",
    "%matplotlib notebook\n",
    "\n",
    "fig, axs = plt.subplots(1, 1)\n",
    "axs.hist(pos_branching,\n",
    "        color = (.7,.7,.7), \n",
    "        edgecolor = 'k',)\n",
    "axs.set_ylabel('counts') \n",
    "axs.set_xlabel('the postion of branching node') \n",
    "plt.show()"
   ]
  },
  {
   "cell_type": "markdown",
   "metadata": {},
   "source": [
    "## histogram of number of cities within reach"
   ]
  },
  {
   "cell_type": "code",
   "execution_count": null,
   "metadata": {},
   "outputs": [],
   "source": [
    "n_reach = data_choice_level[data_choice_level['condition']==0]['within_reach'] # only basic condition\n",
    "\n",
    "%matplotlib notebook\n",
    "\n",
    "fig, axs = plt.subplots(1, 1)\n",
    "axs.hist(n_reach,\n",
    "        color = (.7,.7,.7), \n",
    "        edgecolor = 'k',)\n",
    "axs.set_ylabel('counts') \n",
    "axs.set_xlabel('number of cities within reach') \n",
    "plt.show()"
   ]
  },
  {
   "cell_type": "markdown",
   "metadata": {},
   "source": [
    "## number of visits to a state (not undo target)"
   ]
  },
  {
   "cell_type": "code",
   "execution_count": null,
   "metadata": {},
   "outputs": [],
   "source": [
    "importer = JsonImporter()\n",
    "visit = []\n",
    "for ti in range(len(undo_tree)): # loop through trials\n",
    "    root = importer.import_(undo_tree[ti])\n",
    "    \n",
    "    for node in PreOrderIter(root): # loop through the tree\n",
    "        n_child = len(node.children)\n",
    "        visit.append(node.visit)\n",
    "\n",
    "visit.count(2)"
   ]
  },
  {
   "cell_type": "markdown",
   "metadata": {},
   "source": [
    "## number of visits to undo target"
   ]
  },
  {
   "cell_type": "code",
   "execution_count": null,
   "metadata": {},
   "outputs": [],
   "source": [
    "each_trial = data_choice_level[data_choice_level['condition']==1].groupby([\"subjects\",\"puzzleID\"])\n",
    "n_undotarget_visit = each_trial[\"branching\"].count()\n",
    "n_undotarget_visit\n",
    "\n",
    "%matplotlib notebook\n",
    "\n",
    "fig, axs = plt.subplots(1, 1)\n",
    "axs.hist(n_undotarget_visit,\n",
    "        color = (.7,.7,.7), \n",
    "        bins = [2,3,4,5,6,7,8,9],\n",
    "        edgecolor = 'k',)\n",
    "axs.set_ylabel('counts') \n",
    "axs.set_xlabel('number of undo target visit') \n",
    "axs.set_xticks([2,3,4,5,6,7,8])\n",
    "axs.set_xticklabels([\"1\",\"2\",\"3\",\"4\",\"5\",\"6\",\"7+\"])\n",
    "plt.show()"
   ]
  },
  {
   "cell_type": "markdown",
   "metadata": {},
   "source": [
    "## budget before submit/undo at the end of trial"
   ]
  },
  {
   "cell_type": "code",
   "execution_count": null,
   "metadata": {
    "lines_to_next_cell": 2
   },
   "outputs": [],
   "source": [
    "# only undo condition\n",
    "index_first_undo =  data_choice_level.index[data_choice_level['firstUndo'] == 1]\n",
    "df_beforeUndo = data_choice_level.loc[index_first_undo-1,:]\n",
    "index_end_undo = df_beforeUndo.index[df_beforeUndo['checkEnd'] == 1]\n",
    "leftover_undo = df_beforeUndo.loc[index_end_undo,'leftover']\n",
    "\n",
    "index_notundo = data_choice_level.index[(data_choice_level['undo'] == 0)&(data_choice_level['RT'] != -1)]\n",
    "df_notbeforeUndo = data_choice_level.loc[index_notundo-1,:]\n",
    "index_end_notundo = df_notbeforeUndo.index[(df_notbeforeUndo['checkEnd'] == 1)&(df_notbeforeUndo['condition'] == 1)]\n",
    "leftover_notundo = df_notbeforeUndo.loc[index_end_notundo,'leftover']"
   ]
  },
  {
   "cell_type": "code",
   "execution_count": null,
   "metadata": {},
   "outputs": [],
   "source": [
    "%matplotlib notebook\n",
    "\n",
    "fig, axs = plt.subplots(1, 1)\n",
    "\n",
    "bx = axs.boxplot([leftover_undo,leftover_notundo],\n",
    "   positions =[1,2],widths = 0.3,showfliers=False,whis = 1.5,\n",
    "   medianprops = dict(color = 'k'))  #\n",
    "\n",
    "# run 2-independent-sample t test\n",
    "stat1, p1 = ttest_ind(leftover_undo,leftover_notundo,equal_var=False)\n",
    "x1, x2 = 1,2  \n",
    "if bx['caps'][1]._y[0] > bx['caps'][3]._y[0]:\n",
    "    y, h, col = bx['caps'][1]._y[0] + 2, 0.5, 'k'\n",
    "else:\n",
    "    y, h, col = bx['caps'][3]._y[0] + 2, 0.5, 'k'\n",
    "\n",
    "axs.plot([x1, x1, x2, x2], [y, y+h, y+h, y], lw=1.5, c=col)\n",
    "text(p1)\n",
    "\n",
    "#--------------------------------------\n",
    "axs.set_xticks([1,2])\n",
    "axs.set_xticklabels(labels = ['budget before undo','budget before submit'])#,fontsize=18\n",
    "\n",
    "axs.set_facecolor('white')\n",
    "axs.spines['bottom'].set_color('k')\n",
    "axs.spines['left'].set_color('k')\n",
    "axs.tick_params(axis='y', colors='k', direction='in',left = True) #, labelsize = 16\n",
    "axs.tick_params(axis='x', colors='k')\n",
    "# axs.set_title('S'+str(i+1), fontsize = 16)\n",
    "axs.set_ylabel('budget') #,fontsize=18\n",
    "\n",
    "# fig.set_figwidth(26)\n",
    "# fig.set_figheight(12)\n",
    "\n",
    "plt.show()\n",
    "fig.savefig(out_dir + 'budget_before_submit_undo.png', dpi=600, bbox_inches='tight')"
   ]
  },
  {
   "cell_type": "markdown",
   "metadata": {},
   "source": [
    "## counts of errors before undo (by accumulated severity)"
   ]
  },
  {
   "cell_type": "code",
   "execution_count": null,
   "metadata": {},
   "outputs": [],
   "source": [
    "index_first_undo =  data_choice_level.index[data_choice_level['firstUndo'] == 1]\n",
    "df_beforeUndo = data_choice_level.loc[index_first_undo-1,:]\n",
    "\n",
    "MAS_trial = df_beforeUndo['allMAS']\n",
    "accu_severity_error = MAS_trial - df_beforeUndo['currMas']\n",
    "groupby_error = accu_severity_error.value_counts()\n",
    "print(groupby_error/sum(groupby_error))"
   ]
  },
  {
   "cell_type": "code",
   "execution_count": null,
   "metadata": {
    "lines_to_next_cell": 2
   },
   "outputs": [],
   "source": [
    "%matplotlib notebook\n",
    "\n",
    "fig, axs = plt.subplots(1, 1)\n",
    "axs.bar(groupby_error.index,groupby_error/sum(groupby_error))\n",
    "axs.set_ylabel('proportion of first undo')\n",
    "axs.set_xlabel('accumulated error before first undo action')\n",
    "plt.show()\n",
    "fig.savefig(out_dir + 'undo_accumulated_error.pdf', dpi=600, bbox_inches='tight')"
   ]
  },
  {
   "cell_type": "code",
   "execution_count": null,
   "metadata": {},
   "outputs": [],
   "source": [
    "index_first_undo =  data_choice_level.index[data_choice_level['firstUndo'] == 1]\n",
    "df_beforeUndo = data_choice_level.loc[index_first_undo-1,:]\n",
    "\n",
    "instant_severity_error = df_beforeUndo['severityOfErrors']\n",
    "groupby_error_instant = instant_severity_error.value_counts()\n",
    "print(groupby_error_instant)"
   ]
  },
  {
   "cell_type": "code",
   "execution_count": null,
   "metadata": {
    "lines_to_next_cell": 2
   },
   "outputs": [],
   "source": [
    "%matplotlib notebook\n",
    "\n",
    "fig, axs = plt.subplots(1, 1)\n",
    "axs.bar(groupby_error.index,groupby_error_instant/sum(groupby_error_instant))\n",
    "axs.set_ylabel('proportion of first undo')\n",
    "axs.set_xlabel('instant error before first undo action')\n",
    "plt.show()\n",
    "fig.savefig(out_dir + 'undo_instant_error.pdf', dpi=600, bbox_inches='tight')"
   ]
  },
  {
   "cell_type": "code",
   "execution_count": null,
   "metadata": {},
   "outputs": [],
   "source": [
    "# groupby_error_single = single_severity_error.value_counts()\n",
    "# groupby_error_series = series_severity_error.value_counts()\n",
    "\n",
    "# groupby_error_series.at[4] = 0\n",
    "# groupby_error_series.at[6] = 0"
   ]
  },
  {
   "cell_type": "code",
   "execution_count": null,
   "metadata": {
    "lines_to_next_cell": 2
   },
   "outputs": [],
   "source": [
    "index_single_undo =  data_choice_level.index[(data_choice_level['firstUndo'] == 1)&(data_choice_level['lastUndo'] == 1)]\n",
    "df_beforeSingleUndo = data_choice_level.loc[index_single_undo-1,:]\n",
    "\n",
    "single_severity_error = df_beforeSingleUndo['severityOfErrors']\n",
    "df_beforeSingleUndo['accumulatedError'] = df_beforeSingleUndo['allMAS'] - df_beforeSingleUndo['currMas']\n",
    "groupby_error_single = df_beforeSingleUndo.groupby(['severityOfErrors','accumulatedError'])['subjects'].count()\n",
    "groupby_error_single = groupby_error_single.reset_index()\n",
    "\n",
    "groupby_error_single.loc[groupby_error_single['accumulatedError']>groupby_error_single['severityOfErrors'],'accumulatedError']= 'noninstant'\n",
    "groupby_error_single = groupby_error_single.groupby(['severityOfErrors','accumulatedError']).sum()\n",
    "groupby_error_single = groupby_error_single.reset_index()\n",
    "\n",
    "groupby_error_single['undoType'] = 'single'\n",
    "\n",
    "\n",
    "\n",
    "index_series_undo =  data_choice_level.index[(data_choice_level['firstUndo'] == 1)&(data_choice_level['lastUndo'] != 1)]\n",
    "df_beforeSeriesUndo = data_choice_level.loc[index_series_undo-1,:]\n",
    "\n",
    "series_severity_error = df_beforeSeriesUndo['severityOfErrors']\n",
    "df_beforeSeriesUndo['accumulatedError'] = df_beforeSeriesUndo['allMAS'] - df_beforeSeriesUndo['currMas']\n",
    "groupby_error_series = df_beforeSeriesUndo.groupby(['severityOfErrors','accumulatedError'])['subjects'].count()\n",
    "groupby_error_series = groupby_error_series.reset_index()\n",
    "\n",
    "groupby_error_series.loc[groupby_error_series['accumulatedError']>groupby_error_series['severityOfErrors'],'accumulatedError']= 'noninstant'\n",
    "groupby_error_series = groupby_error_series.groupby(['severityOfErrors','accumulatedError']).sum()\n",
    "groupby_error_series = groupby_error_series.reset_index()\n",
    "\n",
    "groupby_error_series['undoType'] = 'serial'\n",
    "\n",
    "groupby_error = pd.concat([groupby_error_single,groupby_error_series])\n",
    "\n",
    "# add empty entries\n",
    "d = {'severityOfErrors': [4,4,4,6,6,6], 'accumulatedError': [4,'noninstant','noninstant', 6,'noninstant','noninstant'],'subjects': [0,0,0,0,0,0],'undoType': ['serial','serial','single', 'serial','serial','single',]}\n",
    "df = pd.DataFrame(data=d)\n",
    "groupby_error = pd.concat([groupby_error,df]).reset_index()\n",
    "print(groupby_error)"
   ]
  },
  {
   "cell_type": "code",
   "execution_count": null,
   "metadata": {
    "lines_to_end_of_cell_marker": 2,
    "lines_to_next_cell": 0
   },
   "outputs": [],
   "source": [
    "%matplotlib notebook\n",
    "\n",
    "fig, axs = plt.subplots(1, 1)\n",
    "single_index1 = (groupby_error['accumulatedError']!='noninstant')&(groupby_error['undoType']=='single')\n",
    "single_index2 = (groupby_error['accumulatedError']=='noninstant')&(groupby_error['undoType']=='single')\n",
    "single_proportion = groupby_error.loc[single_index1 ,'subjects']/sum(groupby_error['subjects'])\n",
    "single_proportion2 = groupby_error.loc[single_index2 ,'subjects']/sum(groupby_error['subjects'])\n",
    "\n",
    "serial_index1 = (groupby_error['accumulatedError']!='noninstant')&(groupby_error['undoType']=='serial')\n",
    "serial_index2 = (groupby_error['accumulatedError']=='noninstant')&(groupby_error['undoType']=='serial')\n",
    "\n",
    "x = groupby_error.loc[single_index1 ,'severityOfErrors']\n",
    "width = 0.35  # the width of the bars\n",
    "\n",
    "axs.bar(x - width/2, single_proportion, width, label='single undo-only instant error',hatch='//',color='#d4a373',edgecolor='black')\n",
    "axs.bar(x + width/2, single_proportion2, width, label='single undo-with accumulated error',hatch='//',color='#ccd5ae',edgecolor='black')\n",
    "axs.bar(x - width/2, groupby_error.loc[serial_index1 ,'subjects']/sum(groupby_error['subjects']),width, bottom=single_proportion,\n",
    "       label='serial undo-only instant error',color='#d4a373',edgecolor='black')\n",
    "axs.bar(x + width/2, groupby_error.loc[serial_index2 ,'subjects']/sum(groupby_error['subjects']),width, bottom=single_proportion2,\n",
    "       label='serial undo-with accumulated error',color='#ccd5ae',edgecolor='black')\n",
    "\n",
    "axs.set_ylabel('proportion of first undo')\n",
    "axs.set_xlabel('instant error before undo action')\n",
    "axs.legend()\n",
    "plt.show()\n",
    "fig.savefig(out_dir + 'undotype_errortype.pdf', dpi=600, bbox_inches='tight')"
   ]
  },
  {
   "cell_type": "markdown",
   "metadata": {},
   "source": [
    "## conditional probability of undo"
   ]
  },
  {
   "cell_type": "code",
   "execution_count": null,
   "metadata": {},
   "outputs": [],
   "source": [
    "# FROM EACH SUBJECT\n",
    "dat_subjects = []\n",
    "for i in np.unique(np.array(data_choice_level['subjects'])):\n",
    "    temp_data = []\n",
    "    index_subjects =  data_choice_level.index[data_choice_level['subjects'] == i]\n",
    "    \n",
    "    puzzle_error = data_choice_level['allMAS'] - data_choice_level['currMas']\n",
    "    \n",
    "    # no error\n",
    "    index_error = puzzle_error.index[puzzle_error == 0]\n",
    "    index_error = np.array(index_error)\n",
    "    index_error = np.intersect1d(index_error, index_subjects)\n",
    "    index_error += 1\n",
    "    if np.any(index_error>(data_choice_level.shape[0]-1)):\n",
    "        index_error = np.delete(index_error, np.where(index_error>(data_choice_level.shape[0]-1)))\n",
    "#     temp_data.append(np.mean(data_choice_level['undo'][index_error]))\n",
    "    temp_data.append(np.mean(data_choice_level['firstUndo'][index_error]))\n",
    "\n",
    "\n",
    "    # YES error\n",
    "    index_error = puzzle_error.index[puzzle_error != 0]\n",
    "    index_error = np.array(index_error)\n",
    "    index_error = np.intersect1d(index_error, index_subjects)\n",
    "    index_error += 1\n",
    "    if np.any(index_error>(data_choice_level.shape[0]-1)):\n",
    "        index_error = np.delete(index_error, np.where(index_error>(data_choice_level.shape[0]-1)))\n",
    "#     temp_data.append(np.mean(data_choice_level['undo'][index_error]))\n",
    "    temp_data.append(np.mean(data_choice_level['firstUndo'][index_error]))\n",
    "    \n",
    "    dat_subjects.append(temp_data)\n",
    "\n",
    "dat_subjects = np.array(dat_subjects)\n",
    "print(np.mean(dat_subjects,axis=0))\n",
    "print(np.unique(np.array(data_choice_level['subjects'])))"
   ]
  },
  {
   "cell_type": "code",
   "execution_count": null,
   "metadata": {
    "lines_to_next_cell": 2
   },
   "outputs": [],
   "source": [
    "%matplotlib notebook\n",
    "\n",
    "fig, axs = plt.subplots(1, 1)\n",
    "axs.bar([1,2],np.mean(dat_subjects,axis = 0),color=[.7,.7,.7], edgecolor = 'k', yerr=np.std(dat_subjects,axis = 0)/np.sqrt(dat_subjects.shape[0]))\n",
    "axs.set_ylabel('P (undo)')\n",
    "axs.set_xticks([1,2])\n",
    "axs.set_yticks(np.linspace(0,0.16,5))\n",
    "axs.set_xticklabels(labels = ['No error', 'Error'])#,fontsize=18\n",
    "fig.set_figheight(4)\n",
    "fig.set_figwidth(3)\n",
    "axs.set_xlabel('puzzle-level')\n",
    "plt.show()\n",
    "# fig.savefig(out_dir + 'conditional_undo_masError.pdf', dpi=600, bbox_inches='tight')\n",
    "\n",
    "from scipy.stats import ttest_ind\n",
    "stat1, p1 = ttest_ind(dat_subjects[:,0], dat_subjects[:,1])\n",
    "print(stat1)\n",
    "print(p1)\n",
    "axs.set_title('p=' + str(p1))"
   ]
  },
  {
   "cell_type": "code",
   "execution_count": null,
   "metadata": {},
   "outputs": [],
   "source": [
    "# FROM EACH SUBJECT\n",
    "dat_subjects = []\n",
    "for i in np.unique(np.array(data_choice_level['subjects'])):\n",
    "    temp_data = []\n",
    "    index_subjects =  data_choice_level.index[data_choice_level['subjects'] == i]\n",
    "    \n",
    "    # no error\n",
    "    index_error = data_choice_level['severityOfErrors'].index[data_choice_level['severityOfErrors'] == 0]\n",
    "    index_error = np.array(index_error)\n",
    "    index_error = np.intersect1d(index_error, index_subjects)\n",
    "    index_error += 1\n",
    "    if np.any(index_error>(data_choice_level.shape[0]-1)):\n",
    "        index_error = np.delete(index_error, np.where(index_error>(data_choice_level.shape[0]-1)))\n",
    "#     temp_data.append(np.mean(data_choice_level['undo'][index_error]))\n",
    "    temp_data.append(np.mean(data_choice_level['firstUndo'][index_error]))\n",
    "\n",
    "\n",
    "    # YES error\n",
    "    index_error = data_choice_level['severityOfErrors'].index[data_choice_level['severityOfErrors'] != 0]\n",
    "    index_error = np.array(index_error)\n",
    "    index_error = np.intersect1d(index_error, index_subjects)\n",
    "    index_error += 1\n",
    "    if np.any(index_error>(data_choice_level.shape[0]-1)):\n",
    "        index_error = np.delete(index_error, np.where(index_error>(data_choice_level.shape[0]-1)))\n",
    "#     temp_data.append(np.mean(data_choice_level['undo'][index_error]))\n",
    "    temp_data.append(np.mean(data_choice_level['firstUndo'][index_error]))\n",
    "    \n",
    "    dat_subjects.append(temp_data)\n",
    "\n",
    "dat_subjects = np.array(dat_subjects)"
   ]
  },
  {
   "cell_type": "code",
   "execution_count": null,
   "metadata": {},
   "outputs": [],
   "source": [
    "%matplotlib notebook\n",
    "\n",
    "fig, axs = plt.subplots(1, 1)\n",
    "axs.bar([1,2],np.mean(dat_subjects,axis = 0),color=[.7,.7,.7], edgecolor = 'k', yerr=np.std(dat_subjects,axis = 0)/np.sqrt(dat_subjects.shape[0]))\n",
    "axs.set_ylabel('P (undo)')\n",
    "axs.set_xticks([1,2])\n",
    "axs.set_xticklabels(labels = ['No error', 'Error'])#,fontsize=18\n",
    "fig.set_figheight(4)\n",
    "fig.set_figwidth(3)\n",
    "axs.set_xlabel('move-level')\n",
    "plt.show()\n",
    "# fig.savefig(out_dir + 'conditional_pundo_givenError.pdf', dpi=600, bbox_inches='tight')\n"
   ]
  },
  {
   "cell_type": "code",
   "execution_count": null,
   "metadata": {},
   "outputs": [],
   "source": [
    "ttest_ind\n",
    "stat1, p1 = ttest_ind(dat_subjects[:,0], dat_subjects[:,1])\n",
    "print(stat1)\n",
    "print(p1)\n",
    "import statsmodels.api as sm\n",
    "import pylab as py\n",
    "# sm.qqplot(stats.zscore(dat_subjects[:,0]), line ='45')\n",
    "sm.qqplot_2samples(dat_subjects[:,0],dat_subjects[:,1],line ='45')\n",
    "py.show()"
   ]
  },
  {
   "cell_type": "markdown",
   "metadata": {},
   "source": [
    "## number of undo - subjects"
   ]
  },
  {
   "cell_type": "code",
   "execution_count": null,
   "metadata": {},
   "outputs": [],
   "source": [
    "undo_puzzle = single_condition_data[single_condition_data['numUNDO']>0].groupby(['subjects']).size()\n",
    "count = [len(single_condition_data.groupby(['subjects']).size())]\n",
    "for i in range(1,47):\n",
    "    count.append(sum(undo_puzzle>=i))"
   ]
  },
  {
   "cell_type": "code",
   "execution_count": null,
   "metadata": {},
   "outputs": [],
   "source": [
    "fig, axs = plt.subplots()\n",
    "\n",
    "plt.bar(list(range(0,47)),count)\n",
    "axs.set_xlabel(\"undo in >= number of puzzles\")\n",
    "axs.set_ylabel(\"number of subjects\")\n",
    "# axs.plot(bins[1][:-1], bins[0], color = '#81b29a', linewidth=3)"
   ]
  },
  {
   "cell_type": "markdown",
   "metadata": {},
   "source": [
    "## number of undo - puzzles"
   ]
  },
  {
   "cell_type": "code",
   "execution_count": null,
   "metadata": {},
   "outputs": [],
   "source": [
    "order = single_condition_data.groupby(['puzzleID'])['numFullUndo'].mean().to_frame()\n",
    "sort_order = order.sort_values('numFullUndo')\n",
    "\n",
    "%matplotlib notebook\n",
    "fig, axs = plt.subplots(1, 1)\n",
    "\n",
    "bx = sns.barplot(x='puzzleID', y='numFullUndo', data = single_condition_data, color = '#ccd5ae',order=sort_order.index) \n"
   ]
  },
  {
   "cell_type": "markdown",
   "metadata": {},
   "source": [
    "## benefit of undo - number of full undoing"
   ]
  },
  {
   "cell_type": "code",
   "execution_count": null,
   "metadata": {},
   "outputs": [],
   "source": [
    "basic_score = puzzleID_order_data[puzzleID_order_data['condition']==0]['numCities'].reset_index(drop=True)\n",
    "basic_score_z = basic_score/puzzleID_order_data[puzzleID_order_data['condition']==0]['mas'].reset_index(drop=True)\n",
    "single_condition_data['numCities_z'] = single_condition_data['numCities']/single_condition_data['mas']\n",
    "\n",
    "single_condition_data['undo_benefit'] = single_condition_data['numCities'] - basic_score\n",
    "single_condition_data['undo_benefit_z'] = single_condition_data['numCities_z'] - basic_score_z\n",
    "\n",
    "undo_benefit_z_sub = single_condition_data.groupby(['subjects'])['undo_benefit_z'].mean()\n",
    "undo_count_sub = single_condition_data.groupby(['subjects'])['numFullUndo'].mean()\n"
   ]
  },
  {
   "cell_type": "code",
   "execution_count": null,
   "metadata": {
    "lines_to_next_cell": 2
   },
   "outputs": [],
   "source": [
    "# benefit_undo = (np.array(puzzleID_order_data[puzzleID_order_data['condition']==1]['numCities']) \n",
    "#         - np.array(puzzleID_order_data[puzzleID_order_data['condition']==0]['numCities']))\n",
    "\n",
    "# undo_count = np.array(puzzleID_order_data[puzzleID_order_data['condition']==1]['numFullUndo'])\n",
    "\n",
    "yerr = stats.binned_statistic(undo_count, benefit_undo, statistic=lambda y: np.std(y)/np.sqrt(len(y)), bins=[0,1,2,3,4,100])\n",
    "bins = stats.binned_statistic(undo_count, benefit_undo, 'mean', bins=[0,1,2,3,4,100])"
   ]
  },
  {
   "cell_type": "code",
   "execution_count": null,
   "metadata": {
    "lines_to_next_cell": 2
   },
   "outputs": [],
   "source": [
    "fig, axs = plt.subplots()         \n",
    "axs.plot(bins[1][:-1], bins[0], color = '#81b29a', linewidth=3)\n",
    "plotline1, caplines1, barlinecols1 = axs.errorbar(bins[1][:-1], bins[0], yerr[0], capsize = 0, ls='None', color='k')\n",
    "\n",
    "# non-parametric version of anova (because number of observations is different: https://www.reneshbedre.com/blog/anova.html)\n",
    "# Kruskal-Wallis Test\n",
    "stat1, p1 = stats.kruskal(benefit_undo[undo_count==1], benefit_undo[undo_count==2], benefit_undo[undo_count==3],benefit_undo[undo_count>=4])\n",
    "x1, x2 = 1,4  \n",
    "y, h, col = bins[0][1] + 0.1, 0, 'k'\n",
    "axs.plot([x1, x1, x2, x2], [y, y+h, y+h, y], lw=1.5, c=col)\n",
    "text(p1)\n",
    "\n",
    "stat2, p2 = stats.kruskal(benefit_undo[undo_count==0], benefit_undo[undo_count==1], benefit_undo[undo_count==2], benefit_undo[undo_count==3],benefit_undo[undo_count>=4])\n",
    "x1, x2 = 0,4  \n",
    "y, h, col = bins[0][1] + 0.05, 0, 'k'\n",
    "axs.plot([x1, x1, x2, x2], [y, y+h, y+h, y], lw=1.5, c=col)\n",
    "text(p2)\n",
    "\n",
    "axs.set_xticks([0,1,2,3,4])\n",
    "axs.set_xticklabels([0,1,2,3,'4+'])\n",
    "axs.set_xlabel('number of full undoing')\n",
    "axs.set_ylabel('benefit of undo (n_undo - n_basic)')\n",
    "fig.savefig(out_dir + 'undobenefit_undonum.png', dpi=600, bbox_inches='tight')"
   ]
  },
  {
   "cell_type": "code",
   "execution_count": null,
   "metadata": {},
   "outputs": [],
   "source": [
    "scatter_data = single_condition_data.groupby(['undo_benefit_z','numFullUndo'])['index'].size().to_frame(name = 'count').reset_index()"
   ]
  },
  {
   "cell_type": "code",
   "execution_count": null,
   "metadata": {},
   "outputs": [],
   "source": [
    "%matplotlib notebook\n",
    "fig1, ax1 = plt.subplots()\n",
    "sns.scatterplot(x='numFullUndo', y='undo_benefit_z', size = scatter_data['count'], sizes = (3,100), data=scatter_data) \n",
    "ax1.set_xlabel(\"number of undo\")\n",
    "ax1.set_ylabel(\"benefit of undo\")"
   ]
  },
  {
   "cell_type": "code",
   "execution_count": null,
   "metadata": {},
   "outputs": [],
   "source": [
    "fig11, ax1 = plt.subplots()\n",
    "ax1.plot(undo_count_sub,undo_benefit_z_sub,'o')\n",
    "ax1.set_xlabel(\"average number of undo\")\n",
    "ax1.set_ylabel(\"benefit of undo\")\n",
    "fig11.savefig(out_dir + 'undobenefit_individual.pdf', dpi=600, bbox_inches='tight')"
   ]
  },
  {
   "cell_type": "code",
   "execution_count": null,
   "metadata": {},
   "outputs": [],
   "source": [
    "#TODO: with a caption stating that each point is a subject, the Spearman rho, and the p-value\n",
    "stats.spearmanr(undo_count_sub,undo_benefit_z_sub)"
   ]
  },
  {
   "cell_type": "code",
   "execution_count": null,
   "metadata": {},
   "outputs": [],
   "source": [
    "undo_benefit_puzzle = single_condition_data.groupby(['puzzleID'])['undo_benefit'].mean()\n",
    "undo_count_puzzle = single_condition_data.groupby(['puzzleID'])['numFullUndo'].mean()\n",
    "fig1, ax1 = plt.subplots()\n",
    "ax1.plot(undo_count_puzzle,undo_benefit_puzzle,'o')\n",
    "ax1.set_xlabel(\"average number of undo\")\n",
    "ax1.set_ylabel(\"benefit of undo\")"
   ]
  },
  {
   "cell_type": "markdown",
   "metadata": {},
   "source": [
    "## GLMM benefit of undo - number of undo"
   ]
  },
  {
   "cell_type": "code",
   "execution_count": null,
   "metadata": {},
   "outputs": [],
   "source": [
    "basic_score = puzzleID_order_data[puzzleID_order_data['condition']==0]['numCities'].reset_index(drop=True)\n",
    "basic_score_z = basic_score/puzzleID_order_data[puzzleID_order_data['condition']==0]['mas'].reset_index(drop=True)\n",
    "single_condition_data['numCities_z'] = single_condition_data['numCities']/single_condition_data['mas']\n",
    "\n",
    "single_condition_data['undo_benefit'] = single_condition_data['numCities'] - basic_score\n",
    "single_condition_data['undo_benefit_z'] = single_condition_data['numCities_z'] - basic_score_z\n",
    "\n",
    "undo_benefit_z_sub = single_condition_data.groupby(['subjects'])['undo_benefit_z'].mean()\n",
    "undo_count_sub = single_condition_data.groupby(['subjects'])['numFullUndo'].mean()"
   ]
  },
  {
   "cell_type": "code",
   "execution_count": null,
   "metadata": {},
   "outputs": [],
   "source": [
    "%%R -i single_condition_data\n",
    "\n",
    "single_condition_data$subjects <- factor(single_condition_data$subjects)\n",
    "single_condition_data$puzzleID <- factor(single_condition_data$puzzleID)\n",
    "single_condition_data$mas <- factor(single_condition_data$mas)\n",
    "# single_condition_data$numFullUndo[single_condition_data$numFullUndo >4] <- 4\n",
    "# single_condition_data$numFullUndo <- factor(single_condition_data$numFullUndo)\n",
    "\n",
    "str(single_condition_data)"
   ]
  },
  {
   "cell_type": "code",
   "execution_count": null,
   "metadata": {},
   "outputs": [],
   "source": [
    "%%R\n",
    "\n",
    "model = lmer(undo_benefit_z ~ numFullUndo + (numFullUndo|subjects),\n",
    "                                  data=single_condition_data , control=lmerControl(optimizer=\"optimx\",\n",
    "                                                                   optCtrl=list(method=\"nlminb\")))\n",
    "\n",
    "# get the coefficients for the best fitting model\n",
    "summary(model)"
   ]
  },
  {
   "cell_type": "code",
   "execution_count": null,
   "metadata": {},
   "outputs": [],
   "source": [
    "%%R\n",
    "# anova(model)\n",
    "# plot(model)\n",
    "\n",
    "ranef(model)\n",
    "## QQ-plots:\n",
    "# par(mfrow = c(1, 2))\n",
    "# qqnorm(ranef(model)$subjects[, 1], main = \"Random effects of subjects\")\n",
    "# qqnorm(resid(model), main = \"Residuals\")\n",
    "\n",
    "qqPlot(resid(model), distribution = \"norm\")"
   ]
  },
  {
   "cell_type": "markdown",
   "metadata": {},
   "source": [
    "## glmm：missed points - number of undo"
   ]
  },
  {
   "cell_type": "code",
   "execution_count": 6,
   "metadata": {},
   "outputs": [],
   "source": [
    "puzzleID_order_data['missed_points'] = puzzleID_order_data['mas'] - puzzleID_order_data['numCities']\n",
    "puzzleID_order_data = puzzleID_order_data[puzzleID_order_data['missed_points'] >= 0]"
   ]
  },
  {
   "cell_type": "code",
   "execution_count": 7,
   "metadata": {},
   "outputs": [
    {
     "name": "stdout",
     "output_type": "stream",
     "text": [
      "'data.frame':\t9291 obs. of  20 variables:\n",
      " $ subjects          : Factor w/ 101 levels \"1\",\"2\",\"3\",\"4\",..: 1 1 1 1 1 1 1 1 1 1 ...\n",
      " $ puzzleID          : Factor w/ 46 levels \"0\",\"1\",\"2\",\"3\",..: 1 1 2 2 3 3 4 4 5 5 ...\n",
      " $ reward            : int  81 81 36 49 100 100 64 81 81 81 ...\n",
      " $ numCities         : int  9 9 6 7 10 10 8 9 9 9 ...\n",
      " $ mas               : int  9 9 7 7 10 10 10 10 10 10 ...\n",
      " $ nos               : int  104 104 6 6 70 70 34 34 4 4 ...\n",
      " $ leftover          : num  1.37 12.88 26.52 20.82 28.4 ...\n",
      " $ numError          : int  0 1 1 3 0 0 2 1 1 1 ...\n",
      " $ sumSeverityErrors : int  0 1 1 3 0 0 2 1 1 1 ...\n",
      " $ condition         : Factor w/ 2 levels \"0\",\"1\": 1 2 1 2 1 2 1 2 1 2 ...\n",
      " $ numUNDO           : int  0 6 0 11 0 7 0 0 0 0 ...\n",
      " $ numFullUndo       : int  0 1 0 3 0 1 0 0 0 0 ...\n",
      " $ numEnd            : int  1 2 1 4 1 2 1 1 1 1 ...\n",
      " $ TT                : num  21.3 48.6 22.2 62.3 20 ...\n",
      " $ RT1               : num  6.78 6.99 8.73 12.95 4.69 ...\n",
      " $ RTlater           : num  2.44 3 4.15 3.03 2.05 ...\n",
      " $ RTsubmit          : num  1.61 2.33 1.31 2.67 1.27 ...\n",
      " $ tortuosity        : num  1.34 1.32 1.34 1.19 1.48 ...\n",
      " $ missed_points     : int  0 0 1 0 0 0 2 1 1 1 ...\n",
      " $ missed_points_sqrt: num  0 0 1 0 0 ...\n"
     ]
    }
   ],
   "source": [
    "%%R -i puzzleID_order_data\n",
    "\n",
    "puzzleID_order_data$subjects <- factor(puzzleID_order_data$subjects)\n",
    "puzzleID_order_data$puzzleID <- factor(puzzleID_order_data$puzzleID)\n",
    "puzzleID_order_data$condition <- factor(puzzleID_order_data$condition)\n",
    "puzzleID_order_data$missed_points_sqrt <- sqrt(puzzleID_order_data$missed_points)\n",
    "str(puzzleID_order_data)"
   ]
  },
  {
   "cell_type": "code",
   "execution_count": 8,
   "metadata": {},
   "outputs": [
    {
     "name": "stdout",
     "output_type": "stream",
     "text": [
      "Generalized linear mixed model fit by maximum likelihood (Laplace\n",
      "  Approximation) [glmerMod]\n",
      " Family: poisson  ( log )\n",
      "Formula: missed_points ~ condition + numFullUndo + (1 | subjects) + (1 |  \n",
      "    puzzleID) + (condition + 0 | subjects)\n",
      "   Data: puzzleID_order_data\n",
      "\n",
      "     AIC      BIC   logLik deviance df.resid \n",
      " 19010.2  19067.3  -9497.1  18994.2     9283 \n",
      "\n",
      "Scaled residuals: \n",
      "    Min      1Q  Median      3Q     Max \n",
      "-1.9438 -0.6512 -0.3345  0.4740  8.2079 \n",
      "\n",
      "Random effects:\n",
      " Groups     Name        Variance Std.Dev. Corr\n",
      " subjects   condition0  0.0710   0.2665       \n",
      "            condition1  0.1608   0.4010   0.98\n",
      " subjects.1 (Intercept) 0.1653   0.4066       \n",
      " puzzleID   (Intercept) 0.1962   0.4429       \n",
      "Number of obs: 9291, groups:  subjects, 101; puzzleID, 46\n",
      "\n",
      "Fixed effects:\n",
      "             Estimate Std. Error z value Pr(>|z|)    \n",
      "(Intercept) -0.348814   0.083272  -4.189 2.80e-05 ***\n",
      "condition1  -0.248191   0.033257  -7.463 8.47e-14 ***\n",
      "numFullUndo -0.006175   0.020397  -0.303    0.762    \n",
      "---\n",
      "Signif. codes:  0 ‘***’ 0.001 ‘**’ 0.01 ‘*’ 0.05 ‘.’ 0.1 ‘ ’ 1\n",
      "\n",
      "Correlation of Fixed Effects:\n",
      "            (Intr) cndtn1\n",
      "condition1   0.011       \n",
      "numFullUndo  0.001 -0.390\n",
      "optimizer (Nelder_Mead) convergence code: 0 (OK)\n",
      "unable to evaluate scaled gradient\n",
      "Model failed to converge: degenerate  Hessian with 1 negative eigenvalues\n",
      "\n"
     ]
    }
   ],
   "source": [
    "%%R\n",
    "\n",
    "model0 = lme4::glmer(missed_points ~ condition + numFullUndo + (1|subjects) + (1|puzzleID) + (condition + 0 | subjects),\n",
    "                                  data = puzzleID_order_data, family = \"poisson\")\n",
    "\n",
    "# get the coefficients for the best fitting model\n",
    "summary(model0)"
   ]
  },
  {
   "cell_type": "code",
   "execution_count": 9,
   "metadata": {},
   "outputs": [
    {
     "name": "stdout",
     "output_type": "stream",
     "text": [
      "239 190 \n",
      "254 271 \n"
     ]
    },
    {
     "data": {
      "image/png": "[encoded data removed]"
     },
     "metadata": {},
     "output_type": "display_data"
    }
   ],
   "source": [
    "%%R\n",
    "# anova(model)\n",
    "# plot(model)\n",
    "\n",
    "# ranef(model)\n",
    "## QQ-plots:\n",
    "# par(mfrow = c(1, 2))\n",
    "# qqnorm(ranef(model)$subjects[, 1], main = \"Random effects of subjects\")\n",
    "# qqnorm(resid(model), main = \"Residuals\")\n",
    "\n",
    "qqPlot(resid(model0), distribution = \"norm\")"
   ]
  },
  {
   "cell_type": "code",
   "execution_count": 10,
   "metadata": {},
   "outputs": [
    {
     "name": "stdout",
     "output_type": "stream",
     "text": [
      "Generalized linear mixed model fit by maximum likelihood (Laplace\n",
      "  Approximation) [glmerMod]\n",
      " Family: poisson  ( log )\n",
      "Formula: missed_points ~ condition + numFullUndo + (1 | subjects) + (1 |  \n",
      "    puzzleID)\n",
      "   Data: puzzleID_order_data\n",
      "\n",
      "     AIC      BIC   logLik deviance df.resid \n",
      " 19019.9  19055.5  -9504.9  19009.9     9286 \n",
      "\n",
      "Scaled residuals: \n",
      "    Min      1Q  Median      3Q     Max \n",
      "-2.0443 -0.6549 -0.3443  0.4758  7.5603 \n",
      "\n",
      "Random effects:\n",
      " Groups   Name        Variance Std.Dev.\n",
      " subjects (Intercept) 0.2649   0.5146  \n",
      " puzzleID (Intercept) 0.1964   0.4432  \n",
      "Number of obs: 9291, groups:  subjects, 101; puzzleID, 46\n",
      "\n",
      "Fixed effects:\n",
      "            Estimate Std. Error z value Pr(>|z|)    \n",
      "(Intercept) -0.36682    0.08486  -4.322 1.54e-05 ***\n",
      "condition1  -0.18624    0.02467  -7.550 4.34e-14 ***\n",
      "numFullUndo -0.02930    0.01892  -1.549    0.121    \n",
      "---\n",
      "Signif. codes:  0 ‘***’ 0.001 ‘**’ 0.01 ‘*’ 0.05 ‘.’ 0.1 ‘ ’ 1\n",
      "\n",
      "Correlation of Fixed Effects:\n",
      "            (Intr) cndtn1\n",
      "condition1  -0.111       \n",
      "numFullUndo -0.009 -0.356\n"
     ]
    }
   ],
   "source": [
    "%%R\n",
    "\n",
    "model1 = lme4::glmer(missed_points ~ condition + numFullUndo + (1|subjects) + (1|puzzleID),\n",
    "                                  data = puzzleID_order_data, family = \"poisson\")\n",
    "\n",
    "# get the coefficients for the best fitting model\n",
    "summary(model1)"
   ]
  },
  {
   "cell_type": "code",
   "execution_count": 11,
   "metadata": {},
   "outputs": [
    {
     "name": "stdout",
     "output_type": "stream",
     "text": [
      "Data: puzzleID_order_data\n",
      "Models:\n",
      "model1: missed_points ~ condition + numFullUndo + (1 | subjects) + (1 | puzzleID)\n",
      "model0: missed_points ~ condition + numFullUndo + (1 | subjects) + (1 | puzzleID) + (condition + 0 | subjects)\n",
      "       npar   AIC   BIC  logLik deviance Chisq Df Pr(>Chisq)   \n",
      "model1    5 19020 19056 -9504.9    19010                       \n",
      "model0    8 19010 19067 -9497.1    18994 15.65  3   0.001338 **\n",
      "---\n",
      "Signif. codes:  0 ‘***’ 0.001 ‘**’ 0.01 ‘*’ 0.05 ‘.’ 0.1 ‘ ’ 1\n"
     ]
    }
   ],
   "source": [
    "%%R\n",
    "\n",
    "anova(model0,model1)"
   ]
  },
  {
   "cell_type": "markdown",
   "metadata": {},
   "source": [
    "## count of error - number of optimal solutions"
   ]
  },
  {
   "cell_type": "code",
   "execution_count": null,
   "metadata": {
    "lines_to_next_cell": 0
   },
   "outputs": [],
   "source": [
    "error_basic = np.array(puzzleID_order_data[puzzleID_order_data['condition']==0]['numError']) \n",
    "# error_undo = np.array(puzzleID_order_data[puzzleID_order_data['condition']==1]['numError']) \n",
    "\n",
    "n_optimal = np.array(puzzleID_order_data[puzzleID_order_data['condition']==1]['nos'])\n",
    "\n",
    "bins1 = stats.binned_statistic(n_optimal, error_basic, 'mean', bins=[1,3,6,9,100])\n",
    "# bins2 = stats.binned_statistic(n_optimal, error_undo, 'mean', bins=[1,3,6,9,15])\n",
    "\n",
    "fig, axs = plt.subplots()         \n",
    "axs.plot(bins1[1][:-1], bins1[0], color = '#81b29a', linewidth=3,label='basic')\n",
    "# axs.plot(bins2[1][:-1], bins2[0],linewidth=3,label='undo')\n",
    "\n",
    "# non-parametric version of anova (because number of observations is different: https://www.reneshbedre.com/blog/anova.html)\n",
    "# Kruskal-Wallis Test\n",
    "stat1, p1 = stats.kruskal(error_basic[(n_optimal<3) & (n_optimal>=1)], error_basic[(n_optimal<6) & (n_optimal>=3)], error_basic[(n_optimal<9) & (n_optimal>=6)],error_basic[n_optimal>=9])\n",
    "x1, x2 = 1,9\n",
    "y, h, col = bins1[0][0] + 0.05, 0, 'k'\n",
    "axs.plot([x1, x1, x2, x2], [y, y+h, y+h, y], lw=1.5, c=col)\n",
    "text(p1)\n",
    "\n",
    "axs.set_xlabel('number of optimal solutions')\n",
    "axs.set_ylabel('count of error')\n",
    "axs.set_xticks([1,3,6,9])\n",
    "axs.set_xticklabels([1,3,6,'9+'])\n",
    "# axs.legend()\n",
    "fig.savefig(out_dir + 'error_optimal.png', dpi=600, bbox_inches='tight')\n"
   ]
  },
  {
   "cell_type": "code",
   "execution_count": null,
   "metadata": {
    "lines_to_next_cell": 2
   },
   "outputs": [],
   "source": []
  }
 ],
 "metadata": {
  "jupytext": {
   "formats": "ipynb,py"
  },
  "kernelspec": {
   "display_name": "Python 3",
   "language": "python",
   "name": "python3"
  },
  "language_info": {
   "codemirror_mode": {
    "name": "ipython",
    "version": 3
   },
   "file_extension": ".py",
   "mimetype": "text/x-python",
   "name": "python",
   "nbconvert_exporter": "python",
   "pygments_lexer": "ipython3",
   "version": "3.8.3"
  }
 },
 "nbformat": 4,
 "nbformat_minor": 4
}
