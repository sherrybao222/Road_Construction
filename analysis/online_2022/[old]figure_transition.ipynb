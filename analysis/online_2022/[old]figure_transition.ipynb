{
 "cells": [
  {
   "cell_type": "markdown",
   "id": "c37b4ae3",
   "metadata": {},
   "source": [
    "# Description"
   ]
  },
  {
   "cell_type": "markdown",
   "id": "a39c793b",
   "metadata": {},
   "source": [
    "Additional figures while preparing cogsci presentation."
   ]
  },
  {
   "cell_type": "markdown",
   "id": "905f30e9",
   "metadata": {},
   "source": [
    "# Loading data"
   ]
  },
  {
   "cell_type": "code",
   "execution_count": 149,
   "id": "fe712771",
   "metadata": {
    "ExecuteTime": {
     "end_time": "2022-06-30T21:03:56.753098Z",
     "start_time": "2022-06-30T21:03:56.740552Z"
    }
   },
   "outputs": [],
   "source": [
    "import pandas as pd\n",
    "import numpy as np\n",
    "import math\n",
    "\n",
    "import matplotlib.pyplot as plt\n",
    "import seaborn as sns\n",
    "\n",
    "import json\n",
    "from anytree.importer import JsonImporter\n",
    "from anytree import PreOrderIter"
   ]
  },
  {
   "cell_type": "code",
   "execution_count": 150,
   "id": "c841934f",
   "metadata": {
    "ExecuteTime": {
     "end_time": "2022-06-30T21:03:56.769048Z",
     "start_time": "2022-06-30T21:03:56.755095Z"
    }
   },
   "outputs": [],
   "source": [
    "from scipy import stats\n",
    "from scipy.stats import sem\n",
    "from scipy.stats import shapiro\n",
    "from scipy.stats import normaltest\n",
    "from scipy.stats import ttest_rel,ttest_ind"
   ]
  },
  {
   "cell_type": "code",
   "execution_count": 151,
   "id": "7b10a1bd",
   "metadata": {
    "ExecuteTime": {
     "end_time": "2022-06-30T21:04:01.352662Z",
     "start_time": "2022-06-30T21:03:56.771041Z"
    }
   },
   "outputs": [
    {
     "name": "stdout",
     "output_type": "stream",
     "text": [
      "The rpy2.ipython extension is already loaded. To reload it, use:\n",
      "  %reload_ext rpy2.ipython\n"
     ]
    }
   ],
   "source": [
    "%load_ext rpy2.ipython\n",
    "\n",
    "from rpy2.robjects.packages import importr\n",
    "# import R's \"base\" package\n",
    "lme4 = importr('lme4')\n",
    "optimx = importr('optimx')\n",
    "pbkrtest = importr('pbkrtest')\n",
    "lmerTest = importr('lmerTest')\n",
    "ggplot = importr('ggplot2')\n",
    "dplyr = importr('dplyr')\n",
    "sjplot = importr('sjPlot')\n",
    "car = importr('car')\n",
    "# fitdistrplus = importr('fitdistrplus')\n",
    "boot = importr('boot')"
   ]
  },
  {
   "cell_type": "code",
   "execution_count": 152,
   "id": "569f6f20",
   "metadata": {
    "ExecuteTime": {
     "end_time": "2022-06-30T21:04:01.368672Z",
     "start_time": "2022-06-30T21:04:01.354655Z"
    }
   },
   "outputs": [],
   "source": [
    "# home_dir = '/Users/dbao/google_drive_db'+'/road_construction/data/2022_online/'\n",
    "home_dir = 'G:\\My Drive\\\\researches\\\\nyu\\\\road-construction-local-dk\\data_online_2022\\\\'\n",
    "map_dir = 'active_map/'\n",
    "data_dir  = 'data/preprocessed'\n",
    "out_dir = home_dir + 'figures/figures_all/'\n",
    "R_out_dir = home_dir + 'R_analysis_data/'"
   ]
  },
  {
   "cell_type": "code",
   "execution_count": 153,
   "id": "3d908b9c",
   "metadata": {
    "ExecuteTime": {
     "end_time": "2022-06-30T21:04:01.853739Z",
     "start_time": "2022-06-30T21:04:01.370663Z"
    }
   },
   "outputs": [],
   "source": [
    "data_puzzle_level = pd.read_csv(R_out_dir +  'data.csv')\n",
    "puzzleID_order_data = data_puzzle_level.sort_values([\"subjects\",\"puzzleID\",\"condition\"])\n",
    "data_choice_level = pd.read_csv(R_out_dir +  'choice_level/choicelevel_data.csv')\n",
    "\n",
    "single_condition_data = puzzleID_order_data[puzzleID_order_data['condition']==1].copy()\n",
    "single_condition_data = single_condition_data.reset_index()\n",
    "sc_data_choice_level = data_choice_level[data_choice_level['condition']==1].reset_index()\n",
    "\n",
    "with open(home_dir +'tree_data/undo_tree', 'r') as file:\n",
    "    undo_tree = json.load(file)"
   ]
  },
  {
   "cell_type": "code",
   "execution_count": 154,
   "id": "ac9e8bb1",
   "metadata": {
    "ExecuteTime": {
     "end_time": "2022-06-30T21:04:02.307589Z",
     "start_time": "2022-06-30T21:04:01.855653Z"
    }
   },
   "outputs": [],
   "source": [
    "data_puzzle_level = pd.read_csv(R_out_dir +  'data.csv')\n",
    "puzzleID_order_data = data_puzzle_level.sort_values([\"subjects\",\"puzzleID\",\"condition\"])\n",
    "data_choice_level = pd.read_csv(R_out_dir +  'choice_level/choicelevel_data.csv')\n",
    "\n",
    "single_condition_data = puzzleID_order_data[puzzleID_order_data['condition']==1].copy()\n",
    "single_condition_data = single_condition_data.reset_index()\n",
    "sc_data_choice_level = data_choice_level[data_choice_level['condition']==1].reset_index()\n",
    "\n",
    "with open(home_dir +'tree_data/undo_tree', 'r') as file:\n",
    "    undo_tree = json.load(file)"
   ]
  },
  {
   "cell_type": "markdown",
   "id": "b11c40a4",
   "metadata": {},
   "source": [
    "## when they did/  did not undo all the way to the starting"
   ]
  },
  {
   "cell_type": "code",
   "execution_count": 155,
   "id": "9e48a6cd",
   "metadata": {
    "ExecuteTime": {
     "end_time": "2022-06-30T21:04:07.431796Z",
     "start_time": "2022-06-30T21:04:02.325528Z"
    },
    "scrolled": true
   },
   "outputs": [
    {
     "name": "stdout",
     "output_type": "stream",
     "text": [
      "28\n",
      "7\n",
      "********************\n",
      "17\n",
      "14\n",
      "********************\n",
      "38\n",
      "63\n",
      "********************\n",
      "45\n",
      "12\n",
      "********************\n",
      "20\n",
      "6\n",
      "********************\n",
      "1\n",
      "1\n",
      "********************\n",
      "15\n",
      "13\n",
      "********************\n",
      "12\n",
      "2\n",
      "********************\n",
      "0\n",
      "0\n",
      "********************\n",
      "18\n",
      "11\n",
      "********************\n",
      "0\n",
      "1\n",
      "********************\n",
      "2\n",
      "7\n",
      "********************\n",
      "0\n",
      "0\n",
      "********************\n"
     ]
    },
    {
     "name": "stderr",
     "output_type": "stream",
     "text": [
      "C:\\ProgramData\\Anaconda3\\envs\\base37\\lib\\site-packages\\numpy\\core\\fromnumeric.py:3441: RuntimeWarning: Mean of empty slice.\n",
      "  out=out, **kwargs)\n",
      "C:\\ProgramData\\Anaconda3\\envs\\base37\\lib\\site-packages\\numpy\\core\\_methods.py:189: RuntimeWarning: invalid value encountered in double_scalars\n",
      "  ret = ret.dtype.type(ret / rcount)\n"
     ]
    },
    {
     "name": "stdout",
     "output_type": "stream",
     "text": [
      "10\n",
      "1\n",
      "********************\n",
      "21\n",
      "21\n",
      "********************\n",
      "10\n",
      "11\n",
      "********************\n",
      "7\n",
      "3\n",
      "********************\n",
      "0\n",
      "2\n",
      "********************\n",
      "2\n",
      "27\n",
      "********************\n",
      "20\n",
      "2\n",
      "********************\n",
      "0\n",
      "0\n",
      "********************\n",
      "20\n",
      "6\n",
      "********************\n",
      "7\n",
      "6\n",
      "********************\n",
      "15\n",
      "30\n",
      "********************\n",
      "26\n",
      "41\n",
      "********************\n",
      "0\n",
      "0\n",
      "********************\n",
      "0\n",
      "0\n",
      "********************\n",
      "0\n",
      "0\n",
      "********************\n",
      "0\n",
      "0\n",
      "********************\n",
      "38\n",
      "38\n",
      "********************\n",
      "1\n",
      "1\n",
      "********************\n",
      "0\n",
      "0\n",
      "********************\n",
      "1\n",
      "7\n",
      "********************\n",
      "0\n",
      "0\n",
      "********************\n",
      "0\n",
      "0\n",
      "********************\n",
      "2\n",
      "7\n",
      "********************\n",
      "4\n",
      "0\n",
      "********************\n",
      "4\n",
      "9\n",
      "********************\n",
      "5\n",
      "19\n",
      "********************\n",
      "7\n",
      "15\n",
      "********************\n",
      "10\n",
      "18\n",
      "********************\n",
      "8\n",
      "12\n",
      "********************\n",
      "13\n",
      "11\n",
      "********************\n",
      "19\n",
      "17\n",
      "********************\n",
      "15\n",
      "8\n",
      "********************\n",
      "13\n",
      "15\n",
      "********************\n",
      "0\n",
      "0\n",
      "********************\n",
      "10\n",
      "9\n",
      "********************\n",
      "10\n",
      "10\n",
      "********************\n",
      "1\n",
      "1\n",
      "********************\n",
      "2\n",
      "0\n",
      "********************\n",
      "1\n",
      "3\n",
      "********************\n",
      "8\n",
      "15\n",
      "********************\n",
      "0\n",
      "0\n",
      "********************\n",
      "11\n",
      "12\n",
      "********************\n",
      "67\n",
      "62\n",
      "********************\n",
      "29\n",
      "35\n",
      "********************\n",
      "0\n",
      "0\n",
      "********************\n",
      "6\n",
      "5\n",
      "********************\n",
      "4\n",
      "2\n",
      "********************\n",
      "0\n",
      "3\n",
      "********************\n",
      "11\n",
      "1\n",
      "********************\n",
      "96\n",
      "32\n",
      "********************\n",
      "12\n",
      "17\n",
      "********************\n",
      "4\n",
      "11\n",
      "********************\n",
      "59\n",
      "29\n",
      "********************\n",
      "0\n",
      "0\n",
      "********************\n",
      "0\n",
      "0\n",
      "********************\n",
      "0\n",
      "7\n",
      "********************\n",
      "5\n",
      "0\n",
      "********************\n",
      "16\n",
      "9\n",
      "********************\n",
      "2\n",
      "1\n",
      "********************\n",
      "36\n",
      "49\n",
      "********************\n",
      "11\n",
      "4\n",
      "********************\n",
      "17\n",
      "15\n",
      "********************\n",
      "19\n",
      "14\n",
      "********************\n",
      "0\n",
      "0\n",
      "********************\n",
      "0\n",
      "2\n",
      "********************\n",
      "22\n",
      "17\n",
      "********************\n",
      "3\n",
      "1\n",
      "********************\n",
      "17\n",
      "5\n",
      "********************\n",
      "13\n",
      "7\n",
      "********************\n",
      "3\n",
      "1\n",
      "********************\n",
      "11\n",
      "6\n",
      "********************\n",
      "0\n",
      "0\n",
      "********************\n",
      "3\n",
      "12\n",
      "********************\n",
      "12\n",
      "4\n",
      "********************\n",
      "3\n",
      "11\n",
      "********************\n",
      "11\n",
      "6\n",
      "********************\n",
      "30\n",
      "33\n",
      "********************\n",
      "3\n",
      "4\n",
      "********************\n",
      "1\n",
      "0\n",
      "********************\n",
      "3\n",
      "17\n",
      "********************\n",
      "0\n",
      "0\n",
      "********************\n",
      "0\n",
      "0\n",
      "********************\n",
      "20\n",
      "26\n",
      "********************\n",
      "24\n",
      "5\n",
      "********************\n",
      "0\n",
      "0\n",
      "********************\n",
      "0\n",
      "3\n",
      "********************\n",
      "13\n",
      "21\n",
      "********************\n"
     ]
    }
   ],
   "source": [
    "mas_map = [sc_data_choice_level.allMAS[sc_data_choice_level[\"puzzleID\"]==i].tolist()[0] for i in np.unique(sc_data_choice_level['puzzleID'])]\n",
    "str_ct = []\n",
    "end_ct = []\n",
    "str_ct_mean = []\n",
    "end_ct_mean = []\n",
    "\n",
    "path_len=[]\n",
    "\n",
    "## save the seq came back to 0\n",
    "\n",
    "lenpath_2strt=[]\n",
    "lenpath_not2strt=[]\n",
    "\n",
    "err_tot_2strt = []\n",
    "err_tot_not2strt = []\n",
    "\n",
    "err2_2strt = []\n",
    "err2_not2strt  = []\n",
    "\n",
    "num = []\n",
    "num_err = []\n",
    "for sub in range(100):\n",
    "    str_ct_sbj = []\n",
    "    end_ct_sbj = []\n",
    "    dat_sbj  = sc_data_choice_level[sc_data_choice_level['subjects']==sub].sort_values([\"puzzleID\",\"index\"])\n",
    "        \n",
    "    temp_data_2strt = []\n",
    "    temp_data_not2strt = []\n",
    "    err_2strt_ = []\n",
    "    err_not2strt_  = []\n",
    "    \n",
    "    i_s_2strt = []\n",
    "    i_s_not2strt = []\n",
    "    \n",
    "    _2strt = 0\n",
    "    _not2strt = 0\n",
    "    num_err_2strt = 0\n",
    "    num_err_not2strt = 0\n",
    "    for pzi in np.unique(sc_data_choice_level['puzzleID']):\n",
    "        dat_sbj_pzi = dat_sbj[dat_sbj['puzzleID'] == pzi].reset_index()\n",
    "        str_ct_pz = []\n",
    "        end_ct_pz = []\n",
    "        \n",
    "        for index in range(len(dat_sbj_pzi)):\n",
    "            # for non-single undo only (doesnt chjange the result)\n",
    "            if (dat_sbj_pzi.firstUndo[index] == 1) and (dat_sbj_pzi.lastUndo[index] == 1):\n",
    "                continue\n",
    "    \n",
    "            if dat_sbj_pzi.firstUndo[index] == 1:\n",
    "                temp_idx_str = index\n",
    "                str_ct_pz.append((dat_sbj_pzi.currNumCities[index]+1-1)/(mas_map[pzi]-1)) # or datum.currMas\n",
    "                # because the dataset is counting startcity as 1\n",
    "\n",
    "            if dat_sbj_pzi.lastUndo[index] == 1:\n",
    "                temp_idx_end = index\n",
    "                end_ct_pz.append((dat_sbj_pzi.currNumCities[index]-1)/(mas_map[pzi]-1))\n",
    "                if end_ct_pz[-1] == 0:\n",
    "                    temp_data_2strt.append(dat_sbj_pzi.severityOfErrors[temp_idx_str-1]!=0)\n",
    "                    lenpath_2strt.append(temp_idx_end - temp_idx_str + 1)\n",
    "                    err_2strt_.append(dat_sbj_pzi.severityOfErrors[temp_idx_str-1])\n",
    "                    err_tot_2strt.append(dat_sbj_pzi.severityOfErrors[temp_idx_str-1])\n",
    "                    _2strt += 1\n",
    "                    num_err_2strt += np.double(dat_sbj_pzi.severityOfErrors[temp_idx_str-1]!=0)\n",
    "                else:\n",
    "                    temp_data_not2strt.append(dat_sbj_pzi.severityOfErrors[temp_idx_str-1]!=0)\n",
    "                    lenpath_not2strt.append(temp_idx_end - temp_idx_str + 1)\n",
    "                    err_not2strt_.append(dat_sbj_pzi.severityOfErrors[temp_idx_str-1])\n",
    "                    err_tot_not2strt.append(dat_sbj_pzi.severityOfErrors[temp_idx_str-1])\n",
    "                    _not2strt += 1\n",
    "                    num_err_not2strt += np.double(dat_sbj_pzi.severityOfErrors[temp_idx_str-1]!=0)\n",
    "#             if len(temp_data_2strt)==0:\n",
    "#                 print('**'*10)\n",
    "#                 print(str_ct_pz)\n",
    "#                 print(end_ct_pz)\n",
    "#                 print(temp_data_2strt)\n",
    "#                 print(temp_data_not2strt)\n",
    "#                 print('**'*10)\n",
    "                    \n",
    "        str_ct_sbj.extend(str_ct_pz)\n",
    "        end_ct_sbj.extend(end_ct_pz)\n",
    "        \n",
    "    print(_2strt)\n",
    "    print(_not2strt)\n",
    "    print('**'*10)\n",
    "        \n",
    "    str_ct.extend(str_ct_sbj)\n",
    "    end_ct.extend(end_ct_sbj)\n",
    "    str_ct_mean.append(np.mean(str_ct_sbj))\n",
    "    end_ct_mean.append(np.mean(end_ct_sbj))\n",
    "    err2_2strt.append(np.mean(np.double(np.array(err_2strt_)!=0)))\n",
    "    err2_not2strt.append(np.mean(np.double(np.array(err_not2strt_)!=0)))\n",
    "    \n",
    "    num.append([_2strt, _not2strt])\n",
    "    num_err.append([num_err_2strt, num_err_not2strt])\n",
    "    \n",
    "dat_2strt_tot = [1-np.mean(temp_data_2strt), np.mean(temp_data_2strt)]\n",
    "dat_not2strt_tot  = [1-np.mean(temp_data_not2strt), np.mean(temp_data_not2strt)]"
   ]
  },
  {
   "cell_type": "code",
   "execution_count": 156,
   "id": "8f7a839d",
   "metadata": {
    "scrolled": true
   },
   "outputs": [],
   "source": [
    "err_st = np.double(np.array(err_mat_2strt)!=0)\n",
    "err_nonst = np.double(np.array(err_mat_not2strt)!=0)"
   ]
  },
  {
   "cell_type": "code",
   "execution_count": 157,
   "id": "9584f8b5",
   "metadata": {},
   "outputs": [
    {
     "name": "stdout",
     "output_type": "stream",
     "text": [
      "0.10705394190871369\n",
      "0.13883161512027492\n"
     ]
    }
   ],
   "source": [
    "print(err_st.mean())\n",
    "print(err_nonst.mean())"
   ]
  },
  {
   "cell_type": "code",
   "execution_count": 158,
   "id": "721aabfc",
   "metadata": {},
   "outputs": [
    {
     "data": {
      "text/plain": [
       "Ttest_indResult(statistic=-2.473575375689037, pvalue=0.013438914519157566)"
      ]
     },
     "execution_count": 158,
     "metadata": {},
     "output_type": "execute_result"
    }
   ],
   "source": [
    "stats.ttest_ind(err_st,err_nonst)"
   ]
  },
  {
   "cell_type": "code",
   "execution_count": 159,
   "id": "4214c4a0",
   "metadata": {},
   "outputs": [
    {
     "data": {
      "image/png": "[encoded data removed]",
      "text/plain": [
       "<Figure size 216x288 with 1 Axes>"
      ]
     },
     "metadata": {
      "needs_background": "light"
     },
     "output_type": "display_data"
    }
   ],
   "source": [
    "%matplotlib inline\n",
    "\n",
    "fig, axs = plt.subplots(1, 1)\n",
    "axs.bar([1,2],[err_st.mean(), err_nonst.mean()],color=[.7,.7,.7], edgecolor = 'k', yerr=[err_st.std(), err_nonst.std()])\n",
    "axs.set_ylabel('P(undo | error)')\n",
    "axs.set_xticks([1,2])\n",
    "axs.set_xticklabels(labels = ['Undo to start', 'Undo to non-start'])#,fontsize=18\n",
    "fig.set_figheight(4)\n",
    "fig.set_figwidth(3)\n",
    "plt.show()\n",
    "# fig.savefig(out_dir + 'conditional_pundo_givenError.pdf', dpi=600, bbox_inches='tight')\n"
   ]
  }
 ],
 "metadata": {
  "kernelspec": {
   "display_name": "Python 3 (ipykernel)",
   "language": "python",
   "name": "python3"
  },
  "language_info": {
   "codemirror_mode": {
    "name": "ipython",
    "version": 3
   },
   "file_extension": ".py",
   "mimetype": "text/x-python",
   "name": "python",
   "nbconvert_exporter": "python",
   "pygments_lexer": "ipython3",
   "version": "3.8.2"
  },
  "toc": {
   "base_numbering": 1,
   "nav_menu": {},
   "number_sections": true,
   "sideBar": true,
   "skip_h1_title": false,
   "title_cell": "Table of Contents",
   "title_sidebar": "Contents",
   "toc_cell": false,
   "toc_position": {
    "height": "calc(100% - 180px)",
    "left": "10px",
    "top": "150px",
    "width": "512px"
   },
   "toc_section_display": true,
   "toc_window_display": true
  }
 },
 "nbformat": 4,
 "nbformat_minor": 5
}
