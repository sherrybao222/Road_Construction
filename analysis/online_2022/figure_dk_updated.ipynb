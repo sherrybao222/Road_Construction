{
 "cells": [
  {
   "cell_type": "code",
   "execution_count": 2,
   "outputs": [],
   "source": [
    "import pandas as pd\n",
    "import numpy as np\n",
    "\n",
    "import matplotlib as mpl\n",
    "import matplotlib.pyplot as plt\n",
    "import seaborn as sns\n",
    "\n",
    "from scipy import stats\n",
    "from scipy.stats import sem\n",
    "from scipy.stats import shapiro\n",
    "from scipy.stats import normaltest\n",
    "from scipy.stats import ttest_rel,ttest_ind,wilcoxon\n",
    "import json\n",
    "import statsmodels.api as sm\n",
    "import pylab as py"
   ],
   "metadata": {
    "collapsed": false,
    "ExecuteTime": {
     "start_time": "2023-07-24T15:59:47.966529Z",
     "end_time": "2023-07-24T15:59:50.159862Z"
    }
   }
  },
  {
   "cell_type": "code",
   "execution_count": 3,
   "outputs": [],
   "source": [
    "plt.rcParams.update(plt.rcParamsDefault)"
   ],
   "metadata": {
    "collapsed": false,
    "ExecuteTime": {
     "start_time": "2023-07-24T15:59:48.406507Z",
     "end_time": "2023-07-24T15:59:50.164321Z"
    }
   }
  },
  {
   "cell_type": "code",
   "execution_count": 4,
   "outputs": [],
   "source": [
    "home_dir = '/Users/dbao/google_drive_db'+'/road_construction/data/2022_online/'\n",
    "home_dir = '../../../2022_online/'\n",
    "map_dir = 'active_map/'\n",
    "data_dir  = 'data/preprocessed'\n",
    "# out_dir = home_dir + 'figures/cogsci_2022/'\n",
    "out_dir = './figures_dk/'\n",
    "R_out_dir = home_dir + 'R_analysis_data/'"
   ],
   "metadata": {
    "collapsed": false,
    "ExecuteTime": {
     "start_time": "2023-07-24T15:59:48.406531Z",
     "end_time": "2023-07-24T15:59:50.164479Z"
    }
   }
  },
  {
   "cell_type": "code",
   "execution_count": 5,
   "outputs": [],
   "source": [
    "data_puzzle_level = pd.read_csv(R_out_dir +  'data.csv')\n",
    "puzzleID_order_data = data_puzzle_level.sort_values([\"subjects\",\"puzzleID\"])\n",
    "data_choice_level = pd.read_csv(R_out_dir +  'choice_level/choicelevel_data.csv')\n",
    "\n",
    "single_condition_data = puzzleID_order_data[puzzleID_order_data['condition']==1].copy()\n",
    "single_condition_data = single_condition_data.reset_index()\n",
    "sc_data_choice_level = data_choice_level[data_choice_level['condition']==1].reset_index()"
   ],
   "metadata": {
    "collapsed": false,
    "ExecuteTime": {
     "start_time": "2023-07-24T15:59:48.417339Z",
     "end_time": "2023-07-24T15:59:50.313506Z"
    }
   }
  },
  {
   "cell_type": "markdown",
   "source": [
    "# Figure 1"
   ],
   "metadata": {
    "collapsed": false
   }
  },
  {
   "cell_type": "markdown",
   "source": [
    "## map"
   ],
   "metadata": {
    "collapsed": false
   }
  },
  {
   "cell_type": "markdown",
   "source": [
    "calculate direction of greedy choice and optimal choice to visualize the difference"
   ],
   "metadata": {
    "collapsed": false
   }
  },
  {
   "cell_type": "code",
   "execution_count": 6,
   "outputs": [],
   "source": [
    "with open(home_dir + map_dir + 'tree/map_tree_trueopt', 'r') as file:\n",
    "    map_tree = json.load(file)\n",
    "\n",
    "with open(home_dir + map_dir + '/basicMap.json', 'r') as file:\n",
    "    map = json.load(file)"
   ],
   "metadata": {
    "collapsed": false,
    "ExecuteTime": {
     "start_time": "2023-07-24T15:59:48.683636Z",
     "end_time": "2023-07-24T15:59:50.786955Z"
    }
   }
  },
  {
   "cell_type": "code",
   "execution_count": 7,
   "outputs": [],
   "source": [
    "def find_sublist_index(target, list_of_sublists):\n",
    "    try:\n",
    "        return list_of_sublists.index(target)\n",
    "    except ValueError:\n",
    "        return -1  # returns -1 if the sublist is not found"
   ],
   "metadata": {
    "collapsed": false,
    "ExecuteTime": {
     "start_time": "2023-07-24T15:59:50.783193Z",
     "end_time": "2023-07-24T15:59:50.787162Z"
    }
   }
  },
  {
   "cell_type": "code",
   "execution_count": 8,
   "outputs": [
    {
     "name": "stderr",
     "output_type": "stream",
     "text": [
      "/var/folders/8q/yjgzft41043gt_l8bqcfnzn40000gn/T/ipykernel_97199/1059296280.py:61: DeprecationWarning: elementwise comparison failed; this will raise an error in the future.\n",
      "  len_diff.append(np.sum(np.array(cts_idx_in_order)[:4]==np.array(opt_paths)[:4]))\n"
     ]
    }
   ],
   "source": [
    "# compariosn between performance\n",
    "undo_level = data_choice_level[data_choice_level['condition']==1].copy().reset_index()\n",
    "basic_level = data_choice_level[data_choice_level['condition']==0].copy().reset_index()\n",
    "\n",
    "len_gdy_opt = []\n",
    "len_diff = []\n",
    "\n",
    "for sub in range(1):\n",
    "\n",
    "    dat_sbj  = sc_data_choice_level[sc_data_choice_level['subjects']==sub].sort_values([\"puzzleID\",\"index\"])\n",
    "    dat_sbj_undo  = undo_level[undo_level['subjects']==sub].sort_values([\"puzzleID\",\"index\"])\n",
    "    dat_sbj_basic  = basic_level[basic_level['subjects']==sub].sort_values([\"puzzleID\",\"index\"])\n",
    "\n",
    "    len_gdy_opt_puzzle = []\n",
    "\n",
    "    for pzi in np.unique(sc_data_choice_level['puzzleID']):\n",
    "        TS = map[pzi]\n",
    "\n",
    "        dat_sbj_pzi = dat_sbj[dat_sbj['puzzleID'] == pzi].reset_index()\n",
    "        dat_sbj_undo_pzi = dat_sbj_undo[dat_sbj_undo['puzzleID'] == pzi].reset_index()\n",
    "        dat_sbj_basic_pzi = dat_sbj_basic[dat_sbj_basic['puzzleID'] == pzi].reset_index()\n",
    "\n",
    "        # get distance from TS['xy'][0] to TS['xy'][1:]\n",
    "        start = np.array(TS['xy'][0])\n",
    "        distance = [np.sum(np.sqrt((start - np.array(node))**2)) for node in TS['xy'][1:]]\n",
    "\n",
    "        TS = map[pzi]\n",
    "\n",
    "        R = 300.0\n",
    "\n",
    "        rem_xy = TS['xy'].copy()\n",
    "        # pop the current one\n",
    "        curr_xy = rem_xy.pop(0)\n",
    "        cts_in_order = []\n",
    "        cts_in_order.append(curr_xy)\n",
    "        cts_idx_in_order = [find_sublist_index(curr_xy, TS['xy'])]\n",
    "\n",
    "        while R > 0:\n",
    "            # get list of distances between curr_xy and every element in rem_xy\n",
    "            # distance = [np.sum(np.sqrt((np.array(curr_xy) - np.array(node))**2)) for node in rem_xy]\n",
    "            distance = [TS['distance'][find_sublist_index(curr_xy, TS['xy'])][find_sublist_index(node, TS['xy'])] for node in rem_xy]\n",
    "\n",
    "            # find the argmin for distance\n",
    "            idx = np.argmin(distance)\n",
    "\n",
    "            curr_xy = rem_xy.pop(idx)\n",
    "\n",
    "            R -= distance[idx]\n",
    "\n",
    "            if R <= 0:\n",
    "                break\n",
    "\n",
    "            cts_in_order.append(curr_xy)\n",
    "            cts_idx_in_order.append(find_sublist_index(curr_xy, TS['xy']))\n",
    "\n",
    "        len_gdy = len(cts_in_order)\n",
    "        len_opt = np.array(map_tree[pzi]['mas']).max()\n",
    "        len_gdy_opt_puzzle.append([len_gdy, len_opt])\n",
    "        opt_paths = map_tree[pzi]['paths'][np.argmax([len(path) for path in map_tree[pzi]['paths']])]\n",
    "\n",
    "        len_diff.append(np.sum(np.array(cts_idx_in_order)[:4]==np.array(opt_paths)[:4]))\n",
    "\n",
    "    # append mean of greedy_action_puzzle, error_action_puzzle\n",
    "    len_gdy_opt.append(np.mean(len_gdy_opt_puzzle, axis=0))\n",
    "\n",
    "\n",
    "\n",
    "len_gdy_opt = np.array(len_gdy_opt)"
   ],
   "metadata": {
    "collapsed": false,
    "ExecuteTime": {
     "start_time": "2023-07-24T15:59:50.786619Z",
     "end_time": "2023-07-24T15:59:51.135164Z"
    }
   }
  },
  {
   "cell_type": "markdown",
   "source": [
    "Found puzzle ID that clearly seperates both"
   ],
   "metadata": {
    "collapsed": false,
    "ExecuteTime": {
     "start_time": "2023-07-17T14:30:12.288596Z",
     "end_time": "2023-07-17T14:30:12.291794Z"
    }
   },
   "outputs": [],
   "execution_count": 225
  },
  {
   "cell_type": "code",
   "execution_count": 9,
   "outputs": [],
   "source": [
    "pzi = 44 # where it goes in different direction"
   ],
   "metadata": {
    "collapsed": false,
    "ExecuteTime": {
     "start_time": "2023-07-24T15:59:51.134853Z",
     "end_time": "2023-07-24T15:59:51.136738Z"
    }
   }
  },
  {
   "cell_type": "code",
   "execution_count": 10,
   "outputs": [],
   "source": [
    "TS = map[pzi]\n",
    "\n",
    "# get greedy paths coordinations\n",
    "R = 300.0\n",
    "\n",
    "rem_xy = TS['xy'].copy()\n",
    "# pop the current one\n",
    "curr_xy = rem_xy.pop(0)\n",
    "cts_in_order = []\n",
    "cts_in_order.append(curr_xy)\n",
    "\n",
    "while R > 0:\n",
    "    # get list of distances between curr_xy and every element in rem_xy\n",
    "    # distance = [np.sum(np.sqrt((np.array(curr_xy) - np.array(node))**2)) for node in rem_xy]\n",
    "    distance = [TS['distance'][find_sublist_index(curr_xy, TS['xy'])][find_sublist_index(node, TS['xy'])] for node in rem_xy]\n",
    "\n",
    "    # find the argmin for distance\n",
    "    idx = np.argmin(distance)\n",
    "\n",
    "    curr_xy = rem_xy.pop(idx)\n",
    "\n",
    "\n",
    "    if R - distance[idx] <= 0:\n",
    "        break\n",
    "\n",
    "    R -= distance[idx]\n",
    "\n",
    "    cts_in_order.append(curr_xy)\n",
    "\n",
    "# get optimal paths coordinations\n",
    "paths = map_tree[pzi]['paths'][np.argmax([len(path) for path in map_tree[pzi]['paths']])]\n",
    "\n",
    "cts_in_order_optimal = [TS['xy'][path] for path in paths]\n"
   ],
   "metadata": {
    "collapsed": false,
    "ExecuteTime": {
     "start_time": "2023-07-24T15:59:51.140236Z",
     "end_time": "2023-07-24T15:59:51.141790Z"
    }
   }
  },
  {
   "cell_type": "code",
   "execution_count": 11,
   "outputs": [],
   "source": [
    "# sum of TS['distance'] for each pair of paths\n",
    "opt_R = 0\n",
    "for i in range(1,len(paths)):\n",
    "    opt_R += TS['distance'][paths[i-1]][paths[i]]\n",
    "opt_R = 300 - opt_R"
   ],
   "metadata": {
    "collapsed": false,
    "ExecuteTime": {
     "start_time": "2023-07-24T15:59:51.143827Z",
     "end_time": "2023-07-24T15:59:51.150832Z"
    }
   }
  },
  {
   "cell_type": "code",
   "execution_count": 12,
   "outputs": [
    {
     "name": "stdout",
     "output_type": "stream",
     "text": [
      "greedy:  99.87597775993959\n",
      "optimal:  6.619203947013489\n"
     ]
    }
   ],
   "source": [
    "print('greedy: ',R)\n",
    "print('optimal: ',opt_R)"
   ],
   "metadata": {
    "collapsed": false,
    "ExecuteTime": {
     "start_time": "2023-07-24T15:59:51.150294Z",
     "end_time": "2023-07-24T15:59:51.152157Z"
    }
   }
  },
  {
   "cell_type": "markdown",
   "source": [
    "calculate remaining budget too"
   ],
   "metadata": {
    "collapsed": false,
    "ExecuteTime": {
     "start_time": "2023-07-17T14:30:12.315045Z",
     "end_time": "2023-07-17T14:30:12.824364Z"
    }
   },
   "outputs": [
    {
     "name": "stdout",
     "output_type": "stream",
     "text": [
      "99.87597775993959\n"
     ]
    },
    {
     "data": {
      "text/plain": "<Figure size 500x500 with 1 Axes>",
      "image/png": "[encoded data removed]"
     },
     "metadata": {},
     "output_type": "display_data"
    }
   ],
   "execution_count": 229
  },
  {
   "cell_type": "code",
   "execution_count": 13,
   "outputs": [
    {
     "name": "stderr",
     "output_type": "stream",
     "text": [
      "No artists with labels found to put in legend.  Note that artists whose label start with an underscore are ignored when legend() is called with no argument.\n"
     ]
    },
    {
     "name": "stdout",
     "output_type": "stream",
     "text": [
      "99.87597775993959\n"
     ]
    },
    {
     "data": {
      "text/plain": "<Figure size 500x500 with 1 Axes>",
      "image/png": "[encoded data removed]"
     },
     "metadata": {},
     "output_type": "display_data"
    }
   ],
   "source": [
    "# plot line with dots for cts_in_order and cts_in_order_optimal\n",
    "%matplotlib inline\n",
    "fig, ax = plt.subplots(figsize=(5,5))\n",
    "\n",
    "mpl.rcParams['font.family'] = 'Arial'\n",
    "mpl.rcParams['font.size'] = 15\n",
    "\n",
    "# plot the map\n",
    "for i in range(len(TS['xy'])):\n",
    "    ax.scatter(TS['xy'][i][0], TS['xy'][i][1], color='black', s=20)\n",
    "\n",
    "# for i in range(len(TS['xy'])):\n",
    "#     ax.annotate(i, (TS['xy'][i][0], TS['xy'][i][1]), fontsize=20)\n",
    "\n",
    "\n",
    "# plot the greedy path\n",
    "for i in range(len(cts_in_order)-1):\n",
    "    ax.plot([cts_in_order[i][0], cts_in_order[i+1][0]], [cts_in_order[i][1], cts_in_order[i+1][1]], color='red', linewidth=2, alpha=1)\n",
    "\n",
    "ax.plot([cts_in_order[-1][0], cts_in_order[-1][0]-R/np.sqrt(2)], [cts_in_order[-1][1], cts_in_order[-1][1]-R/np.sqrt(2)], color='0.7', linewidth=2, alpha=1)\n",
    "# print distance between two dots\n",
    "print(np.sqrt((cts_in_order[-1][0]-R/np.sqrt(2) - cts_in_order[-1][0])**2 + (cts_in_order[-1][1]-R/np.sqrt(2) - cts_in_order[-1][1])**2))\n",
    "\n",
    "# plot the optimal path\n",
    "for i in range(len(cts_in_order_optimal)-1):\n",
    "    ax.plot([cts_in_order_optimal[i][0], cts_in_order_optimal[i+1][0]], [cts_in_order_optimal[i][1], cts_in_order_optimal[i+1][1]], color='blue', linewidth=2, alpha=1)\n",
    "\n",
    "ax.plot([cts_in_order_optimal[-1][0], cts_in_order_optimal[-1][0]], [cts_in_order_optimal[-1][1], cts_in_order_optimal[-1][1]-opt_R], color='0.7', linewidth=2, alpha=1)\n",
    "\n",
    "\n",
    "# grid off\n",
    "ax.grid(False)\n",
    "\n",
    "# remove all borders\n",
    "for spine in plt.gca().spines.values():\n",
    "    spine.set_visible(False)\n",
    "\n",
    "# plot the start point in front of everything\n",
    "ax.scatter(TS['xy'][0][0], TS['xy'][0][1], color='k', s=50, marker='o', alpha=1)\n",
    "ax.annotate('start', (TS['xy'][0][0]+10, TS['xy'][0][1]+10), fontsize=18)\n",
    "\n",
    "# x lim y lim\n",
    "ax.set_xlim([-220, 220])\n",
    "ax.set_ylim([-220, 220])\n",
    "\n",
    "# x ticks and y ticks\n",
    "ax.set_xticks([])\n",
    "ax.set_yticks([])\n",
    "\n",
    "# make axis equal\n",
    "ax.set_aspect('equal')\n",
    "\n",
    "# legend\n",
    "# ax.plot([], [], color='red', linewidth=2, label='greedy')\n",
    "# ax.plot([], [], color='blue', linewidth=2, label='optimal')\n",
    "\n",
    "# red and blue text for greedy and optimal\n",
    "ax.text(0.9, 0.15, 'greedy', transform=ax.transAxes, color='red', fontsize=15)\n",
    "ax.text(0.9, 0.05, 'optimal', transform=ax.transAxes, color='blue', fontsize=15)\n",
    "\n",
    "# ax.plot([], [], color='0.7', linewidth=2, label='leftover')\n",
    "# legend that without box\n",
    "plt.legend(fontsize=15, loc='lower right', frameon=False)\n",
    "# save figure\n",
    "plt.savefig(out_dir + 'greedy_vs_optimal.png')\n",
    "plt.show()\n"
   ],
   "metadata": {
    "collapsed": false,
    "ExecuteTime": {
     "start_time": "2023-07-24T15:59:51.157587Z",
     "end_time": "2023-07-24T15:59:51.573482Z"
    }
   }
  },
  {
   "cell_type": "markdown",
   "source": [
    "## Error magnitude histogram|\n"
   ],
   "metadata": {
    "collapsed": false,
    "ExecuteTime": {
     "start_time": "2023-07-17T14:30:12.829028Z",
     "end_time": "2023-07-17T14:30:12.843344Z"
    }
   },
   "outputs": [],
   "execution_count": 230
  },
  {
   "cell_type": "code",
   "execution_count": 14,
   "outputs": [],
   "source": [
    "import matplotlib\n",
    "matplotlib.rcdefaults()"
   ],
   "metadata": {
    "collapsed": false,
    "ExecuteTime": {
     "start_time": "2023-07-24T15:59:51.573317Z",
     "end_time": "2023-07-24T15:59:51.577032Z"
    }
   }
  },
  {
   "cell_type": "code",
   "execution_count": 15,
   "outputs": [],
   "source": [
    "# compariosn between performance\n",
    "undo_level = data_choice_level[data_choice_level['condition']==1].copy().reset_index()\n",
    "basic_level = data_choice_level[data_choice_level['condition']==0].copy().reset_index()\n",
    "\n",
    "error_magnitude = []\n",
    "error_magnitude_mean = []\n",
    "greedy_action = []\n",
    "error_action = []\n",
    "leftover = []\n",
    "\n",
    "num_undo_per_mas = []\n",
    "\n",
    "\n",
    "for sub in range(100):\n",
    "\n",
    "    dat_sbj  = sc_data_choice_level[sc_data_choice_level['subjects']==sub].sort_values([\"puzzleID\",\"index\"])\n",
    "    dat_sbj_undo  = undo_level[undo_level['subjects']==sub].sort_values([\"puzzleID\",\"index\"])\n",
    "    dat_sbj_basic  = basic_level[basic_level['subjects']==sub].sort_values([\"puzzleID\",\"index\"])\n",
    "\n",
    "    error_magnitude_puzzle = []\n",
    "    greedy_action_puzzle = []\n",
    "    error_action_puzzle = []\n",
    "    leftover_puzzle = []\n",
    "\n",
    "    num_undo_per_mas_puzzle = []\n",
    "\n",
    "    for pzi in np.unique(sc_data_choice_level['puzzleID']):\n",
    "\n",
    "        TS = map[pzi]\n",
    "\n",
    "        dat_sbj_pzi = dat_sbj[dat_sbj['puzzleID'] == pzi].reset_index()\n",
    "        dat_sbj_undo_pzi = dat_sbj_undo[dat_sbj_undo['puzzleID'] == pzi].reset_index()\n",
    "        dat_sbj_basic_pzi = dat_sbj_basic[dat_sbj_basic['puzzleID'] == pzi].reset_index()\n",
    "\n",
    "        error_magnitude_puzzle.append([np.array(dat_sbj_undo_pzi['currMas'])[-1]-np.array(dat_sbj_undo_pzi['currMas'])[0],\n",
    "                                  np.array(dat_sbj_basic_pzi['currMas'])[-1]-np.array(dat_sbj_basic_pzi['currMas'])[0]])\n",
    "\n",
    "        # get distance from TS['xy'][0] to TS['xy'][1:]\n",
    "        start = np.array(TS['xy'][0])\n",
    "        # distance = [np.sum(np.sqrt((start - np.array(node))**2)) for node in TS['xy'][1:]]\n",
    "        distance = [np.sum(np.sqrt((start - np.array(node))**2)) for node in TS['xy']]\n",
    "\n",
    "        # find the index that is second shortest distance because the first shortest is goint back to itself\n",
    "        idx = np.argsort(distance)[1]\n",
    "\n",
    "        # get proportion of data_sbj_undo_pzi['choice'][1] == idx\n",
    "        greedy_action_puzzle.append([np.double(dat_sbj_undo_pzi['choice'][1] == idx),\n",
    "                                     np.double(dat_sbj_basic_pzi['choice'][1] == idx)])\n",
    "\n",
    "        # get proportion of data_sbj_undo_pzi['currMas'][1] is smaller than data_sbj_undo_pzi['currMas'][0]\n",
    "        error_action_puzzle.append([np.double(dat_sbj_undo_pzi['currMas'][1] < dat_sbj_undo_pzi['currMas'][0]),\n",
    "                                    np.double(dat_sbj_basic_pzi['currMas'][1] < dat_sbj_basic_pzi['currMas'][0])])\n",
    "\n",
    "        leftover_puzzle.append([np.array(dat_sbj_undo_pzi['leftover'])[-1], np.array(dat_sbj_basic_pzi['leftover'])[-1]])\n",
    "\n",
    "        # append number of undos and puzzle MAS\n",
    "        num_undo_per_mas_puzzle.append([np.array(dat_sbj_undo_pzi['undo']).sum(), dat_sbj_undo_pzi['currMas'][0]])\n",
    "\n",
    "    # extend point_loss\n",
    "    hist_undo = np.histogram(np.array(error_magnitude_puzzle)[:,0], bins=[-np.inf, *np.arange(-4,1,1)])[0].astype(dtype=np.float32)\n",
    "    hist_undo /= hist_undo.sum()\n",
    "    hist_basic = np.histogram(np.array(error_magnitude_puzzle)[:,1], bins=[-np.inf, *np.arange(-4,1,1)])[0].astype(dtype=np.float32)\n",
    "    hist_basic /= hist_basic.sum()\n",
    "\n",
    "    error_magnitude.append([*hist_undo, *hist_basic])\n",
    "\n",
    "    # append mean of greedy_action_puzzle, error_action_puzzle\n",
    "    greedy_action.append(np.mean(greedy_action_puzzle, axis=0))\n",
    "    error_action.append(np.mean(error_action_puzzle, axis=0))\n",
    "    error_magnitude_mean.append([np.mean(np.array(error_magnitude_puzzle)[:,0]),np.mean(np.array(error_magnitude_puzzle)[:,1])])\n",
    "    leftover.append(np.mean(leftover_puzzle, axis=0))\n",
    "\n",
    "    # append number of undos and puzzle MAS\n",
    "    num_undo_per_mas.append(num_undo_per_mas_puzzle)\n",
    "\n",
    "\n",
    "greedy_action = np.array(greedy_action)\n",
    "error_action = np.array(error_action)\n",
    "error_magnitude = np.array(error_magnitude)\n",
    "error_magnitude_mean = np.array(error_magnitude_mean)\n",
    "leftover = np.array(leftover)\n",
    "\n",
    "num_undo_per_mas = np.array(num_undo_per_mas)\n"
   ],
   "metadata": {
    "collapsed": false,
    "ExecuteTime": {
     "start_time": "2023-07-24T15:59:51.581089Z",
     "end_time": "2023-07-24T15:59:59.694143Z"
    }
   }
  },
  {
   "cell_type": "markdown",
   "source": [
    "## number of undos per mas"
   ],
   "metadata": {
    "collapsed": false
   }
  },
  {
   "cell_type": "code",
   "execution_count": 16,
   "outputs": [],
   "source": [
    "# calculate for each subject\n",
    "num_undo_mas_persub =[]\n",
    "for sub in range(100):\n",
    "    num_undo_mas_persub_mas = []\n",
    "    for j in range(7,13):\n",
    "        # if num_undo_per_mas[sub,:,1] == j:\n",
    "        num_undo_mas_persub_mas.append(num_undo_per_mas[sub,num_undo_per_mas[sub,:,1] == j,0].mean())\n",
    "    num_undo_mas_persub.append(num_undo_mas_persub_mas)\n",
    "num_undo_mas_persub = np.array(num_undo_mas_persub)"
   ],
   "metadata": {
    "collapsed": false,
    "ExecuteTime": {
     "start_time": "2023-07-24T15:59:59.695457Z",
     "end_time": "2023-07-24T15:59:59.704260Z"
    }
   }
  },
  {
   "cell_type": "code",
   "execution_count": 17,
   "outputs": [
    {
     "data": {
      "text/plain": "<Figure size 400x400 with 1 Axes>",
      "image/png": "[encoded data removed]"
     },
     "metadata": {},
     "output_type": "display_data"
    }
   ],
   "source": [
    "%matplotlib inline\n",
    "\n",
    "plt.rcParams['font.family'] = 'Arial'\n",
    "plt.rcParams['font.size'] = 12\n",
    "plt.figure(figsize=(4,4))\n",
    "\n",
    "# plot bar of num_undo_mas_persub\n",
    "plt.bar(np.arange(6,12,1), num_undo_mas_persub.mean(axis=0), width=0.5, color='0.7', alpha=1, edgecolor='k', yerr=num_undo_mas_persub.std(axis=0)/np.sqrt(100), capsize=3)\n",
    "\n",
    "# x and y label\n",
    "plt.xlabel('Map MAS')\n",
    "plt.ylabel('Number of undo')\n",
    "\n",
    "# set x and y limit\n",
    "plt.ylim([0, 5.5])\n",
    "\n",
    "# set xticks and yticks\n",
    "plt.xticks(np.arange(6,12,1))\n",
    "plt.yticks(np.arange(0,6,1))\n",
    "\n",
    "sns.despine()\n",
    "\n",
    "# save\n",
    "plt.savefig( out_dir + '/num_undo_per_mas.png', bbox_inches='tight', transparent=True)\n"
   ],
   "metadata": {
    "collapsed": false,
    "ExecuteTime": {
     "start_time": "2023-07-24T15:59:59.714508Z",
     "end_time": "2023-07-24T15:59:59.834919Z"
    }
   }
  },
  {
   "cell_type": "markdown",
   "source": [
    "## error magnitude"
   ],
   "metadata": {
    "collapsed": false
   }
  },
  {
   "cell_type": "code",
   "execution_count": 18,
   "outputs": [
    {
     "data": {
      "text/plain": "<Figure size 600x300 with 1 Axes>",
      "image/png": "[encoded data removed]"
     },
     "metadata": {},
     "output_type": "display_data"
    }
   ],
   "source": [
    "%matplotlib inline\n",
    "plt.rcParams['font.family'] = 'Arial'\n",
    "plt.rcParams['font.size'] = 12\n",
    "plt.figure(figsize=(6,3))\n",
    "plt.subplot(1,2,1)\n",
    "# numpy hist for point_loss[:,0]\n",
    "\n",
    "# plot bar plot of hist_undo\n",
    "plt.bar(np.arange(-0.1,4.8,1), error_magnitude[:,:5].mean(axis=0), width=0.4, color='0.3', alpha=1, label='With undo', edgecolor='k')\n",
    "# plot error bar\n",
    "plt.errorbar(np.arange(-0.1,4.8,1), error_magnitude[:,:5].mean(axis=0), yerr=error_magnitude[:,:5].std(axis=0)/np.sqrt(100), fmt='none', color='k', capsize=3)\n",
    "\n",
    "# plot bar plot of hist_basic\n",
    "plt.bar(np.arange(0.2,5.2,1), error_magnitude[:,5:].mean(axis=0), width=0.4, color='1', alpha=1, label='Without undo', edgecolor='k')\n",
    "# plot error bar\n",
    "plt.errorbar(np.arange(0.2,5.2,1), error_magnitude[:,5:].mean(axis=0), yerr=error_magnitude[:,5:].std(axis=0)/np.sqrt(100), fmt='none', color='k', capsize=3)\n",
    "\n",
    "\n",
    "# Y label\n",
    "plt.ylabel('Proportion')\n",
    "# X label\n",
    "plt.xlabel('Error magnitude')\n",
    "\n",
    "# plt.legend that without box\n",
    "plt.legend(frameon=False)\n",
    "\n",
    "# delete top and right frame using plt\n",
    "sns.despine()\n",
    "\n",
    "# set xticks\n",
    "plt.xticks(np.arange(0,5,1), np.arange(-4,1,1))\n",
    "\n",
    "# save figure\n",
    "plt.savefig(out_dir + '/error_magnitude.png', dpi=300, bbox_inches='tight')\n",
    "plt.show()\n",
    "\n"
   ],
   "metadata": {
    "collapsed": false,
    "ExecuteTime": {
     "start_time": "2023-07-24T15:59:59.843971Z",
     "end_time": "2023-07-24T16:00:00.076947Z"
    }
   }
  },
  {
   "cell_type": "code",
   "execution_count": 19,
   "outputs": [],
   "source": [
    "# ttest_ind for error_magnitude_mean\n",
    "from scipy.stats import ttest_ind, wilcoxon\n",
    "\n",
    "stat, p = ttest_ind(error_magnitude_mean[:,0], error_magnitude_mean[:,1])\n",
    "stat, p = wilcoxon(error_magnitude_mean[:,0], error_magnitude_mean[:,1])"
   ],
   "metadata": {
    "collapsed": false,
    "ExecuteTime": {
     "start_time": "2023-07-24T16:00:00.083376Z",
     "end_time": "2023-07-24T16:00:00.085966Z"
    }
   }
  },
  {
   "cell_type": "code",
   "execution_count": 20,
   "outputs": [
    {
     "name": "stdout",
     "output_type": "stream",
     "text": [
      "618.5\n",
      "1.5103176165934075e-10\n"
     ]
    }
   ],
   "source": [
    "print(stat)\n",
    "print(p)"
   ],
   "metadata": {
    "collapsed": false,
    "ExecuteTime": {
     "start_time": "2023-07-24T16:00:00.087270Z",
     "end_time": "2023-07-24T16:00:00.090230Z"
    }
   }
  },
  {
   "cell_type": "code",
   "execution_count": 21,
   "outputs": [],
   "source": [
    "error_magnitude_mean = -error_magnitude_mean"
   ],
   "metadata": {
    "collapsed": false,
    "ExecuteTime": {
     "start_time": "2023-07-24T16:00:00.091377Z",
     "end_time": "2023-07-24T16:00:00.092865Z"
    }
   }
  },
  {
   "cell_type": "code",
   "execution_count": 22,
   "outputs": [
    {
     "name": "stdout",
     "output_type": "stream",
     "text": [
      "p = 0.000\n"
     ]
    },
    {
     "data": {
      "text/plain": "<Figure size 600x300 with 1 Axes>",
      "image/png": "[encoded data removed]"
     },
     "metadata": {},
     "output_type": "display_data"
    }
   ],
   "source": [
    "# plot of leftover\n",
    "%matplotlib inline\n",
    "\n",
    "plt.figure(figsize=(6,3))\n",
    "plt.subplot(1,2,1)\n",
    "plt.bar(0, np.mean(error_magnitude_mean[:,0]), yerr=np.std(error_magnitude_mean[:,0])/np.sqrt(100), color='0.3', edgecolor = 'k', width=0.4)\n",
    "plt.bar(1, np.mean(error_magnitude_mean[:,1]), yerr=np.std(error_magnitude_mean[:,1])/np.sqrt(100), color='1', edgecolor = 'k', width=0.4)\n",
    "\n",
    "# plt.bar([0,1], np.mean(leftover, axis=0), yerr=np.std(leftover, axis=0)/np.sqrt(100),color=[.7,.7,.7], edgecolor = 'k',)\n",
    "# plt.xticks([0,1], ['undo', 'basic'])\n",
    "plt.xticks([0,1], ['With undo', 'Without undo'])\n",
    "# plt.title('leftover')\n",
    "plt.xlim(-0.5, 1.5)\n",
    "\n",
    "plt.ylim(0,1)\n",
    "\n",
    "plt.ylabel('Error magnitude')\n",
    "\n",
    "# remove top and right frame\n",
    "sns.despine()\n",
    "\n",
    "# text that says about the p value\n",
    "# plt.text(0.5, 0.95, 'p = %.3f' % p, horizontalalignment='center', verticalalignment='center', transform=plt.gca().transAxes)\n",
    "# print p value\n",
    "print('p = %.3f' % p)\n",
    "\n",
    "# save figure\n",
    "plt.savefig(out_dir + '/errormagnitude_bar.png', dpi=300, bbox_inches='tight')\n",
    "plt.show()"
   ],
   "metadata": {
    "collapsed": false,
    "ExecuteTime": {
     "start_time": "2023-07-24T16:00:00.099966Z",
     "end_time": "2023-07-24T16:00:00.237856Z"
    }
   }
  },
  {
   "cell_type": "code",
   "execution_count": 23,
   "outputs": [
    {
     "data": {
      "text/plain": "<Figure size 300x300 with 1 Axes>",
      "image/png": "[encoded data removed]"
     },
     "metadata": {},
     "output_type": "display_data"
    }
   ],
   "source": [
    "# scatter plot of time taken\n",
    "%matplotlib inline\n",
    "# set font and font size\n",
    "plt.rcParams['font.family'] = 'Arial'\n",
    "plt.rcParams['font.size'] = 12\n",
    "\n",
    "plt.figure(figsize=(3,3))\n",
    "\n",
    "plt.scatter(error_magnitude_mean[:,0], error_magnitude_mean[:,1], color=[.7,.7,.7], s=10, alpha=0.5, edgecolor = 'k')\n",
    "\n",
    "# get plausible range of x and y and set xlim and ylim\n",
    "plt.xlim([0, 3.5])\n",
    "plt.ylim([0, 3.5])\n",
    "\n",
    "# set xand y label\n",
    "plt.xlabel('With undo')\n",
    "plt.ylabel('Without undo')\n",
    "\n",
    "# title\n",
    "# plt.title('Error magnitude')\n",
    "\n",
    "\n",
    "# remove top and right frame\n",
    "sns.despine()\n",
    "\n",
    "# mid line\n",
    "plt.plot([0,3.5],[0,3.5], 'k--')\n",
    "\n",
    "# save figure\n",
    "plt.savefig(out_dir + '/scatter_error_magnitude.png', dpi=300, bbox_inches='tight')\n"
   ],
   "metadata": {
    "collapsed": false,
    "ExecuteTime": {
     "start_time": "2023-07-24T16:00:00.259277Z",
     "end_time": "2023-07-24T16:00:00.402528Z"
    }
   }
  },
  {
   "cell_type": "code",
   "execution_count": 24,
   "outputs": [
    {
     "data": {
      "text/plain": "<Figure size 100x100 with 1 Axes>",
      "image/png": "[encoded data removed]"
     },
     "metadata": {},
     "output_type": "display_data"
    }
   ],
   "source": [
    "# small histogram around diagonal line\n",
    "%matplotlib inline\n",
    "\n",
    "plt.figure(figsize=(1,1))\n",
    "\n",
    "plt.hist(error_magnitude_mean[:,0]-error_magnitude_mean[:,1], bins=np.linspace(-0.6,0.6,11), color='w', alpha=1, label='With undo', edgecolor='k')\n",
    "# center line of histogram at x = 0\n",
    "plt.plot([0,0],[0,60], 'k--')\n",
    "\n",
    "# remove top and right frame\n",
    "sns.despine()\n",
    "\n",
    "# set x and y lim\n",
    "plt.xlim([-0.6,0.6])\n",
    "plt.ylim([0,60])\n",
    "\n",
    "# set x and y ticks\n",
    "plt.xticks([-0.5,0,0.5])\n",
    "# set xtickslabel\n",
    "plt.gca().set_xticklabels(['-0.5','0','0.5'])\n",
    "plt.yticks([0,30,60])\n",
    "\n",
    "# save figure\n",
    "plt.savefig(out_dir + '/hist_error_magnitude.png', dpi=300, bbox_inches='tight')\n"
   ],
   "metadata": {
    "collapsed": false,
    "ExecuteTime": {
     "start_time": "2023-07-24T16:00:00.408918Z",
     "end_time": "2023-07-24T16:00:00.482636Z"
    }
   }
  },
  {
   "cell_type": "code",
   "execution_count": 25,
   "outputs": [
    {
     "data": {
      "text/plain": "<Figure size 300x300 with 2 Axes>",
      "image/png": "[encoded data removed]"
     },
     "metadata": {},
     "output_type": "display_data"
    }
   ],
   "source": [
    "# scatter plot of time taken\n",
    "%matplotlib inline\n",
    "# set font and font size\n",
    "plt.rcParams['font.family'] = 'Arial'\n",
    "plt.rcParams['font.size'] = 12\n",
    "\n",
    "plt.figure(figsize=(3,3))\n",
    "\n",
    "plt.scatter(error_magnitude_mean[:,0], error_magnitude_mean[:,1], color=[.7,.7,.7], s=10, alpha=0.5, edgecolor = 'k')\n",
    "\n",
    "# get plausible range of x and y and set xlim and ylim\n",
    "plt.xlim([0, 3.5])\n",
    "plt.ylim([0, 3.5])\n",
    "\n",
    "# set xand y label\n",
    "plt.xlabel('With undo')\n",
    "plt.ylabel('Without undo')\n",
    "\n",
    "# title\n",
    "# plt.title('Error magnitude')\n",
    "\n",
    "\n",
    "# remove top and right frame\n",
    "sns.despine()\n",
    "\n",
    "# mid line\n",
    "plt.plot([0,3.5],[0,3.5], 'k--')\n",
    "# make inset and include hist_error_magnitude\n",
    "from mpl_toolkits.axes_grid1.inset_locator import inset_axes\n",
    "axins = inset_axes(plt.gca(), width=\"20%\", height=\"20%\", loc=4, borderpad=2)\n",
    "axins.hist(error_magnitude_mean[:,0]-error_magnitude_mean[:,1], bins=np.linspace(-0.6,0.6,11), color='w', alpha=1, label='With undo', edgecolor='k')\n",
    "# center line of histogram at x = 0\n",
    "axins.plot([0,0],[0,60], 'k--', linewidth=1)\n",
    "\n",
    "# set x and y lim of axins\n",
    "axins.set_xlim([-0.6,0.6])\n",
    "axins.set_ylim([0,60])\n",
    "\n",
    "# set x and y ticks of axins\n",
    "axins.set_xticks([-0.5,0,0.5])\n",
    "\n",
    "# set xtickslabel of axins\n",
    "axins.set_xticklabels(['-0.5','0','0.5'])\n",
    "axins.set_yticks([0,30,60])\n",
    "\n",
    "\n",
    "# remove top and right frame\n",
    "sns.despine()\n",
    "\n",
    "# save figure\n",
    "plt.savefig(out_dir + '/scatter_error_magnitude_inset.png', dpi=300, bbox_inches='tight')\n"
   ],
   "metadata": {
    "collapsed": false,
    "ExecuteTime": {
     "start_time": "2023-07-24T16:00:00.489785Z",
     "end_time": "2023-07-24T16:00:00.748534Z"
    }
   }
  },
  {
   "cell_type": "markdown",
   "source": [
    "## leftover"
   ],
   "metadata": {
    "collapsed": false,
    "ExecuteTime": {
     "start_time": "2023-07-17T14:30:37.933687Z",
     "end_time": "2023-07-17T14:30:38.028950Z"
    }
   },
   "outputs": [
    {
     "data": {
      "text/plain": "<Figure size 100x100 with 1 Axes>",
      "image/png": "[encoded data removed]"
     },
     "metadata": {},
     "output_type": "display_data"
    }
   ],
   "execution_count": 240
  },
  {
   "cell_type": "code",
   "execution_count": 26,
   "outputs": [
    {
     "data": {
      "text/plain": "<Figure size 600x300 with 1 Axes>",
      "image/png": "[encoded data removed]"
     },
     "metadata": {},
     "output_type": "display_data"
    }
   ],
   "source": [
    "# plot of leftover\n",
    "%matplotlib inline\n",
    "\n",
    "plt.figure(figsize=(6,3))\n",
    "plt.subplot(1,2,1)\n",
    "plt.bar(0, np.mean(leftover[:,0]), yerr=np.std(leftover[:,0])/np.sqrt(100), color='0.3', edgecolor = 'k', width=0.4)\n",
    "plt.bar(1, np.mean(leftover[:,1]), yerr=np.std(leftover[:,1])/np.sqrt(100), color='1', edgecolor = 'k', width=0.4)\n",
    "\n",
    "# plt.bar([0,1], np.mean(leftover, axis=0), yerr=np.std(leftover, axis=0)/np.sqrt(100),color=[.7,.7,.7], edgecolor = 'k',)\n",
    "# plt.xticks([0,1], ['undo', 'basic'])\n",
    "plt.xticks([0,1], ['With undo', 'Without undo'])\n",
    "# plt.title('leftover')\n",
    "plt.xlim(-0.5, 1.5)\n",
    "\n",
    "plt.ylim(0,27)\n",
    "\n",
    "plt.ylabel('Budget left')\n",
    "\n",
    "# remove top and right frame\n",
    "sns.despine()\n",
    "\n",
    "# text that says about the p value\n",
    "plt.text(0.5, 0.95, 'p = %.3f' % p, horizontalalignment='center', verticalalignment='center', transform=plt.gca().transAxes)\n",
    "\n",
    "\n",
    "# save figure\n",
    "plt.savefig(out_dir + '/leftover_bar.png', dpi=300, bbox_inches='tight')\n",
    "plt.show()"
   ],
   "metadata": {
    "collapsed": false,
    "ExecuteTime": {
     "start_time": "2023-07-24T16:00:00.753866Z",
     "end_time": "2023-07-24T16:00:00.880078Z"
    }
   }
  },
  {
   "cell_type": "code",
   "execution_count": 27,
   "outputs": [
    {
     "data": {
      "text/plain": "<Figure size 300x300 with 2 Axes>",
      "image/png": "[encoded data removed]"
     },
     "metadata": {},
     "output_type": "display_data"
    }
   ],
   "source": [
    "%matplotlib inline\n",
    "# set font and font size\n",
    "plt.rcParams['font.family'] = 'Arial'\n",
    "plt.rcParams['font.size'] = 12\n",
    "\n",
    "plt.figure(figsize=(3,3))\n",
    "\n",
    "plt.scatter(leftover[:,0], leftover[:,1], color=[.7,.7,.7], s=10, alpha=0.5, edgecolor = 'k')\n",
    "\n",
    "# get plausible range of x and y and set xlim and ylim\n",
    "plt.xlim([0, 27])\n",
    "plt.ylim([0, 27])\n",
    "\n",
    "# set xand y label\n",
    "plt.xlabel('With undo')\n",
    "plt.ylabel('Without undo')\n",
    "\n",
    "# title\n",
    "# plt.title('Error magnitude')\n",
    "\n",
    "\n",
    "# remove top and right frame\n",
    "sns.despine()\n",
    "\n",
    "# mid line\n",
    "plt.plot([0,30],[0,30], 'k--')\n",
    "\n",
    "# set xticks and yticks\n",
    "plt.xticks([0,10,20,30])\n",
    "plt.yticks([0,10,20,30])\n",
    "\n",
    "# make inset and include hist_error_magnitude\n",
    "from mpl_toolkits.axes_grid1.inset_locator import inset_axes\n",
    "axins = inset_axes(plt.gca(), width=\"20%\", height=\"20%\", loc=4, borderpad=2)\n",
    "axins.hist(leftover[:,0]-leftover[:,1], bins=np.linspace(-10,10,11), color='w', alpha=1, label='With undo', edgecolor='k')\n",
    "# center line of histogram at x = 0\n",
    "axins.plot([0,0],[0,60], 'k--', linewidth=1)\n",
    "\n",
    "# set x and y lim of axins\n",
    "axins.set_xlim([-10,10])\n",
    "axins.set_ylim([0,60])\n",
    "\n",
    "# set x and y ticks of axins\n",
    "axins.set_xticks([-10,0,10])\n",
    "\n",
    "# set xtickslabel of axins\n",
    "axins.set_xticklabels(['-10','0','10'])\n",
    "axins.set_yticks([0,30,60])\n",
    "\n",
    "\n",
    "# remove top and right frame\n",
    "sns.despine()\n",
    "\n",
    "# save figure\n",
    "plt.savefig(out_dir + '/scatter_leftover_inset.png', dpi=300, bbox_inches='tight')\n"
   ],
   "metadata": {
    "collapsed": false,
    "ExecuteTime": {
     "start_time": "2023-07-24T16:00:00.888224Z",
     "end_time": "2023-07-24T16:00:01.085400Z"
    }
   }
  },
  {
   "cell_type": "markdown",
   "source": [
    "## RTs"
   ],
   "metadata": {
    "collapsed": false,
    "ExecuteTime": {
     "start_time": "2023-07-17T14:30:38.514645Z",
     "end_time": "2023-07-17T14:30:38.784557Z"
    }
   },
   "outputs": [
    {
     "data": {
      "text/plain": "<Figure size 600x300 with 1 Axes>",
      "image/png": "[encoded data removed]"
     },
     "metadata": {},
     "output_type": "display_data"
    }
   ],
   "execution_count": 242
  },
  {
   "cell_type": "code",
   "execution_count": 28,
   "outputs": [],
   "source": [
    "undo_level = data_choice_level[data_choice_level['condition']==1].copy().reset_index()\n",
    "basic_level = data_choice_level[data_choice_level['condition']==0].copy().reset_index()\n",
    "\n",
    "time_taken =[]\n",
    "first_RT = []\n",
    "\n",
    "for sub in range(100):\n",
    "\n",
    "    dat_sbj  = sc_data_choice_level[sc_data_choice_level['subjects']==sub].sort_values([\"puzzleID\",\"index\"])\n",
    "    dat_sbj_undo  = undo_level[undo_level['subjects']==sub].sort_values([\"puzzleID\",\"index\"])\n",
    "    dat_sbj_basic  = basic_level[basic_level['subjects']==sub].sort_values([\"puzzleID\",\"index\"])\n",
    "\n",
    "    time_taken_puzzle = []\n",
    "    first_RT_puzzle = []\n",
    "\n",
    "    for pzi in np.unique(sc_data_choice_level['puzzleID']):\n",
    "        dat_sbj_pzi = dat_sbj[dat_sbj['puzzleID']==pzi]\n",
    "        dat_sbj_undo_pzi = dat_sbj_undo[dat_sbj_undo['puzzleID']==pzi]\n",
    "        dat_sbj_basic_pzi = dat_sbj_basic[dat_sbj_basic['puzzleID']==pzi]\n",
    "\n",
    "        time_taken_puzzle.append([np.sum(dat_sbj_undo_pzi['RT'][1:])+np.sum(dat_sbj_undo_pzi['undoRT']), np.sum(dat_sbj_basic_pzi['RT'][1:]) ])\n",
    "        first_RT_puzzle.append([(dat_sbj_undo_pzi['RT'].iloc[1]), (dat_sbj_basic_pzi['RT'].iloc[1]) ])\n",
    "\n",
    "    time_taken.append(time_taken_puzzle)\n",
    "    first_RT.append(first_RT_puzzle)\n",
    "\n",
    "time_taken = np.array(time_taken)\n",
    "first_RT = np.array(first_RT)\n"
   ],
   "metadata": {
    "collapsed": false,
    "ExecuteTime": {
     "start_time": "2023-07-24T16:00:01.089542Z",
     "end_time": "2023-07-24T16:00:04.389459Z"
    }
   }
  },
  {
   "cell_type": "markdown",
   "source": [
    "## time taken"
   ],
   "metadata": {
    "collapsed": false,
    "ExecuteTime": {
     "start_time": "2023-07-17T14:26:52.313046Z",
     "end_time": "2023-07-17T14:26:52.542435Z"
    }
   },
   "outputs": [
    {
     "data": {
      "text/plain": "<Figure size 300x300 with 2 Axes>",
      "image/png": "[encoded data removed]"
     },
     "metadata": {},
     "output_type": "display_data"
    }
   ],
   "execution_count": 165
  },
  {
   "cell_type": "code",
   "execution_count": 29,
   "outputs": [],
   "source": [
    "time_taken_ = np.array(time_taken).reshape((-1,2))/1000"
   ],
   "metadata": {
    "collapsed": false,
    "ExecuteTime": {
     "start_time": "2023-07-24T16:00:04.390364Z",
     "end_time": "2023-07-24T16:00:04.392572Z"
    }
   }
  },
  {
   "cell_type": "code",
   "execution_count": 30,
   "outputs": [
    {
     "name": "stdout",
     "output_type": "stream",
     "text": [
      "stat=20.330, p=0.000\n"
     ]
    }
   ],
   "source": [
    "# ttest_ind\n",
    "from scipy.stats import ttest_ind\n",
    "stat,p=ttest_ind(time_taken_[:,0], time_taken_[:,1])\n",
    "print('stat=%.3f, p=%.3f' % (stat, p))"
   ],
   "metadata": {
    "collapsed": false,
    "ExecuteTime": {
     "start_time": "2023-07-24T16:00:04.394457Z",
     "end_time": "2023-07-24T16:00:04.397288Z"
    }
   }
  },
  {
   "cell_type": "code",
   "execution_count": 31,
   "outputs": [
    {
     "name": "stdout",
     "output_type": "stream",
     "text": [
      "stat=20.330, p=0.000\n"
     ]
    },
    {
     "data": {
      "text/plain": "<Figure size 600x300 with 1 Axes>",
      "image/png": "[encoded data removed]"
     },
     "metadata": {},
     "output_type": "display_data"
    }
   ],
   "source": [
    "# bar plot\n",
    "%matplotlib inline\n",
    "\n",
    "\n",
    "plt.figure(figsize=(6,3))\n",
    "plt.subplot(1,2,1)\n",
    "plt.bar(0, np.mean(time_taken_[:,0]), yerr=np.std(time_taken_[:,0])/np.sqrt(100), color='0.3', edgecolor = 'k', width=0.4)\n",
    "plt.bar(1, np.mean(time_taken_[:,1]), yerr=np.std(time_taken_[:,1])/np.sqrt(100), color='1', edgecolor = 'k', width=0.4)\n",
    "\n",
    "# plt.bar([0,1], np.mean(leftover, axis=0), yerr=np.std(leftover, axis=0)/np.sqrt(100),color=[.7,.7,.7], edgecolor = 'k',)\n",
    "# plt.xticks([0,1], ['undo', 'basic'])\n",
    "plt.xticks([0,1], ['With undo', 'Without undo'])\n",
    "# plt.title('leftover')\n",
    "plt.xlim(-0.5, 1.5)\n",
    "\n",
    "plt.ylim(0,27)\n",
    "\n",
    "plt.ylabel('Time taken for a puzzle (s)')\n",
    "\n",
    "#statistical test\n",
    "from scipy.stats import ttest_ind\n",
    "stat,p=ttest_ind(time_taken_[:,0], time_taken_[:,1])\n",
    "print('stat=%.3f, p=%.3f' % (stat, p))\n",
    "\n",
    "# text that says about the p value\n",
    "# plt.text(0.5, 0.95, 'p = %.3f' % p, horizontalalignment='center', verticalalignment='center', transform=plt.gca().transAxes)\n",
    "\n",
    "\n",
    "# remove top and right frame\n",
    "sns.despine()\n",
    "\n",
    "# save figure\n",
    "plt.savefig(out_dir + '/time_taken_bar.png', dpi=300, bbox_inches='tight')\n",
    "\n",
    "# save figure\n",
    "plt.show()"
   ],
   "metadata": {
    "collapsed": false,
    "ExecuteTime": {
     "start_time": "2023-07-24T16:00:04.404889Z",
     "end_time": "2023-07-24T16:00:04.531781Z"
    }
   }
  },
  {
   "cell_type": "code",
   "execution_count": 32,
   "outputs": [],
   "source": [
    "time_taken_mean = time_taken.mean(axis=1)/1000"
   ],
   "metadata": {
    "collapsed": false,
    "ExecuteTime": {
     "start_time": "2023-07-24T16:00:04.532766Z",
     "end_time": "2023-07-24T16:00:04.534468Z"
    }
   }
  },
  {
   "cell_type": "code",
   "execution_count": 33,
   "outputs": [
    {
     "data": {
      "text/plain": "<Figure size 300x300 with 2 Axes>",
      "image/png": "[encoded data removed]"
     },
     "metadata": {},
     "output_type": "display_data"
    }
   ],
   "source": [
    "%matplotlib inline\n",
    "# set font and font size\n",
    "plt.rcParams['font.family'] = 'Arial'\n",
    "plt.rcParams['font.size'] = 12\n",
    "\n",
    "plt.figure(figsize=(3,3))\n",
    "\n",
    "plt.scatter(time_taken_mean[:,0], time_taken_mean[:,1], color=[.7,.7,.7], s=10, alpha=0.5, edgecolor = 'k')\n",
    "\n",
    "# get plausible range of x and y and set xlim and ylim\n",
    "plt.xlim([0, 27])\n",
    "plt.ylim([0, 27])\n",
    "\n",
    "# set xand y label\n",
    "plt.xlabel('With undo')\n",
    "plt.ylabel('Without undo')\n",
    "\n",
    "# title\n",
    "# plt.title('Error magnitude')\n",
    "\n",
    "\n",
    "# remove top and right frame\n",
    "sns.despine()\n",
    "\n",
    "# mid line\n",
    "plt.plot([0,60],[0,60], 'k--')\n",
    "\n",
    "# set xticks and yticks\n",
    "plt.xticks([0,20,40,60])\n",
    "plt.yticks([0,20,40,60])\n",
    "\n",
    "# make inset and include hist_error_magnitude\n",
    "from mpl_toolkits.axes_grid1.inset_locator import inset_axes\n",
    "axins = inset_axes(plt.gca(), width=\"20%\", height=\"20%\", loc=2, borderpad=2)\n",
    "axins.hist(time_taken_mean[:,0]-time_taken_mean[:,1], bins=np.linspace(-10,10,11), color='w', alpha=1, label='With undo', edgecolor='k')\n",
    "# center line of histogram at x = 0\n",
    "axins.plot([0,0],[0,60], 'k--', linewidth=1)\n",
    "\n",
    "# set x and y lim of axins\n",
    "axins.set_xlim([-10,10])\n",
    "axins.set_ylim([0,60])\n",
    "\n",
    "# set x and y ticks of axins\n",
    "axins.set_xticks([-10,0,10])\n",
    "\n",
    "# set xtickslabel of axins\n",
    "axins.set_xticklabels(['-10','0','10'])\n",
    "axins.set_yticks([0,30,60])\n",
    "\n",
    "\n",
    "# remove top and right frame\n",
    "sns.despine()\n",
    "\n",
    "# save figure\n",
    "plt.savefig(out_dir + '/scatter_time_taken_inset.png', dpi=300, bbox_inches='tight')\n"
   ],
   "metadata": {
    "collapsed": false,
    "ExecuteTime": {
     "start_time": "2023-07-24T16:00:04.542065Z",
     "end_time": "2023-07-24T16:00:04.754856Z"
    }
   }
  },
  {
   "cell_type": "markdown",
   "source": [
    "## first RT"
   ],
   "metadata": {
    "collapsed": false,
    "ExecuteTime": {
     "start_time": "2023-07-17T14:30:44.097896Z",
     "end_time": "2023-07-17T14:30:44.114899Z"
    }
   },
   "outputs": [],
   "execution_count": 248
  },
  {
   "cell_type": "code",
   "execution_count": 34,
   "outputs": [],
   "source": [
    "first_RT_ = np.array(first_RT).reshape((-1,2))/1000"
   ],
   "metadata": {
    "collapsed": false,
    "ExecuteTime": {
     "start_time": "2023-07-24T16:00:04.756387Z",
     "end_time": "2023-07-24T16:00:04.758368Z"
    }
   }
  },
  {
   "cell_type": "code",
   "execution_count": 35,
   "outputs": [
    {
     "name": "stdout",
     "output_type": "stream",
     "text": [
      "stat=-5.825, p=0.000\n"
     ]
    }
   ],
   "source": [
    "# ttest_ind\n",
    "from scipy.stats import ttest_ind\n",
    "stat,p=ttest_ind(first_RT_[:,0], first_RT_[:,1])\n",
    "print('stat=%.3f, p=%.3f' % (stat, p))\n"
   ],
   "metadata": {
    "collapsed": false,
    "ExecuteTime": {
     "start_time": "2023-07-24T16:00:04.761036Z",
     "end_time": "2023-07-24T16:00:04.763897Z"
    }
   }
  },
  {
   "cell_type": "code",
   "execution_count": 36,
   "outputs": [
    {
     "name": "stdout",
     "output_type": "stream",
     "text": [
      "stat=-5.825, p=0.000\n"
     ]
    },
    {
     "data": {
      "text/plain": "<Figure size 600x300 with 1 Axes>",
      "image/png": "[encoded data removed]"
     },
     "metadata": {},
     "output_type": "display_data"
    }
   ],
   "source": [
    "# bar plot\n",
    "%matplotlib inline\n",
    "\n",
    "\n",
    "plt.figure(figsize=(6,3))\n",
    "plt.subplot(1,2,1)\n",
    "plt.bar(0, np.mean(first_RT_[:,0]), yerr=np.std(first_RT_[:,0])/np.sqrt(100), color='0.3', edgecolor = 'k', width=0.4)\n",
    "plt.bar(1, np.mean(first_RT_[:,1]), yerr=np.std(first_RT_[:,1])/np.sqrt(100), color='1', edgecolor = 'k', width=0.4)\n",
    "\n",
    "# plt.bar([0,1], np.mean(leftover, axis=0), yerr=np.std(leftover, axis=0)/np.sqrt(100),color=[.7,.7,.7], edgecolor = 'k',)\n",
    "# plt.xticks([0,1], ['undo', 'basic'])\n",
    "plt.xticks([0,1], ['With undo', 'Without undo'])\n",
    "# plt.title('leftover')\n",
    "plt.xlim(-0.5, 1.5)\n",
    "\n",
    "\n",
    "plt.ylabel('First RT (s)')\n",
    "\n",
    "#statistical test\n",
    "from scipy.stats import ttest_ind\n",
    "stat,p=ttest_ind(first_RT_[:,0], first_RT_[:,1])\n",
    "print('stat=%.3f, p=%.3f' % (stat, p))\n",
    "\n",
    "\n",
    "# remove top and right frame\n",
    "sns.despine()\n",
    "\n",
    "# text that says about the p value\n",
    "plt.text(0.5, 0.95, 'p = %.3f' % p, horizontalalignment='center', verticalalignment='center', transform=plt.gca().transAxes)\n",
    "\n",
    "# save figure\n",
    "plt.savefig(out_dir + '/bar_first_RT.png', dpi=300, bbox_inches='tight')\n",
    "# save figure\n",
    "plt.show()"
   ],
   "metadata": {
    "collapsed": false,
    "ExecuteTime": {
     "start_time": "2023-07-24T16:00:04.770812Z",
     "end_time": "2023-07-24T16:00:04.890209Z"
    }
   }
  },
  {
   "cell_type": "code",
   "execution_count": 37,
   "outputs": [],
   "source": [
    "first_RT_mean = np.mean(first_RT, axis=1)/1000"
   ],
   "metadata": {
    "collapsed": false,
    "ExecuteTime": {
     "start_time": "2023-07-24T16:00:04.892204Z",
     "end_time": "2023-07-24T16:00:04.896001Z"
    }
   }
  },
  {
   "cell_type": "code",
   "execution_count": 38,
   "outputs": [
    {
     "data": {
      "text/plain": "<Figure size 300x300 with 2 Axes>",
      "image/png": "[encoded data removed]"
     },
     "metadata": {},
     "output_type": "display_data"
    }
   ],
   "source": [
    "# scatter plot of time taken\n",
    "%matplotlib inline\n",
    "# set font and font size\n",
    "plt.rcParams['font.family'] = 'Arial'\n",
    "plt.rcParams['font.size'] = 12\n",
    "\n",
    "plt.figure(figsize=(3,3))\n",
    "\n",
    "plt.scatter(first_RT_mean[:,0], first_RT_mean[:,1], color=[.7,.7,.7], s=10, alpha=0.5, edgecolor = 'k')\n",
    "\n",
    "# get plausible range of x and y and set xlim and ylim\n",
    "plt.xlim([0, 15])\n",
    "plt.ylim([0, 15])\n",
    "\n",
    "# set xand y label\n",
    "plt.xlabel('With undo')\n",
    "plt.ylabel('Without undo')\n",
    "\n",
    "# title\n",
    "# plt.title('Error magnitude')\n",
    "\n",
    "\n",
    "# remove top and right frame\n",
    "sns.despine()\n",
    "\n",
    "# mid line\n",
    "plt.plot([0,15],[0,15], 'k--')\n",
    "\n",
    "# set xticks and yticks\n",
    "plt.xticks([0,5,10,15])\n",
    "plt.yticks([0,5,10,15])\n",
    "\n",
    "# make inset and include hist_error_magnitude\n",
    "from mpl_toolkits.axes_grid1.inset_locator import inset_axes\n",
    "axins = inset_axes(plt.gca(), width=\"20%\", height=\"20%\", loc=4, borderpad=2)\n",
    "axins.hist(first_RT_mean[:,0]-first_RT_mean[:,1], bins=np.linspace(-10,10,11), color='w', alpha=1, label='With undo', edgecolor='k')\n",
    "# center line of histogram at x = 0\n",
    "axins.plot([0,0],[0,60], 'k--', linewidth=1)\n",
    "\n",
    "# set x and y lim of axins\n",
    "axins.set_xlim([-10,10])\n",
    "axins.set_ylim([0,60])\n",
    "\n",
    "# set x and y ticks of axins\n",
    "axins.set_xticks([-10,0,10])\n",
    "\n",
    "# set xtickslabel of axins\n",
    "axins.set_xticklabels(['-10','0','10'])\n",
    "axins.set_yticks([0,30,60])\n",
    "\n",
    "\n",
    "# remove top and right frame\n",
    "sns.despine()\n",
    "\n",
    "# save figure\n",
    "plt.savefig(out_dir + '/scatter_firstRTmean_inset.png', dpi=300, bbox_inches='tight')\n"
   ],
   "metadata": {
    "collapsed": false,
    "ExecuteTime": {
     "start_time": "2023-07-24T16:00:04.900464Z",
     "end_time": "2023-07-24T16:00:05.108634Z"
    }
   }
  },
  {
   "cell_type": "markdown",
   "source": [
    "## calculate time for a puzzle that is matched"
   ],
   "metadata": {
    "collapsed": false
   }
  },
  {
   "cell_type": "code",
   "execution_count": 39,
   "outputs": [
    {
     "name": "stderr",
     "output_type": "stream",
     "text": [
      "/var/folders/8q/yjgzft41043gt_l8bqcfnzn40000gn/T/ipykernel_97199/2722325208.py:30: RuntimeWarning: Mean of empty slice\n",
      "  time_taken_0undo.append(np.nanmean(time_taken_0undo_puzzle, axis=0))\n",
      "/var/folders/8q/yjgzft41043gt_l8bqcfnzn40000gn/T/ipykernel_97199/2722325208.py:31: RuntimeWarning: Mean of empty slice\n",
      "  first_RT_0undo.append(np.nanmean(first_RT_0undo_puzzle, axis=0))\n"
     ]
    }
   ],
   "source": [
    "undo_level = data_choice_level[data_choice_level['condition'] == 1].copy().reset_index()\n",
    "basic_level = data_choice_level[data_choice_level['condition'] == 0].copy().reset_index()\n",
    "\n",
    "time_taken_0undo = []\n",
    "first_RT_0undo = []\n",
    "\n",
    "for sub in range(100):\n",
    "\n",
    "    dat_sbj = sc_data_choice_level[sc_data_choice_level['subjects'] == sub].sort_values([\"puzzleID\", \"index\"])\n",
    "    dat_sbj_undo = undo_level[undo_level['subjects'] == sub].sort_values([\"puzzleID\", \"index\"])\n",
    "    dat_sbj_basic = basic_level[basic_level['subjects'] == sub].sort_values([\"puzzleID\", \"index\"])\n",
    "\n",
    "    time_taken_0undo_puzzle = []\n",
    "    first_RT_0undo_puzzle = []\n",
    "\n",
    "    for pzi in np.unique(sc_data_choice_level['puzzleID']):\n",
    "        dat_sbj_pzi = dat_sbj[dat_sbj['puzzleID'] == pzi]\n",
    "        dat_sbj_undo_pzi = dat_sbj_undo[dat_sbj_undo['puzzleID'] == pzi]\n",
    "        dat_sbj_basic_pzi = dat_sbj_basic[dat_sbj_basic['puzzleID'] == pzi]\n",
    "\n",
    "        # check if dat_sbj_pzi['undo'].sum() is 0\n",
    "        if dat_sbj_pzi['undo'].sum() == 0:\n",
    "            time_taken_0undo_puzzle.append([np.sum(dat_sbj_undo_pzi['RT'][1:])/1000, np.sum(dat_sbj_basic_pzi['RT'][1:])/1000])\n",
    "            first_RT_0undo_puzzle.append([(dat_sbj_undo_pzi['RT'].iloc[1])/1000, (dat_sbj_basic_pzi['RT'].iloc[1])/1000])\n",
    "        else:\n",
    "            #append nan\n",
    "            time_taken_0undo_puzzle.append([np.nan, np.nan])\n",
    "            first_RT_0undo_puzzle.append([np.nan, np.nan])\n",
    "\n",
    "    time_taken_0undo.append(np.nanmean(time_taken_0undo_puzzle, axis=0))\n",
    "    first_RT_0undo.append(np.nanmean(first_RT_0undo_puzzle, axis=0))\n",
    "\n",
    "time_taken_0undo = np.array(time_taken_0undo)\n",
    "first_RT_0undo = np.array(first_RT_0undo)\n"
   ],
   "metadata": {
    "collapsed": false,
    "ExecuteTime": {
     "start_time": "2023-07-24T16:00:05.113103Z",
     "end_time": "2023-07-24T16:00:08.038539Z"
    }
   }
  },
  {
   "cell_type": "code",
   "execution_count": 40,
   "outputs": [
    {
     "data": {
      "text/plain": "<Figure size 300x300 with 2 Axes>",
      "image/png": "[encoded data removed]"
     },
     "metadata": {},
     "output_type": "display_data"
    }
   ],
   "source": [
    "%matplotlib inline\n",
    "# set font and font size\n",
    "plt.rcParams['font.family'] = 'Arial'\n",
    "plt.rcParams['font.size'] = 12\n",
    "\n",
    "plt.figure(figsize=(3,3))\n",
    "\n",
    "plt.scatter(time_taken_0undo[:,0], time_taken_0undo[:,1], color=[.7,.7,.7], s=10, alpha=0.5, edgecolor = 'k')\n",
    "\n",
    "# get plausible range of x and y and set xlim and ylim\n",
    "plt.xlim([0, 27])\n",
    "plt.ylim([0, 27])\n",
    "\n",
    "# set xand y label\n",
    "plt.xlabel('With undo')\n",
    "plt.ylabel('Without undo')\n",
    "\n",
    "# title\n",
    "# plt.title('Error magnitude')\n",
    "\n",
    "\n",
    "# remove top and right frame\n",
    "sns.despine()\n",
    "\n",
    "# mid line\n",
    "plt.plot([0,30],[0,30], 'k--')\n",
    "\n",
    "# set xticks and yticks\n",
    "plt.xticks([0,10,20,30])\n",
    "plt.yticks([0,10,20,30])\n",
    "\n",
    "# make inset and include hist_error_magnitude\n",
    "from mpl_toolkits.axes_grid1.inset_locator import inset_axes\n",
    "axins = inset_axes(plt.gca(), width=\"20%\", height=\"20%\", loc=4, borderpad=2)\n",
    "axins.hist(time_taken_0undo[:,0]-time_taken_0undo[:,1], bins=np.linspace(-10,10,11), color='w', alpha=1, label='With undo', edgecolor='k')\n",
    "# center line of histogram at x = 0\n",
    "axins.plot([0,0],[0,60], 'k--', linewidth=1)\n",
    "\n",
    "# set x and y lim of axins\n",
    "axins.set_xlim([-10,10])\n",
    "axins.set_ylim([0,60])\n",
    "\n",
    "# set x and y ticks of axins\n",
    "axins.set_xticks([-10,0,10])\n",
    "\n",
    "# set xtickslabel of axins\n",
    "axins.set_xticklabels(['-10','0','10'])\n",
    "axins.set_yticks([0,30,60])\n",
    "\n",
    "\n",
    "# remove top and right frame\n",
    "sns.despine()\n",
    "\n",
    "# save figure\n",
    "plt.savefig(out_dir + '/scatter_time_taken_0undo_inset.png', dpi=300, bbox_inches='tight')\n"
   ],
   "metadata": {
    "collapsed": false,
    "ExecuteTime": {
     "start_time": "2023-07-24T16:00:08.073843Z",
     "end_time": "2023-07-24T16:00:08.254234Z"
    }
   }
  },
  {
   "cell_type": "markdown",
   "source": [
    "# Results in different city (undo target)\n",
    "\n",
    "## different city (undo target)"
   ],
   "metadata": {
    "collapsed": false,
    "ExecuteTime": {
     "start_time": "2023-07-17T14:30:44.550858Z",
     "end_time": "2023-07-17T14:30:44.555659Z"
    }
   },
   "outputs": [],
   "execution_count": 253
  },
  {
   "cell_type": "code",
   "execution_count": 41,
   "outputs": [
    {
     "name": "stdout",
     "output_type": "stream",
     "text": [
      "5\n",
      "26\n",
      "42\n",
      "47\n",
      "56\n",
      "64\n",
      "71\n",
      "80\n",
      "86\n",
      "98\n"
     ]
    }
   ],
   "source": [
    "undo_same_diff = []\n",
    "\n",
    "for sub in range(100):\n",
    "    dat_sbj  = sc_data_choice_level[sc_data_choice_level['subjects']==sub].sort_values([\"puzzleID\",\"index\"])\n",
    "    undo_same_diff_puzzle = []\n",
    "    for pzi in np.unique(sc_data_choice_level['puzzleID']):\n",
    "        same_puzzle = 0\n",
    "        diff_puzzle = 0\n",
    "\n",
    "        dat_sbj_pzi = dat_sbj[dat_sbj['puzzleID'] == pzi].reset_index()\n",
    "\n",
    "        lastUndo_idx = dat_sbj_pzi[dat_sbj_pzi[\"lastUndo\"]==1].index\n",
    "\n",
    "        idxx = np.array(dat_sbj_pzi[\"choice\"][lastUndo_idx-1]) != np.array(dat_sbj_pzi[\"choice\"][lastUndo_idx+1])\n",
    "        diff_puzzle += np.sum(idxx)\n",
    "        idxx = np.array(dat_sbj_pzi[\"choice\"][lastUndo_idx-1]) == np.array(dat_sbj_pzi[\"choice\"][lastUndo_idx+1])\n",
    "        same_puzzle += np.sum(idxx)\n",
    "\n",
    "        undo_same_diff_puzzle.append([same_puzzle, diff_puzzle])\n",
    "    undo_same_diff_puzzle =  np.array(undo_same_diff_puzzle)\n",
    "    undo_same_diff_puzzle =  np.sum(undo_same_diff_puzzle,axis=0)\n",
    "\n",
    "    if np.sum(undo_same_diff_puzzle)==0:\n",
    "        print(sub) # who does not undo\n",
    "\n",
    "    undo_same_diff.append(undo_same_diff_puzzle)\n",
    "\n",
    "undo_same_diff = np.array(undo_same_diff)"
   ],
   "metadata": {
    "collapsed": false,
    "ExecuteTime": {
     "start_time": "2023-07-24T16:00:08.258119Z",
     "end_time": "2023-07-24T16:00:15.318141Z"
    }
   }
  },
  {
   "cell_type": "code",
   "execution_count": 42,
   "outputs": [],
   "source": [
    "# exclude some never undoing subjects\n",
    "undo_same_diff = undo_same_diff[np.where(np.sum(np.array(undo_same_diff),axis=1)!=0),:]\n",
    "undo_same_diff = undo_same_diff.squeeze()\n",
    "undo_same_diff_p = undo_same_diff/ np.sum(undo_same_diff,axis = 1)[:,None]"
   ],
   "metadata": {
    "collapsed": false,
    "ExecuteTime": {
     "start_time": "2023-07-24T16:00:15.326405Z",
     "end_time": "2023-07-24T16:00:15.328122Z"
    }
   }
  },
  {
   "cell_type": "code",
   "execution_count": 43,
   "outputs": [
    {
     "data": {
      "text/plain": "array([0.11857317, 0.88142683])"
     },
     "execution_count": 43,
     "metadata": {},
     "output_type": "execute_result"
    }
   ],
   "source": [
    "np.mean(undo_same_diff_p,axis=0)"
   ],
   "metadata": {
    "collapsed": false,
    "ExecuteTime": {
     "start_time": "2023-07-24T16:00:15.330115Z",
     "end_time": "2023-07-24T16:00:15.332305Z"
    }
   }
  },
  {
   "cell_type": "code",
   "execution_count": 44,
   "outputs": [
    {
     "data": {
      "text/plain": "<Figure size 200x400 with 1 Axes>",
      "image/png": "[encoded data removed]"
     },
     "metadata": {},
     "output_type": "display_data"
    }
   ],
   "source": [
    "%matplotlib inline\n",
    "\n",
    "plt.figure(figsize=(2,4))\n",
    "plt.bar(range(2), np.mean(undo_same_diff_p,axis=0),\n",
    "        color=[.7,.7,.7], edgecolor = 'k',\n",
    "        yerr=np.std(undo_same_diff_p,axis = 0)/np.sqrt(undo_same_diff_p.shape[0]))\n",
    "plt.xticks([0,1], ['Same','Different'])\n",
    "plt.ylabel('Proportion')\n",
    "# remove right and top frame\n",
    "sns.despine()\n",
    "\n",
    "plt.xlabel('move after undo end')\n",
    "\n",
    "# save figure\n",
    "plt.savefig(out_dir + '/undo_same_diff.png', dpi=300, bbox_inches='tight')"
   ],
   "metadata": {
    "collapsed": false,
    "ExecuteTime": {
     "start_time": "2023-07-24T16:00:15.337454Z",
     "end_time": "2023-07-24T16:00:15.470598Z"
    }
   }
  },
  {
   "cell_type": "code",
   "execution_count": 45,
   "outputs": [
    {
     "name": "stdout",
     "output_type": "stream",
     "text": [
      "82.0\n",
      "2.101861284114228e-15\n"
     ]
    }
   ],
   "source": [
    "#wilcoxon signed-rank test\n",
    "stat, p = wilcoxon(undo_same_diff_p[:,0], undo_same_diff_p[:,1])\n",
    "print(stat)\n",
    "print(p)"
   ],
   "metadata": {
    "collapsed": false,
    "ExecuteTime": {
     "start_time": "2023-07-24T16:00:15.473020Z",
     "end_time": "2023-07-24T16:00:15.475684Z"
    }
   }
  },
  {
   "cell_type": "markdown",
   "source": [
    "## ( same x different ) x ( better, equally good, worse )"
   ],
   "metadata": {
    "collapsed": false
   }
  },
  {
   "cell_type": "code",
   "execution_count": 46,
   "outputs": [],
   "source": [
    "sub = 0\n",
    "dat_sbj  = sc_data_choice_level[sc_data_choice_level['subjects']==sub].sort_values([\"puzzleID\",\"index\"])\n",
    "pzi = 1"
   ],
   "metadata": {
    "collapsed": false,
    "ExecuteTime": {
     "start_time": "2023-07-24T16:00:15.477790Z",
     "end_time": "2023-07-24T16:00:15.481275Z"
    }
   }
  },
  {
   "cell_type": "code",
   "execution_count": 47,
   "outputs": [
    {
     "name": "stdout",
     "output_type": "stream",
     "text": [
      "5\n",
      "26\n",
      "42\n",
      "47\n",
      "56\n",
      "64\n",
      "71\n",
      "80\n",
      "86\n",
      "98\n"
     ]
    }
   ],
   "source": [
    "undo_same_diff = []\n",
    "undo_same_diff_weqb = []\n",
    "\n",
    "for sub in range(100):\n",
    "    dat_sbj  = sc_data_choice_level[sc_data_choice_level['subjects']==sub].sort_values([\"puzzleID\",\"index\"])\n",
    "    same_puzzle = 0\n",
    "    same_worse_eq_better = np.array([0,0,0])\n",
    "    diff_puzzle = 0\n",
    "    diff_worse_eq_better = np.array([0,0,0])\n",
    "    for pzi in np.unique(sc_data_choice_level['puzzleID']):\n",
    "\n",
    "        dat_sbj_pzi = dat_sbj[dat_sbj['puzzleID'] == pzi].reset_index()\n",
    "\n",
    "        lastUndo_idx = dat_sbj_pzi[dat_sbj_pzi[\"lastUndo\"]==1].index\n",
    "\n",
    "        idxx_diff = np.array(dat_sbj_pzi[\"choice\"][lastUndo_idx-1]) != np.array(dat_sbj_pzi[\"choice\"][lastUndo_idx+1])\n",
    "        diff_puzzle += np.sum(idxx_diff)\n",
    "\n",
    "        idxx_same = np.array(dat_sbj_pzi[\"choice\"][lastUndo_idx-1]) == np.array(dat_sbj_pzi[\"choice\"][lastUndo_idx+1])\n",
    "        same_puzzle += np.sum(idxx_same)\n",
    "\n",
    "        mas_gain = np.array(dat_sbj_pzi[\"currMas\"][lastUndo_idx+1]) - np.array(dat_sbj_pzi[\"currMas\"][lastUndo_idx-1])\n",
    "\n",
    "        idxx_w  = mas_gain < 0\n",
    "        idxx_eq = mas_gain == 0\n",
    "        idxx_b  = mas_gain > 0\n",
    "\n",
    "        # find intersection between np.where(idxx_diff) and np.where(idxx_w), np.where(idxx_eq), np.where(idxx_b)\n",
    "        idxx_diff_w = np.intersect1d(np.where(idxx_diff)[0], np.where(idxx_w)[0])\n",
    "        idxx_diff_eq = np.intersect1d(np.where(idxx_diff)[0], np.where(idxx_eq)[0])\n",
    "        idxx_diff_b = np.intersect1d(np.where(idxx_diff)[0], np.where(idxx_b)[0])\n",
    "\n",
    "        diff_worse_eq_better += np.array([len(idxx_diff_w), len(idxx_diff_eq), len(idxx_diff_b)])\n",
    "\n",
    "        # find intersection between np.where(idxx_same) and np.where(idxx_w), np.where(idxx_eq), np.where(idxx_b)\n",
    "        idxx_same_w = np.intersect1d(np.where(idxx_same)[0], np.where(idxx_w)[0])\n",
    "        idxx_same_eq = np.intersect1d(np.where(idxx_same)[0], np.where(idxx_eq)[0])\n",
    "        idxx_same_b = np.intersect1d(np.where(idxx_same)[0], np.where(idxx_b)[0])\n",
    "\n",
    "        same_worse_eq_better += np.array([len(idxx_same_w), len(idxx_same_eq), len(idxx_same_b)])\n",
    "\n",
    "    undo_same_diff_puzzle =  np.array([same_puzzle, diff_puzzle])\n",
    "    undo_same_diff_weqb_puzzle = np.array([*same_worse_eq_better, *diff_worse_eq_better])\n",
    "\n",
    "    if np.sum(undo_same_diff_puzzle)==0:\n",
    "        print(sub) # who does not undo\n",
    "\n",
    "    undo_same_diff.append(undo_same_diff_puzzle)\n",
    "    undo_same_diff_weqb.append(undo_same_diff_weqb_puzzle)\n",
    "\n",
    "undo_same_diff = np.array(undo_same_diff)\n",
    "undo_same_diff_weqb = np.array(undo_same_diff_weqb)"
   ],
   "metadata": {
    "collapsed": false,
    "ExecuteTime": {
     "start_time": "2023-07-24T16:00:15.481445Z",
     "end_time": "2023-07-24T16:00:25.010535Z"
    }
   }
  },
  {
   "cell_type": "code",
   "execution_count": 48,
   "outputs": [],
   "source": [
    "# exclude some never undoing subjects\n",
    "undo_same_diff_weqb = undo_same_diff_weqb[np.where(np.sum(np.array(undo_same_diff_weqb),axis=1)!=0),:]\n",
    "undo_same_diff_weqb = undo_same_diff_weqb.squeeze()\n",
    "undo_same_diff_weqb_p = undo_same_diff_weqb/ np.sum(undo_same_diff_weqb,axis = 1)[:,None]"
   ],
   "metadata": {
    "collapsed": false,
    "ExecuteTime": {
     "start_time": "2023-07-24T16:00:25.011830Z",
     "end_time": "2023-07-24T16:00:25.013262Z"
    }
   }
  },
  {
   "cell_type": "code",
   "execution_count": 71,
   "outputs": [
    {
     "data": {
      "text/plain": "<Figure size 400x600 with 1 Axes>",
      "image/png": "[encoded data removed]"
     },
     "metadata": {},
     "output_type": "display_data"
    }
   ],
   "source": [
    "%matplotlib inline\n",
    "\n",
    "plt.rcParams['font.family'] = 'Arial'\n",
    "plt.rcParams['font.size'] = 12\n",
    "# bar plot for undo_same_diff_weqb\n",
    "\n",
    "fig, ax = plt.subplots(1,1,figsize=(4,4))\n",
    "colors = ['w','0.7','0.3']\n",
    "for each in range(3):\n",
    "    ax.bar(np.arange(2)*3+each, np.mean(undo_same_diff_weqb_p[:, np.arange(2)*3+each],axis=0), yerr = np.std(undo_same_diff_weqb_p[:, np.arange(2)*3+each],axis=0)/np.sqrt(undo_same_diff_weqb[:, np.arange(2)*3+each].shape[0]), color = colors[each],edgecolor = 'k')\n",
    "\n",
    "\n",
    "# ax.bar(np.arange(6), np.mean(undo_same_diff_weqb_p,axis=0), yerr = np.std(undo_same_diff_weqb_p,axis=0)/np.sqrt(undo_same_diff_weqb.shape[0]), color = ['w','0.5','k'],edgecolor = 'k')\n",
    "sns.despine()\n",
    "\n",
    "# ax.set_xticks(np.arange(6))\n",
    "# ax.set_xticklabels(['','Same','','','Different',''])\n",
    "\n",
    "ax.set_xticks([1,4])\n",
    "ax.set_xticklabels(['Same','Different'])\n",
    "\n",
    "# set y lim\n",
    "ax.set_ylim([0,0.45])\n",
    "\n",
    "# set y ticks\n",
    "ax.set_yticks(np.arange(0,0.5,0.1))\n",
    "# set ytickslabel in string\n",
    "ax.set_yticklabels(['0','0.1','0.2','0.3','0.4'])\n",
    "\n",
    "# legend that says worse, equally good, better, without bounding box\n",
    "ax.legend(['worse','equally good','better'],loc='upper left', frameon=False)\n",
    "\n",
    "ax.set_xlabel('move after undoing')\n",
    "ax.set_ylabel('Proportion')\n",
    "\n",
    "# save figure\n",
    "plt.savefig(out_dir + '/figure_worse_better_with_same_diff.png', dpi=300, bbox_inches='tight')"
   ],
   "metadata": {
    "collapsed": false,
    "ExecuteTime": {
     "start_time": "2023-07-24T16:11:59.908384Z",
     "end_time": "2023-07-24T16:12:00.185448Z"
    }
   }
  },
  {
   "cell_type": "markdown",
   "source": [
    "\n",
    "# Overlapped sequence"
   ],
   "metadata": {
    "collapsed": false,
    "ExecuteTime": {
     "start_time": "2023-07-17T14:33:32.640056Z",
     "end_time": "2023-07-17T14:33:32.938560Z"
    }
   },
   "outputs": [
    {
     "data": {
      "text/plain": "<Figure size 300x300 with 2 Axes>",
      "image/png": "[encoded data removed]"
     },
     "metadata": {},
     "output_type": "display_data"
    }
   ],
   "execution_count": 264
  },
  {
   "cell_type": "markdown",
   "source": [
    "### overlapped sequence from all of the prev seqs."
   ],
   "metadata": {
    "collapsed": false,
    "ExecuteTime": {
     "start_time": "2023-07-17T14:34:02.924905Z",
     "end_time": "2023-07-17T14:34:03.127330Z"
    }
   },
   "outputs": [
    {
     "name": "stdout",
     "output_type": "stream",
     "text": [
      "WilcoxonResult(statistic=1039.0, pvalue=5.385149187930356e-07)\n"
     ]
    }
   ],
   "execution_count": 265
  },
  {
   "cell_type": "code",
   "execution_count": 50,
   "outputs": [],
   "source": [
    "import difflib\n",
    "\n",
    "def get_overlap(s1, s2):\n",
    "    #\n",
    "    s = difflib.SequenceMatcher(None, s1, s2)\n",
    "    pos_a, pos_b, size = s.find_longest_match(0, len(s1), 0, len(s2))\n",
    "    return s1[pos_a:pos_a+size]\n",
    "\n",
    "def get_overlaplist(l1,l2,minlen=1):\n",
    "    # return overlaping numbers in sequence\n",
    "    matched_seq = []\n",
    "    for i1 in range(len(l1)):\n",
    "#         print('l1:{}'.format(i1))\n",
    "        matches = [i2 for i2 in range(len(l2)) if l2[i2] == l1[i1]]\n",
    "#         print(matches)\n",
    "        for m in matches:\n",
    "            matched_seq_ = []\n",
    "            i_a = 0\n",
    "            while ((i1+i_a)<len(l1)) and ((m+i_a)< len(l2)):\n",
    "                if l1[i1+i_a]==l2[m+i_a]:\n",
    "                    matched_seq_.append(l1[i1+i_a])\n",
    "                    i_a += 1\n",
    "                else:\n",
    "                    break\n",
    "            matched_seq.append(matched_seq_)\n",
    "\n",
    "    idx = np.argsort([len(seq) for seq in matched_seq])[::-1]\n",
    "#     print(idx)\n",
    "\n",
    "    seqs_ = []\n",
    "    for i in idx:\n",
    "        if len(seqs_) == 0:\n",
    "            seqs_.append(matched_seq[i])\n",
    "        else:\n",
    "            if not np.any([np.all(np.isin(matched_seq[i],seq)) for seq in seqs_]):\n",
    "                seqs_.append(matched_seq[i])\n",
    "    matched_seq = seqs_.copy()\n",
    "    idx = np.argsort([len(seq) for seq in matched_seq])\n",
    "    seqs_ = []\n",
    "    for i in idx:\n",
    "        if len(seqs_) == 0:\n",
    "            seqs_.append(matched_seq[i])\n",
    "        else:\n",
    "            if not np.any([np.all(np.isin(matched_seq[i],seq)) for seq in seqs_]):\n",
    "                seqs_.append(matched_seq[i])\n",
    "\n",
    "    seqs = []\n",
    "    for seq in seqs_:\n",
    "#         print(len(seq))\n",
    "        if not len(seq)<minlen:\n",
    "            seqs.append(seq)\n",
    "\n",
    "    return seqs\n",
    "\n",
    "def trimmer(matched_seq,minlen=1):\n",
    "    idx = np.argsort([len(seq) for seq in matched_seq])[::-1]\n",
    "#     print(idx)\n",
    "\n",
    "    seqs_ = []\n",
    "    for i in idx:\n",
    "        if len(seqs_) == 0:\n",
    "            seqs_.append(matched_seq[i])\n",
    "        else:\n",
    "            if not np.any([np.all(np.isin(matched_seq[i],seq)) for seq in seqs_]):\n",
    "                seqs_.append(matched_seq[i])\n",
    "    matched_seq = seqs_.copy()\n",
    "    idx = np.argsort([len(seq) for seq in matched_seq])\n",
    "    seqs_ = []\n",
    "    for i in idx:\n",
    "        if len(seqs_) == 0:\n",
    "            seqs_.append(matched_seq[i])\n",
    "        else:\n",
    "            if not np.any([np.all(np.isin(matched_seq[i],seq)) for seq in seqs_]):\n",
    "                seqs_.append(matched_seq[i])\n",
    "\n",
    "    seqs = []\n",
    "    for seq in seqs_:\n",
    "#         print(len(seq))\n",
    "        if not len(seq)<minlen:\n",
    "            seqs.append(seq)\n",
    "\n",
    "    return seqs"
   ],
   "metadata": {
    "collapsed": false,
    "ExecuteTime": {
     "start_time": "2023-07-24T16:00:25.199693Z",
     "end_time": "2023-07-24T16:00:25.209600Z"
    }
   }
  },
  {
   "cell_type": "code",
   "execution_count": 51,
   "outputs": [
    {
     "name": "stderr",
     "output_type": "stream",
     "text": [
      "/var/folders/8q/yjgzft41043gt_l8bqcfnzn40000gn/T/ipykernel_97199/2009794511.py:259: RuntimeWarning: invalid value encountered in true_divide\n",
      "  length_undone_p.append(hist/hist.sum())\n",
      "/var/folders/8q/yjgzft41043gt_l8bqcfnzn40000gn/T/ipykernel_97199/2009794511.py:264: RuntimeWarning: invalid value encountered in true_divide\n",
      "  overlap_seq_inorder_norm_p.append(hist/hist.sum())\n",
      "/var/folders/8q/yjgzft41043gt_l8bqcfnzn40000gn/T/ipykernel_97199/2009794511.py:268: RuntimeWarning: invalid value encountered in true_divide\n",
      "  overlap_seq_inorder_num_norm_p.append(hist/hist.sum())\n",
      "/var/folders/8q/yjgzft41043gt_l8bqcfnzn40000gn/T/ipykernel_97199/2009794511.py:164: RuntimeWarning: invalid value encountered in true_divide\n",
      "  temp_inorder = np.array([max(seq) for seq in overlap_seq_foreach])/np.array([len(seq) for seq in pathList_afim]).tolist()\n",
      "/var/folders/8q/yjgzft41043gt_l8bqcfnzn40000gn/T/ipykernel_97199/2009794511.py:168: RuntimeWarning: invalid value encountered in true_divide\n",
      "  temp_rglssorder = np.array(overlap_num_city)/np.array([len(seq) for seq in pathList_afim]).tolist()\n"
     ]
    }
   ],
   "source": [
    "minlen_of_seq = 0\n",
    "\n",
    "overlap_seq_inorder = []\n",
    "overlap_seq_inorder_inlen=[]\n",
    "overlap_seq_inorder_num = []\n",
    "overlap_seq_inorder_num_inlen=[]\n",
    "\n",
    "overlap_seq_inorder_norm = []\n",
    "overlap_seq_inorder_num_norm = []\n",
    "overlap_seq_inorder_norm_p = []\n",
    "overlap_seq_inorder_num_norm_p = []\n",
    "\n",
    "\n",
    "length_undone = []\n",
    "length_undone_p = []\n",
    "\n",
    "currmas = []\n",
    "currmas_inlen=[]\n",
    "\n",
    "currmas_num = []\n",
    "currmas_num_inlen=[]\n",
    "\n",
    "length_seq = []\n",
    "length_seq_persub_p = []\n",
    "length_num_persub_p = []\n",
    "\n",
    "length_seq_persub = []\n",
    "length_num_persub = []\n",
    "\n",
    "mas_undone_tot= []\n",
    "length_undone_tot=[]\n",
    "\n",
    "overlap_seq_inorder_norm_tot = []\n",
    "overlap_seq_inorder_num_norm_tot = []\n",
    "length_undone_norm_tot = []\n",
    "\n",
    "for sub in range(100):\n",
    "    dat_sbj  = sc_data_choice_level[sc_data_choice_level['subjects']==sub].sort_values([\"puzzleID\",\"index\"])\n",
    "    overlap_seq_inorder_for_puzzle = []\n",
    "    overlap_seq_inorder_inlen_for_puzzle=[]\n",
    "\n",
    "    overlap_seq_inorder_num_for_puzzle = []\n",
    "    overlap_seq_inorder_num_inlen_for_puzzle=[]\n",
    "\n",
    "    length_undone_norm_for_puzzle = []\n",
    "    overlap_seq_inorder_norm_for_puzzle = []\n",
    "    overlap_seq_inorder_num_norm_for_puzzle = []\n",
    "\n",
    "    length_undone_for_puzzle = []\n",
    "    length_undone_for_puzzle_p = []\n",
    "\n",
    "    currmas_for_puzzle = []\n",
    "    currmas_inlen_for_puzzle=[]\n",
    "\n",
    "    length_seq_persub_for_puzzle = []\n",
    "    length_num_persub_for_puzzle = []\n",
    "    currmas_num_for_puzzle = []\n",
    "    currmas_num_inlen_for_puzzle=[]\n",
    "\n",
    "    mas_undone_for_puzzle = []\n",
    "\n",
    "    for pzi in np.unique(sc_data_choice_level['puzzleID']):\n",
    "        dat_sbj_pzi = dat_sbj[dat_sbj['puzzleID'] == pzi].reset_index()\n",
    "\n",
    "        firstUndo_idx = dat_sbj_pzi[dat_sbj_pzi[\"firstUndo\"]==1].index\n",
    "        path_bf_undo = dat_sbj_pzi[\"currMas\"][firstUndo_idx-1] # the mas of the state before undo\n",
    "\n",
    "        lastUndo_idx = dat_sbj_pzi[dat_sbj_pzi[\"lastUndo\"]==1].index\n",
    "        path_af_undo = dat_sbj_pzi[\"currMas\"][lastUndo_idx+1] # the mas of the state after undo\n",
    "\n",
    "        submit_idx =  pd.Int64Index([len(dat_sbj_pzi)-1])\n",
    "\n",
    "\n",
    "        if len(firstUndo_idx)>0:\n",
    "            if len(firstUndo_idx)==1: #\n",
    "                seq_bf = dat_sbj_pzi[\"path\"][firstUndo_idx-1]\n",
    "                seq_af = dat_sbj_pzi[\"path\"][submit_idx]\n",
    "                seq_im = dat_sbj_pzi[\"path\"][lastUndo_idx]\n",
    "                currmas_bf = dat_sbj_pzi[\"currMas\"][lastUndo_idx-1]\n",
    "                currmas_af = dat_sbj_pzi[\"currMas\"][lastUndo_idx+1]\n",
    "\n",
    "            else:\n",
    "                seq_bf = dat_sbj_pzi[\"path\"][firstUndo_idx-1]\n",
    "                t_idx = (firstUndo_idx[1:]-1).to_list()\n",
    "                t_idx.append(submit_idx.item())\n",
    "                seq_af = dat_sbj_pzi[\"path\"][t_idx]\n",
    "                seq_im = dat_sbj_pzi[\"path\"][lastUndo_idx]\n",
    "                currmas_bf = dat_sbj_pzi[\"currMas\"][lastUndo_idx-1]\n",
    "                currmas_af = dat_sbj_pzi[\"currMas\"][lastUndo_idx+1]\n",
    "\n",
    "            seq_im = seq_im.reset_index()\n",
    "            pathStr_im = [seq_im.loc[i].path.strip('[').strip(']') for i in range(len(seq_im))]\n",
    "            pathList_im = [[int(i) for i in pathStr_im[j].split(', ')]  for j in range(len(pathStr_im))]\n",
    "            pathStr_im = [\" \".join([str(a) for a in pathList_im[j]]) for j in range(len(seq_im))]\n",
    "\n",
    "            seq_bf = seq_bf.reset_index()\n",
    "            pathStr_bf = [seq_bf.loc[i].path.strip('[').strip(']') for i in range(len(seq_bf))]\n",
    "            pathList_bf = [[int(i) for i in pathStr_bf[j].split(', ')]  for j in range(len(pathStr_bf))]\n",
    "            pathStr_bf = [\" \".join([str(a) for a in pathList_bf[j]]) for j in range(len(seq_bf))]\n",
    "\n",
    "            seq_af = seq_af.reset_index()\n",
    "            pathStr_af = [seq_af.loc[i].path.strip('[').strip(']') for i in range(len(seq_af))]\n",
    "            pathList_af = [[int(i) for i in pathStr_af[j].split(', ')]  for j in range(len(pathStr_af))]\n",
    "            pathStr_af = [\" \".join([str(a) for a in pathList_af[j]]) for j in range(len(seq_af))]\n",
    "\n",
    "            strarray = [np.setdiff1d([str(i ) for i in pathList_bf[i]],[str(i) for i in pathList_im[i]]).tolist() for i in range(len(pathList_bf))]\n",
    "            pathList_bfim = [[int(a) for a in strarray[j]] for j in range(len(strarray))]\n",
    "            # pathList_bfim = [np.setdiff1d(np.array(pathList_bf[i]),np.array(pathList_im[i])).tolist() for i in range(len(pathList_bf))]\n",
    "            pathStr_bfim = [\" \".join([str(a) for a in pathList_bfim[j]]) for j in range(len(pathList_im))]\n",
    "\n",
    "            strarray = [np.setdiff1d([str(i ) for i in pathList_af[i]],[str(i) for i in pathList_im[i]]).tolist() for i in range(len(pathList_af))]\n",
    "            pathList_afim = [[int(a) for a in strarray[j]] for j in range(len(strarray))]\n",
    "            # pathList_afim = [np.setdiff1d(np.array(pathList_af[i]),np.array(pathList_im[i])).tolist() for i in range(len(pathList_af))]\n",
    "            pathStr_afim = [\" \".join([str(a) for a in pathList_afim[j]]) for j in range(len(pathList_im))]\n",
    "\n",
    "            currmas_dif = np.array(currmas_af) - np.array(currmas_bf)\n",
    "\n",
    "\n",
    "            overlap_seq_2 = []\n",
    "            seq_inorder_2 = []\n",
    "            currmas_dif_2 = []\n",
    "            overlap_num_city = []\n",
    "            overlap_seq_foreach = []\n",
    "            for i in range(len(seq_af)):\n",
    "                temp = []\n",
    "                for j in range(i+1):\n",
    "            #         temp.append(get_overlaplist(pathList_afim[i], pathList_bfim[j]))\n",
    "                    temptemp = get_overlaplist(pathList_afim[i], pathList_bfim[j])\n",
    "                    if not len(temptemp)==0:\n",
    "                        temp.extend(temptemp)\n",
    "\n",
    "                temp = trimmer(temp)\n",
    "                if len(temp)==0:\n",
    "                    temp.append([])\n",
    "\n",
    "                overlap_num_city_ = 0\n",
    "                for seq in temp:\n",
    "                    overlap_num_city_ += len(seq)\n",
    "                overlap_num_city.append(overlap_num_city_)\n",
    "                seq_inorder_2.append(temp)\n",
    "\n",
    "            #     len_seq_inorder_2 = [len(s) for s in temp if len(s)!=0]\n",
    "                len_seq_inorder_2 =[]\n",
    "                tempcurd = []\n",
    "                for s in temp:\n",
    "#                     print('*')\n",
    "                    if len(s)==0:\n",
    "                        len_seq_inorder_2.append(0)\n",
    "                    else:\n",
    "                        len_seq_inorder_2.append(len(s))\n",
    "                    tempcurd.append(currmas_dif[i])\n",
    "\n",
    "\n",
    "\n",
    "                overlap_seq_2.extend(len_seq_inorder_2)\n",
    "                currmas_dif_2.extend(tempcurd)\n",
    "                overlap_seq_foreach.append(len_seq_inorder_2)\n",
    "#                 print(overlap_seq_2)\n",
    "#                 print(currmas_dif_2)\n",
    "\n",
    "            # find the index pathList_afim's len is shorter than minlen_of_seq\n",
    "            idx = [i for i in range(len(pathList_afim)) if len(pathList_afim[i])>minlen_of_seq]\n",
    "\n",
    "            temp_inorder = np.array([max(seq) for seq in overlap_seq_foreach])/np.array([len(seq) for seq in pathList_afim]).tolist()\n",
    "\n",
    "            overlap_seq_inorder_norm_for_puzzle.extend(temp_inorder[idx])\n",
    "\n",
    "            temp_rglssorder = np.array(overlap_num_city)/np.array([len(seq) for seq in pathList_afim]).tolist()\n",
    "\n",
    "            # find the index pathList_afim's len is shorter than minlen_of_seq\n",
    "\n",
    "            overlap_seq_inorder_num_norm_for_puzzle.extend(temp_rglssorder[idx])\n",
    "\n",
    "            length_undone_norm_for_puzzle.extend(np.array([len(seq) for seq in pathList_afim])[idx].tolist())\n",
    "\n",
    "            # print(np.array(overlap_num_city)/np.array([len(seq) for seq in pathList_afim]))\n",
    "            # print(np.array([max(seq) for seq in overlap_seq_foreach])/np.array([len(seq) for seq in pathList_afim]))\n",
    "\n",
    "\n",
    "            overlap_seq_inorder_for_puzzle.append([np.sum(np.array(overlap_seq_2)==0), np.sum(np.array(overlap_seq_2)!=0)])\n",
    "            overlap_seq_inorder_inlen_for_puzzle.append([np.sum(np.array(overlap_seq_2)==0), np.sum(np.array(overlap_seq_2)==1),\n",
    "                                                         np.sum(np.array(overlap_seq_2)==2), np.sum(np.array(overlap_seq_2)==3),\n",
    "                                                         np.sum(np.array(overlap_seq_2)==4), np.sum(np.array(overlap_seq_2)==5), np.sum(np.array(overlap_seq_2)>5),])\n",
    "\n",
    "\n",
    "            currmas_for_puzzle.append([np.sum(np.array(currmas_dif_2)[np.array(overlap_seq_2)==0]) , np.sum(np.array(currmas_dif_2)[np.array(overlap_seq_2)!=0]) ] )\n",
    "            currmas_inlen_for_puzzle.append([np.sum(np.array(currmas_dif_2)[np.array(overlap_seq_2)==0]), np.sum(np.array(currmas_dif_2)[np.array(overlap_seq_2)==1]),\n",
    "                                                         np.sum(np.array(overlap_seq_2)==2), np.sum(np.array(overlap_seq_2)==3),\n",
    "                                                         np.sum(np.array(overlap_seq_2)==4), np.sum(np.array(overlap_seq_2)==5), np.sum(np.array(overlap_seq_2)>5),])\n",
    "\n",
    "\n",
    "            overlap_seq_inorder_num_for_puzzle.append([np.sum(np.array(overlap_num_city)==0), np.sum(np.array(overlap_num_city)!=0)])\n",
    "            overlap_seq_inorder_num_inlen_for_puzzle.append([np.sum(np.array(overlap_num_city)==0), np.sum(np.array(overlap_num_city)==1),\n",
    "                                                         np.sum(np.array(overlap_num_city)==2), np.sum(np.array(overlap_num_city)==3),\n",
    "                                                         np.sum(np.array(overlap_num_city)==4), np.sum(np.array(overlap_num_city)==5), np.sum(np.array(overlap_num_city)>5),])\n",
    "\n",
    "            currmas_num_for_puzzle.append([np.sum(np.array(currmas_dif)[np.array(overlap_num_city)==0]) , np.sum(np.array(currmas_dif)[np.array(overlap_num_city)!=0]) ] )\n",
    "            currmas_num_inlen_for_puzzle.append([np.sum(np.array(currmas_dif)[np.array(overlap_num_city)==0]), np.sum(np.array(currmas_dif)[np.array(overlap_num_city)==1]),\n",
    "                                                         np.sum(np.array(overlap_num_city)==2), np.sum(np.array(overlap_num_city)==3),\n",
    "                                                         np.sum(np.array(overlap_num_city)==4), np.sum(np.array(overlap_num_city)==5), np.sum(np.array(overlap_num_city)>5),])\n",
    "\n",
    "\n",
    "            length_seq.extend(overlap_seq_2)\n",
    "\n",
    "            length_seq_persub_for_puzzle.extend(overlap_seq_2)\n",
    "            length_num_persub_for_puzzle.extend(overlap_num_city)\n",
    "\n",
    "            length_undone_for_puzzle.extend([len(i) for i in pathList_afim])\n",
    "            mas_undone_for_puzzle.extend([dat_sbj_pzi[\"currMas\"][0]]*len(pathList_afim))\n",
    "\n",
    "\n",
    "        else:\n",
    "            overlap_seq_inorder_for_puzzle.append([np.nan,np.nan])\n",
    "            overlap_seq_inorder_inlen_for_puzzle.append([np.nan]*7)\n",
    "            overlap_seq_inorder_num_for_puzzle.append([np.nan,np.nan])\n",
    "            overlap_seq_inorder_num_inlen_for_puzzle.append([np.nan]*7)\n",
    "            currmas_for_puzzle.append([np.nan,np.nan])\n",
    "            currmas_inlen_for_puzzle.append([np.nan]*7)\n",
    "            currmas_num_for_puzzle.append([np.nan,np.nan])\n",
    "            currmas_num_inlen_for_puzzle.append([np.nan]*7)\n",
    "\n",
    "    overlap_seq_inorder_for_puzzle = np.array(overlap_seq_inorder_for_puzzle)\n",
    "    temp = overlap_seq_inorder_for_puzzle.copy()\n",
    "    overlap_seq_inorder.append(np.nansum(temp,axis=0))\n",
    "\n",
    "    overlap_seq_inorder_num_for_puzzle = np.array(overlap_seq_inorder_num_for_puzzle)\n",
    "    temp = overlap_seq_inorder_num_for_puzzle.copy()\n",
    "    overlap_seq_inorder_num.append(np.nansum(temp,axis=0))\n",
    "\n",
    "    overlap_seq_inorder_inlen_for_puzzle=np.array(overlap_seq_inorder_inlen_for_puzzle)\n",
    "    temp = overlap_seq_inorder_inlen_for_puzzle.copy()\n",
    "    overlap_seq_inorder_inlen.append(np.nansum(temp,axis=0))\n",
    "\n",
    "    overlap_seq_inorder_num_inlen_for_puzzle=np.array(overlap_seq_inorder_num_inlen_for_puzzle)\n",
    "    temp = overlap_seq_inorder_num_inlen_for_puzzle.copy()\n",
    "    overlap_seq_inorder_num_inlen.append(np.nansum(temp,axis=0))\n",
    "\n",
    "\n",
    "    currmas_for_puzzle = np.array(currmas_for_puzzle)\n",
    "    temp = currmas_for_puzzle.copy()\n",
    "    currmas.append(np.nansum(temp,axis=0))\n",
    "\n",
    "    currmas_inlen_for_puzzle=np.array(currmas_inlen_for_puzzle)\n",
    "    temp = currmas_inlen_for_puzzle.copy()\n",
    "    currmas_inlen.append(np.nansum(temp,axis=0))\n",
    "\n",
    "    currmas_num_for_puzzle = np.array(currmas_num_for_puzzle)\n",
    "    temp = currmas_num_for_puzzle.copy()\n",
    "    currmas_num.append(np.nansum(temp,axis=0))\n",
    "\n",
    "    currmas_num_inlen_for_puzzle=np.array(currmas_num_inlen_for_puzzle)\n",
    "    temp = currmas_num_inlen_for_puzzle.copy()\n",
    "    currmas_num_inlen.append(np.nansum(temp,axis=0))\n",
    "\n",
    "    # np.histogram bins from 1 to 8\n",
    "    hist, bin_edges = np.histogram(length_undone_for_puzzle, bins=[.5,1.5,2.5,3.5,4.5,5.5,6.5,7.5,8.5])\n",
    "    # hist, bin_edges = np.histogram(length_seq_persub_for_puzzle, bins=[-.5,.5,1.5,2.5,3.5,4.5,5.5,999])\n",
    "    length_undone.append(hist)\n",
    "    length_undone_p.append(hist/hist.sum())\n",
    "\n",
    "    # get histogram of overlap_seq_inorder_norm_for_puzzle with enough number of bins for the whole data set\n",
    "    hist, bin_edges = np.histogram(overlap_seq_inorder_norm_for_puzzle, bins=[-0.1,0.1,0.3,0.5,0.7,0.9,1.1])\n",
    "    overlap_seq_inorder_norm.append(hist)\n",
    "    overlap_seq_inorder_norm_p.append(hist/hist.sum())\n",
    "\n",
    "    hist, bin_edges = np.histogram(overlap_seq_inorder_num_norm_for_puzzle, bins=[-0.1,0.1,0.3,0.5,0.7,0.9,1.1])\n",
    "    overlap_seq_inorder_num_norm.append(hist)\n",
    "    overlap_seq_inorder_num_norm_p.append(hist/hist.sum())\n",
    "\n",
    "\n",
    "    mas_undone_tot.extend(mas_undone_for_puzzle)\n",
    "    length_undone_tot.extend(length_undone_for_puzzle)\n",
    "\n",
    "\n",
    "    overlap_seq_inorder_norm_tot.append(overlap_seq_inorder_norm_for_puzzle)\n",
    "    overlap_seq_inorder_num_norm_tot.append(overlap_seq_inorder_num_norm_for_puzzle)\n",
    "    length_undone_norm_tot.append(length_undone_norm_for_puzzle)\n",
    "\n",
    "\n",
    "\n",
    "overlap_seq_inorder = np.array(overlap_seq_inorder)\n",
    "overlap_seq_inorder_inlen = np.array(overlap_seq_inorder_inlen)\n",
    "overlap_seq_inorder_num = np.array(overlap_seq_inorder_num)\n",
    "overlap_seq_inorder_num_inlen = np.array(overlap_seq_inorder_num_inlen)\n",
    "\n",
    "overlap_seq_inorder_norm = np.array(overlap_seq_inorder_norm)\n",
    "overlap_seq_inorder_norm_p = np.array(overlap_seq_inorder_norm_p)\n",
    "overlap_seq_inorder_num_norm = np.array(overlap_seq_inorder_num_norm)\n",
    "overlap_seq_inorder_num_norm_p = np.array(overlap_seq_inorder_num_norm_p)\n",
    "\n",
    "currmas = np.array(currmas)\n",
    "currmas_inlen = np.array(currmas_inlen)\n",
    "currmas_num = np.array(currmas_num)\n",
    "currmas_num_inlen = np.array(currmas_num_inlen)\n",
    "\n",
    "length_undone = np.array(length_undone)\n",
    "length_undone_p = np.array(length_undone_p)\n",
    "\n",
    "\n"
   ],
   "metadata": {
    "collapsed": false,
    "ExecuteTime": {
     "start_time": "2023-07-24T16:00:25.271982Z",
     "end_time": "2023-07-24T16:00:35.642858Z"
    }
   }
  },
  {
   "cell_type": "code",
   "execution_count": 52,
   "outputs": [
    {
     "name": "stderr",
     "output_type": "stream",
     "text": [
      "/var/folders/8q/yjgzft41043gt_l8bqcfnzn40000gn/T/ipykernel_97199/1410838746.py:6: RuntimeWarning: invalid value encountered in true_divide\n",
      "  overlap_seq_inorder_p = overlap_seq_inorder/np.sum(overlap_seq_inorder,axis=1)[:,None]\n",
      "/var/folders/8q/yjgzft41043gt_l8bqcfnzn40000gn/T/ipykernel_97199/1410838746.py:7: RuntimeWarning: invalid value encountered in true_divide\n",
      "  overlap_seq_inorder_inlen_p = overlap_seq_inorder_inlen/np.sum(overlap_seq_inorder_inlen,axis=1)[:,None]\n",
      "/var/folders/8q/yjgzft41043gt_l8bqcfnzn40000gn/T/ipykernel_97199/1410838746.py:10: RuntimeWarning: invalid value encountered in true_divide\n",
      "  overlap_seq_inorder_minlen2_p = overlap_seq_inorder_minlen2/np.sum(overlap_seq_inorder_minlen2,axis=1)[:,None]\n",
      "/var/folders/8q/yjgzft41043gt_l8bqcfnzn40000gn/T/ipykernel_97199/1410838746.py:11: RuntimeWarning: invalid value encountered in true_divide\n",
      "  overlap_seq_inorder_inlen_minlen2_p = overlap_seq_inorder_inlen_minlen2/np.sum(overlap_seq_inorder_inlen_minlen2,axis=1)[:,None]\n"
     ]
    }
   ],
   "source": [
    "overlap_seq_inorder_inlen_minlen2 = overlap_seq_inorder_inlen.copy()\n",
    "overlap_seq_inorder_inlen_minlen2 = overlap_seq_inorder_inlen_minlen2[:,np.setdiff1d(range(overlap_seq_inorder_inlen_minlen2.shape[1]),1)]\n",
    "overlap_seq_inorder_minlen2 = overlap_seq_inorder_inlen_minlen2.copy()\n",
    "overlap_seq_inorder_minlen2 = np.array([overlap_seq_inorder_minlen2[:,0], np.sum(overlap_seq_inorder_minlen2[:,1:],axis=1) ]).transpose()\n",
    "\n",
    "overlap_seq_inorder_p = overlap_seq_inorder/np.sum(overlap_seq_inorder,axis=1)[:,None]\n",
    "overlap_seq_inorder_inlen_p = overlap_seq_inorder_inlen/np.sum(overlap_seq_inorder_inlen,axis=1)[:,None]\n",
    "\n",
    "\n",
    "overlap_seq_inorder_minlen2_p = overlap_seq_inorder_minlen2/np.sum(overlap_seq_inorder_minlen2,axis=1)[:,None]\n",
    "overlap_seq_inorder_inlen_minlen2_p = overlap_seq_inorder_inlen_minlen2/np.sum(overlap_seq_inorder_inlen_minlen2,axis=1)[:,None]"
   ],
   "metadata": {
    "collapsed": false,
    "ExecuteTime": {
     "start_time": "2023-07-24T16:00:35.644974Z",
     "end_time": "2023-07-24T16:00:35.647817Z"
    }
   }
  },
  {
   "cell_type": "code",
   "execution_count": 53,
   "outputs": [
    {
     "name": "stderr",
     "output_type": "stream",
     "text": [
      "/var/folders/8q/yjgzft41043gt_l8bqcfnzn40000gn/T/ipykernel_97199/3150375133.py:1: RuntimeWarning: invalid value encountered in true_divide\n",
      "  currmas_p = np.divide(currmas, np.sum(overlap_seq_inorder,axis=1).reshape(-1,1))\n",
      "/var/folders/8q/yjgzft41043gt_l8bqcfnzn40000gn/T/ipykernel_97199/3150375133.py:2: RuntimeWarning: invalid value encountered in true_divide\n",
      "  currmas_inlen_p = np.divide(currmas_inlen, np.sum(overlap_seq_inorder_inlen,axis=1).reshape(-1,1))\n",
      "/var/folders/8q/yjgzft41043gt_l8bqcfnzn40000gn/T/ipykernel_97199/3150375133.py:3: RuntimeWarning: invalid value encountered in true_divide\n",
      "  currmas_num_p = np.divide(currmas_num, np.sum(overlap_seq_inorder_num,axis=1).reshape(-1,1))\n",
      "/var/folders/8q/yjgzft41043gt_l8bqcfnzn40000gn/T/ipykernel_97199/3150375133.py:4: RuntimeWarning: invalid value encountered in true_divide\n",
      "  currmas_num_inlen_p = np.divide(currmas_num_inlen, np.sum(overlap_seq_inorder_num_inlen,axis=1).reshape(-1,1))\n"
     ]
    }
   ],
   "source": [
    "currmas_p = np.divide(currmas, np.sum(overlap_seq_inorder,axis=1).reshape(-1,1))\n",
    "currmas_inlen_p = np.divide(currmas_inlen, np.sum(overlap_seq_inorder_inlen,axis=1).reshape(-1,1))\n",
    "currmas_num_p = np.divide(currmas_num, np.sum(overlap_seq_inorder_num,axis=1).reshape(-1,1))\n",
    "currmas_num_inlen_p = np.divide(currmas_num_inlen, np.sum(overlap_seq_inorder_num_inlen,axis=1).reshape(-1,1))"
   ],
   "metadata": {
    "collapsed": false,
    "ExecuteTime": {
     "start_time": "2023-07-24T16:00:35.650360Z",
     "end_time": "2023-07-24T16:00:35.652611Z"
    }
   }
  },
  {
   "cell_type": "markdown",
   "source": [
    "### Histogram - normalized length of undone sequence"
   ],
   "metadata": {
    "collapsed": false,
    "ExecuteTime": {
     "start_time": "2023-07-14T21:47:08.829548Z",
     "end_time": "2023-07-14T21:47:09.979634Z"
    }
   },
   "outputs": [
    {
     "data": {
      "text/plain": "<Figure size 1200x800 with 6 Axes>",
      "image/png": "[encoded data removed]"
     },
     "metadata": {},
     "output_type": "display_data"
    }
   ],
   "execution_count": 359
  },
  {
   "cell_type": "code",
   "execution_count": 54,
   "outputs": [
    {
     "data": {
      "text/plain": "array([0.5, 1.5, 2.5, 3.5, 4.5])"
     },
     "execution_count": 54,
     "metadata": {},
     "output_type": "execute_result"
    }
   ],
   "source": [
    "np.arange(0,5)+0.5"
   ],
   "metadata": {
    "collapsed": false,
    "ExecuteTime": {
     "start_time": "2023-07-24T16:00:35.654237Z",
     "end_time": "2023-07-24T16:00:35.656199Z"
    }
   }
  },
  {
   "cell_type": "markdown",
   "source": [
    "### Histogram - length of undone sequence"
   ],
   "metadata": {
    "collapsed": false,
    "ExecuteTime": {
     "start_time": "2023-07-14T21:47:09.983336Z",
     "end_time": "2023-07-14T21:47:09.985755Z"
    }
   },
   "outputs": [],
   "execution_count": 360
  },
  {
   "cell_type": "code",
   "execution_count": 55,
   "outputs": [
    {
     "data": {
      "text/plain": "<Figure size 400x200 with 1 Axes>",
      "image/png": "[encoded data removed]"
     },
     "metadata": {},
     "output_type": "display_data"
    }
   ],
   "source": [
    "%matplotlib inline\n",
    "mpl.rcParams['font.family'] = 'Arial'\n",
    "mpl.rcParams['font.size'] = 11\n",
    "fig, ax=plt.subplots(1,1,figsize=(4,2))\n",
    "\n",
    "# count number of not nan arrays from np.mean(length_seq_persub,axis=1)\n",
    "valid_subnum = np.sum(~np.isnan(np.mean(length_undone_p,axis=1)))\n",
    "\n",
    "\n",
    "ax.bar(np.arange(0,8),np.nanmean(length_undone_p,axis=0), color=[.7,.7,.7], edgecolor = 'k',\n",
    "        yerr=np.nanstd(length_undone_p,axis = 0)/np.sqrt(valid_subnum))\n",
    "ax.set_xticks(np.arange(0,8))\n",
    "ax.set_xticklabels(['1','2','3','4','5','6','7','8'])\n",
    "\n",
    "# set yticks\n",
    "ax.set_yticks(np.arange(0,.3,.05))\n",
    "\n",
    "# set ylim\n",
    "ax.set_ylim([0,.2])\n",
    "\n",
    "# remove top and right borders\n",
    "sns.despine()\n",
    "\n",
    "# set y label\n",
    "ax.set_ylabel('Proportion')\n",
    "# set x label\n",
    "ax.set_xlabel('Length of an undone sequence')\n",
    "\n",
    "# save figure\n",
    "fig.savefig(out_dir+'length_undone.png', dpi=300, bbox_inches='tight')\n"
   ],
   "metadata": {
    "collapsed": false,
    "ExecuteTime": {
     "start_time": "2023-07-24T16:00:35.664469Z",
     "end_time": "2023-07-24T16:00:35.811794Z"
    }
   }
  },
  {
   "cell_type": "code",
   "execution_count": 56,
   "outputs": [
    {
     "data": {
      "text/plain": "<Figure size 800x800 with 6 Axes>",
      "image/png": "[encoded data removed]"
     },
     "metadata": {},
     "output_type": "display_data"
    }
   ],
   "source": [
    "length_undone_p\n",
    "%matplotlib inline\n",
    "mpl.rcParams['font.family'] = 'Arial'\n",
    "mpl.rcParams['font.size'] = 11\n",
    "fig, ax = plt.subplots(2, 3, figsize=(8, 8))\n",
    "fig.subplots_adjust(hspace=0.4, wspace=0.3)\n",
    "\n",
    "# mas_undone_tot\n",
    "# length_undone_tot\n",
    "# for every unique mas_undone_tot, get histogram of length_undone_tot\n",
    "for mas in np.arange(7,13):\n",
    "    # print(mas)\n",
    "    hist, bin_ = np.histogram(np.array(length_undone_tot)[np.array(mas_undone_tot)==mas], bins=np.arange(0,12)+0.5)\n",
    "    # print(hist)\n",
    "\n",
    "    # plot hist as bar plot\n",
    "    ax[np.unravel_index(mas-7,(2,3))].bar(np.arange(0,11), hist/hist.sum(), color=[.7,.7,.7], edgecolor = 'k')\n",
    "    # title for each subplot\n",
    "    ax[np.unravel_index(mas-7,(2,3))].set_title('Puzzle MAS = '+str(mas-1))\n",
    "    # set ylim and yticks\n",
    "    ax[np.unravel_index(mas-7,(2,3))].set_ylim([0,.4])\n",
    "    ax[np.unravel_index(mas-7,(2,3))].set_yticks(np.arange(0,.5,.1))\n",
    "\n",
    "\n",
    "    # xtickslabel\n",
    "    ax[np.unravel_index(mas-7,(2,3))].set_xticks(np.arange(0,mas-1))\n",
    "    ax[np.unravel_index(mas-7,(2,3))].set_xticklabels(np.arange(1,mas))\n",
    "\n",
    "    # remove boxes\n",
    "    sns.despine(ax=ax[np.unravel_index(mas-7,(2,3))])\n",
    "\n",
    "    # ytitle\n",
    "    ax[np.unravel_index(mas-7,(2,3))].set_ylabel('Proportion')\n",
    "\n",
    "\n",
    "# save figure\n",
    "fig.savefig(out_dir+'length_undone_by_puzzle_MAS.png', dpi=300, bbox_inches='tight')"
   ],
   "metadata": {
    "collapsed": false,
    "ExecuteTime": {
     "start_time": "2023-07-24T16:00:35.827431Z",
     "end_time": "2023-07-24T16:00:36.562967Z"
    }
   }
  },
  {
   "cell_type": "markdown",
   "source": [
    "### How often overlaps with previous paths"
   ],
   "metadata": {
    "collapsed": false,
    "ExecuteTime": {
     "start_time": "2023-07-14T21:52:40.875307Z",
     "end_time": "2023-07-14T21:52:41.014444Z"
    }
   },
   "outputs": [
    {
     "data": {
      "text/plain": "<Figure size 500x500 with 1 Axes>",
      "image/png": "[encoded data removed]"
     },
     "metadata": {},
     "output_type": "display_data"
    }
   ],
   "execution_count": 366
  },
  {
   "cell_type": "markdown",
   "source": [
    "####  (including length = 1; which means only a city overlapped)"
   ],
   "metadata": {
    "collapsed": false,
    "ExecuteTime": {
     "start_time": "2023-07-10T21:33:22.905000Z",
     "end_time": "2023-07-10T21:33:22.914393Z"
    }
   },
   "outputs": [
    {
     "data": {
      "text/plain": "array([81, 67, 62, 63, 61, 65, 58,  1])"
     },
     "execution_count": 122,
     "metadata": {},
     "output_type": "execute_result"
    }
   ],
   "execution_count": 122
  },
  {
   "cell_type": "code",
   "execution_count": 57,
   "outputs": [
    {
     "name": "stdout",
     "output_type": "stream",
     "text": [
      "nan\n",
      "nan\n"
     ]
    }
   ],
   "source": [
    "stat12, p12 = wilcoxon(overlap_seq_inorder_p[:,0],overlap_seq_inorder_p[:,1])\n",
    "print(stat12)\n",
    "print(p12)"
   ],
   "metadata": {
    "collapsed": false,
    "ExecuteTime": {
     "start_time": "2023-07-24T16:00:36.564781Z",
     "end_time": "2023-07-24T16:00:36.566872Z"
    }
   }
  },
  {
   "cell_type": "code",
   "execution_count": 58,
   "outputs": [
    {
     "name": "stdout",
     "output_type": "stream",
     "text": [
      "nan\n",
      "nan\n"
     ]
    }
   ],
   "source": [
    "stat34, p34 = wilcoxon(overlap_seq_inorder_inlen_p[:,2],overlap_seq_inorder_inlen_p[:,3])\n",
    "print(stat34)\n",
    "print(p34)"
   ],
   "metadata": {
    "collapsed": false,
    "ExecuteTime": {
     "start_time": "2023-07-24T16:00:36.567825Z",
     "end_time": "2023-07-24T16:00:36.573019Z"
    }
   }
  },
  {
   "cell_type": "code",
   "execution_count": 59,
   "outputs": [
    {
     "data": {
      "text/plain": "array([0.22203438, 0.44519809, 0.15847599, 0.07370274, 0.04334751,\n       0.01729776, 0.03994354])"
     },
     "execution_count": 59,
     "metadata": {},
     "output_type": "execute_result"
    }
   ],
   "source": [
    "np.nanmean(overlap_seq_inorder_inlen_p,axis=0)"
   ],
   "metadata": {
    "collapsed": false,
    "ExecuteTime": {
     "start_time": "2023-07-24T16:00:36.573368Z",
     "end_time": "2023-07-24T16:00:36.577098Z"
    }
   }
  },
  {
   "cell_type": "markdown",
   "source": [
    "# redoing after undoing\n",
    "\n",
    "some of the plots with fixed length of undone path"
   ],
   "metadata": {
    "collapsed": false,
    "ExecuteTime": {
     "start_time": "2023-07-14T21:52:49.369927Z",
     "end_time": "2023-07-14T21:52:49.592009Z"
    }
   },
   "outputs": [
    {
     "name": "stdout",
     "output_type": "stream",
     "text": [
      "stat=-0.196, p=0.845\n"
     ]
    },
    {
     "data": {
      "text/plain": "<Figure size 600x300 with 1 Axes>",
      "image/png": "[encoded data removed]"
     },
     "metadata": {},
     "output_type": "display_data"
    }
   ],
   "execution_count": 372
  },
  {
   "cell_type": "code",
   "execution_count": 60,
   "outputs": [],
   "source": [
    "import copy\n",
    "def get_tortuosity(pathList, pzi = 15):\n",
    "    def cal_dist(xy1, xy2):\n",
    "        return np.sqrt(np.sum((np.array(xy1)-np.array(xy2))**2))\n",
    "\n",
    "    pathList_ = copy.deepcopy(pathList)\n",
    "\n",
    "    ### for the def\n",
    "    import json\n",
    "    with open('./util/basicMap.json','rb') as f:\n",
    "        basic_map = json.load(f)\n",
    "    tortuosity = []\n",
    "    ###\n",
    "\n",
    "    map_pz = basic_map[pzi]\n",
    "\n",
    "    import numpy as np\n",
    "    for _ in range(len(pathList_)):\n",
    "        path = pathList_.pop(0)\n",
    "        if len(path)>1:\n",
    "            ct_init = path.pop(0)\n",
    "#             print(path)\n",
    "#             print('init{}_tgt{}'.format(ct_init, path[-1]))\n",
    "#             print('map_init{}_map_tgt{}'.format(map_pz['xy'][ct_init], map_pz['xy'][path[-1]]))\n",
    "            d_straight = cal_dist(map_pz['xy'][ct_init], map_pz['xy'][path[-1]])\n",
    "            d_zigzag = 0\n",
    "            for _ in range(len(path)):\n",
    "                ct_tgt = path.pop(0)\n",
    "                d_zigzag += cal_dist(map_pz['xy'][ct_init], map_pz['xy'][ct_tgt])\n",
    "                ct_init = ct_tgt\n",
    "            tortuosity.append([d_zigzag, d_straight])\n",
    "        else:\n",
    "            tortuosity.append([np.nan, np.nan])\n",
    "    return np.array(tortuosity)\n"
   ],
   "metadata": {
    "collapsed": false,
    "ExecuteTime": {
     "start_time": "2023-07-24T16:00:36.580909Z",
     "end_time": "2023-07-24T16:00:36.625412Z"
    }
   }
  },
  {
   "cell_type": "code",
   "execution_count": 61,
   "outputs": [
    {
     "name": "stdout",
     "output_type": "stream",
     "text": [
      "0\n",
      "1\n",
      "2\n",
      "3\n",
      "4\n",
      "5\n",
      "6\n",
      "7\n",
      "8\n",
      "9\n",
      "10\n",
      "11\n",
      "12\n",
      "13\n",
      "14\n",
      "15\n",
      "16\n",
      "17\n",
      "18\n",
      "19\n",
      "20\n",
      "21\n",
      "22\n",
      "23\n",
      "24\n",
      "25\n",
      "26\n",
      "27\n",
      "28\n",
      "29\n",
      "30\n",
      "31\n",
      "32\n",
      "33\n",
      "34\n",
      "35\n",
      "36\n",
      "37\n",
      "38\n",
      "39\n",
      "40\n",
      "41\n",
      "42\n",
      "43\n",
      "44\n",
      "45\n",
      "46\n",
      "47\n",
      "48\n",
      "49\n",
      "50\n",
      "51\n",
      "52\n",
      "53\n",
      "54\n",
      "55\n",
      "56\n",
      "57\n",
      "58\n",
      "59\n",
      "60\n",
      "61\n",
      "62\n",
      "63\n",
      "64\n",
      "65\n",
      "66\n",
      "67\n",
      "68\n",
      "69\n",
      "70\n",
      "71\n",
      "72\n",
      "73\n",
      "74\n",
      "75\n",
      "76\n",
      "77\n",
      "78\n",
      "79\n",
      "80\n",
      "81\n",
      "82\n",
      "83\n",
      "84\n",
      "85\n",
      "86\n",
      "87\n",
      "88\n",
      "89\n",
      "90\n",
      "91\n",
      "92\n",
      "93\n",
      "94\n",
      "95\n",
      "96\n",
      "97\n",
      "98\n",
      "99\n"
     ]
    }
   ],
   "source": [
    "data_ = []\n",
    "data_firstundo_ = []\n",
    "data_overlap_inorder = []\n",
    "data_overlap_inorder_p = []\n",
    "data_overlap_rglssorder = []\n",
    "data_overlap_rglssorder_p = []\n",
    "data_mas_123 = []\n",
    "\n",
    "for sub in range(100):\n",
    "    dat_sbj = sc_data_choice_level[sc_data_choice_level['subjects'] == sub].sort_values([\"puzzleID\", \"index\"])\n",
    "    data_puzzle = []\n",
    "    data_puzzle_firstundo = []\n",
    "    data_overlap_inorder_puzzle = []\n",
    "    data_overlap_inorder_p_puzzle = []\n",
    "    data_overlap_rglssorder_puzzle = []\n",
    "    data_overlap_rglssorder_p_puzzle = []\n",
    "    data_mas_123_puzzle = []\n",
    "\n",
    "    print(sub)\n",
    "\n",
    "    for pzi in np.unique(sc_data_choice_level['puzzleID']):\n",
    "        dat_sbj_pzi = dat_sbj[dat_sbj['puzzleID'] == pzi].reset_index()\n",
    "\n",
    "        firstUndo_idx = dat_sbj_pzi[dat_sbj_pzi[\"firstUndo\"] == 1].index\n",
    "        path_bf_undo = dat_sbj_pzi[\"currMas\"][firstUndo_idx - 1]  # the mas of the state before undo\n",
    "\n",
    "        lastUndo_idx = dat_sbj_pzi[dat_sbj_pzi[\"lastUndo\"] == 1].index\n",
    "        path_af_undo = dat_sbj_pzi[\"currMas\"][lastUndo_idx + 1]  # the mas of the state after undo\n",
    "\n",
    "        submit_idx = pd.Int64Index([len(dat_sbj_pzi) - 1])\n",
    "\n",
    "        if len(firstUndo_idx) > 0:\n",
    "            if len(firstUndo_idx) == 1:  #\n",
    "                t_idx = (firstUndo_idx[1:] - 1).to_list()\n",
    "                t_idx.append(submit_idx.item())\n",
    "                seq_bf = dat_sbj_pzi[\"path\"][firstUndo_idx - 1]\n",
    "                seq_af = dat_sbj_pzi[\"path\"][t_idx]\n",
    "                seq_im = dat_sbj_pzi[\"path\"][lastUndo_idx]\n",
    "                currmas_bf = dat_sbj_pzi[\"currMas\"][lastUndo_idx - 1]\n",
    "                currmas_af = dat_sbj_pzi[\"currMas\"][lastUndo_idx + 1]\n",
    "\n",
    "\n",
    "            else:\n",
    "                seq_bf = dat_sbj_pzi[\"path\"][firstUndo_idx - 1]\n",
    "                t_idx = (firstUndo_idx[1:] - 1).to_list()\n",
    "                t_idx.append(submit_idx.item())\n",
    "                seq_af = dat_sbj_pzi[\"path\"][t_idx]\n",
    "                seq_im = dat_sbj_pzi[\"path\"][lastUndo_idx]\n",
    "                currmas_bf = dat_sbj_pzi[\"currMas\"][lastUndo_idx - 1]\n",
    "                currmas_af = dat_sbj_pzi[\"currMas\"][lastUndo_idx + 1]\n",
    "\n",
    "            firstundoidx = firstUndo_idx.to_numpy()-1\n",
    "            lastundoidx = lastUndo_idx.to_numpy()\n",
    "            tidx = np.array(t_idx) + 1\n",
    "            tidx[-1] -= 1\n",
    "\n",
    "            length_firstundo_mas_tortuosity = []\n",
    "            length_mas_123 = []\n",
    "            length_mas_tortuosity = []\n",
    "            length_inorder_p = []\n",
    "            length_inorder = []\n",
    "            length_rglssorder_p = []\n",
    "            length_rglssorder = []\n",
    "            for i in range(len(firstundoidx)):\n",
    "                currnct = dat_sbj_pzi[\"currNumCities\"][firstundoidx[i]:tidx[i]].to_numpy()\n",
    "                currmas = dat_sbj_pzi[\"currMas\"][firstundoidx[i]:tidx[i]].to_numpy()\n",
    "                currnct = currnct - min(currnct)\n",
    "                currpath = dat_sbj_pzi[\"path\"][firstundoidx[i]:tidx[i]].to_list()\n",
    "                currpath = [currpath[i].strip('[').strip(']') for i in range(len(currpath))]\n",
    "                currpath = [[int(i) for i in currpath[j].split(', ')] for j in range(len(currpath))]\n",
    "\n",
    "\n",
    "                seq_im = dat_sbj_pzi[\"path\"][lastundoidx[i]]\n",
    "                pathStr_im = seq_im.strip('[').strip(']')\n",
    "                pathList_im = [int(i) for i in pathStr_im.split(', ')]\n",
    "\n",
    "                currpath = [np.setdiff1d(currpath[i], pathList_im).tolist() for i in range(len(currpath))]\n",
    "                pathafter = [np.setdiff1d(pathList_af[i], pathList_im).tolist() for i in range(len(pathList_af))]\n",
    "\n",
    "                # return nan if length of list is smaller than 1 or eqaul to 1, otherwise return get_tortuosity\n",
    "                tortuosity = [np.nan if len(currpath[i])<2 else get_tortuosity([currpath[i]], pzi) for i in range(len(currpath))]\n",
    "                # update tortuosity if the element is not nan, devide first number with the second number\n",
    "                tortuosity = [tortuosity[i][0][0]/tortuosity[i][0][1] if np.all(np.isnan(tortuosity[i]))==False else np.nan for i in range(len(tortuosity))]\n",
    "\n",
    "                for j in range(1,9):\n",
    "                    # return index of currnct is equal to i\n",
    "                    idx = np.where(currnct==j)[0]\n",
    "\n",
    "                    if len(idx)<2:\n",
    "                        length_mas_tortuosity.append([j, np.nan, np.nan])\n",
    "                        length_mas_123.append([j, np.nan, np.nan, np.nan])\n",
    "                        length_firstundo_mas_tortuosity.append([j,dat_sbj_pzi[\"currMas\"][0], np.nan, np.nan])\n",
    "                        length_rglssorder.append([j, np.nan])\n",
    "                        length_rglssorder_p.append([j, np.nan])\n",
    "                        length_inorder.append([j, np.nan])\n",
    "                        length_inorder_p.append([j, np.nan])\n",
    "                    else:\n",
    "                        length_mas_tortuosity.append([j, currmas[idx[1]]-currmas[idx[0]], tortuosity[idx[1]]-tortuosity[idx[0]]])\n",
    "                        length_firstundo_mas_tortuosity.append([j,dat_sbj_pzi[\"currMas\"][0], currmas[idx[1]]-currmas[idx[0]], tortuosity[idx[1]]-tortuosity[idx[0]]])\n",
    "                        idx_2 = np.where(currnct==0)[0]\n",
    "                        # if len(idx_2)==2 then select the first one\n",
    "                        if len(idx_2)==2:\n",
    "                            idx_2 = idx_2[0]\n",
    "                        else:\n",
    "                            idx_2 = idx_2.item()\n",
    "                        currmas2 = currmas[idx_2].item()\n",
    "\n",
    "                        length_mas_123.append([j,currmas2 - currmas[idx[0]], currmas[idx[1]]-currmas2, currmas[idx[1]]-currmas[idx[0]]]) # 2-1 3-2 3-1\n",
    "\n",
    "                        temp = get_overlaplist(currpath[idx[0]],currpath[idx[1]])\n",
    "                        temp = trimmer(temp)\n",
    "                        if len(temp)==0:\n",
    "                            temp.append([])\n",
    "                        overlap_num_city_ = 0\n",
    "                        for seq in temp:\n",
    "                            overlap_num_city_ += len(seq)\n",
    "                        len_seq_inorder_2 =[]\n",
    "                        tempcurd = []\n",
    "                        for s in temp:\n",
    "                            if len(s)==0:\n",
    "                                len_seq_inorder_2.append(0)\n",
    "                            else:\n",
    "                                len_seq_inorder_2.append(len(s))\n",
    "                        for element in len_seq_inorder_2:\n",
    "                            length_inorder_p.append([j,element/len(currpath[idx[1]])])\n",
    "                            length_inorder.append([j,element])\n",
    "                        length_rglssorder_p.append([j,overlap_num_city_/len(currpath[idx[1]])])\n",
    "                        length_rglssorder.append([j,overlap_num_city_])\n",
    "            data_puzzle.append(length_mas_tortuosity)\n",
    "            data_puzzle_firstundo.append(length_firstundo_mas_tortuosity)\n",
    "            data_overlap_inorder_p_puzzle.append(length_inorder_p)\n",
    "            data_overlap_inorder_puzzle.append(length_inorder)\n",
    "            data_overlap_rglssorder_p_puzzle.append(length_rglssorder_p)\n",
    "            data_overlap_rglssorder_puzzle.append(length_rglssorder)\n",
    "            data_mas_123_puzzle.append(length_mas_123)\n",
    "\n",
    "    data_.append(data_puzzle)\n",
    "    data_firstundo_.append(data_puzzle_firstundo)\n",
    "    data_overlap_inorder_p.append(data_overlap_inorder_p_puzzle)\n",
    "    data_overlap_inorder.append(data_overlap_inorder_puzzle)\n",
    "    data_overlap_rglssorder_p.append(data_overlap_rglssorder_p_puzzle)\n",
    "    data_overlap_rglssorder.append(data_overlap_rglssorder_puzzle)\n",
    "    data_mas_123.append(data_mas_123_puzzle)\n"
   ],
   "metadata": {
    "collapsed": false,
    "ExecuteTime": {
     "start_time": "2023-07-24T16:00:36.583256Z",
     "end_time": "2023-07-24T16:05:48.903070Z"
    }
   }
  },
  {
   "cell_type": "code",
   "execution_count": 62,
   "outputs": [
    {
     "name": "stderr",
     "output_type": "stream",
     "text": [
      "/var/folders/8q/yjgzft41043gt_l8bqcfnzn40000gn/T/ipykernel_97199/3535788570.py:122: RuntimeWarning: Mean of empty slice\n",
      "  mas_length_atend_puzzle.append(np.nanmean(mas_length_atend_minlen))\n",
      "/var/folders/8q/yjgzft41043gt_l8bqcfnzn40000gn/T/ipykernel_97199/3535788570.py:124: RuntimeWarning: Mean of empty slice\n",
      "  tortuosity_atend_puzzle.append(np.nanmean(tortuosity_atend_minlen))\n",
      "/var/folders/8q/yjgzft41043gt_l8bqcfnzn40000gn/T/ipykernel_97199/3535788570.py:98: RuntimeWarning: Mean of empty slice\n",
      "  overlap_inorder_puzzle.append(np.nanmean(overlap_inorder_minlen,axis=0))\n",
      "/var/folders/8q/yjgzft41043gt_l8bqcfnzn40000gn/T/ipykernel_97199/3535788570.py:103: RuntimeWarning: Mean of empty slice\n",
      "  overlap_rglssorder_puzzle.append(np.nanmean(overlap_rglssorder_minlen,axis=0))\n",
      "/var/folders/8q/yjgzft41043gt_l8bqcfnzn40000gn/T/ipykernel_97199/3535788570.py:108: RuntimeWarning: Mean of empty slice\n",
      "  overlap_inorder_p_puzzle.append(np.nanmean(overlap_inorder_p_minlen,axis=0))\n",
      "/var/folders/8q/yjgzft41043gt_l8bqcfnzn40000gn/T/ipykernel_97199/3535788570.py:113: RuntimeWarning: Mean of empty slice\n",
      "  overlap_rglssorder_p_puzzle.append(np.nanmean(overlap_rglssorder_p_minlen,axis=0))\n",
      "/var/folders/8q/yjgzft41043gt_l8bqcfnzn40000gn/T/ipykernel_97199/3535788570.py:116: RuntimeWarning: Mean of empty slice\n",
      "  mas_length_puzzle.append(np.nanmean(mas_length_minlen))\n",
      "/var/folders/8q/yjgzft41043gt_l8bqcfnzn40000gn/T/ipykernel_97199/3535788570.py:118: RuntimeWarning: Mean of empty slice\n",
      "  tortuosity_puzzle.append(np.nanmean(tortuosity_minlen))\n"
     ]
    }
   ],
   "source": [
    "mas = []\n",
    "tortuosity = []\n",
    "\n",
    "mas_atend = []\n",
    "tortuosity_atend = []\n",
    "\n",
    "overlap_inlen_p = []\n",
    "overlap_rglss_p = []\n",
    "\n",
    "overlap_inlen = []\n",
    "overlap_rglss = []\n",
    "for sub in range(100):\n",
    "    mas_length_puzzle = []\n",
    "    tortuosity_puzzle = []\n",
    "\n",
    "    mas_length_atend_puzzle = []\n",
    "    tortuosity_atend_puzzle = []\n",
    "\n",
    "\n",
    "    overlap_inorder_p_puzzle = []\n",
    "    overlap_inorder_puzzle = []\n",
    "    overlap_rglssorder_p_puzzle = []\n",
    "    overlap_rglssorder_puzzle = []\n",
    "    for minlen in range(1,9):\n",
    "        mas_length_atend_minlen = []\n",
    "        tortuosity_atend_minlen = []\n",
    "\n",
    "        mas_length_minlen = []\n",
    "        tortuosity_minlen = []\n",
    "\n",
    "        overlap_inorder_p_minlen  = []\n",
    "        overlap_inorder_minlen    = []\n",
    "        overlap_rglssorder_p_minlen  = []\n",
    "        overlap_rglssorder_minlen    = []\n",
    "\n",
    "\n",
    "\n",
    "        for pzi in range(len(data_[sub])):\n",
    "            data_puzzle = np.array(data_[sub][pzi]).copy()\n",
    "\n",
    "            # find data_puzzle with column[0] is equal to minlen\n",
    "            idx_ = np.where(data_puzzle[:,0]==minlen)[0]\n",
    "\n",
    "            mas_length_minlen.extend(data_puzzle[idx_,1])\n",
    "            tortuosity_minlen.extend(data_puzzle[idx_,2])\n",
    "\n",
    "\n",
    "            data_overlap_inorder_puzzle = np.array(data_overlap_inorder[sub][pzi]).copy()\n",
    "\n",
    "            # find data_puzzle with column[0] is equal to 5, 6 ,7\n",
    "            idx_ = np.where(data_overlap_inorder_puzzle[:,0]==minlen)[0]\n",
    "            overlap_inorder_minlen.extend(np.array(data_overlap_inorder_puzzle[idx_,1:]))\n",
    "\n",
    "            data_overlap_rglssorder_puzzle = np.array(data_overlap_rglssorder[sub][pzi]).copy()\n",
    "\n",
    "            # find data_puzzle with column[0] is equal to 5, 6 ,7\n",
    "            idx_ = np.where(data_overlap_rglssorder_puzzle[:,0]==minlen)[0]\n",
    "            overlap_rglssorder_minlen.extend(np.array(data_overlap_rglssorder_puzzle[idx_,1:]))\n",
    "\n",
    "            data_overlap_inorder_p_puzzle = np.array(data_overlap_inorder_p[sub][pzi]).copy()\n",
    "\n",
    "            # find data_puzzle with column[0] is equal to 5, 6 ,7\n",
    "            idx_ = np.where(data_overlap_inorder_p_puzzle[:,0]==minlen)[0]\n",
    "            overlap_inorder_p_minlen.extend(np.array(data_overlap_inorder_p_puzzle[idx_,1:]))\n",
    "\n",
    "            data_overlap_rglssorder_p_puzzle = np.array(data_overlap_rglssorder_p[sub][pzi]).copy()\n",
    "\n",
    "            # find data_puzzle with column[0] is equal to 5, 6 ,7\n",
    "            idx_ = np.where(data_overlap_rglssorder_p_puzzle[:,0]==minlen)[0]\n",
    "            overlap_rglssorder_p_minlen.extend(np.array(data_overlap_rglssorder_p_puzzle[idx_,1:]))\n",
    "\n",
    "            data_puzzle = np.array(data_[sub][pzi]).copy()\n",
    "            # data puzzle that has no nan\n",
    "            data_puzzle = data_puzzle[~np.isnan(data_puzzle[:,1]),:]\n",
    "\n",
    "            idxes = np.where(data_puzzle[np.arange(1,data_puzzle.shape[0]),0] < data_puzzle[np.arange(0,data_puzzle.shape[0]-1),0])[0]\n",
    "            #concatenate idxes with the last index of data_puzzle\n",
    "            idxes = np.concatenate((idxes,np.array([data_puzzle.shape[0]-1])))\n",
    "\n",
    "            # print(idxes)\n",
    "            # print(data_puzzle)\n",
    "            # print('*'*10)\n",
    "            #idxes that is not nan in data_puzzle\n",
    "            # idxes = np.where(~np.isnan(data_puzzle[:,1]))[0]\n",
    "\n",
    "            # print(idxes)\n",
    "\n",
    "            idx_ = np.where(data_puzzle[:,0]==minlen)[0]\n",
    "            # intersect idxes and idx_\n",
    "            idxes = np.intersect1d(idxes,idx_)\n",
    "\n",
    "            mas_length_atend_minlen.extend(data_puzzle[idxes,1])\n",
    "            tortuosity_atend_minlen.extend(data_puzzle[idxes,2])\n",
    "\n",
    "        if len(overlap_inorder_minlen)==0:\n",
    "            overlap_inorder_puzzle.append([np.nan])\n",
    "        else:\n",
    "            overlap_inorder_puzzle.append(np.nanmean(overlap_inorder_minlen,axis=0))\n",
    "\n",
    "        if len(overlap_rglssorder_minlen)==0:\n",
    "            overlap_rglssorder_puzzle.append([np.nan])\n",
    "        else:\n",
    "            overlap_rglssorder_puzzle.append(np.nanmean(overlap_rglssorder_minlen,axis=0))\n",
    "\n",
    "        if len(overlap_inorder_p_minlen)==0:\n",
    "            overlap_inorder_p_puzzle.append([np.nan])\n",
    "        else:\n",
    "            overlap_inorder_p_puzzle.append(np.nanmean(overlap_inorder_p_minlen,axis=0))\n",
    "\n",
    "        if len(overlap_rglssorder_p_minlen)==0:\n",
    "            overlap_rglssorder_p_puzzle.append([np.nan])\n",
    "        else:\n",
    "            overlap_rglssorder_p_puzzle.append(np.nanmean(overlap_rglssorder_p_minlen,axis=0))\n",
    "\n",
    "\n",
    "        mas_length_puzzle.append(np.nanmean(mas_length_minlen))\n",
    "        if minlen>2:\n",
    "            tortuosity_puzzle.append(np.nanmean(tortuosity_minlen))\n",
    "        else:\n",
    "            tortuosity_puzzle.append(np.nan)\n",
    "\n",
    "        mas_length_atend_puzzle.append(np.nanmean(mas_length_atend_minlen))\n",
    "        if minlen>2:\n",
    "            tortuosity_atend_puzzle.append(np.nanmean(tortuosity_atend_minlen))\n",
    "        else:\n",
    "            tortuosity_atend_puzzle.append(np.nan)\n",
    "\n",
    "    mas.append(mas_length_puzzle)\n",
    "    tortuosity.append(tortuosity_puzzle)\n",
    "\n",
    "\n",
    "    mas_atend.append(mas_length_atend_puzzle)\n",
    "    tortuosity_atend.append(tortuosity_atend_puzzle)\n",
    "\n",
    "    overlap_inlen.append(np.array(overlap_inorder_puzzle))\n",
    "    overlap_rglss.append(np.array(overlap_rglssorder_puzzle))\n",
    "    overlap_inlen_p.append(np.array(overlap_inorder_p_puzzle))\n",
    "    overlap_rglss_p.append(np.array(overlap_rglssorder_p_puzzle))\n",
    "\n",
    "mas = np.array(mas)\n",
    "tortuosity = np.array(tortuosity)\n",
    "\n",
    "mas_atend = np.array(mas_atend)\n",
    "tortuosity_atend = np.array(tortuosity_atend)\n",
    "\n",
    "overlap_inlen = np.array(overlap_inlen).squeeze()\n",
    "overlap_rglss = np.array(overlap_rglss).squeeze()\n",
    "\n",
    "overlap_inlen_p = np.array(overlap_inlen_p).squeeze()\n",
    "overlap_rglss_p = np.array(overlap_rglss_p).squeeze()"
   ],
   "metadata": {
    "collapsed": false,
    "ExecuteTime": {
     "start_time": "2023-07-24T16:05:48.916004Z",
     "end_time": "2023-07-24T16:05:50.642936Z"
    }
   }
  },
  {
   "cell_type": "code",
   "execution_count": 63,
   "outputs": [
    {
     "name": "stderr",
     "output_type": "stream",
     "text": [
      "/var/folders/8q/yjgzft41043gt_l8bqcfnzn40000gn/T/ipykernel_97199/942752853.py:19: RuntimeWarning: Mean of empty slice\n",
      "  mas_1st_2nd_3rd_puzzle.append(np.nanmean(mas_1st_2nd_3rd_minlne,axis=0))\n"
     ]
    }
   ],
   "source": [
    "mas_1st_2nd_3rd = []\n",
    "for sub in range(100):\n",
    "    mas_1st_2nd_3rd_puzzle = []\n",
    "    for minlen in range(1,9):\n",
    "        mas_1st_2nd_3rd_minlne = []\n",
    "        for pzi in range(len(data_[sub])):\n",
    "            data_puzzle_mas_123 = np.array(data_mas_123[sub][pzi]).copy()\n",
    "\n",
    "            idx_ = np.where(data_puzzle_mas_123[:,0]==minlen)[0]\n",
    "\n",
    "            if len(idx_)==0:\n",
    "                # append nan\n",
    "                mas_1st_2nd_3rd_minlne.extend(np.array([[np.nan]*3]))\n",
    "            else:\n",
    "                mas_1st_2nd_3rd_minlne.extend(data_puzzle_mas_123[idx_,1:])\n",
    "        if len(mas_1st_2nd_3rd_minlne)==0:\n",
    "            mas_1st_2nd_3rd_puzzle.append([np.nan]*3)\n",
    "        else:\n",
    "            mas_1st_2nd_3rd_puzzle.append(np.nanmean(mas_1st_2nd_3rd_minlne,axis=0))\n",
    "\n",
    "        # print(mas_1st_2nd_3rd_puzzle[-1])\n",
    "\n",
    "    mas_1st_2nd_3rd.append(mas_1st_2nd_3rd_puzzle)\n",
    "\n",
    "mas_1st_2nd_3rd = np.array(mas_1st_2nd_3rd)"
   ],
   "metadata": {
    "collapsed": false,
    "ExecuteTime": {
     "start_time": "2023-07-24T16:05:50.650626Z",
     "end_time": "2023-07-24T16:05:50.872175Z"
    }
   }
  },
  {
   "cell_type": "markdown",
   "source": [
    "## overlap in order and regardless of order"
   ],
   "metadata": {
    "collapsed": false
   }
  },
  {
   "cell_type": "code",
   "execution_count": 70,
   "outputs": [
    {
     "data": {
      "text/plain": "<Figure size 400x400 with 1 Axes>",
      "image/png": "[encoded data removed]"
     },
     "metadata": {},
     "output_type": "display_data"
    }
   ],
   "source": [
    "%matplotlib inline\n",
    "mpl.rcParams['font.family'] = 'Arial'\n",
    "mpl.rcParams['font.size'] = 11\n",
    "fig, ax=plt.subplots(1,1,figsize=(5,5))\n",
    "\n",
    "valid_subnum = np.sum(~np.isnan(overlap_inlen_p),axis=0)\n",
    "# overlap_seq_inorder_num_norm\n",
    "\n",
    "ax.plot(np.arange(0,8), np.nanmean(overlap_inlen_p,axis=0), color='k', marker='.')\n",
    "ax.errorbar(np.arange(0,8), np.nanmean(overlap_inlen_p,axis=0), yerr=np.nanstd(overlap_inlen_p,axis=0)/np.sqrt(valid_subnum),\n",
    "            linestyle='', color='k', capsize=5)\n",
    "\n",
    "\n",
    "ax.plot(np.arange(0,8), np.nanmean(overlap_rglss_p,axis=0), color='k', linestyle=':',marker='.')\n",
    "ax.errorbar(np.arange(0,8), np.nanmean(overlap_rglss_p,axis=0), yerr=np.nanstd(overlap_rglss_p,axis=0)/np.sqrt(valid_subnum),\n",
    "            linestyle='', color='k', capsize=5)\n",
    "\n",
    "\n",
    "for i in range(8):\n",
    "    ax.text(i + 0.5, np.nanmean(overlap_inlen_p[:,i]) -0.05, 'N='+str(valid_subnum[i]), ha='center', va='center', color='k')\n",
    "\n",
    "# remove top and right borders\n",
    "sns.despine()\n",
    "# set x ticks\n",
    "ax.set_xticks(np.arange(0,8))\n",
    "ax.set_xticklabels(np.arange(1,9))\n",
    "ax.set_xlim([-0.5,7.5])\n",
    "ax.set_ylim([0,1])\n",
    "\n",
    "# legend\n",
    "ax.legend(['In order','Regardless of order'], loc='upper left', frameon=False)\n",
    "\n",
    "# set y label\n",
    "ax.set_ylabel('Proportion of overalap in undo sequence')\n",
    "\n",
    "\n",
    "# set x label\n",
    "ax.set_xlabel('Length of undo sequence')\n",
    "\n",
    "#save figure\n",
    "fig.savefig(out_dir + 'overlap_inorder_rglss_proportion.png', transparent=True)"
   ],
   "metadata": {
    "collapsed": false,
    "ExecuteTime": {
     "start_time": "2023-07-24T16:11:36.027750Z",
     "end_time": "2023-07-24T16:11:36.159862Z"
    }
   }
  },
  {
   "cell_type": "markdown",
   "source": [
    "## MAS gain as a function of length"
   ],
   "metadata": {
    "collapsed": false
   }
  },
  {
   "cell_type": "code",
   "execution_count": 65,
   "outputs": [
    {
     "name": "stdout",
     "output_type": "stream",
     "text": [
      "[nan, nan, 0.6106349965298539, 0.12507334628349948, 0.28139715943931, 0.04516897320073992, 0.6617007820952879, 0.32152809676380184]\n"
     ]
    }
   ],
   "source": [
    "#import ttest 1samp\n",
    "from scipy.stats import ttest_1samp, ttest_rel\n",
    "ps = []\n",
    "for ind in range(8):\n",
    "    stat,p = ttest_rel(tortuosity[(~np.isnan(tortuosity[:,ind])),ind], [0]*np.sum((~np.isnan(tortuosity[:,ind])),))\n",
    "    ps.append(p)\n",
    "print(ps)"
   ],
   "metadata": {
    "collapsed": false,
    "ExecuteTime": {
     "start_time": "2023-07-24T16:05:51.038553Z",
     "end_time": "2023-07-24T16:05:51.042926Z"
    }
   }
  },
  {
   "cell_type": "code",
   "execution_count": 66,
   "outputs": [
    {
     "data": {
      "text/plain": "<Figure size 600x200 with 1 Axes>",
      "image/png": "[encoded data removed]"
     },
     "metadata": {},
     "output_type": "display_data"
    }
   ],
   "source": [
    "%matplotlib inline\n",
    "\n",
    "mpl.rcParams['font.family'] = 'Arial'\n",
    "mpl.rcParams['font.size'] = 11\n",
    "fig, ax=plt.subplots(1,1,figsize=(6,2))\n",
    "\n",
    "valid_subnum = [np.sum(~np.isnan(mas[:,i])) for i in range(8)]\n",
    "\n",
    "# ax.plot for currmas_num_inlen_p\n",
    "ax.plot(np.arange(8), np.nanmean(mas,axis=0), color='k', marker='o')\n",
    "ax.errorbar(np.arange(8), np.nanmean(mas,axis=0), yerr=np.nanstd(mas,axis=0)/np.sqrt(valid_subnum),\n",
    "            linestyle='', color='k', capsize=5)\n",
    "\n",
    "# write valid_subnum as N=xx on the right top of each point\n",
    "for i in range(8):\n",
    "    ax.text(i + 0.4, np.nanmean(mas[:,i]) + np.nanstd(mas[:,i])/np.sqrt(valid_subnum[i])+0.05, 'N='+str(valid_subnum[i]), ha='center', va='center', color='k')\n",
    "\n",
    "# bb = plt.bar(range(7), np.nanmean(currmas_inlen_p,axis=0),\n",
    "#         color=[.7,.7,.7], edgecolor = 'k',\n",
    "#         yerr=np.nanstd(currmas_inlen_p,axis = 0)/np.sqrt(currmas_inlen_p.shape[0]))\n",
    "\n",
    "ax.set_xticks(np.arange(0,8))\n",
    "ax.set_xlim([-0.5,8.5])\n",
    "# set xtickslabel\n",
    "ax.set_xticklabels(['1','2','3','4', '5', '6', '7', '8'])\n",
    "\n",
    "# set y label\n",
    "ax.set_ylabel('MAS gain')\n",
    "# set x label\n",
    "ax.set_xlabel('Length of undo sequence')\n",
    "# set ylim\n",
    "ax.set_yticks(np.arange(0,.7,.2))\n",
    "ax.set_ylim([0,.7])\n",
    "\n",
    "# set xlim\n",
    "ax.set_xlim([-0.5,7.5])\n",
    "\n",
    "\n",
    "\n",
    "\n",
    "# remove top and right borders\n",
    "sns.despine()\n",
    "\n",
    "\n",
    "\n",
    "# #statistics\n",
    "# x1, x2 = 2,3\n",
    "# y, h, col = np.max([bb[2].get_height(),bb[3].get_height()]) + 0.1, 0.05, 'k'\n",
    "# plt.plot([x1, x1, x2, x2], [y, y+h, y+h, y], lw=1.5, c=col)\n",
    "# plt.text((x1+x2)*.5, y+h, r\"$p = {:f}$\".format(p12), ha='center', va='bottom', color=col, fontsize = 8)\n",
    "\n",
    "# save figure\n",
    "fig.savefig(out_dir + 'mas_gain_length_of_undone_path.png', dpi=600, bbox_inches='tight')"
   ],
   "metadata": {
    "collapsed": false,
    "ExecuteTime": {
     "start_time": "2023-07-24T16:05:51.054063Z",
     "end_time": "2023-07-24T16:05:51.610412Z"
    }
   }
  },
  {
   "cell_type": "code",
   "execution_count": 67,
   "outputs": [
    {
     "data": {
      "text/plain": "(100, 8, 3)"
     },
     "execution_count": 67,
     "metadata": {},
     "output_type": "execute_result"
    }
   ],
   "source": [
    "mas_1st_2nd_3rd.shape"
   ],
   "metadata": {
    "collapsed": false,
    "ExecuteTime": {
     "start_time": "2023-07-24T16:05:51.615222Z",
     "end_time": "2023-07-24T16:05:51.616603Z"
    }
   }
  },
  {
   "cell_type": "code",
   "execution_count": 69,
   "outputs": [
    {
     "data": {
      "text/plain": "<Figure size 600x200 with 1 Axes>",
      "image/png": "[encoded data removed]"
     },
     "metadata": {},
     "output_type": "display_data"
    }
   ],
   "source": [
    "%matplotlib inline\n",
    "\n",
    "mpl.rcParams['font.family'] = 'Arial'\n",
    "mpl.rcParams['font.size'] = 11\n",
    "fig, ax=plt.subplots(1,1,figsize=(6,2))\n",
    "\n",
    "colors = ['r',  '0.7', 'k',]\n",
    "\n",
    "for ii in range(3):\n",
    "\n",
    "    valid_subnum = [np.sum(~np.isnan(mas_1st_2nd_3rd[:,i,ii])) for i in range(8)]\n",
    "\n",
    "    # ax.plot for currmas_num_inlen_p\n",
    "    ax.plot(np.arange(8), np.nanmean(mas_1st_2nd_3rd[:,:,ii],axis=0), color=colors[ii], marker='o')\n",
    "    ax.errorbar(np.arange(8), np.nanmean(mas_1st_2nd_3rd[:,:,ii],axis=0), yerr=np.nanstd(mas_1st_2nd_3rd[:,:,ii],axis=0)/np.sqrt(valid_subnum),\n",
    "                linestyle='', color=colors[ii], capsize=5)\n",
    "\n",
    "    if ii == 0:\n",
    "        # write valid_subnum as N=xx on the right top of each point\n",
    "        for i in range(8):\n",
    "            ax.text(i + 0.4, np.nanmean(mas_1st_2nd_3rd[:,i,ii]) + np.nanstd(mas_1st_2nd_3rd[:,i,ii])/np.sqrt(valid_subnum[i])+0.2, 'N='+str(valid_subnum[i]), ha='center', va='center', color='k')\n",
    "\n",
    "    # bb = plt.bar(range(7), np.nanmean(currmas_inlen_p,axis=0),\n",
    "    #         color=[.7,.7,.7], edgecolor = 'k',\n",
    "    #         yerr=np.nanstd(currmas_inlen_p,axis = 0)/np.sqrt(currmas_inlen_p.shape[0]))\n",
    "\n",
    "    ax.set_xticks(np.arange(0,8))\n",
    "    ax.set_xlim([-0.5,8.5])\n",
    "    # set xtickslabel\n",
    "    ax.set_xticklabels(['1','2','3','4', '5', '6', '7', '8'])\n",
    "\n",
    "    # set y label\n",
    "    ax.set_ylabel('MAS gain')\n",
    "    # set x label\n",
    "    ax.set_xlabel('Length of undo sequence')\n",
    "\n",
    "\n",
    "ax.set_ylim([-1, 2.5])\n",
    "ax.set_yticks(np.arange(-1,3,1))\n",
    "\n",
    "# set xlim\n",
    "ax.set_xlim([-0.5,7.5])\n",
    "\n",
    "\n",
    "\n",
    "\n",
    "# remove top and right borders\n",
    "sns.despine()\n",
    "#2-1 3-2 3-1\n",
    "# legend in a horizontally\n",
    "ax.legend(['2-1', '3-2', '3-1'], loc='upper center', bbox_to_anchor=(0.5, 1.1),\n",
    "          ncol=3, fancybox=True)\n",
    "\n",
    "# #statistics\n",
    "# x1, x2 = 2,3\n",
    "# y, h, col = np.max([bb[2].get_height(),bb[3].get_height()]) + 0.1, 0.05, 'k'\n",
    "# plt.plot([x1, x1, x2, x2], [y, y+h, y+h, y], lw=1.5, c=col)\n",
    "# plt.text((x1+x2)*.5, y+h, r\"$p = {:f}$\".format(p12), ha='center', va='bottom', color=col, fontsize = 8)\n",
    "\n",
    "# save figure\n",
    "fig.savefig(out_dir + 'mas_gain_length_of_undone_path_for_diff_undo.png', dpi=600, bbox_inches='tight')"
   ],
   "metadata": {
    "collapsed": false,
    "ExecuteTime": {
     "start_time": "2023-07-24T16:10:53.226020Z",
     "end_time": "2023-07-24T16:10:53.993960Z"
    }
   }
  },
  {
   "cell_type": "code",
   "execution_count": 68,
   "outputs": [],
   "source": [],
   "metadata": {
    "collapsed": false,
    "ExecuteTime": {
     "start_time": "2023-07-24T16:05:52.278190Z",
     "end_time": "2023-07-24T16:05:52.284043Z"
    }
   }
  }
 ],
 "metadata": {
  "kernelspec": {
   "display_name": "Python 3",
   "language": "python",
   "name": "python3"
  },
  "language_info": {
   "codemirror_mode": {
    "name": "ipython",
    "version": 2
   },
   "file_extension": ".py",
   "mimetype": "text/x-python",
   "name": "python",
   "nbconvert_exporter": "python",
   "pygments_lexer": "ipython2",
   "version": "2.7.6"
  }
 },
 "nbformat": 4,
 "nbformat_minor": 0
}
